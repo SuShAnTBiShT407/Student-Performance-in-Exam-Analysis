{
 "cells": [
  {
   "cell_type": "code",
   "execution_count": 1,
   "id": "396b9647",
   "metadata": {},
   "outputs": [],
   "source": [
    "import pandas as pd \n",
    "import numpy as np\n",
    "import matplotlib.pyplot as plt\n",
    "import plotly.express as px\n",
    "import seaborn as sns"
   ]
  },
  {
   "cell_type": "code",
   "execution_count": 2,
   "id": "423a1d4b",
   "metadata": {},
   "outputs": [
    {
     "data": {
      "text/html": [
       "<div>\n",
       "<style scoped>\n",
       "    .dataframe tbody tr th:only-of-type {\n",
       "        vertical-align: middle;\n",
       "    }\n",
       "\n",
       "    .dataframe tbody tr th {\n",
       "        vertical-align: top;\n",
       "    }\n",
       "\n",
       "    .dataframe thead th {\n",
       "        text-align: right;\n",
       "    }\n",
       "</style>\n",
       "<table border=\"1\" class=\"dataframe\">\n",
       "  <thead>\n",
       "    <tr style=\"text-align: right;\">\n",
       "      <th></th>\n",
       "      <th>gender</th>\n",
       "      <th>race/ethnicity</th>\n",
       "      <th>parental level of education</th>\n",
       "      <th>lunch</th>\n",
       "      <th>test preparation course</th>\n",
       "      <th>math score</th>\n",
       "      <th>reading score</th>\n",
       "      <th>writing score</th>\n",
       "    </tr>\n",
       "  </thead>\n",
       "  <tbody>\n",
       "    <tr>\n",
       "      <th>0</th>\n",
       "      <td>female</td>\n",
       "      <td>group B</td>\n",
       "      <td>bachelor's degree</td>\n",
       "      <td>standard</td>\n",
       "      <td>none</td>\n",
       "      <td>72</td>\n",
       "      <td>72</td>\n",
       "      <td>74</td>\n",
       "    </tr>\n",
       "    <tr>\n",
       "      <th>1</th>\n",
       "      <td>female</td>\n",
       "      <td>group C</td>\n",
       "      <td>some college</td>\n",
       "      <td>standard</td>\n",
       "      <td>completed</td>\n",
       "      <td>69</td>\n",
       "      <td>90</td>\n",
       "      <td>88</td>\n",
       "    </tr>\n",
       "    <tr>\n",
       "      <th>2</th>\n",
       "      <td>female</td>\n",
       "      <td>group B</td>\n",
       "      <td>master's degree</td>\n",
       "      <td>standard</td>\n",
       "      <td>none</td>\n",
       "      <td>90</td>\n",
       "      <td>95</td>\n",
       "      <td>93</td>\n",
       "    </tr>\n",
       "    <tr>\n",
       "      <th>3</th>\n",
       "      <td>male</td>\n",
       "      <td>group A</td>\n",
       "      <td>associate's degree</td>\n",
       "      <td>free/reduced</td>\n",
       "      <td>none</td>\n",
       "      <td>47</td>\n",
       "      <td>57</td>\n",
       "      <td>44</td>\n",
       "    </tr>\n",
       "    <tr>\n",
       "      <th>4</th>\n",
       "      <td>male</td>\n",
       "      <td>group C</td>\n",
       "      <td>some college</td>\n",
       "      <td>standard</td>\n",
       "      <td>none</td>\n",
       "      <td>76</td>\n",
       "      <td>78</td>\n",
       "      <td>75</td>\n",
       "    </tr>\n",
       "    <tr>\n",
       "      <th>...</th>\n",
       "      <td>...</td>\n",
       "      <td>...</td>\n",
       "      <td>...</td>\n",
       "      <td>...</td>\n",
       "      <td>...</td>\n",
       "      <td>...</td>\n",
       "      <td>...</td>\n",
       "      <td>...</td>\n",
       "    </tr>\n",
       "    <tr>\n",
       "      <th>995</th>\n",
       "      <td>female</td>\n",
       "      <td>group E</td>\n",
       "      <td>master's degree</td>\n",
       "      <td>standard</td>\n",
       "      <td>completed</td>\n",
       "      <td>88</td>\n",
       "      <td>99</td>\n",
       "      <td>95</td>\n",
       "    </tr>\n",
       "    <tr>\n",
       "      <th>996</th>\n",
       "      <td>male</td>\n",
       "      <td>group C</td>\n",
       "      <td>high school</td>\n",
       "      <td>free/reduced</td>\n",
       "      <td>none</td>\n",
       "      <td>62</td>\n",
       "      <td>55</td>\n",
       "      <td>55</td>\n",
       "    </tr>\n",
       "    <tr>\n",
       "      <th>997</th>\n",
       "      <td>female</td>\n",
       "      <td>group C</td>\n",
       "      <td>high school</td>\n",
       "      <td>free/reduced</td>\n",
       "      <td>completed</td>\n",
       "      <td>59</td>\n",
       "      <td>71</td>\n",
       "      <td>65</td>\n",
       "    </tr>\n",
       "    <tr>\n",
       "      <th>998</th>\n",
       "      <td>female</td>\n",
       "      <td>group D</td>\n",
       "      <td>some college</td>\n",
       "      <td>standard</td>\n",
       "      <td>completed</td>\n",
       "      <td>68</td>\n",
       "      <td>78</td>\n",
       "      <td>77</td>\n",
       "    </tr>\n",
       "    <tr>\n",
       "      <th>999</th>\n",
       "      <td>female</td>\n",
       "      <td>group D</td>\n",
       "      <td>some college</td>\n",
       "      <td>free/reduced</td>\n",
       "      <td>none</td>\n",
       "      <td>77</td>\n",
       "      <td>86</td>\n",
       "      <td>86</td>\n",
       "    </tr>\n",
       "  </tbody>\n",
       "</table>\n",
       "<p>1000 rows × 8 columns</p>\n",
       "</div>"
      ],
      "text/plain": [
       "     gender race/ethnicity parental level of education         lunch  \\\n",
       "0    female        group B           bachelor's degree      standard   \n",
       "1    female        group C                some college      standard   \n",
       "2    female        group B             master's degree      standard   \n",
       "3      male        group A          associate's degree  free/reduced   \n",
       "4      male        group C                some college      standard   \n",
       "..      ...            ...                         ...           ...   \n",
       "995  female        group E             master's degree      standard   \n",
       "996    male        group C                 high school  free/reduced   \n",
       "997  female        group C                 high school  free/reduced   \n",
       "998  female        group D                some college      standard   \n",
       "999  female        group D                some college  free/reduced   \n",
       "\n",
       "    test preparation course  math score  reading score  writing score  \n",
       "0                      none          72             72             74  \n",
       "1                 completed          69             90             88  \n",
       "2                      none          90             95             93  \n",
       "3                      none          47             57             44  \n",
       "4                      none          76             78             75  \n",
       "..                      ...         ...            ...            ...  \n",
       "995               completed          88             99             95  \n",
       "996                    none          62             55             55  \n",
       "997               completed          59             71             65  \n",
       "998               completed          68             78             77  \n",
       "999                    none          77             86             86  \n",
       "\n",
       "[1000 rows x 8 columns]"
      ]
     },
     "execution_count": 2,
     "metadata": {},
     "output_type": "execute_result"
    }
   ],
   "source": [
    "import os\n",
    "for dirname, _, filenames in os.walk('/kaggle/input'):\n",
    "    for filename in filenames:\n",
    "        print(os.path.join(dirname, filename))\n",
    "dataset = pd.read_csv(\"/kaggle/input/students-performance-in-exams/StudentsPerformance.csv\")\n",
    "dataset"
   ]
  },
  {
   "cell_type": "code",
   "execution_count": 5,
   "id": "a4fac140",
   "metadata": {},
   "outputs": [
    {
     "data": {
      "text/html": [
       "<div>\n",
       "<style scoped>\n",
       "    .dataframe tbody tr th:only-of-type {\n",
       "        vertical-align: middle;\n",
       "    }\n",
       "\n",
       "    .dataframe tbody tr th {\n",
       "        vertical-align: top;\n",
       "    }\n",
       "\n",
       "    .dataframe thead th {\n",
       "        text-align: right;\n",
       "    }\n",
       "</style>\n",
       "<table border=\"1\" class=\"dataframe\">\n",
       "  <thead>\n",
       "    <tr style=\"text-align: right;\">\n",
       "      <th></th>\n",
       "      <th>gender</th>\n",
       "      <th>race/ethnicity</th>\n",
       "      <th>parental level of education</th>\n",
       "      <th>lunch</th>\n",
       "      <th>test preparation course</th>\n",
       "      <th>math score</th>\n",
       "      <th>reading score</th>\n",
       "      <th>writing score</th>\n",
       "    </tr>\n",
       "  </thead>\n",
       "  <tbody>\n",
       "    <tr>\n",
       "      <th>count</th>\n",
       "      <td>1000</td>\n",
       "      <td>1000</td>\n",
       "      <td>1000</td>\n",
       "      <td>1000</td>\n",
       "      <td>1000</td>\n",
       "      <td>1000.00000</td>\n",
       "      <td>1000.000000</td>\n",
       "      <td>1000.000000</td>\n",
       "    </tr>\n",
       "    <tr>\n",
       "      <th>unique</th>\n",
       "      <td>2</td>\n",
       "      <td>5</td>\n",
       "      <td>6</td>\n",
       "      <td>2</td>\n",
       "      <td>2</td>\n",
       "      <td>NaN</td>\n",
       "      <td>NaN</td>\n",
       "      <td>NaN</td>\n",
       "    </tr>\n",
       "    <tr>\n",
       "      <th>top</th>\n",
       "      <td>female</td>\n",
       "      <td>group C</td>\n",
       "      <td>some college</td>\n",
       "      <td>standard</td>\n",
       "      <td>none</td>\n",
       "      <td>NaN</td>\n",
       "      <td>NaN</td>\n",
       "      <td>NaN</td>\n",
       "    </tr>\n",
       "    <tr>\n",
       "      <th>freq</th>\n",
       "      <td>518</td>\n",
       "      <td>319</td>\n",
       "      <td>226</td>\n",
       "      <td>645</td>\n",
       "      <td>642</td>\n",
       "      <td>NaN</td>\n",
       "      <td>NaN</td>\n",
       "      <td>NaN</td>\n",
       "    </tr>\n",
       "    <tr>\n",
       "      <th>mean</th>\n",
       "      <td>NaN</td>\n",
       "      <td>NaN</td>\n",
       "      <td>NaN</td>\n",
       "      <td>NaN</td>\n",
       "      <td>NaN</td>\n",
       "      <td>66.08900</td>\n",
       "      <td>69.169000</td>\n",
       "      <td>68.054000</td>\n",
       "    </tr>\n",
       "    <tr>\n",
       "      <th>std</th>\n",
       "      <td>NaN</td>\n",
       "      <td>NaN</td>\n",
       "      <td>NaN</td>\n",
       "      <td>NaN</td>\n",
       "      <td>NaN</td>\n",
       "      <td>15.16308</td>\n",
       "      <td>14.600192</td>\n",
       "      <td>15.195657</td>\n",
       "    </tr>\n",
       "    <tr>\n",
       "      <th>min</th>\n",
       "      <td>NaN</td>\n",
       "      <td>NaN</td>\n",
       "      <td>NaN</td>\n",
       "      <td>NaN</td>\n",
       "      <td>NaN</td>\n",
       "      <td>0.00000</td>\n",
       "      <td>17.000000</td>\n",
       "      <td>10.000000</td>\n",
       "    </tr>\n",
       "    <tr>\n",
       "      <th>25%</th>\n",
       "      <td>NaN</td>\n",
       "      <td>NaN</td>\n",
       "      <td>NaN</td>\n",
       "      <td>NaN</td>\n",
       "      <td>NaN</td>\n",
       "      <td>57.00000</td>\n",
       "      <td>59.000000</td>\n",
       "      <td>57.750000</td>\n",
       "    </tr>\n",
       "    <tr>\n",
       "      <th>50%</th>\n",
       "      <td>NaN</td>\n",
       "      <td>NaN</td>\n",
       "      <td>NaN</td>\n",
       "      <td>NaN</td>\n",
       "      <td>NaN</td>\n",
       "      <td>66.00000</td>\n",
       "      <td>70.000000</td>\n",
       "      <td>69.000000</td>\n",
       "    </tr>\n",
       "    <tr>\n",
       "      <th>75%</th>\n",
       "      <td>NaN</td>\n",
       "      <td>NaN</td>\n",
       "      <td>NaN</td>\n",
       "      <td>NaN</td>\n",
       "      <td>NaN</td>\n",
       "      <td>77.00000</td>\n",
       "      <td>79.000000</td>\n",
       "      <td>79.000000</td>\n",
       "    </tr>\n",
       "    <tr>\n",
       "      <th>max</th>\n",
       "      <td>NaN</td>\n",
       "      <td>NaN</td>\n",
       "      <td>NaN</td>\n",
       "      <td>NaN</td>\n",
       "      <td>NaN</td>\n",
       "      <td>100.00000</td>\n",
       "      <td>100.000000</td>\n",
       "      <td>100.000000</td>\n",
       "    </tr>\n",
       "  </tbody>\n",
       "</table>\n",
       "</div>"
      ],
      "text/plain": [
       "        gender race/ethnicity parental level of education     lunch  \\\n",
       "count     1000           1000                        1000      1000   \n",
       "unique       2              5                           6         2   \n",
       "top     female        group C                some college  standard   \n",
       "freq       518            319                         226       645   \n",
       "mean       NaN            NaN                         NaN       NaN   \n",
       "std        NaN            NaN                         NaN       NaN   \n",
       "min        NaN            NaN                         NaN       NaN   \n",
       "25%        NaN            NaN                         NaN       NaN   \n",
       "50%        NaN            NaN                         NaN       NaN   \n",
       "75%        NaN            NaN                         NaN       NaN   \n",
       "max        NaN            NaN                         NaN       NaN   \n",
       "\n",
       "       test preparation course  math score  reading score  writing score  \n",
       "count                     1000  1000.00000    1000.000000    1000.000000  \n",
       "unique                       2         NaN            NaN            NaN  \n",
       "top                       none         NaN            NaN            NaN  \n",
       "freq                       642         NaN            NaN            NaN  \n",
       "mean                       NaN    66.08900      69.169000      68.054000  \n",
       "std                        NaN    15.16308      14.600192      15.195657  \n",
       "min                        NaN     0.00000      17.000000      10.000000  \n",
       "25%                        NaN    57.00000      59.000000      57.750000  \n",
       "50%                        NaN    66.00000      70.000000      69.000000  \n",
       "75%                        NaN    77.00000      79.000000      79.000000  \n",
       "max                        NaN   100.00000     100.000000     100.000000  "
      ]
     },
     "execution_count": 5,
     "metadata": {},
     "output_type": "execute_result"
    }
   ],
   "source": [
    "dataset.describe(include='all')"
   ]
  },
  {
   "cell_type": "code",
   "execution_count": 15,
   "id": "9e150911",
   "metadata": {},
   "outputs": [],
   "source": [
    "dataset[\"Percentage\"] = (dataset[\"math score\"] + dataset[\"reading score\"] + dataset[\"writing score\"])*100/3 \n",
    "dataset[\"Percentage\"]=dataset[\"Percentage\"]/100\n",
    "dataset[\"Percentage\"] = dataset[\"Percentage\"].round(decimals=1)"
   ]
  },
  {
   "cell_type": "code",
   "execution_count": 16,
   "id": "8dd321b8",
   "metadata": {},
   "outputs": [
    {
     "data": {
      "text/html": [
       "<div>\n",
       "<style scoped>\n",
       "    .dataframe tbody tr th:only-of-type {\n",
       "        vertical-align: middle;\n",
       "    }\n",
       "\n",
       "    .dataframe tbody tr th {\n",
       "        vertical-align: top;\n",
       "    }\n",
       "\n",
       "    .dataframe thead th {\n",
       "        text-align: right;\n",
       "    }\n",
       "</style>\n",
       "<table border=\"1\" class=\"dataframe\">\n",
       "  <thead>\n",
       "    <tr style=\"text-align: right;\">\n",
       "      <th></th>\n",
       "      <th>gender</th>\n",
       "      <th>race/ethnicity</th>\n",
       "      <th>parental level of education</th>\n",
       "      <th>lunch</th>\n",
       "      <th>test preparation course</th>\n",
       "      <th>math score</th>\n",
       "      <th>reading score</th>\n",
       "      <th>writing score</th>\n",
       "      <th>Percentage</th>\n",
       "    </tr>\n",
       "  </thead>\n",
       "  <tbody>\n",
       "    <tr>\n",
       "      <th>0</th>\n",
       "      <td>female</td>\n",
       "      <td>group B</td>\n",
       "      <td>bachelor's degree</td>\n",
       "      <td>standard</td>\n",
       "      <td>none</td>\n",
       "      <td>72</td>\n",
       "      <td>72</td>\n",
       "      <td>74</td>\n",
       "      <td>72.7</td>\n",
       "    </tr>\n",
       "    <tr>\n",
       "      <th>1</th>\n",
       "      <td>female</td>\n",
       "      <td>group C</td>\n",
       "      <td>some college</td>\n",
       "      <td>standard</td>\n",
       "      <td>completed</td>\n",
       "      <td>69</td>\n",
       "      <td>90</td>\n",
       "      <td>88</td>\n",
       "      <td>82.3</td>\n",
       "    </tr>\n",
       "    <tr>\n",
       "      <th>2</th>\n",
       "      <td>female</td>\n",
       "      <td>group B</td>\n",
       "      <td>master's degree</td>\n",
       "      <td>standard</td>\n",
       "      <td>none</td>\n",
       "      <td>90</td>\n",
       "      <td>95</td>\n",
       "      <td>93</td>\n",
       "      <td>92.7</td>\n",
       "    </tr>\n",
       "    <tr>\n",
       "      <th>3</th>\n",
       "      <td>male</td>\n",
       "      <td>group A</td>\n",
       "      <td>associate's degree</td>\n",
       "      <td>free/reduced</td>\n",
       "      <td>none</td>\n",
       "      <td>47</td>\n",
       "      <td>57</td>\n",
       "      <td>44</td>\n",
       "      <td>49.3</td>\n",
       "    </tr>\n",
       "    <tr>\n",
       "      <th>4</th>\n",
       "      <td>male</td>\n",
       "      <td>group C</td>\n",
       "      <td>some college</td>\n",
       "      <td>standard</td>\n",
       "      <td>none</td>\n",
       "      <td>76</td>\n",
       "      <td>78</td>\n",
       "      <td>75</td>\n",
       "      <td>76.3</td>\n",
       "    </tr>\n",
       "    <tr>\n",
       "      <th>...</th>\n",
       "      <td>...</td>\n",
       "      <td>...</td>\n",
       "      <td>...</td>\n",
       "      <td>...</td>\n",
       "      <td>...</td>\n",
       "      <td>...</td>\n",
       "      <td>...</td>\n",
       "      <td>...</td>\n",
       "      <td>...</td>\n",
       "    </tr>\n",
       "    <tr>\n",
       "      <th>995</th>\n",
       "      <td>female</td>\n",
       "      <td>group E</td>\n",
       "      <td>master's degree</td>\n",
       "      <td>standard</td>\n",
       "      <td>completed</td>\n",
       "      <td>88</td>\n",
       "      <td>99</td>\n",
       "      <td>95</td>\n",
       "      <td>94.0</td>\n",
       "    </tr>\n",
       "    <tr>\n",
       "      <th>996</th>\n",
       "      <td>male</td>\n",
       "      <td>group C</td>\n",
       "      <td>high school</td>\n",
       "      <td>free/reduced</td>\n",
       "      <td>none</td>\n",
       "      <td>62</td>\n",
       "      <td>55</td>\n",
       "      <td>55</td>\n",
       "      <td>57.3</td>\n",
       "    </tr>\n",
       "    <tr>\n",
       "      <th>997</th>\n",
       "      <td>female</td>\n",
       "      <td>group C</td>\n",
       "      <td>high school</td>\n",
       "      <td>free/reduced</td>\n",
       "      <td>completed</td>\n",
       "      <td>59</td>\n",
       "      <td>71</td>\n",
       "      <td>65</td>\n",
       "      <td>65.0</td>\n",
       "    </tr>\n",
       "    <tr>\n",
       "      <th>998</th>\n",
       "      <td>female</td>\n",
       "      <td>group D</td>\n",
       "      <td>some college</td>\n",
       "      <td>standard</td>\n",
       "      <td>completed</td>\n",
       "      <td>68</td>\n",
       "      <td>78</td>\n",
       "      <td>77</td>\n",
       "      <td>74.3</td>\n",
       "    </tr>\n",
       "    <tr>\n",
       "      <th>999</th>\n",
       "      <td>female</td>\n",
       "      <td>group D</td>\n",
       "      <td>some college</td>\n",
       "      <td>free/reduced</td>\n",
       "      <td>none</td>\n",
       "      <td>77</td>\n",
       "      <td>86</td>\n",
       "      <td>86</td>\n",
       "      <td>83.0</td>\n",
       "    </tr>\n",
       "  </tbody>\n",
       "</table>\n",
       "<p>1000 rows × 9 columns</p>\n",
       "</div>"
      ],
      "text/plain": [
       "     gender race/ethnicity parental level of education         lunch  \\\n",
       "0    female        group B           bachelor's degree      standard   \n",
       "1    female        group C                some college      standard   \n",
       "2    female        group B             master's degree      standard   \n",
       "3      male        group A          associate's degree  free/reduced   \n",
       "4      male        group C                some college      standard   \n",
       "..      ...            ...                         ...           ...   \n",
       "995  female        group E             master's degree      standard   \n",
       "996    male        group C                 high school  free/reduced   \n",
       "997  female        group C                 high school  free/reduced   \n",
       "998  female        group D                some college      standard   \n",
       "999  female        group D                some college  free/reduced   \n",
       "\n",
       "    test preparation course  math score  reading score  writing score  \\\n",
       "0                      none          72             72             74   \n",
       "1                 completed          69             90             88   \n",
       "2                      none          90             95             93   \n",
       "3                      none          47             57             44   \n",
       "4                      none          76             78             75   \n",
       "..                      ...         ...            ...            ...   \n",
       "995               completed          88             99             95   \n",
       "996                    none          62             55             55   \n",
       "997               completed          59             71             65   \n",
       "998               completed          68             78             77   \n",
       "999                    none          77             86             86   \n",
       "\n",
       "     Percentage  \n",
       "0          72.7  \n",
       "1          82.3  \n",
       "2          92.7  \n",
       "3          49.3  \n",
       "4          76.3  \n",
       "..          ...  \n",
       "995        94.0  \n",
       "996        57.3  \n",
       "997        65.0  \n",
       "998        74.3  \n",
       "999        83.0  \n",
       "\n",
       "[1000 rows x 9 columns]"
      ]
     },
     "execution_count": 16,
     "metadata": {},
     "output_type": "execute_result"
    }
   ],
   "source": [
    "dataset"
   ]
  },
  {
   "cell_type": "code",
   "execution_count": 31,
   "id": "09b8dcf4",
   "metadata": {},
   "outputs": [
    {
     "data": {
      "application/vnd.plotly.v1+json": {
       "config": {
        "plotlyServerURL": "https://plot.ly"
       },
       "data": [
        {
         "alignmentgroup": "True",
         "bingroup": "x",
         "hovertemplate": "race/ethnicity=group B<br>parental level of education=%{x}<br>count=%{y}<extra></extra>",
         "legendgroup": "group B",
         "marker": {
          "color": "#636efa",
          "pattern": {
           "shape": ""
          }
         },
         "name": "group B",
         "offsetgroup": "group B",
         "orientation": "v",
         "showlegend": true,
         "type": "histogram",
         "x": [
          "bachelor's degree",
          "master's degree",
          "associate's degree",
          "some college",
          "some college",
          "high school",
          "high school",
          "some high school",
          "some college",
          "some college",
          "some college",
          "associate's degree",
          "associate's degree",
          "some college",
          "associate's degree",
          "some high school",
          "associate's degree",
          "associate's degree",
          "associate's degree",
          "high school",
          "some college",
          "some high school",
          "some college",
          "high school",
          "associate's degree",
          "some high school",
          "bachelor's degree",
          "associate's degree",
          "high school",
          "some high school",
          "some high school",
          "some high school",
          "associate's degree",
          "some college",
          "associate's degree",
          "associate's degree",
          "master's degree",
          "master's degree",
          "high school",
          "high school",
          "master's degree",
          "some high school",
          "some high school",
          "some college",
          "bachelor's degree",
          "associate's degree",
          "some college",
          "some college",
          "some high school",
          "high school",
          "some high school",
          "associate's degree",
          "associate's degree",
          "bachelor's degree",
          "some college",
          "high school",
          "high school",
          "some high school",
          "some college",
          "some college",
          "bachelor's degree",
          "some high school",
          "associate's degree",
          "some high school",
          "bachelor's degree",
          "associate's degree",
          "associate's degree",
          "associate's degree",
          "associate's degree",
          "bachelor's degree",
          "bachelor's degree",
          "some high school",
          "associate's degree",
          "some college",
          "some high school",
          "high school",
          "some college",
          "bachelor's degree",
          "bachelor's degree",
          "high school",
          "some high school",
          "associate's degree",
          "high school",
          "some high school",
          "associate's degree",
          "associate's degree",
          "some high school",
          "some college",
          "associate's degree",
          "high school",
          "associate's degree",
          "high school",
          "some college",
          "associate's degree",
          "high school",
          "associate's degree",
          "some high school",
          "high school",
          "some high school",
          "associate's degree",
          "some high school",
          "bachelor's degree",
          "some high school",
          "master's degree",
          "high school",
          "high school",
          "bachelor's degree",
          "associate's degree",
          "associate's degree",
          "bachelor's degree",
          "associate's degree",
          "high school",
          "some college",
          "high school",
          "some college",
          "high school",
          "associate's degree",
          "bachelor's degree",
          "associate's degree",
          "high school",
          "bachelor's degree",
          "high school",
          "some high school",
          "high school",
          "bachelor's degree",
          "high school",
          "some high school",
          "some college",
          "bachelor's degree",
          "some college",
          "high school",
          "high school",
          "some college",
          "some high school",
          "some high school",
          "some high school",
          "associate's degree",
          "some high school",
          "some college",
          "associate's degree",
          "some college",
          "some college",
          "some college",
          "some college",
          "high school",
          "high school",
          "high school",
          "high school",
          "some high school",
          "some college",
          "some high school",
          "high school",
          "master's degree",
          "high school",
          "some high school",
          "some college",
          "high school",
          "high school",
          "some college",
          "bachelor's degree",
          "some high school",
          "high school",
          "high school",
          "some high school",
          "high school",
          "some college",
          "associate's degree",
          "high school",
          "some college",
          "bachelor's degree",
          "some college",
          "high school",
          "associate's degree",
          "high school",
          "associate's degree",
          "high school",
          "high school",
          "some high school",
          "high school",
          "associate's degree",
          "some college",
          "associate's degree",
          "high school",
          "high school",
          "some high school",
          "bachelor's degree",
          "some college",
          "high school",
          "some high school",
          "some high school"
         ],
         "xaxis": "x",
         "yaxis": "y"
        },
        {
         "alignmentgroup": "True",
         "bingroup": "x",
         "hovertemplate": "race/ethnicity=group C<br>parental level of education=%{x}<br>count=%{y}<extra></extra>",
         "legendgroup": "group C",
         "marker": {
          "color": "#EF553B",
          "pattern": {
           "shape": ""
          }
         },
         "name": "group C",
         "offsetgroup": "group C",
         "orientation": "v",
         "showlegend": true,
         "type": "histogram",
         "x": [
          "some college",
          "some college",
          "associate's degree",
          "some high school",
          "high school",
          "master's degree",
          "associate's degree",
          "some high school",
          "bachelor's degree",
          "high school",
          "associate's degree",
          "associate's degree",
          "high school",
          "high school",
          "some college",
          "some high school",
          "high school",
          "some high school",
          "associate's degree",
          "some college",
          "associate's degree",
          "some high school",
          "some high school",
          "some college",
          "some college",
          "bachelor's degree",
          "high school",
          "high school",
          "associate's degree",
          "associate's degree",
          "some college",
          "some college",
          "high school",
          "high school",
          "some college",
          "bachelor's degree",
          "some college",
          "some high school",
          "some college",
          "bachelor's degree",
          "associate's degree",
          "some college",
          "some college",
          "associate's degree",
          "some college",
          "high school",
          "bachelor's degree",
          "high school",
          "some college",
          "associate's degree",
          "bachelor's degree",
          "master's degree",
          "associate's degree",
          "master's degree",
          "some college",
          "some high school",
          "associate's degree",
          "bachelor's degree",
          "master's degree",
          "some high school",
          "associate's degree",
          "associate's degree",
          "some college",
          "some college",
          "high school",
          "associate's degree",
          "high school",
          "some high school",
          "some college",
          "some college",
          "associate's degree",
          "bachelor's degree",
          "associate's degree",
          "associate's degree",
          "high school",
          "associate's degree",
          "associate's degree",
          "master's degree",
          "some high school",
          "some college",
          "some high school",
          "bachelor's degree",
          "bachelor's degree",
          "some college",
          "bachelor's degree",
          "some high school",
          "some high school",
          "associate's degree",
          "some high school",
          "high school",
          "associate's degree",
          "associate's degree",
          "some high school",
          "associate's degree",
          "bachelor's degree",
          "high school",
          "associate's degree",
          "high school",
          "some college",
          "some high school",
          "high school",
          "some college",
          "some college",
          "associate's degree",
          "high school",
          "associate's degree",
          "bachelor's degree",
          "associate's degree",
          "high school",
          "high school",
          "high school",
          "bachelor's degree",
          "some college",
          "associate's degree",
          "some college",
          "some college",
          "some college",
          "some college",
          "high school",
          "bachelor's degree",
          "some college",
          "associate's degree",
          "master's degree",
          "associate's degree",
          "associate's degree",
          "some high school",
          "associate's degree",
          "some high school",
          "high school",
          "some high school",
          "bachelor's degree",
          "bachelor's degree",
          "associate's degree",
          "associate's degree",
          "some college",
          "bachelor's degree",
          "some high school",
          "some high school",
          "associate's degree",
          "high school",
          "high school",
          "some high school",
          "some college",
          "high school",
          "some college",
          "some high school",
          "high school",
          "some college",
          "associate's degree",
          "some college",
          "associate's degree",
          "bachelor's degree",
          "bachelor's degree",
          "some college",
          "some college",
          "some college",
          "associate's degree",
          "high school",
          "associate's degree",
          "some college",
          "high school",
          "associate's degree",
          "associate's degree",
          "some college",
          "bachelor's degree",
          "some college",
          "some college",
          "master's degree",
          "bachelor's degree",
          "some high school",
          "associate's degree",
          "master's degree",
          "high school",
          "some high school",
          "high school",
          "associate's degree",
          "associate's degree",
          "some high school",
          "bachelor's degree",
          "associate's degree",
          "high school",
          "associate's degree",
          "high school",
          "high school",
          "master's degree",
          "some high school",
          "some college",
          "associate's degree",
          "master's degree",
          "some college",
          "bachelor's degree",
          "some college",
          "high school",
          "associate's degree",
          "bachelor's degree",
          "some college",
          "some college",
          "bachelor's degree",
          "bachelor's degree",
          "high school",
          "some high school",
          "associate's degree",
          "master's degree",
          "some college",
          "bachelor's degree",
          "associate's degree",
          "high school",
          "associate's degree",
          "high school",
          "high school",
          "some high school",
          "high school",
          "some high school",
          "associate's degree",
          "some college",
          "some high school",
          "high school",
          "some high school",
          "some college",
          "some college",
          "high school",
          "some college",
          "associate's degree",
          "some high school",
          "some high school",
          "associate's degree",
          "bachelor's degree",
          "some high school",
          "associate's degree",
          "high school",
          "some college",
          "some college",
          "associate's degree",
          "associate's degree",
          "high school",
          "some college",
          "high school",
          "some college",
          "some college",
          "master's degree",
          "associate's degree",
          "high school",
          "high school",
          "associate's degree",
          "some college",
          "bachelor's degree",
          "master's degree",
          "some high school",
          "associate's degree",
          "high school",
          "high school",
          "bachelor's degree",
          "some college",
          "associate's degree",
          "bachelor's degree",
          "associate's degree",
          "master's degree",
          "associate's degree",
          "some high school",
          "some high school",
          "some college",
          "high school",
          "master's degree",
          "high school",
          "some high school",
          "some high school",
          "high school",
          "associate's degree",
          "some high school",
          "bachelor's degree",
          "high school",
          "associate's degree",
          "some high school",
          "master's degree",
          "high school",
          "master's degree",
          "some high school",
          "bachelor's degree",
          "associate's degree",
          "associate's degree",
          "some college",
          "associate's degree",
          "high school",
          "associate's degree",
          "some college",
          "bachelor's degree",
          "some college",
          "some high school",
          "bachelor's degree",
          "associate's degree",
          "high school",
          "master's degree",
          "bachelor's degree",
          "bachelor's degree",
          "bachelor's degree",
          "high school",
          "associate's degree",
          "high school",
          "some high school",
          "some college",
          "bachelor's degree",
          "associate's degree",
          "master's degree",
          "high school",
          "associate's degree",
          "high school",
          "some college",
          "some college",
          "high school",
          "some high school",
          "some college",
          "some high school",
          "some college",
          "associate's degree",
          "associate's degree",
          "some high school",
          "associate's degree",
          "high school",
          "high school"
         ],
         "xaxis": "x",
         "yaxis": "y"
        },
        {
         "alignmentgroup": "True",
         "bingroup": "x",
         "hovertemplate": "race/ethnicity=group A<br>parental level of education=%{x}<br>count=%{y}<extra></extra>",
         "legendgroup": "group A",
         "marker": {
          "color": "#00cc96",
          "pattern": {
           "shape": ""
          }
         },
         "name": "group A",
         "offsetgroup": "group A",
         "orientation": "v",
         "showlegend": true,
         "type": "histogram",
         "x": [
          "associate's degree",
          "some college",
          "master's degree",
          "master's degree",
          "associate's degree",
          "some high school",
          "associate's degree",
          "associate's degree",
          "bachelor's degree",
          "some college",
          "some college",
          "associate's degree",
          "bachelor's degree",
          "high school",
          "some high school",
          "bachelor's degree",
          "high school",
          "some high school",
          "some high school",
          "some high school",
          "some college",
          "some college",
          "some college",
          "associate's degree",
          "bachelor's degree",
          "some high school",
          "some high school",
          "bachelor's degree",
          "some high school",
          "high school",
          "some college",
          "some college",
          "some high school",
          "some high school",
          "some high school",
          "some high school",
          "some high school",
          "bachelor's degree",
          "high school",
          "high school",
          "high school",
          "associate's degree",
          "associate's degree",
          "high school",
          "some high school",
          "associate's degree",
          "some high school",
          "bachelor's degree",
          "associate's degree",
          "some college",
          "high school",
          "some high school",
          "some high school",
          "some high school",
          "associate's degree",
          "some college",
          "high school",
          "high school",
          "associate's degree",
          "high school",
          "bachelor's degree",
          "bachelor's degree",
          "bachelor's degree",
          "some high school",
          "associate's degree",
          "some college",
          "some college",
          "some college",
          "some high school",
          "high school",
          "bachelor's degree",
          "some high school",
          "some college",
          "bachelor's degree",
          "high school",
          "high school",
          "master's degree",
          "high school",
          "some college",
          "associate's degree",
          "some high school",
          "some college",
          "some high school",
          "high school",
          "some college",
          "some college",
          "high school",
          "some high school",
          "high school"
         ],
         "xaxis": "x",
         "yaxis": "y"
        },
        {
         "alignmentgroup": "True",
         "bingroup": "x",
         "hovertemplate": "race/ethnicity=group D<br>parental level of education=%{x}<br>count=%{y}<extra></extra>",
         "legendgroup": "group D",
         "marker": {
          "color": "#ab63fa",
          "pattern": {
           "shape": ""
          }
         },
         "name": "group D",
         "offsetgroup": "group D",
         "orientation": "v",
         "showlegend": true,
         "type": "histogram",
         "x": [
          "high school",
          "associate's degree",
          "high school",
          "some college",
          "bachelor's degree",
          "master's degree",
          "some college",
          "some college",
          "associate's degree",
          "some high school",
          "associate's degree",
          "associate's degree",
          "high school",
          "associate's degree",
          "some college",
          "some high school",
          "some high school",
          "some college",
          "some college",
          "some high school",
          "high school",
          "associate's degree",
          "some high school",
          "some college",
          "bachelor's degree",
          "bachelor's degree",
          "associate's degree",
          "master's degree",
          "associate's degree",
          "some college",
          "bachelor's degree",
          "some high school",
          "high school",
          "some college",
          "master's degree",
          "master's degree",
          "bachelor's degree",
          "some college",
          "some high school",
          "some college",
          "bachelor's degree",
          "bachelor's degree",
          "some high school",
          "associate's degree",
          "some college",
          "some high school",
          "associate's degree",
          "some high school",
          "some college",
          "some college",
          "associate's degree",
          "some college",
          "some high school",
          "some high school",
          "high school",
          "some high school",
          "high school",
          "some college",
          "associate's degree",
          "bachelor's degree",
          "some high school",
          "high school",
          "high school",
          "some high school",
          "some college",
          "master's degree",
          "high school",
          "high school",
          "some high school",
          "high school",
          "associate's degree",
          "associate's degree",
          "some college",
          "high school",
          "high school",
          "bachelor's degree",
          "some college",
          "some high school",
          "high school",
          "associate's degree",
          "some high school",
          "high school",
          "bachelor's degree",
          "master's degree",
          "associate's degree",
          "some high school",
          "some high school",
          "associate's degree",
          "some college",
          "high school",
          "some college",
          "some college",
          "some high school",
          "some high school",
          "some high school",
          "some college",
          "bachelor's degree",
          "some high school",
          "master's degree",
          "high school",
          "master's degree",
          "some college",
          "some high school",
          "high school",
          "high school",
          "associate's degree",
          "master's degree",
          "associate's degree",
          "some college",
          "high school",
          "master's degree",
          "associate's degree",
          "associate's degree",
          "some high school",
          "high school",
          "some college",
          "bachelor's degree",
          "associate's degree",
          "associate's degree",
          "some high school",
          "bachelor's degree",
          "associate's degree",
          "master's degree",
          "associate's degree",
          "some college",
          "high school",
          "some college",
          "master's degree",
          "master's degree",
          "some college",
          "some high school",
          "some college",
          "some high school",
          "some college",
          "bachelor's degree",
          "bachelor's degree",
          "high school",
          "associate's degree",
          "associate's degree",
          "master's degree",
          "some college",
          "some high school",
          "some college",
          "some college",
          "master's degree",
          "bachelor's degree",
          "master's degree",
          "some high school",
          "bachelor's degree",
          "associate's degree",
          "some college",
          "high school",
          "some high school",
          "master's degree",
          "high school",
          "master's degree",
          "some college",
          "bachelor's degree",
          "master's degree",
          "some college",
          "associate's degree",
          "some college",
          "some college",
          "some high school",
          "some high school",
          "associate's degree",
          "high school",
          "associate's degree",
          "associate's degree",
          "some college",
          "some college",
          "some high school",
          "associate's degree",
          "associate's degree",
          "some college",
          "associate's degree",
          "associate's degree",
          "associate's degree",
          "high school",
          "associate's degree",
          "some college",
          "high school",
          "associate's degree",
          "associate's degree",
          "some college",
          "associate's degree",
          "some college",
          "high school",
          "high school",
          "associate's degree",
          "some college",
          "master's degree",
          "some high school",
          "high school",
          "some high school",
          "associate's degree",
          "bachelor's degree",
          "associate's degree",
          "high school",
          "some high school",
          "some college",
          "some college",
          "some high school",
          "some high school",
          "some college",
          "some high school",
          "bachelor's degree",
          "associate's degree",
          "some college",
          "high school",
          "high school",
          "some college",
          "bachelor's degree",
          "bachelor's degree",
          "some high school",
          "high school",
          "some high school",
          "high school",
          "associate's degree",
          "bachelor's degree",
          "some college",
          "some college",
          "some high school",
          "associate's degree",
          "bachelor's degree",
          "some college",
          "high school",
          "some high school",
          "associate's degree",
          "some high school",
          "master's degree",
          "bachelor's degree",
          "some high school",
          "some college",
          "some college",
          "bachelor's degree",
          "high school",
          "high school",
          "high school",
          "high school",
          "some college",
          "associate's degree",
          "some college",
          "some college",
          "some high school",
          "master's degree",
          "some college",
          "some college",
          "master's degree",
          "high school",
          "some high school",
          "some college",
          "some college",
          "bachelor's degree",
          "some college",
          "high school",
          "some high school",
          "some college",
          "associate's degree",
          "bachelor's degree",
          "some college",
          "some college"
         ],
         "xaxis": "x",
         "yaxis": "y"
        },
        {
         "alignmentgroup": "True",
         "bingroup": "x",
         "hovertemplate": "race/ethnicity=group E<br>parental level of education=%{x}<br>count=%{y}<extra></extra>",
         "legendgroup": "group E",
         "marker": {
          "color": "#FFA15A",
          "pattern": {
           "shape": ""
          }
         },
         "name": "group E",
         "offsetgroup": "group E",
         "orientation": "v",
         "showlegend": true,
         "type": "histogram",
         "x": [
          "master's degree",
          "some college",
          "associate's degree",
          "associate's degree",
          "some college",
          "associate's degree",
          "associate's degree",
          "bachelor's degree",
          "some high school",
          "master's degree",
          "associate's degree",
          "some college",
          "associate's degree",
          "bachelor's degree",
          "some college",
          "some college",
          "high school",
          "some college",
          "associate's degree",
          "high school",
          "some college",
          "master's degree",
          "some high school",
          "high school",
          "high school",
          "associate's degree",
          "high school",
          "bachelor's degree",
          "high school",
          "high school",
          "associate's degree",
          "master's degree",
          "some high school",
          "bachelor's degree",
          "some college",
          "associate's degree",
          "some college",
          "high school",
          "some college",
          "high school",
          "associate's degree",
          "some high school",
          "bachelor's degree",
          "associate's degree",
          "some college",
          "high school",
          "associate's degree",
          "associate's degree",
          "some college",
          "some college",
          "associate's degree",
          "some high school",
          "some college",
          "bachelor's degree",
          "some high school",
          "some college",
          "some college",
          "high school",
          "high school",
          "some college",
          "bachelor's degree",
          "some college",
          "bachelor's degree",
          "associate's degree",
          "some college",
          "associate's degree",
          "some college",
          "some college",
          "associate's degree",
          "associate's degree",
          "bachelor's degree",
          "some high school",
          "associate's degree",
          "bachelor's degree",
          "high school",
          "some high school",
          "bachelor's degree",
          "high school",
          "some college",
          "some college",
          "bachelor's degree",
          "bachelor's degree",
          "some college",
          "high school",
          "high school",
          "some college",
          "master's degree",
          "some college",
          "some college",
          "associate's degree",
          "bachelor's degree",
          "some high school",
          "associate's degree",
          "some college",
          "associate's degree",
          "some high school",
          "some college",
          "some college",
          "associate's degree",
          "bachelor's degree",
          "associate's degree",
          "some high school",
          "some high school",
          "associate's degree",
          "associate's degree",
          "some college",
          "associate's degree",
          "high school",
          "some high school",
          "some college",
          "high school",
          "master's degree",
          "some college",
          "some high school",
          "master's degree",
          "associate's degree",
          "associate's degree",
          "bachelor's degree",
          "associate's degree",
          "associate's degree",
          "some college",
          "associate's degree",
          "associate's degree",
          "some high school",
          "bachelor's degree",
          "some college",
          "bachelor's degree",
          "some high school",
          "associate's degree",
          "associate's degree",
          "high school",
          "high school",
          "high school",
          "some high school",
          "associate's degree",
          "associate's degree",
          "associate's degree",
          "some high school",
          "high school",
          "master's degree"
         ],
         "xaxis": "x",
         "yaxis": "y"
        }
       ],
       "layout": {
        "barmode": "relative",
        "legend": {
         "title": {
          "text": "race/ethnicity"
         },
         "tracegroupgap": 0
        },
        "margin": {
         "t": 60
        },
        "template": {
         "data": {
          "bar": [
           {
            "error_x": {
             "color": "#2a3f5f"
            },
            "error_y": {
             "color": "#2a3f5f"
            },
            "marker": {
             "line": {
              "color": "#E5ECF6",
              "width": 0.5
             },
             "pattern": {
              "fillmode": "overlay",
              "size": 10,
              "solidity": 0.2
             }
            },
            "type": "bar"
           }
          ],
          "barpolar": [
           {
            "marker": {
             "line": {
              "color": "#E5ECF6",
              "width": 0.5
             },
             "pattern": {
              "fillmode": "overlay",
              "size": 10,
              "solidity": 0.2
             }
            },
            "type": "barpolar"
           }
          ],
          "carpet": [
           {
            "aaxis": {
             "endlinecolor": "#2a3f5f",
             "gridcolor": "white",
             "linecolor": "white",
             "minorgridcolor": "white",
             "startlinecolor": "#2a3f5f"
            },
            "baxis": {
             "endlinecolor": "#2a3f5f",
             "gridcolor": "white",
             "linecolor": "white",
             "minorgridcolor": "white",
             "startlinecolor": "#2a3f5f"
            },
            "type": "carpet"
           }
          ],
          "choropleth": [
           {
            "colorbar": {
             "outlinewidth": 0,
             "ticks": ""
            },
            "type": "choropleth"
           }
          ],
          "contour": [
           {
            "colorbar": {
             "outlinewidth": 0,
             "ticks": ""
            },
            "colorscale": [
             [
              0,
              "#0d0887"
             ],
             [
              0.1111111111111111,
              "#46039f"
             ],
             [
              0.2222222222222222,
              "#7201a8"
             ],
             [
              0.3333333333333333,
              "#9c179e"
             ],
             [
              0.4444444444444444,
              "#bd3786"
             ],
             [
              0.5555555555555556,
              "#d8576b"
             ],
             [
              0.6666666666666666,
              "#ed7953"
             ],
             [
              0.7777777777777778,
              "#fb9f3a"
             ],
             [
              0.8888888888888888,
              "#fdca26"
             ],
             [
              1,
              "#f0f921"
             ]
            ],
            "type": "contour"
           }
          ],
          "contourcarpet": [
           {
            "colorbar": {
             "outlinewidth": 0,
             "ticks": ""
            },
            "type": "contourcarpet"
           }
          ],
          "heatmap": [
           {
            "colorbar": {
             "outlinewidth": 0,
             "ticks": ""
            },
            "colorscale": [
             [
              0,
              "#0d0887"
             ],
             [
              0.1111111111111111,
              "#46039f"
             ],
             [
              0.2222222222222222,
              "#7201a8"
             ],
             [
              0.3333333333333333,
              "#9c179e"
             ],
             [
              0.4444444444444444,
              "#bd3786"
             ],
             [
              0.5555555555555556,
              "#d8576b"
             ],
             [
              0.6666666666666666,
              "#ed7953"
             ],
             [
              0.7777777777777778,
              "#fb9f3a"
             ],
             [
              0.8888888888888888,
              "#fdca26"
             ],
             [
              1,
              "#f0f921"
             ]
            ],
            "type": "heatmap"
           }
          ],
          "heatmapgl": [
           {
            "colorbar": {
             "outlinewidth": 0,
             "ticks": ""
            },
            "colorscale": [
             [
              0,
              "#0d0887"
             ],
             [
              0.1111111111111111,
              "#46039f"
             ],
             [
              0.2222222222222222,
              "#7201a8"
             ],
             [
              0.3333333333333333,
              "#9c179e"
             ],
             [
              0.4444444444444444,
              "#bd3786"
             ],
             [
              0.5555555555555556,
              "#d8576b"
             ],
             [
              0.6666666666666666,
              "#ed7953"
             ],
             [
              0.7777777777777778,
              "#fb9f3a"
             ],
             [
              0.8888888888888888,
              "#fdca26"
             ],
             [
              1,
              "#f0f921"
             ]
            ],
            "type": "heatmapgl"
           }
          ],
          "histogram": [
           {
            "marker": {
             "pattern": {
              "fillmode": "overlay",
              "size": 10,
              "solidity": 0.2
             }
            },
            "type": "histogram"
           }
          ],
          "histogram2d": [
           {
            "colorbar": {
             "outlinewidth": 0,
             "ticks": ""
            },
            "colorscale": [
             [
              0,
              "#0d0887"
             ],
             [
              0.1111111111111111,
              "#46039f"
             ],
             [
              0.2222222222222222,
              "#7201a8"
             ],
             [
              0.3333333333333333,
              "#9c179e"
             ],
             [
              0.4444444444444444,
              "#bd3786"
             ],
             [
              0.5555555555555556,
              "#d8576b"
             ],
             [
              0.6666666666666666,
              "#ed7953"
             ],
             [
              0.7777777777777778,
              "#fb9f3a"
             ],
             [
              0.8888888888888888,
              "#fdca26"
             ],
             [
              1,
              "#f0f921"
             ]
            ],
            "type": "histogram2d"
           }
          ],
          "histogram2dcontour": [
           {
            "colorbar": {
             "outlinewidth": 0,
             "ticks": ""
            },
            "colorscale": [
             [
              0,
              "#0d0887"
             ],
             [
              0.1111111111111111,
              "#46039f"
             ],
             [
              0.2222222222222222,
              "#7201a8"
             ],
             [
              0.3333333333333333,
              "#9c179e"
             ],
             [
              0.4444444444444444,
              "#bd3786"
             ],
             [
              0.5555555555555556,
              "#d8576b"
             ],
             [
              0.6666666666666666,
              "#ed7953"
             ],
             [
              0.7777777777777778,
              "#fb9f3a"
             ],
             [
              0.8888888888888888,
              "#fdca26"
             ],
             [
              1,
              "#f0f921"
             ]
            ],
            "type": "histogram2dcontour"
           }
          ],
          "mesh3d": [
           {
            "colorbar": {
             "outlinewidth": 0,
             "ticks": ""
            },
            "type": "mesh3d"
           }
          ],
          "parcoords": [
           {
            "line": {
             "colorbar": {
              "outlinewidth": 0,
              "ticks": ""
             }
            },
            "type": "parcoords"
           }
          ],
          "pie": [
           {
            "automargin": true,
            "type": "pie"
           }
          ],
          "scatter": [
           {
            "marker": {
             "colorbar": {
              "outlinewidth": 0,
              "ticks": ""
             }
            },
            "type": "scatter"
           }
          ],
          "scatter3d": [
           {
            "line": {
             "colorbar": {
              "outlinewidth": 0,
              "ticks": ""
             }
            },
            "marker": {
             "colorbar": {
              "outlinewidth": 0,
              "ticks": ""
             }
            },
            "type": "scatter3d"
           }
          ],
          "scattercarpet": [
           {
            "marker": {
             "colorbar": {
              "outlinewidth": 0,
              "ticks": ""
             }
            },
            "type": "scattercarpet"
           }
          ],
          "scattergeo": [
           {
            "marker": {
             "colorbar": {
              "outlinewidth": 0,
              "ticks": ""
             }
            },
            "type": "scattergeo"
           }
          ],
          "scattergl": [
           {
            "marker": {
             "colorbar": {
              "outlinewidth": 0,
              "ticks": ""
             }
            },
            "type": "scattergl"
           }
          ],
          "scattermapbox": [
           {
            "marker": {
             "colorbar": {
              "outlinewidth": 0,
              "ticks": ""
             }
            },
            "type": "scattermapbox"
           }
          ],
          "scatterpolar": [
           {
            "marker": {
             "colorbar": {
              "outlinewidth": 0,
              "ticks": ""
             }
            },
            "type": "scatterpolar"
           }
          ],
          "scatterpolargl": [
           {
            "marker": {
             "colorbar": {
              "outlinewidth": 0,
              "ticks": ""
             }
            },
            "type": "scatterpolargl"
           }
          ],
          "scatterternary": [
           {
            "marker": {
             "colorbar": {
              "outlinewidth": 0,
              "ticks": ""
             }
            },
            "type": "scatterternary"
           }
          ],
          "surface": [
           {
            "colorbar": {
             "outlinewidth": 0,
             "ticks": ""
            },
            "colorscale": [
             [
              0,
              "#0d0887"
             ],
             [
              0.1111111111111111,
              "#46039f"
             ],
             [
              0.2222222222222222,
              "#7201a8"
             ],
             [
              0.3333333333333333,
              "#9c179e"
             ],
             [
              0.4444444444444444,
              "#bd3786"
             ],
             [
              0.5555555555555556,
              "#d8576b"
             ],
             [
              0.6666666666666666,
              "#ed7953"
             ],
             [
              0.7777777777777778,
              "#fb9f3a"
             ],
             [
              0.8888888888888888,
              "#fdca26"
             ],
             [
              1,
              "#f0f921"
             ]
            ],
            "type": "surface"
           }
          ],
          "table": [
           {
            "cells": {
             "fill": {
              "color": "#EBF0F8"
             },
             "line": {
              "color": "white"
             }
            },
            "header": {
             "fill": {
              "color": "#C8D4E3"
             },
             "line": {
              "color": "white"
             }
            },
            "type": "table"
           }
          ]
         },
         "layout": {
          "annotationdefaults": {
           "arrowcolor": "#2a3f5f",
           "arrowhead": 0,
           "arrowwidth": 1
          },
          "autotypenumbers": "strict",
          "coloraxis": {
           "colorbar": {
            "outlinewidth": 0,
            "ticks": ""
           }
          },
          "colorscale": {
           "diverging": [
            [
             0,
             "#8e0152"
            ],
            [
             0.1,
             "#c51b7d"
            ],
            [
             0.2,
             "#de77ae"
            ],
            [
             0.3,
             "#f1b6da"
            ],
            [
             0.4,
             "#fde0ef"
            ],
            [
             0.5,
             "#f7f7f7"
            ],
            [
             0.6,
             "#e6f5d0"
            ],
            [
             0.7,
             "#b8e186"
            ],
            [
             0.8,
             "#7fbc41"
            ],
            [
             0.9,
             "#4d9221"
            ],
            [
             1,
             "#276419"
            ]
           ],
           "sequential": [
            [
             0,
             "#0d0887"
            ],
            [
             0.1111111111111111,
             "#46039f"
            ],
            [
             0.2222222222222222,
             "#7201a8"
            ],
            [
             0.3333333333333333,
             "#9c179e"
            ],
            [
             0.4444444444444444,
             "#bd3786"
            ],
            [
             0.5555555555555556,
             "#d8576b"
            ],
            [
             0.6666666666666666,
             "#ed7953"
            ],
            [
             0.7777777777777778,
             "#fb9f3a"
            ],
            [
             0.8888888888888888,
             "#fdca26"
            ],
            [
             1,
             "#f0f921"
            ]
           ],
           "sequentialminus": [
            [
             0,
             "#0d0887"
            ],
            [
             0.1111111111111111,
             "#46039f"
            ],
            [
             0.2222222222222222,
             "#7201a8"
            ],
            [
             0.3333333333333333,
             "#9c179e"
            ],
            [
             0.4444444444444444,
             "#bd3786"
            ],
            [
             0.5555555555555556,
             "#d8576b"
            ],
            [
             0.6666666666666666,
             "#ed7953"
            ],
            [
             0.7777777777777778,
             "#fb9f3a"
            ],
            [
             0.8888888888888888,
             "#fdca26"
            ],
            [
             1,
             "#f0f921"
            ]
           ]
          },
          "colorway": [
           "#636efa",
           "#EF553B",
           "#00cc96",
           "#ab63fa",
           "#FFA15A",
           "#19d3f3",
           "#FF6692",
           "#B6E880",
           "#FF97FF",
           "#FECB52"
          ],
          "font": {
           "color": "#2a3f5f"
          },
          "geo": {
           "bgcolor": "white",
           "lakecolor": "white",
           "landcolor": "#E5ECF6",
           "showlakes": true,
           "showland": true,
           "subunitcolor": "white"
          },
          "hoverlabel": {
           "align": "left"
          },
          "hovermode": "closest",
          "mapbox": {
           "style": "light"
          },
          "paper_bgcolor": "white",
          "plot_bgcolor": "#E5ECF6",
          "polar": {
           "angularaxis": {
            "gridcolor": "white",
            "linecolor": "white",
            "ticks": ""
           },
           "bgcolor": "#E5ECF6",
           "radialaxis": {
            "gridcolor": "white",
            "linecolor": "white",
            "ticks": ""
           }
          },
          "scene": {
           "xaxis": {
            "backgroundcolor": "#E5ECF6",
            "gridcolor": "white",
            "gridwidth": 2,
            "linecolor": "white",
            "showbackground": true,
            "ticks": "",
            "zerolinecolor": "white"
           },
           "yaxis": {
            "backgroundcolor": "#E5ECF6",
            "gridcolor": "white",
            "gridwidth": 2,
            "linecolor": "white",
            "showbackground": true,
            "ticks": "",
            "zerolinecolor": "white"
           },
           "zaxis": {
            "backgroundcolor": "#E5ECF6",
            "gridcolor": "white",
            "gridwidth": 2,
            "linecolor": "white",
            "showbackground": true,
            "ticks": "",
            "zerolinecolor": "white"
           }
          },
          "shapedefaults": {
           "line": {
            "color": "#2a3f5f"
           }
          },
          "ternary": {
           "aaxis": {
            "gridcolor": "white",
            "linecolor": "white",
            "ticks": ""
           },
           "baxis": {
            "gridcolor": "white",
            "linecolor": "white",
            "ticks": ""
           },
           "bgcolor": "#E5ECF6",
           "caxis": {
            "gridcolor": "white",
            "linecolor": "white",
            "ticks": ""
           }
          },
          "title": {
           "x": 0.05
          },
          "xaxis": {
           "automargin": true,
           "gridcolor": "white",
           "linecolor": "white",
           "ticks": "",
           "title": {
            "standoff": 15
           },
           "zerolinecolor": "white",
           "zerolinewidth": 2
          },
          "yaxis": {
           "automargin": true,
           "gridcolor": "white",
           "linecolor": "white",
           "ticks": "",
           "title": {
            "standoff": 15
           },
           "zerolinecolor": "white",
           "zerolinewidth": 2
          }
         }
        },
        "xaxis": {
         "anchor": "y",
         "domain": [
          0,
          1
         ],
         "title": {
          "text": "parental level of education"
         }
        },
        "yaxis": {
         "anchor": "x",
         "domain": [
          0,
          1
         ],
         "title": {
          "text": "count"
         }
        }
       }
      },
      "text/html": [
       "<div>                            <div id=\"d6777081-9e70-4902-b629-289e65b7e115\" class=\"plotly-graph-div\" style=\"height:525px; width:100%;\"></div>            <script type=\"text/javascript\">                require([\"plotly\"], function(Plotly) {                    window.PLOTLYENV=window.PLOTLYENV || {};                                    if (document.getElementById(\"d6777081-9e70-4902-b629-289e65b7e115\")) {                    Plotly.newPlot(                        \"d6777081-9e70-4902-b629-289e65b7e115\",                        [{\"alignmentgroup\":\"True\",\"bingroup\":\"x\",\"hovertemplate\":\"race/ethnicity=group B<br>parental level of education=%{x}<br>count=%{y}<extra></extra>\",\"legendgroup\":\"group B\",\"marker\":{\"color\":\"#636efa\",\"pattern\":{\"shape\":\"\"}},\"name\":\"group B\",\"offsetgroup\":\"group B\",\"orientation\":\"v\",\"showlegend\":true,\"x\":[\"bachelor's degree\",\"master's degree\",\"associate's degree\",\"some college\",\"some college\",\"high school\",\"high school\",\"some high school\",\"some college\",\"some college\",\"some college\",\"associate's degree\",\"associate's degree\",\"some college\",\"associate's degree\",\"some high school\",\"associate's degree\",\"associate's degree\",\"associate's degree\",\"high school\",\"some college\",\"some high school\",\"some college\",\"high school\",\"associate's degree\",\"some high school\",\"bachelor's degree\",\"associate's degree\",\"high school\",\"some high school\",\"some high school\",\"some high school\",\"associate's degree\",\"some college\",\"associate's degree\",\"associate's degree\",\"master's degree\",\"master's degree\",\"high school\",\"high school\",\"master's degree\",\"some high school\",\"some high school\",\"some college\",\"bachelor's degree\",\"associate's degree\",\"some college\",\"some college\",\"some high school\",\"high school\",\"some high school\",\"associate's degree\",\"associate's degree\",\"bachelor's degree\",\"some college\",\"high school\",\"high school\",\"some high school\",\"some college\",\"some college\",\"bachelor's degree\",\"some high school\",\"associate's degree\",\"some high school\",\"bachelor's degree\",\"associate's degree\",\"associate's degree\",\"associate's degree\",\"associate's degree\",\"bachelor's degree\",\"bachelor's degree\",\"some high school\",\"associate's degree\",\"some college\",\"some high school\",\"high school\",\"some college\",\"bachelor's degree\",\"bachelor's degree\",\"high school\",\"some high school\",\"associate's degree\",\"high school\",\"some high school\",\"associate's degree\",\"associate's degree\",\"some high school\",\"some college\",\"associate's degree\",\"high school\",\"associate's degree\",\"high school\",\"some college\",\"associate's degree\",\"high school\",\"associate's degree\",\"some high school\",\"high school\",\"some high school\",\"associate's degree\",\"some high school\",\"bachelor's degree\",\"some high school\",\"master's degree\",\"high school\",\"high school\",\"bachelor's degree\",\"associate's degree\",\"associate's degree\",\"bachelor's degree\",\"associate's degree\",\"high school\",\"some college\",\"high school\",\"some college\",\"high school\",\"associate's degree\",\"bachelor's degree\",\"associate's degree\",\"high school\",\"bachelor's degree\",\"high school\",\"some high school\",\"high school\",\"bachelor's degree\",\"high school\",\"some high school\",\"some college\",\"bachelor's degree\",\"some college\",\"high school\",\"high school\",\"some college\",\"some high school\",\"some high school\",\"some high school\",\"associate's degree\",\"some high school\",\"some college\",\"associate's degree\",\"some college\",\"some college\",\"some college\",\"some college\",\"high school\",\"high school\",\"high school\",\"high school\",\"some high school\",\"some college\",\"some high school\",\"high school\",\"master's degree\",\"high school\",\"some high school\",\"some college\",\"high school\",\"high school\",\"some college\",\"bachelor's degree\",\"some high school\",\"high school\",\"high school\",\"some high school\",\"high school\",\"some college\",\"associate's degree\",\"high school\",\"some college\",\"bachelor's degree\",\"some college\",\"high school\",\"associate's degree\",\"high school\",\"associate's degree\",\"high school\",\"high school\",\"some high school\",\"high school\",\"associate's degree\",\"some college\",\"associate's degree\",\"high school\",\"high school\",\"some high school\",\"bachelor's degree\",\"some college\",\"high school\",\"some high school\",\"some high school\"],\"xaxis\":\"x\",\"yaxis\":\"y\",\"type\":\"histogram\"},{\"alignmentgroup\":\"True\",\"bingroup\":\"x\",\"hovertemplate\":\"race/ethnicity=group C<br>parental level of education=%{x}<br>count=%{y}<extra></extra>\",\"legendgroup\":\"group C\",\"marker\":{\"color\":\"#EF553B\",\"pattern\":{\"shape\":\"\"}},\"name\":\"group C\",\"offsetgroup\":\"group C\",\"orientation\":\"v\",\"showlegend\":true,\"x\":[\"some college\",\"some college\",\"associate's degree\",\"some high school\",\"high school\",\"master's degree\",\"associate's degree\",\"some high school\",\"bachelor's degree\",\"high school\",\"associate's degree\",\"associate's degree\",\"high school\",\"high school\",\"some college\",\"some high school\",\"high school\",\"some high school\",\"associate's degree\",\"some college\",\"associate's degree\",\"some high school\",\"some high school\",\"some college\",\"some college\",\"bachelor's degree\",\"high school\",\"high school\",\"associate's degree\",\"associate's degree\",\"some college\",\"some college\",\"high school\",\"high school\",\"some college\",\"bachelor's degree\",\"some college\",\"some high school\",\"some college\",\"bachelor's degree\",\"associate's degree\",\"some college\",\"some college\",\"associate's degree\",\"some college\",\"high school\",\"bachelor's degree\",\"high school\",\"some college\",\"associate's degree\",\"bachelor's degree\",\"master's degree\",\"associate's degree\",\"master's degree\",\"some college\",\"some high school\",\"associate's degree\",\"bachelor's degree\",\"master's degree\",\"some high school\",\"associate's degree\",\"associate's degree\",\"some college\",\"some college\",\"high school\",\"associate's degree\",\"high school\",\"some high school\",\"some college\",\"some college\",\"associate's degree\",\"bachelor's degree\",\"associate's degree\",\"associate's degree\",\"high school\",\"associate's degree\",\"associate's degree\",\"master's degree\",\"some high school\",\"some college\",\"some high school\",\"bachelor's degree\",\"bachelor's degree\",\"some college\",\"bachelor's degree\",\"some high school\",\"some high school\",\"associate's degree\",\"some high school\",\"high school\",\"associate's degree\",\"associate's degree\",\"some high school\",\"associate's degree\",\"bachelor's degree\",\"high school\",\"associate's degree\",\"high school\",\"some college\",\"some high school\",\"high school\",\"some college\",\"some college\",\"associate's degree\",\"high school\",\"associate's degree\",\"bachelor's degree\",\"associate's degree\",\"high school\",\"high school\",\"high school\",\"bachelor's degree\",\"some college\",\"associate's degree\",\"some college\",\"some college\",\"some college\",\"some college\",\"high school\",\"bachelor's degree\",\"some college\",\"associate's degree\",\"master's degree\",\"associate's degree\",\"associate's degree\",\"some high school\",\"associate's degree\",\"some high school\",\"high school\",\"some high school\",\"bachelor's degree\",\"bachelor's degree\",\"associate's degree\",\"associate's degree\",\"some college\",\"bachelor's degree\",\"some high school\",\"some high school\",\"associate's degree\",\"high school\",\"high school\",\"some high school\",\"some college\",\"high school\",\"some college\",\"some high school\",\"high school\",\"some college\",\"associate's degree\",\"some college\",\"associate's degree\",\"bachelor's degree\",\"bachelor's degree\",\"some college\",\"some college\",\"some college\",\"associate's degree\",\"high school\",\"associate's degree\",\"some college\",\"high school\",\"associate's degree\",\"associate's degree\",\"some college\",\"bachelor's degree\",\"some college\",\"some college\",\"master's degree\",\"bachelor's degree\",\"some high school\",\"associate's degree\",\"master's degree\",\"high school\",\"some high school\",\"high school\",\"associate's degree\",\"associate's degree\",\"some high school\",\"bachelor's degree\",\"associate's degree\",\"high school\",\"associate's degree\",\"high school\",\"high school\",\"master's degree\",\"some high school\",\"some college\",\"associate's degree\",\"master's degree\",\"some college\",\"bachelor's degree\",\"some college\",\"high school\",\"associate's degree\",\"bachelor's degree\",\"some college\",\"some college\",\"bachelor's degree\",\"bachelor's degree\",\"high school\",\"some high school\",\"associate's degree\",\"master's degree\",\"some college\",\"bachelor's degree\",\"associate's degree\",\"high school\",\"associate's degree\",\"high school\",\"high school\",\"some high school\",\"high school\",\"some high school\",\"associate's degree\",\"some college\",\"some high school\",\"high school\",\"some high school\",\"some college\",\"some college\",\"high school\",\"some college\",\"associate's degree\",\"some high school\",\"some high school\",\"associate's degree\",\"bachelor's degree\",\"some high school\",\"associate's degree\",\"high school\",\"some college\",\"some college\",\"associate's degree\",\"associate's degree\",\"high school\",\"some college\",\"high school\",\"some college\",\"some college\",\"master's degree\",\"associate's degree\",\"high school\",\"high school\",\"associate's degree\",\"some college\",\"bachelor's degree\",\"master's degree\",\"some high school\",\"associate's degree\",\"high school\",\"high school\",\"bachelor's degree\",\"some college\",\"associate's degree\",\"bachelor's degree\",\"associate's degree\",\"master's degree\",\"associate's degree\",\"some high school\",\"some high school\",\"some college\",\"high school\",\"master's degree\",\"high school\",\"some high school\",\"some high school\",\"high school\",\"associate's degree\",\"some high school\",\"bachelor's degree\",\"high school\",\"associate's degree\",\"some high school\",\"master's degree\",\"high school\",\"master's degree\",\"some high school\",\"bachelor's degree\",\"associate's degree\",\"associate's degree\",\"some college\",\"associate's degree\",\"high school\",\"associate's degree\",\"some college\",\"bachelor's degree\",\"some college\",\"some high school\",\"bachelor's degree\",\"associate's degree\",\"high school\",\"master's degree\",\"bachelor's degree\",\"bachelor's degree\",\"bachelor's degree\",\"high school\",\"associate's degree\",\"high school\",\"some high school\",\"some college\",\"bachelor's degree\",\"associate's degree\",\"master's degree\",\"high school\",\"associate's degree\",\"high school\",\"some college\",\"some college\",\"high school\",\"some high school\",\"some college\",\"some high school\",\"some college\",\"associate's degree\",\"associate's degree\",\"some high school\",\"associate's degree\",\"high school\",\"high school\"],\"xaxis\":\"x\",\"yaxis\":\"y\",\"type\":\"histogram\"},{\"alignmentgroup\":\"True\",\"bingroup\":\"x\",\"hovertemplate\":\"race/ethnicity=group A<br>parental level of education=%{x}<br>count=%{y}<extra></extra>\",\"legendgroup\":\"group A\",\"marker\":{\"color\":\"#00cc96\",\"pattern\":{\"shape\":\"\"}},\"name\":\"group A\",\"offsetgroup\":\"group A\",\"orientation\":\"v\",\"showlegend\":true,\"x\":[\"associate's degree\",\"some college\",\"master's degree\",\"master's degree\",\"associate's degree\",\"some high school\",\"associate's degree\",\"associate's degree\",\"bachelor's degree\",\"some college\",\"some college\",\"associate's degree\",\"bachelor's degree\",\"high school\",\"some high school\",\"bachelor's degree\",\"high school\",\"some high school\",\"some high school\",\"some high school\",\"some college\",\"some college\",\"some college\",\"associate's degree\",\"bachelor's degree\",\"some high school\",\"some high school\",\"bachelor's degree\",\"some high school\",\"high school\",\"some college\",\"some college\",\"some high school\",\"some high school\",\"some high school\",\"some high school\",\"some high school\",\"bachelor's degree\",\"high school\",\"high school\",\"high school\",\"associate's degree\",\"associate's degree\",\"high school\",\"some high school\",\"associate's degree\",\"some high school\",\"bachelor's degree\",\"associate's degree\",\"some college\",\"high school\",\"some high school\",\"some high school\",\"some high school\",\"associate's degree\",\"some college\",\"high school\",\"high school\",\"associate's degree\",\"high school\",\"bachelor's degree\",\"bachelor's degree\",\"bachelor's degree\",\"some high school\",\"associate's degree\",\"some college\",\"some college\",\"some college\",\"some high school\",\"high school\",\"bachelor's degree\",\"some high school\",\"some college\",\"bachelor's degree\",\"high school\",\"high school\",\"master's degree\",\"high school\",\"some college\",\"associate's degree\",\"some high school\",\"some college\",\"some high school\",\"high school\",\"some college\",\"some college\",\"high school\",\"some high school\",\"high school\"],\"xaxis\":\"x\",\"yaxis\":\"y\",\"type\":\"histogram\"},{\"alignmentgroup\":\"True\",\"bingroup\":\"x\",\"hovertemplate\":\"race/ethnicity=group D<br>parental level of education=%{x}<br>count=%{y}<extra></extra>\",\"legendgroup\":\"group D\",\"marker\":{\"color\":\"#ab63fa\",\"pattern\":{\"shape\":\"\"}},\"name\":\"group D\",\"offsetgroup\":\"group D\",\"orientation\":\"v\",\"showlegend\":true,\"x\":[\"high school\",\"associate's degree\",\"high school\",\"some college\",\"bachelor's degree\",\"master's degree\",\"some college\",\"some college\",\"associate's degree\",\"some high school\",\"associate's degree\",\"associate's degree\",\"high school\",\"associate's degree\",\"some college\",\"some high school\",\"some high school\",\"some college\",\"some college\",\"some high school\",\"high school\",\"associate's degree\",\"some high school\",\"some college\",\"bachelor's degree\",\"bachelor's degree\",\"associate's degree\",\"master's degree\",\"associate's degree\",\"some college\",\"bachelor's degree\",\"some high school\",\"high school\",\"some college\",\"master's degree\",\"master's degree\",\"bachelor's degree\",\"some college\",\"some high school\",\"some college\",\"bachelor's degree\",\"bachelor's degree\",\"some high school\",\"associate's degree\",\"some college\",\"some high school\",\"associate's degree\",\"some high school\",\"some college\",\"some college\",\"associate's degree\",\"some college\",\"some high school\",\"some high school\",\"high school\",\"some high school\",\"high school\",\"some college\",\"associate's degree\",\"bachelor's degree\",\"some high school\",\"high school\",\"high school\",\"some high school\",\"some college\",\"master's degree\",\"high school\",\"high school\",\"some high school\",\"high school\",\"associate's degree\",\"associate's degree\",\"some college\",\"high school\",\"high school\",\"bachelor's degree\",\"some college\",\"some high school\",\"high school\",\"associate's degree\",\"some high school\",\"high school\",\"bachelor's degree\",\"master's degree\",\"associate's degree\",\"some high school\",\"some high school\",\"associate's degree\",\"some college\",\"high school\",\"some college\",\"some college\",\"some high school\",\"some high school\",\"some high school\",\"some college\",\"bachelor's degree\",\"some high school\",\"master's degree\",\"high school\",\"master's degree\",\"some college\",\"some high school\",\"high school\",\"high school\",\"associate's degree\",\"master's degree\",\"associate's degree\",\"some college\",\"high school\",\"master's degree\",\"associate's degree\",\"associate's degree\",\"some high school\",\"high school\",\"some college\",\"bachelor's degree\",\"associate's degree\",\"associate's degree\",\"some high school\",\"bachelor's degree\",\"associate's degree\",\"master's degree\",\"associate's degree\",\"some college\",\"high school\",\"some college\",\"master's degree\",\"master's degree\",\"some college\",\"some high school\",\"some college\",\"some high school\",\"some college\",\"bachelor's degree\",\"bachelor's degree\",\"high school\",\"associate's degree\",\"associate's degree\",\"master's degree\",\"some college\",\"some high school\",\"some college\",\"some college\",\"master's degree\",\"bachelor's degree\",\"master's degree\",\"some high school\",\"bachelor's degree\",\"associate's degree\",\"some college\",\"high school\",\"some high school\",\"master's degree\",\"high school\",\"master's degree\",\"some college\",\"bachelor's degree\",\"master's degree\",\"some college\",\"associate's degree\",\"some college\",\"some college\",\"some high school\",\"some high school\",\"associate's degree\",\"high school\",\"associate's degree\",\"associate's degree\",\"some college\",\"some college\",\"some high school\",\"associate's degree\",\"associate's degree\",\"some college\",\"associate's degree\",\"associate's degree\",\"associate's degree\",\"high school\",\"associate's degree\",\"some college\",\"high school\",\"associate's degree\",\"associate's degree\",\"some college\",\"associate's degree\",\"some college\",\"high school\",\"high school\",\"associate's degree\",\"some college\",\"master's degree\",\"some high school\",\"high school\",\"some high school\",\"associate's degree\",\"bachelor's degree\",\"associate's degree\",\"high school\",\"some high school\",\"some college\",\"some college\",\"some high school\",\"some high school\",\"some college\",\"some high school\",\"bachelor's degree\",\"associate's degree\",\"some college\",\"high school\",\"high school\",\"some college\",\"bachelor's degree\",\"bachelor's degree\",\"some high school\",\"high school\",\"some high school\",\"high school\",\"associate's degree\",\"bachelor's degree\",\"some college\",\"some college\",\"some high school\",\"associate's degree\",\"bachelor's degree\",\"some college\",\"high school\",\"some high school\",\"associate's degree\",\"some high school\",\"master's degree\",\"bachelor's degree\",\"some high school\",\"some college\",\"some college\",\"bachelor's degree\",\"high school\",\"high school\",\"high school\",\"high school\",\"some college\",\"associate's degree\",\"some college\",\"some college\",\"some high school\",\"master's degree\",\"some college\",\"some college\",\"master's degree\",\"high school\",\"some high school\",\"some college\",\"some college\",\"bachelor's degree\",\"some college\",\"high school\",\"some high school\",\"some college\",\"associate's degree\",\"bachelor's degree\",\"some college\",\"some college\"],\"xaxis\":\"x\",\"yaxis\":\"y\",\"type\":\"histogram\"},{\"alignmentgroup\":\"True\",\"bingroup\":\"x\",\"hovertemplate\":\"race/ethnicity=group E<br>parental level of education=%{x}<br>count=%{y}<extra></extra>\",\"legendgroup\":\"group E\",\"marker\":{\"color\":\"#FFA15A\",\"pattern\":{\"shape\":\"\"}},\"name\":\"group E\",\"offsetgroup\":\"group E\",\"orientation\":\"v\",\"showlegend\":true,\"x\":[\"master's degree\",\"some college\",\"associate's degree\",\"associate's degree\",\"some college\",\"associate's degree\",\"associate's degree\",\"bachelor's degree\",\"some high school\",\"master's degree\",\"associate's degree\",\"some college\",\"associate's degree\",\"bachelor's degree\",\"some college\",\"some college\",\"high school\",\"some college\",\"associate's degree\",\"high school\",\"some college\",\"master's degree\",\"some high school\",\"high school\",\"high school\",\"associate's degree\",\"high school\",\"bachelor's degree\",\"high school\",\"high school\",\"associate's degree\",\"master's degree\",\"some high school\",\"bachelor's degree\",\"some college\",\"associate's degree\",\"some college\",\"high school\",\"some college\",\"high school\",\"associate's degree\",\"some high school\",\"bachelor's degree\",\"associate's degree\",\"some college\",\"high school\",\"associate's degree\",\"associate's degree\",\"some college\",\"some college\",\"associate's degree\",\"some high school\",\"some college\",\"bachelor's degree\",\"some high school\",\"some college\",\"some college\",\"high school\",\"high school\",\"some college\",\"bachelor's degree\",\"some college\",\"bachelor's degree\",\"associate's degree\",\"some college\",\"associate's degree\",\"some college\",\"some college\",\"associate's degree\",\"associate's degree\",\"bachelor's degree\",\"some high school\",\"associate's degree\",\"bachelor's degree\",\"high school\",\"some high school\",\"bachelor's degree\",\"high school\",\"some college\",\"some college\",\"bachelor's degree\",\"bachelor's degree\",\"some college\",\"high school\",\"high school\",\"some college\",\"master's degree\",\"some college\",\"some college\",\"associate's degree\",\"bachelor's degree\",\"some high school\",\"associate's degree\",\"some college\",\"associate's degree\",\"some high school\",\"some college\",\"some college\",\"associate's degree\",\"bachelor's degree\",\"associate's degree\",\"some high school\",\"some high school\",\"associate's degree\",\"associate's degree\",\"some college\",\"associate's degree\",\"high school\",\"some high school\",\"some college\",\"high school\",\"master's degree\",\"some college\",\"some high school\",\"master's degree\",\"associate's degree\",\"associate's degree\",\"bachelor's degree\",\"associate's degree\",\"associate's degree\",\"some college\",\"associate's degree\",\"associate's degree\",\"some high school\",\"bachelor's degree\",\"some college\",\"bachelor's degree\",\"some high school\",\"associate's degree\",\"associate's degree\",\"high school\",\"high school\",\"high school\",\"some high school\",\"associate's degree\",\"associate's degree\",\"associate's degree\",\"some high school\",\"high school\",\"master's degree\"],\"xaxis\":\"x\",\"yaxis\":\"y\",\"type\":\"histogram\"}],                        {\"template\":{\"data\":{\"bar\":[{\"error_x\":{\"color\":\"#2a3f5f\"},\"error_y\":{\"color\":\"#2a3f5f\"},\"marker\":{\"line\":{\"color\":\"#E5ECF6\",\"width\":0.5},\"pattern\":{\"fillmode\":\"overlay\",\"size\":10,\"solidity\":0.2}},\"type\":\"bar\"}],\"barpolar\":[{\"marker\":{\"line\":{\"color\":\"#E5ECF6\",\"width\":0.5},\"pattern\":{\"fillmode\":\"overlay\",\"size\":10,\"solidity\":0.2}},\"type\":\"barpolar\"}],\"carpet\":[{\"aaxis\":{\"endlinecolor\":\"#2a3f5f\",\"gridcolor\":\"white\",\"linecolor\":\"white\",\"minorgridcolor\":\"white\",\"startlinecolor\":\"#2a3f5f\"},\"baxis\":{\"endlinecolor\":\"#2a3f5f\",\"gridcolor\":\"white\",\"linecolor\":\"white\",\"minorgridcolor\":\"white\",\"startlinecolor\":\"#2a3f5f\"},\"type\":\"carpet\"}],\"choropleth\":[{\"colorbar\":{\"outlinewidth\":0,\"ticks\":\"\"},\"type\":\"choropleth\"}],\"contour\":[{\"colorbar\":{\"outlinewidth\":0,\"ticks\":\"\"},\"colorscale\":[[0.0,\"#0d0887\"],[0.1111111111111111,\"#46039f\"],[0.2222222222222222,\"#7201a8\"],[0.3333333333333333,\"#9c179e\"],[0.4444444444444444,\"#bd3786\"],[0.5555555555555556,\"#d8576b\"],[0.6666666666666666,\"#ed7953\"],[0.7777777777777778,\"#fb9f3a\"],[0.8888888888888888,\"#fdca26\"],[1.0,\"#f0f921\"]],\"type\":\"contour\"}],\"contourcarpet\":[{\"colorbar\":{\"outlinewidth\":0,\"ticks\":\"\"},\"type\":\"contourcarpet\"}],\"heatmap\":[{\"colorbar\":{\"outlinewidth\":0,\"ticks\":\"\"},\"colorscale\":[[0.0,\"#0d0887\"],[0.1111111111111111,\"#46039f\"],[0.2222222222222222,\"#7201a8\"],[0.3333333333333333,\"#9c179e\"],[0.4444444444444444,\"#bd3786\"],[0.5555555555555556,\"#d8576b\"],[0.6666666666666666,\"#ed7953\"],[0.7777777777777778,\"#fb9f3a\"],[0.8888888888888888,\"#fdca26\"],[1.0,\"#f0f921\"]],\"type\":\"heatmap\"}],\"heatmapgl\":[{\"colorbar\":{\"outlinewidth\":0,\"ticks\":\"\"},\"colorscale\":[[0.0,\"#0d0887\"],[0.1111111111111111,\"#46039f\"],[0.2222222222222222,\"#7201a8\"],[0.3333333333333333,\"#9c179e\"],[0.4444444444444444,\"#bd3786\"],[0.5555555555555556,\"#d8576b\"],[0.6666666666666666,\"#ed7953\"],[0.7777777777777778,\"#fb9f3a\"],[0.8888888888888888,\"#fdca26\"],[1.0,\"#f0f921\"]],\"type\":\"heatmapgl\"}],\"histogram\":[{\"marker\":{\"pattern\":{\"fillmode\":\"overlay\",\"size\":10,\"solidity\":0.2}},\"type\":\"histogram\"}],\"histogram2d\":[{\"colorbar\":{\"outlinewidth\":0,\"ticks\":\"\"},\"colorscale\":[[0.0,\"#0d0887\"],[0.1111111111111111,\"#46039f\"],[0.2222222222222222,\"#7201a8\"],[0.3333333333333333,\"#9c179e\"],[0.4444444444444444,\"#bd3786\"],[0.5555555555555556,\"#d8576b\"],[0.6666666666666666,\"#ed7953\"],[0.7777777777777778,\"#fb9f3a\"],[0.8888888888888888,\"#fdca26\"],[1.0,\"#f0f921\"]],\"type\":\"histogram2d\"}],\"histogram2dcontour\":[{\"colorbar\":{\"outlinewidth\":0,\"ticks\":\"\"},\"colorscale\":[[0.0,\"#0d0887\"],[0.1111111111111111,\"#46039f\"],[0.2222222222222222,\"#7201a8\"],[0.3333333333333333,\"#9c179e\"],[0.4444444444444444,\"#bd3786\"],[0.5555555555555556,\"#d8576b\"],[0.6666666666666666,\"#ed7953\"],[0.7777777777777778,\"#fb9f3a\"],[0.8888888888888888,\"#fdca26\"],[1.0,\"#f0f921\"]],\"type\":\"histogram2dcontour\"}],\"mesh3d\":[{\"colorbar\":{\"outlinewidth\":0,\"ticks\":\"\"},\"type\":\"mesh3d\"}],\"parcoords\":[{\"line\":{\"colorbar\":{\"outlinewidth\":0,\"ticks\":\"\"}},\"type\":\"parcoords\"}],\"pie\":[{\"automargin\":true,\"type\":\"pie\"}],\"scatter\":[{\"marker\":{\"colorbar\":{\"outlinewidth\":0,\"ticks\":\"\"}},\"type\":\"scatter\"}],\"scatter3d\":[{\"line\":{\"colorbar\":{\"outlinewidth\":0,\"ticks\":\"\"}},\"marker\":{\"colorbar\":{\"outlinewidth\":0,\"ticks\":\"\"}},\"type\":\"scatter3d\"}],\"scattercarpet\":[{\"marker\":{\"colorbar\":{\"outlinewidth\":0,\"ticks\":\"\"}},\"type\":\"scattercarpet\"}],\"scattergeo\":[{\"marker\":{\"colorbar\":{\"outlinewidth\":0,\"ticks\":\"\"}},\"type\":\"scattergeo\"}],\"scattergl\":[{\"marker\":{\"colorbar\":{\"outlinewidth\":0,\"ticks\":\"\"}},\"type\":\"scattergl\"}],\"scattermapbox\":[{\"marker\":{\"colorbar\":{\"outlinewidth\":0,\"ticks\":\"\"}},\"type\":\"scattermapbox\"}],\"scatterpolar\":[{\"marker\":{\"colorbar\":{\"outlinewidth\":0,\"ticks\":\"\"}},\"type\":\"scatterpolar\"}],\"scatterpolargl\":[{\"marker\":{\"colorbar\":{\"outlinewidth\":0,\"ticks\":\"\"}},\"type\":\"scatterpolargl\"}],\"scatterternary\":[{\"marker\":{\"colorbar\":{\"outlinewidth\":0,\"ticks\":\"\"}},\"type\":\"scatterternary\"}],\"surface\":[{\"colorbar\":{\"outlinewidth\":0,\"ticks\":\"\"},\"colorscale\":[[0.0,\"#0d0887\"],[0.1111111111111111,\"#46039f\"],[0.2222222222222222,\"#7201a8\"],[0.3333333333333333,\"#9c179e\"],[0.4444444444444444,\"#bd3786\"],[0.5555555555555556,\"#d8576b\"],[0.6666666666666666,\"#ed7953\"],[0.7777777777777778,\"#fb9f3a\"],[0.8888888888888888,\"#fdca26\"],[1.0,\"#f0f921\"]],\"type\":\"surface\"}],\"table\":[{\"cells\":{\"fill\":{\"color\":\"#EBF0F8\"},\"line\":{\"color\":\"white\"}},\"header\":{\"fill\":{\"color\":\"#C8D4E3\"},\"line\":{\"color\":\"white\"}},\"type\":\"table\"}]},\"layout\":{\"annotationdefaults\":{\"arrowcolor\":\"#2a3f5f\",\"arrowhead\":0,\"arrowwidth\":1},\"autotypenumbers\":\"strict\",\"coloraxis\":{\"colorbar\":{\"outlinewidth\":0,\"ticks\":\"\"}},\"colorscale\":{\"diverging\":[[0,\"#8e0152\"],[0.1,\"#c51b7d\"],[0.2,\"#de77ae\"],[0.3,\"#f1b6da\"],[0.4,\"#fde0ef\"],[0.5,\"#f7f7f7\"],[0.6,\"#e6f5d0\"],[0.7,\"#b8e186\"],[0.8,\"#7fbc41\"],[0.9,\"#4d9221\"],[1,\"#276419\"]],\"sequential\":[[0.0,\"#0d0887\"],[0.1111111111111111,\"#46039f\"],[0.2222222222222222,\"#7201a8\"],[0.3333333333333333,\"#9c179e\"],[0.4444444444444444,\"#bd3786\"],[0.5555555555555556,\"#d8576b\"],[0.6666666666666666,\"#ed7953\"],[0.7777777777777778,\"#fb9f3a\"],[0.8888888888888888,\"#fdca26\"],[1.0,\"#f0f921\"]],\"sequentialminus\":[[0.0,\"#0d0887\"],[0.1111111111111111,\"#46039f\"],[0.2222222222222222,\"#7201a8\"],[0.3333333333333333,\"#9c179e\"],[0.4444444444444444,\"#bd3786\"],[0.5555555555555556,\"#d8576b\"],[0.6666666666666666,\"#ed7953\"],[0.7777777777777778,\"#fb9f3a\"],[0.8888888888888888,\"#fdca26\"],[1.0,\"#f0f921\"]]},\"colorway\":[\"#636efa\",\"#EF553B\",\"#00cc96\",\"#ab63fa\",\"#FFA15A\",\"#19d3f3\",\"#FF6692\",\"#B6E880\",\"#FF97FF\",\"#FECB52\"],\"font\":{\"color\":\"#2a3f5f\"},\"geo\":{\"bgcolor\":\"white\",\"lakecolor\":\"white\",\"landcolor\":\"#E5ECF6\",\"showlakes\":true,\"showland\":true,\"subunitcolor\":\"white\"},\"hoverlabel\":{\"align\":\"left\"},\"hovermode\":\"closest\",\"mapbox\":{\"style\":\"light\"},\"paper_bgcolor\":\"white\",\"plot_bgcolor\":\"#E5ECF6\",\"polar\":{\"angularaxis\":{\"gridcolor\":\"white\",\"linecolor\":\"white\",\"ticks\":\"\"},\"bgcolor\":\"#E5ECF6\",\"radialaxis\":{\"gridcolor\":\"white\",\"linecolor\":\"white\",\"ticks\":\"\"}},\"scene\":{\"xaxis\":{\"backgroundcolor\":\"#E5ECF6\",\"gridcolor\":\"white\",\"gridwidth\":2,\"linecolor\":\"white\",\"showbackground\":true,\"ticks\":\"\",\"zerolinecolor\":\"white\"},\"yaxis\":{\"backgroundcolor\":\"#E5ECF6\",\"gridcolor\":\"white\",\"gridwidth\":2,\"linecolor\":\"white\",\"showbackground\":true,\"ticks\":\"\",\"zerolinecolor\":\"white\"},\"zaxis\":{\"backgroundcolor\":\"#E5ECF6\",\"gridcolor\":\"white\",\"gridwidth\":2,\"linecolor\":\"white\",\"showbackground\":true,\"ticks\":\"\",\"zerolinecolor\":\"white\"}},\"shapedefaults\":{\"line\":{\"color\":\"#2a3f5f\"}},\"ternary\":{\"aaxis\":{\"gridcolor\":\"white\",\"linecolor\":\"white\",\"ticks\":\"\"},\"baxis\":{\"gridcolor\":\"white\",\"linecolor\":\"white\",\"ticks\":\"\"},\"bgcolor\":\"#E5ECF6\",\"caxis\":{\"gridcolor\":\"white\",\"linecolor\":\"white\",\"ticks\":\"\"}},\"title\":{\"x\":0.05},\"xaxis\":{\"automargin\":true,\"gridcolor\":\"white\",\"linecolor\":\"white\",\"ticks\":\"\",\"title\":{\"standoff\":15},\"zerolinecolor\":\"white\",\"zerolinewidth\":2},\"yaxis\":{\"automargin\":true,\"gridcolor\":\"white\",\"linecolor\":\"white\",\"ticks\":\"\",\"title\":{\"standoff\":15},\"zerolinecolor\":\"white\",\"zerolinewidth\":2}}},\"xaxis\":{\"anchor\":\"y\",\"domain\":[0.0,1.0],\"title\":{\"text\":\"parental level of education\"}},\"yaxis\":{\"anchor\":\"x\",\"domain\":[0.0,1.0],\"title\":{\"text\":\"count\"}},\"legend\":{\"title\":{\"text\":\"race/ethnicity\"},\"tracegroupgap\":0},\"margin\":{\"t\":60},\"barmode\":\"relative\"},                        {\"responsive\": true}                    ).then(function(){\n",
       "                            \n",
       "var gd = document.getElementById('d6777081-9e70-4902-b629-289e65b7e115');\n",
       "var x = new MutationObserver(function (mutations, observer) {{\n",
       "        var display = window.getComputedStyle(gd).display;\n",
       "        if (!display || display === 'none') {{\n",
       "            console.log([gd, 'removed!']);\n",
       "            Plotly.purge(gd);\n",
       "            observer.disconnect();\n",
       "        }}\n",
       "}});\n",
       "\n",
       "// Listen for the removal of the full notebook cells\n",
       "var notebookContainer = gd.closest('#notebook-container');\n",
       "if (notebookContainer) {{\n",
       "    x.observe(notebookContainer, {childList: true});\n",
       "}}\n",
       "\n",
       "// Listen for the clearing of the current output cell\n",
       "var outputEl = gd.closest('.output');\n",
       "if (outputEl) {{\n",
       "    x.observe(outputEl, {childList: true});\n",
       "}}\n",
       "\n",
       "                        })                };                });            </script>        </div>"
      ]
     },
     "metadata": {},
     "output_type": "display_data"
    }
   ],
   "source": [
    "px.histogram(dataset, x=\"parental level of education\", color=\"race/ethnicity\")"
   ]
  },
  {
   "cell_type": "code",
   "execution_count": 30,
   "id": "06e7ff62",
   "metadata": {},
   "outputs": [
    {
     "data": {
      "application/vnd.plotly.v1+json": {
       "config": {
        "plotlyServerURL": "https://plot.ly"
       },
       "data": [
        {
         "alignmentgroup": "True",
         "bingroup": "x",
         "hovertemplate": "race/ethnicity=%{x}<br>count=%{y}<extra></extra>",
         "legendgroup": "group B",
         "marker": {
          "color": "#636efa",
          "pattern": {
           "shape": ""
          }
         },
         "name": "group B",
         "offsetgroup": "group B",
         "orientation": "v",
         "showlegend": true,
         "type": "histogram",
         "x": [
          "group B",
          "group B",
          "group B",
          "group B",
          "group B",
          "group B",
          "group B",
          "group B",
          "group B",
          "group B",
          "group B",
          "group B",
          "group B",
          "group B",
          "group B",
          "group B",
          "group B",
          "group B",
          "group B",
          "group B",
          "group B",
          "group B",
          "group B",
          "group B",
          "group B",
          "group B",
          "group B",
          "group B",
          "group B",
          "group B",
          "group B",
          "group B",
          "group B",
          "group B",
          "group B",
          "group B",
          "group B",
          "group B",
          "group B",
          "group B",
          "group B",
          "group B",
          "group B",
          "group B",
          "group B",
          "group B",
          "group B",
          "group B",
          "group B",
          "group B",
          "group B",
          "group B",
          "group B",
          "group B",
          "group B",
          "group B",
          "group B",
          "group B",
          "group B",
          "group B",
          "group B",
          "group B",
          "group B",
          "group B",
          "group B",
          "group B",
          "group B",
          "group B",
          "group B",
          "group B",
          "group B",
          "group B",
          "group B",
          "group B",
          "group B",
          "group B",
          "group B",
          "group B",
          "group B",
          "group B",
          "group B",
          "group B",
          "group B",
          "group B",
          "group B",
          "group B",
          "group B",
          "group B",
          "group B",
          "group B",
          "group B",
          "group B",
          "group B",
          "group B",
          "group B",
          "group B",
          "group B",
          "group B",
          "group B",
          "group B",
          "group B",
          "group B",
          "group B",
          "group B",
          "group B",
          "group B",
          "group B",
          "group B",
          "group B",
          "group B",
          "group B",
          "group B",
          "group B",
          "group B",
          "group B",
          "group B",
          "group B",
          "group B",
          "group B",
          "group B",
          "group B",
          "group B",
          "group B",
          "group B",
          "group B",
          "group B",
          "group B",
          "group B",
          "group B",
          "group B",
          "group B",
          "group B",
          "group B",
          "group B",
          "group B",
          "group B",
          "group B",
          "group B",
          "group B",
          "group B",
          "group B",
          "group B",
          "group B",
          "group B",
          "group B",
          "group B",
          "group B",
          "group B",
          "group B",
          "group B",
          "group B",
          "group B",
          "group B",
          "group B",
          "group B",
          "group B",
          "group B",
          "group B",
          "group B",
          "group B",
          "group B",
          "group B",
          "group B",
          "group B",
          "group B",
          "group B",
          "group B",
          "group B",
          "group B",
          "group B",
          "group B",
          "group B",
          "group B",
          "group B",
          "group B",
          "group B",
          "group B",
          "group B",
          "group B",
          "group B",
          "group B",
          "group B",
          "group B",
          "group B",
          "group B",
          "group B",
          "group B",
          "group B",
          "group B",
          "group B"
         ],
         "xaxis": "x",
         "yaxis": "y"
        },
        {
         "alignmentgroup": "True",
         "bingroup": "x",
         "hovertemplate": "race/ethnicity=%{x}<br>count=%{y}<extra></extra>",
         "legendgroup": "group C",
         "marker": {
          "color": "#EF553B",
          "pattern": {
           "shape": ""
          }
         },
         "name": "group C",
         "offsetgroup": "group C",
         "orientation": "v",
         "showlegend": true,
         "type": "histogram",
         "x": [
          "group C",
          "group C",
          "group C",
          "group C",
          "group C",
          "group C",
          "group C",
          "group C",
          "group C",
          "group C",
          "group C",
          "group C",
          "group C",
          "group C",
          "group C",
          "group C",
          "group C",
          "group C",
          "group C",
          "group C",
          "group C",
          "group C",
          "group C",
          "group C",
          "group C",
          "group C",
          "group C",
          "group C",
          "group C",
          "group C",
          "group C",
          "group C",
          "group C",
          "group C",
          "group C",
          "group C",
          "group C",
          "group C",
          "group C",
          "group C",
          "group C",
          "group C",
          "group C",
          "group C",
          "group C",
          "group C",
          "group C",
          "group C",
          "group C",
          "group C",
          "group C",
          "group C",
          "group C",
          "group C",
          "group C",
          "group C",
          "group C",
          "group C",
          "group C",
          "group C",
          "group C",
          "group C",
          "group C",
          "group C",
          "group C",
          "group C",
          "group C",
          "group C",
          "group C",
          "group C",
          "group C",
          "group C",
          "group C",
          "group C",
          "group C",
          "group C",
          "group C",
          "group C",
          "group C",
          "group C",
          "group C",
          "group C",
          "group C",
          "group C",
          "group C",
          "group C",
          "group C",
          "group C",
          "group C",
          "group C",
          "group C",
          "group C",
          "group C",
          "group C",
          "group C",
          "group C",
          "group C",
          "group C",
          "group C",
          "group C",
          "group C",
          "group C",
          "group C",
          "group C",
          "group C",
          "group C",
          "group C",
          "group C",
          "group C",
          "group C",
          "group C",
          "group C",
          "group C",
          "group C",
          "group C",
          "group C",
          "group C",
          "group C",
          "group C",
          "group C",
          "group C",
          "group C",
          "group C",
          "group C",
          "group C",
          "group C",
          "group C",
          "group C",
          "group C",
          "group C",
          "group C",
          "group C",
          "group C",
          "group C",
          "group C",
          "group C",
          "group C",
          "group C",
          "group C",
          "group C",
          "group C",
          "group C",
          "group C",
          "group C",
          "group C",
          "group C",
          "group C",
          "group C",
          "group C",
          "group C",
          "group C",
          "group C",
          "group C",
          "group C",
          "group C",
          "group C",
          "group C",
          "group C",
          "group C",
          "group C",
          "group C",
          "group C",
          "group C",
          "group C",
          "group C",
          "group C",
          "group C",
          "group C",
          "group C",
          "group C",
          "group C",
          "group C",
          "group C",
          "group C",
          "group C",
          "group C",
          "group C",
          "group C",
          "group C",
          "group C",
          "group C",
          "group C",
          "group C",
          "group C",
          "group C",
          "group C",
          "group C",
          "group C",
          "group C",
          "group C",
          "group C",
          "group C",
          "group C",
          "group C",
          "group C",
          "group C",
          "group C",
          "group C",
          "group C",
          "group C",
          "group C",
          "group C",
          "group C",
          "group C",
          "group C",
          "group C",
          "group C",
          "group C",
          "group C",
          "group C",
          "group C",
          "group C",
          "group C",
          "group C",
          "group C",
          "group C",
          "group C",
          "group C",
          "group C",
          "group C",
          "group C",
          "group C",
          "group C",
          "group C",
          "group C",
          "group C",
          "group C",
          "group C",
          "group C",
          "group C",
          "group C",
          "group C",
          "group C",
          "group C",
          "group C",
          "group C",
          "group C",
          "group C",
          "group C",
          "group C",
          "group C",
          "group C",
          "group C",
          "group C",
          "group C",
          "group C",
          "group C",
          "group C",
          "group C",
          "group C",
          "group C",
          "group C",
          "group C",
          "group C",
          "group C",
          "group C",
          "group C",
          "group C",
          "group C",
          "group C",
          "group C",
          "group C",
          "group C",
          "group C",
          "group C",
          "group C",
          "group C",
          "group C",
          "group C",
          "group C",
          "group C",
          "group C",
          "group C",
          "group C",
          "group C",
          "group C",
          "group C",
          "group C",
          "group C",
          "group C",
          "group C",
          "group C",
          "group C",
          "group C",
          "group C",
          "group C",
          "group C",
          "group C",
          "group C",
          "group C",
          "group C",
          "group C",
          "group C",
          "group C",
          "group C",
          "group C",
          "group C",
          "group C",
          "group C",
          "group C",
          "group C",
          "group C",
          "group C",
          "group C",
          "group C",
          "group C",
          "group C",
          "group C",
          "group C",
          "group C",
          "group C",
          "group C",
          "group C",
          "group C",
          "group C",
          "group C",
          "group C",
          "group C",
          "group C"
         ],
         "xaxis": "x",
         "yaxis": "y"
        },
        {
         "alignmentgroup": "True",
         "bingroup": "x",
         "hovertemplate": "race/ethnicity=%{x}<br>count=%{y}<extra></extra>",
         "legendgroup": "group A",
         "marker": {
          "color": "#00cc96",
          "pattern": {
           "shape": ""
          }
         },
         "name": "group A",
         "offsetgroup": "group A",
         "orientation": "v",
         "showlegend": true,
         "type": "histogram",
         "x": [
          "group A",
          "group A",
          "group A",
          "group A",
          "group A",
          "group A",
          "group A",
          "group A",
          "group A",
          "group A",
          "group A",
          "group A",
          "group A",
          "group A",
          "group A",
          "group A",
          "group A",
          "group A",
          "group A",
          "group A",
          "group A",
          "group A",
          "group A",
          "group A",
          "group A",
          "group A",
          "group A",
          "group A",
          "group A",
          "group A",
          "group A",
          "group A",
          "group A",
          "group A",
          "group A",
          "group A",
          "group A",
          "group A",
          "group A",
          "group A",
          "group A",
          "group A",
          "group A",
          "group A",
          "group A",
          "group A",
          "group A",
          "group A",
          "group A",
          "group A",
          "group A",
          "group A",
          "group A",
          "group A",
          "group A",
          "group A",
          "group A",
          "group A",
          "group A",
          "group A",
          "group A",
          "group A",
          "group A",
          "group A",
          "group A",
          "group A",
          "group A",
          "group A",
          "group A",
          "group A",
          "group A",
          "group A",
          "group A",
          "group A",
          "group A",
          "group A",
          "group A",
          "group A",
          "group A",
          "group A",
          "group A",
          "group A",
          "group A",
          "group A",
          "group A",
          "group A",
          "group A",
          "group A",
          "group A"
         ],
         "xaxis": "x",
         "yaxis": "y"
        },
        {
         "alignmentgroup": "True",
         "bingroup": "x",
         "hovertemplate": "race/ethnicity=%{x}<br>count=%{y}<extra></extra>",
         "legendgroup": "group D",
         "marker": {
          "color": "#ab63fa",
          "pattern": {
           "shape": ""
          }
         },
         "name": "group D",
         "offsetgroup": "group D",
         "orientation": "v",
         "showlegend": true,
         "type": "histogram",
         "x": [
          "group D",
          "group D",
          "group D",
          "group D",
          "group D",
          "group D",
          "group D",
          "group D",
          "group D",
          "group D",
          "group D",
          "group D",
          "group D",
          "group D",
          "group D",
          "group D",
          "group D",
          "group D",
          "group D",
          "group D",
          "group D",
          "group D",
          "group D",
          "group D",
          "group D",
          "group D",
          "group D",
          "group D",
          "group D",
          "group D",
          "group D",
          "group D",
          "group D",
          "group D",
          "group D",
          "group D",
          "group D",
          "group D",
          "group D",
          "group D",
          "group D",
          "group D",
          "group D",
          "group D",
          "group D",
          "group D",
          "group D",
          "group D",
          "group D",
          "group D",
          "group D",
          "group D",
          "group D",
          "group D",
          "group D",
          "group D",
          "group D",
          "group D",
          "group D",
          "group D",
          "group D",
          "group D",
          "group D",
          "group D",
          "group D",
          "group D",
          "group D",
          "group D",
          "group D",
          "group D",
          "group D",
          "group D",
          "group D",
          "group D",
          "group D",
          "group D",
          "group D",
          "group D",
          "group D",
          "group D",
          "group D",
          "group D",
          "group D",
          "group D",
          "group D",
          "group D",
          "group D",
          "group D",
          "group D",
          "group D",
          "group D",
          "group D",
          "group D",
          "group D",
          "group D",
          "group D",
          "group D",
          "group D",
          "group D",
          "group D",
          "group D",
          "group D",
          "group D",
          "group D",
          "group D",
          "group D",
          "group D",
          "group D",
          "group D",
          "group D",
          "group D",
          "group D",
          "group D",
          "group D",
          "group D",
          "group D",
          "group D",
          "group D",
          "group D",
          "group D",
          "group D",
          "group D",
          "group D",
          "group D",
          "group D",
          "group D",
          "group D",
          "group D",
          "group D",
          "group D",
          "group D",
          "group D",
          "group D",
          "group D",
          "group D",
          "group D",
          "group D",
          "group D",
          "group D",
          "group D",
          "group D",
          "group D",
          "group D",
          "group D",
          "group D",
          "group D",
          "group D",
          "group D",
          "group D",
          "group D",
          "group D",
          "group D",
          "group D",
          "group D",
          "group D",
          "group D",
          "group D",
          "group D",
          "group D",
          "group D",
          "group D",
          "group D",
          "group D",
          "group D",
          "group D",
          "group D",
          "group D",
          "group D",
          "group D",
          "group D",
          "group D",
          "group D",
          "group D",
          "group D",
          "group D",
          "group D",
          "group D",
          "group D",
          "group D",
          "group D",
          "group D",
          "group D",
          "group D",
          "group D",
          "group D",
          "group D",
          "group D",
          "group D",
          "group D",
          "group D",
          "group D",
          "group D",
          "group D",
          "group D",
          "group D",
          "group D",
          "group D",
          "group D",
          "group D",
          "group D",
          "group D",
          "group D",
          "group D",
          "group D",
          "group D",
          "group D",
          "group D",
          "group D",
          "group D",
          "group D",
          "group D",
          "group D",
          "group D",
          "group D",
          "group D",
          "group D",
          "group D",
          "group D",
          "group D",
          "group D",
          "group D",
          "group D",
          "group D",
          "group D",
          "group D",
          "group D",
          "group D",
          "group D",
          "group D",
          "group D",
          "group D",
          "group D",
          "group D",
          "group D",
          "group D",
          "group D",
          "group D",
          "group D",
          "group D",
          "group D",
          "group D",
          "group D",
          "group D",
          "group D",
          "group D",
          "group D",
          "group D",
          "group D",
          "group D",
          "group D",
          "group D",
          "group D",
          "group D",
          "group D",
          "group D",
          "group D",
          "group D",
          "group D",
          "group D",
          "group D",
          "group D",
          "group D"
         ],
         "xaxis": "x",
         "yaxis": "y"
        },
        {
         "alignmentgroup": "True",
         "bingroup": "x",
         "hovertemplate": "race/ethnicity=%{x}<br>count=%{y}<extra></extra>",
         "legendgroup": "group E",
         "marker": {
          "color": "#FFA15A",
          "pattern": {
           "shape": ""
          }
         },
         "name": "group E",
         "offsetgroup": "group E",
         "orientation": "v",
         "showlegend": true,
         "type": "histogram",
         "x": [
          "group E",
          "group E",
          "group E",
          "group E",
          "group E",
          "group E",
          "group E",
          "group E",
          "group E",
          "group E",
          "group E",
          "group E",
          "group E",
          "group E",
          "group E",
          "group E",
          "group E",
          "group E",
          "group E",
          "group E",
          "group E",
          "group E",
          "group E",
          "group E",
          "group E",
          "group E",
          "group E",
          "group E",
          "group E",
          "group E",
          "group E",
          "group E",
          "group E",
          "group E",
          "group E",
          "group E",
          "group E",
          "group E",
          "group E",
          "group E",
          "group E",
          "group E",
          "group E",
          "group E",
          "group E",
          "group E",
          "group E",
          "group E",
          "group E",
          "group E",
          "group E",
          "group E",
          "group E",
          "group E",
          "group E",
          "group E",
          "group E",
          "group E",
          "group E",
          "group E",
          "group E",
          "group E",
          "group E",
          "group E",
          "group E",
          "group E",
          "group E",
          "group E",
          "group E",
          "group E",
          "group E",
          "group E",
          "group E",
          "group E",
          "group E",
          "group E",
          "group E",
          "group E",
          "group E",
          "group E",
          "group E",
          "group E",
          "group E",
          "group E",
          "group E",
          "group E",
          "group E",
          "group E",
          "group E",
          "group E",
          "group E",
          "group E",
          "group E",
          "group E",
          "group E",
          "group E",
          "group E",
          "group E",
          "group E",
          "group E",
          "group E",
          "group E",
          "group E",
          "group E",
          "group E",
          "group E",
          "group E",
          "group E",
          "group E",
          "group E",
          "group E",
          "group E",
          "group E",
          "group E",
          "group E",
          "group E",
          "group E",
          "group E",
          "group E",
          "group E",
          "group E",
          "group E",
          "group E",
          "group E",
          "group E",
          "group E",
          "group E",
          "group E",
          "group E",
          "group E",
          "group E",
          "group E",
          "group E",
          "group E",
          "group E",
          "group E",
          "group E",
          "group E",
          "group E",
          "group E"
         ],
         "xaxis": "x",
         "yaxis": "y"
        }
       ],
       "layout": {
        "barmode": "relative",
        "legend": {
         "title": {
          "text": "race/ethnicity"
         },
         "tracegroupgap": 0
        },
        "margin": {
         "t": 60
        },
        "template": {
         "data": {
          "bar": [
           {
            "error_x": {
             "color": "#2a3f5f"
            },
            "error_y": {
             "color": "#2a3f5f"
            },
            "marker": {
             "line": {
              "color": "#E5ECF6",
              "width": 0.5
             },
             "pattern": {
              "fillmode": "overlay",
              "size": 10,
              "solidity": 0.2
             }
            },
            "type": "bar"
           }
          ],
          "barpolar": [
           {
            "marker": {
             "line": {
              "color": "#E5ECF6",
              "width": 0.5
             },
             "pattern": {
              "fillmode": "overlay",
              "size": 10,
              "solidity": 0.2
             }
            },
            "type": "barpolar"
           }
          ],
          "carpet": [
           {
            "aaxis": {
             "endlinecolor": "#2a3f5f",
             "gridcolor": "white",
             "linecolor": "white",
             "minorgridcolor": "white",
             "startlinecolor": "#2a3f5f"
            },
            "baxis": {
             "endlinecolor": "#2a3f5f",
             "gridcolor": "white",
             "linecolor": "white",
             "minorgridcolor": "white",
             "startlinecolor": "#2a3f5f"
            },
            "type": "carpet"
           }
          ],
          "choropleth": [
           {
            "colorbar": {
             "outlinewidth": 0,
             "ticks": ""
            },
            "type": "choropleth"
           }
          ],
          "contour": [
           {
            "colorbar": {
             "outlinewidth": 0,
             "ticks": ""
            },
            "colorscale": [
             [
              0,
              "#0d0887"
             ],
             [
              0.1111111111111111,
              "#46039f"
             ],
             [
              0.2222222222222222,
              "#7201a8"
             ],
             [
              0.3333333333333333,
              "#9c179e"
             ],
             [
              0.4444444444444444,
              "#bd3786"
             ],
             [
              0.5555555555555556,
              "#d8576b"
             ],
             [
              0.6666666666666666,
              "#ed7953"
             ],
             [
              0.7777777777777778,
              "#fb9f3a"
             ],
             [
              0.8888888888888888,
              "#fdca26"
             ],
             [
              1,
              "#f0f921"
             ]
            ],
            "type": "contour"
           }
          ],
          "contourcarpet": [
           {
            "colorbar": {
             "outlinewidth": 0,
             "ticks": ""
            },
            "type": "contourcarpet"
           }
          ],
          "heatmap": [
           {
            "colorbar": {
             "outlinewidth": 0,
             "ticks": ""
            },
            "colorscale": [
             [
              0,
              "#0d0887"
             ],
             [
              0.1111111111111111,
              "#46039f"
             ],
             [
              0.2222222222222222,
              "#7201a8"
             ],
             [
              0.3333333333333333,
              "#9c179e"
             ],
             [
              0.4444444444444444,
              "#bd3786"
             ],
             [
              0.5555555555555556,
              "#d8576b"
             ],
             [
              0.6666666666666666,
              "#ed7953"
             ],
             [
              0.7777777777777778,
              "#fb9f3a"
             ],
             [
              0.8888888888888888,
              "#fdca26"
             ],
             [
              1,
              "#f0f921"
             ]
            ],
            "type": "heatmap"
           }
          ],
          "heatmapgl": [
           {
            "colorbar": {
             "outlinewidth": 0,
             "ticks": ""
            },
            "colorscale": [
             [
              0,
              "#0d0887"
             ],
             [
              0.1111111111111111,
              "#46039f"
             ],
             [
              0.2222222222222222,
              "#7201a8"
             ],
             [
              0.3333333333333333,
              "#9c179e"
             ],
             [
              0.4444444444444444,
              "#bd3786"
             ],
             [
              0.5555555555555556,
              "#d8576b"
             ],
             [
              0.6666666666666666,
              "#ed7953"
             ],
             [
              0.7777777777777778,
              "#fb9f3a"
             ],
             [
              0.8888888888888888,
              "#fdca26"
             ],
             [
              1,
              "#f0f921"
             ]
            ],
            "type": "heatmapgl"
           }
          ],
          "histogram": [
           {
            "marker": {
             "pattern": {
              "fillmode": "overlay",
              "size": 10,
              "solidity": 0.2
             }
            },
            "type": "histogram"
           }
          ],
          "histogram2d": [
           {
            "colorbar": {
             "outlinewidth": 0,
             "ticks": ""
            },
            "colorscale": [
             [
              0,
              "#0d0887"
             ],
             [
              0.1111111111111111,
              "#46039f"
             ],
             [
              0.2222222222222222,
              "#7201a8"
             ],
             [
              0.3333333333333333,
              "#9c179e"
             ],
             [
              0.4444444444444444,
              "#bd3786"
             ],
             [
              0.5555555555555556,
              "#d8576b"
             ],
             [
              0.6666666666666666,
              "#ed7953"
             ],
             [
              0.7777777777777778,
              "#fb9f3a"
             ],
             [
              0.8888888888888888,
              "#fdca26"
             ],
             [
              1,
              "#f0f921"
             ]
            ],
            "type": "histogram2d"
           }
          ],
          "histogram2dcontour": [
           {
            "colorbar": {
             "outlinewidth": 0,
             "ticks": ""
            },
            "colorscale": [
             [
              0,
              "#0d0887"
             ],
             [
              0.1111111111111111,
              "#46039f"
             ],
             [
              0.2222222222222222,
              "#7201a8"
             ],
             [
              0.3333333333333333,
              "#9c179e"
             ],
             [
              0.4444444444444444,
              "#bd3786"
             ],
             [
              0.5555555555555556,
              "#d8576b"
             ],
             [
              0.6666666666666666,
              "#ed7953"
             ],
             [
              0.7777777777777778,
              "#fb9f3a"
             ],
             [
              0.8888888888888888,
              "#fdca26"
             ],
             [
              1,
              "#f0f921"
             ]
            ],
            "type": "histogram2dcontour"
           }
          ],
          "mesh3d": [
           {
            "colorbar": {
             "outlinewidth": 0,
             "ticks": ""
            },
            "type": "mesh3d"
           }
          ],
          "parcoords": [
           {
            "line": {
             "colorbar": {
              "outlinewidth": 0,
              "ticks": ""
             }
            },
            "type": "parcoords"
           }
          ],
          "pie": [
           {
            "automargin": true,
            "type": "pie"
           }
          ],
          "scatter": [
           {
            "marker": {
             "colorbar": {
              "outlinewidth": 0,
              "ticks": ""
             }
            },
            "type": "scatter"
           }
          ],
          "scatter3d": [
           {
            "line": {
             "colorbar": {
              "outlinewidth": 0,
              "ticks": ""
             }
            },
            "marker": {
             "colorbar": {
              "outlinewidth": 0,
              "ticks": ""
             }
            },
            "type": "scatter3d"
           }
          ],
          "scattercarpet": [
           {
            "marker": {
             "colorbar": {
              "outlinewidth": 0,
              "ticks": ""
             }
            },
            "type": "scattercarpet"
           }
          ],
          "scattergeo": [
           {
            "marker": {
             "colorbar": {
              "outlinewidth": 0,
              "ticks": ""
             }
            },
            "type": "scattergeo"
           }
          ],
          "scattergl": [
           {
            "marker": {
             "colorbar": {
              "outlinewidth": 0,
              "ticks": ""
             }
            },
            "type": "scattergl"
           }
          ],
          "scattermapbox": [
           {
            "marker": {
             "colorbar": {
              "outlinewidth": 0,
              "ticks": ""
             }
            },
            "type": "scattermapbox"
           }
          ],
          "scatterpolar": [
           {
            "marker": {
             "colorbar": {
              "outlinewidth": 0,
              "ticks": ""
             }
            },
            "type": "scatterpolar"
           }
          ],
          "scatterpolargl": [
           {
            "marker": {
             "colorbar": {
              "outlinewidth": 0,
              "ticks": ""
             }
            },
            "type": "scatterpolargl"
           }
          ],
          "scatterternary": [
           {
            "marker": {
             "colorbar": {
              "outlinewidth": 0,
              "ticks": ""
             }
            },
            "type": "scatterternary"
           }
          ],
          "surface": [
           {
            "colorbar": {
             "outlinewidth": 0,
             "ticks": ""
            },
            "colorscale": [
             [
              0,
              "#0d0887"
             ],
             [
              0.1111111111111111,
              "#46039f"
             ],
             [
              0.2222222222222222,
              "#7201a8"
             ],
             [
              0.3333333333333333,
              "#9c179e"
             ],
             [
              0.4444444444444444,
              "#bd3786"
             ],
             [
              0.5555555555555556,
              "#d8576b"
             ],
             [
              0.6666666666666666,
              "#ed7953"
             ],
             [
              0.7777777777777778,
              "#fb9f3a"
             ],
             [
              0.8888888888888888,
              "#fdca26"
             ],
             [
              1,
              "#f0f921"
             ]
            ],
            "type": "surface"
           }
          ],
          "table": [
           {
            "cells": {
             "fill": {
              "color": "#EBF0F8"
             },
             "line": {
              "color": "white"
             }
            },
            "header": {
             "fill": {
              "color": "#C8D4E3"
             },
             "line": {
              "color": "white"
             }
            },
            "type": "table"
           }
          ]
         },
         "layout": {
          "annotationdefaults": {
           "arrowcolor": "#2a3f5f",
           "arrowhead": 0,
           "arrowwidth": 1
          },
          "autotypenumbers": "strict",
          "coloraxis": {
           "colorbar": {
            "outlinewidth": 0,
            "ticks": ""
           }
          },
          "colorscale": {
           "diverging": [
            [
             0,
             "#8e0152"
            ],
            [
             0.1,
             "#c51b7d"
            ],
            [
             0.2,
             "#de77ae"
            ],
            [
             0.3,
             "#f1b6da"
            ],
            [
             0.4,
             "#fde0ef"
            ],
            [
             0.5,
             "#f7f7f7"
            ],
            [
             0.6,
             "#e6f5d0"
            ],
            [
             0.7,
             "#b8e186"
            ],
            [
             0.8,
             "#7fbc41"
            ],
            [
             0.9,
             "#4d9221"
            ],
            [
             1,
             "#276419"
            ]
           ],
           "sequential": [
            [
             0,
             "#0d0887"
            ],
            [
             0.1111111111111111,
             "#46039f"
            ],
            [
             0.2222222222222222,
             "#7201a8"
            ],
            [
             0.3333333333333333,
             "#9c179e"
            ],
            [
             0.4444444444444444,
             "#bd3786"
            ],
            [
             0.5555555555555556,
             "#d8576b"
            ],
            [
             0.6666666666666666,
             "#ed7953"
            ],
            [
             0.7777777777777778,
             "#fb9f3a"
            ],
            [
             0.8888888888888888,
             "#fdca26"
            ],
            [
             1,
             "#f0f921"
            ]
           ],
           "sequentialminus": [
            [
             0,
             "#0d0887"
            ],
            [
             0.1111111111111111,
             "#46039f"
            ],
            [
             0.2222222222222222,
             "#7201a8"
            ],
            [
             0.3333333333333333,
             "#9c179e"
            ],
            [
             0.4444444444444444,
             "#bd3786"
            ],
            [
             0.5555555555555556,
             "#d8576b"
            ],
            [
             0.6666666666666666,
             "#ed7953"
            ],
            [
             0.7777777777777778,
             "#fb9f3a"
            ],
            [
             0.8888888888888888,
             "#fdca26"
            ],
            [
             1,
             "#f0f921"
            ]
           ]
          },
          "colorway": [
           "#636efa",
           "#EF553B",
           "#00cc96",
           "#ab63fa",
           "#FFA15A",
           "#19d3f3",
           "#FF6692",
           "#B6E880",
           "#FF97FF",
           "#FECB52"
          ],
          "font": {
           "color": "#2a3f5f"
          },
          "geo": {
           "bgcolor": "white",
           "lakecolor": "white",
           "landcolor": "#E5ECF6",
           "showlakes": true,
           "showland": true,
           "subunitcolor": "white"
          },
          "hoverlabel": {
           "align": "left"
          },
          "hovermode": "closest",
          "mapbox": {
           "style": "light"
          },
          "paper_bgcolor": "white",
          "plot_bgcolor": "#E5ECF6",
          "polar": {
           "angularaxis": {
            "gridcolor": "white",
            "linecolor": "white",
            "ticks": ""
           },
           "bgcolor": "#E5ECF6",
           "radialaxis": {
            "gridcolor": "white",
            "linecolor": "white",
            "ticks": ""
           }
          },
          "scene": {
           "xaxis": {
            "backgroundcolor": "#E5ECF6",
            "gridcolor": "white",
            "gridwidth": 2,
            "linecolor": "white",
            "showbackground": true,
            "ticks": "",
            "zerolinecolor": "white"
           },
           "yaxis": {
            "backgroundcolor": "#E5ECF6",
            "gridcolor": "white",
            "gridwidth": 2,
            "linecolor": "white",
            "showbackground": true,
            "ticks": "",
            "zerolinecolor": "white"
           },
           "zaxis": {
            "backgroundcolor": "#E5ECF6",
            "gridcolor": "white",
            "gridwidth": 2,
            "linecolor": "white",
            "showbackground": true,
            "ticks": "",
            "zerolinecolor": "white"
           }
          },
          "shapedefaults": {
           "line": {
            "color": "#2a3f5f"
           }
          },
          "ternary": {
           "aaxis": {
            "gridcolor": "white",
            "linecolor": "white",
            "ticks": ""
           },
           "baxis": {
            "gridcolor": "white",
            "linecolor": "white",
            "ticks": ""
           },
           "bgcolor": "#E5ECF6",
           "caxis": {
            "gridcolor": "white",
            "linecolor": "white",
            "ticks": ""
           }
          },
          "title": {
           "x": 0.05
          },
          "xaxis": {
           "automargin": true,
           "gridcolor": "white",
           "linecolor": "white",
           "ticks": "",
           "title": {
            "standoff": 15
           },
           "zerolinecolor": "white",
           "zerolinewidth": 2
          },
          "yaxis": {
           "automargin": true,
           "gridcolor": "white",
           "linecolor": "white",
           "ticks": "",
           "title": {
            "standoff": 15
           },
           "zerolinecolor": "white",
           "zerolinewidth": 2
          }
         }
        },
        "xaxis": {
         "anchor": "y",
         "categoryarray": [
          "group B",
          "group C",
          "group A",
          "group D",
          "group E"
         ],
         "categoryorder": "array",
         "domain": [
          0,
          1
         ],
         "title": {
          "text": "race/ethnicity"
         }
        },
        "yaxis": {
         "anchor": "x",
         "domain": [
          0,
          1
         ],
         "title": {
          "text": "count"
         }
        }
       }
      },
      "text/html": [
       "<div>                            <div id=\"3fa0b2da-f58f-4f04-bd96-359f381c50b2\" class=\"plotly-graph-div\" style=\"height:525px; width:100%;\"></div>            <script type=\"text/javascript\">                require([\"plotly\"], function(Plotly) {                    window.PLOTLYENV=window.PLOTLYENV || {};                                    if (document.getElementById(\"3fa0b2da-f58f-4f04-bd96-359f381c50b2\")) {                    Plotly.newPlot(                        \"3fa0b2da-f58f-4f04-bd96-359f381c50b2\",                        [{\"alignmentgroup\":\"True\",\"bingroup\":\"x\",\"hovertemplate\":\"race/ethnicity=%{x}<br>count=%{y}<extra></extra>\",\"legendgroup\":\"group B\",\"marker\":{\"color\":\"#636efa\",\"pattern\":{\"shape\":\"\"}},\"name\":\"group B\",\"offsetgroup\":\"group B\",\"orientation\":\"v\",\"showlegend\":true,\"x\":[\"group B\",\"group B\",\"group B\",\"group B\",\"group B\",\"group B\",\"group B\",\"group B\",\"group B\",\"group B\",\"group B\",\"group B\",\"group B\",\"group B\",\"group B\",\"group B\",\"group B\",\"group B\",\"group B\",\"group B\",\"group B\",\"group B\",\"group B\",\"group B\",\"group B\",\"group B\",\"group B\",\"group B\",\"group B\",\"group B\",\"group B\",\"group B\",\"group B\",\"group B\",\"group B\",\"group B\",\"group B\",\"group B\",\"group B\",\"group B\",\"group B\",\"group B\",\"group B\",\"group B\",\"group B\",\"group B\",\"group B\",\"group B\",\"group B\",\"group B\",\"group B\",\"group B\",\"group B\",\"group B\",\"group B\",\"group B\",\"group B\",\"group B\",\"group B\",\"group B\",\"group B\",\"group B\",\"group B\",\"group B\",\"group B\",\"group B\",\"group B\",\"group B\",\"group B\",\"group B\",\"group B\",\"group B\",\"group B\",\"group B\",\"group B\",\"group B\",\"group B\",\"group B\",\"group B\",\"group B\",\"group B\",\"group B\",\"group B\",\"group B\",\"group B\",\"group B\",\"group B\",\"group B\",\"group B\",\"group B\",\"group B\",\"group B\",\"group B\",\"group B\",\"group B\",\"group B\",\"group B\",\"group B\",\"group B\",\"group B\",\"group B\",\"group B\",\"group B\",\"group B\",\"group B\",\"group B\",\"group B\",\"group B\",\"group B\",\"group B\",\"group B\",\"group B\",\"group B\",\"group B\",\"group B\",\"group B\",\"group B\",\"group B\",\"group B\",\"group B\",\"group B\",\"group B\",\"group B\",\"group B\",\"group B\",\"group B\",\"group B\",\"group B\",\"group B\",\"group B\",\"group B\",\"group B\",\"group B\",\"group B\",\"group B\",\"group B\",\"group B\",\"group B\",\"group B\",\"group B\",\"group B\",\"group B\",\"group B\",\"group B\",\"group B\",\"group B\",\"group B\",\"group B\",\"group B\",\"group B\",\"group B\",\"group B\",\"group B\",\"group B\",\"group B\",\"group B\",\"group B\",\"group B\",\"group B\",\"group B\",\"group B\",\"group B\",\"group B\",\"group B\",\"group B\",\"group B\",\"group B\",\"group B\",\"group B\",\"group B\",\"group B\",\"group B\",\"group B\",\"group B\",\"group B\",\"group B\",\"group B\",\"group B\",\"group B\",\"group B\",\"group B\",\"group B\",\"group B\",\"group B\",\"group B\",\"group B\",\"group B\",\"group B\",\"group B\",\"group B\"],\"xaxis\":\"x\",\"yaxis\":\"y\",\"type\":\"histogram\"},{\"alignmentgroup\":\"True\",\"bingroup\":\"x\",\"hovertemplate\":\"race/ethnicity=%{x}<br>count=%{y}<extra></extra>\",\"legendgroup\":\"group C\",\"marker\":{\"color\":\"#EF553B\",\"pattern\":{\"shape\":\"\"}},\"name\":\"group C\",\"offsetgroup\":\"group C\",\"orientation\":\"v\",\"showlegend\":true,\"x\":[\"group C\",\"group C\",\"group C\",\"group C\",\"group C\",\"group C\",\"group C\",\"group C\",\"group C\",\"group C\",\"group C\",\"group C\",\"group C\",\"group C\",\"group C\",\"group C\",\"group C\",\"group C\",\"group C\",\"group C\",\"group C\",\"group C\",\"group C\",\"group C\",\"group C\",\"group C\",\"group C\",\"group C\",\"group C\",\"group C\",\"group C\",\"group C\",\"group C\",\"group C\",\"group C\",\"group C\",\"group C\",\"group C\",\"group C\",\"group C\",\"group C\",\"group C\",\"group C\",\"group C\",\"group C\",\"group C\",\"group C\",\"group C\",\"group C\",\"group C\",\"group C\",\"group C\",\"group C\",\"group C\",\"group C\",\"group C\",\"group C\",\"group C\",\"group C\",\"group C\",\"group C\",\"group C\",\"group C\",\"group C\",\"group C\",\"group C\",\"group C\",\"group C\",\"group C\",\"group C\",\"group C\",\"group C\",\"group C\",\"group C\",\"group C\",\"group C\",\"group C\",\"group C\",\"group C\",\"group C\",\"group C\",\"group C\",\"group C\",\"group C\",\"group C\",\"group C\",\"group C\",\"group C\",\"group C\",\"group C\",\"group C\",\"group C\",\"group C\",\"group C\",\"group C\",\"group C\",\"group C\",\"group C\",\"group C\",\"group C\",\"group C\",\"group C\",\"group C\",\"group C\",\"group C\",\"group C\",\"group C\",\"group C\",\"group C\",\"group C\",\"group C\",\"group C\",\"group C\",\"group C\",\"group C\",\"group C\",\"group C\",\"group C\",\"group C\",\"group C\",\"group C\",\"group C\",\"group C\",\"group C\",\"group C\",\"group C\",\"group C\",\"group C\",\"group C\",\"group C\",\"group C\",\"group C\",\"group C\",\"group C\",\"group C\",\"group C\",\"group C\",\"group C\",\"group C\",\"group C\",\"group C\",\"group C\",\"group C\",\"group C\",\"group C\",\"group C\",\"group C\",\"group C\",\"group C\",\"group C\",\"group C\",\"group C\",\"group C\",\"group C\",\"group C\",\"group C\",\"group C\",\"group C\",\"group C\",\"group C\",\"group C\",\"group C\",\"group C\",\"group C\",\"group C\",\"group C\",\"group C\",\"group C\",\"group C\",\"group C\",\"group C\",\"group C\",\"group C\",\"group C\",\"group C\",\"group C\",\"group C\",\"group C\",\"group C\",\"group C\",\"group C\",\"group C\",\"group C\",\"group C\",\"group C\",\"group C\",\"group C\",\"group C\",\"group C\",\"group C\",\"group C\",\"group C\",\"group C\",\"group C\",\"group C\",\"group C\",\"group C\",\"group C\",\"group C\",\"group C\",\"group C\",\"group C\",\"group C\",\"group C\",\"group C\",\"group C\",\"group C\",\"group C\",\"group C\",\"group C\",\"group C\",\"group C\",\"group C\",\"group C\",\"group C\",\"group C\",\"group C\",\"group C\",\"group C\",\"group C\",\"group C\",\"group C\",\"group C\",\"group C\",\"group C\",\"group C\",\"group C\",\"group C\",\"group C\",\"group C\",\"group C\",\"group C\",\"group C\",\"group C\",\"group C\",\"group C\",\"group C\",\"group C\",\"group C\",\"group C\",\"group C\",\"group C\",\"group C\",\"group C\",\"group C\",\"group C\",\"group C\",\"group C\",\"group C\",\"group C\",\"group C\",\"group C\",\"group C\",\"group C\",\"group C\",\"group C\",\"group C\",\"group C\",\"group C\",\"group C\",\"group C\",\"group C\",\"group C\",\"group C\",\"group C\",\"group C\",\"group C\",\"group C\",\"group C\",\"group C\",\"group C\",\"group C\",\"group C\",\"group C\",\"group C\",\"group C\",\"group C\",\"group C\",\"group C\",\"group C\",\"group C\",\"group C\",\"group C\",\"group C\",\"group C\",\"group C\",\"group C\",\"group C\",\"group C\",\"group C\",\"group C\",\"group C\",\"group C\",\"group C\",\"group C\",\"group C\",\"group C\",\"group C\",\"group C\",\"group C\",\"group C\",\"group C\",\"group C\",\"group C\",\"group C\",\"group C\",\"group C\",\"group C\",\"group C\",\"group C\",\"group C\",\"group C\",\"group C\",\"group C\",\"group C\",\"group C\",\"group C\",\"group C\",\"group C\"],\"xaxis\":\"x\",\"yaxis\":\"y\",\"type\":\"histogram\"},{\"alignmentgroup\":\"True\",\"bingroup\":\"x\",\"hovertemplate\":\"race/ethnicity=%{x}<br>count=%{y}<extra></extra>\",\"legendgroup\":\"group A\",\"marker\":{\"color\":\"#00cc96\",\"pattern\":{\"shape\":\"\"}},\"name\":\"group A\",\"offsetgroup\":\"group A\",\"orientation\":\"v\",\"showlegend\":true,\"x\":[\"group A\",\"group A\",\"group A\",\"group A\",\"group A\",\"group A\",\"group A\",\"group A\",\"group A\",\"group A\",\"group A\",\"group A\",\"group A\",\"group A\",\"group A\",\"group A\",\"group A\",\"group A\",\"group A\",\"group A\",\"group A\",\"group A\",\"group A\",\"group A\",\"group A\",\"group A\",\"group A\",\"group A\",\"group A\",\"group A\",\"group A\",\"group A\",\"group A\",\"group A\",\"group A\",\"group A\",\"group A\",\"group A\",\"group A\",\"group A\",\"group A\",\"group A\",\"group A\",\"group A\",\"group A\",\"group A\",\"group A\",\"group A\",\"group A\",\"group A\",\"group A\",\"group A\",\"group A\",\"group A\",\"group A\",\"group A\",\"group A\",\"group A\",\"group A\",\"group A\",\"group A\",\"group A\",\"group A\",\"group A\",\"group A\",\"group A\",\"group A\",\"group A\",\"group A\",\"group A\",\"group A\",\"group A\",\"group A\",\"group A\",\"group A\",\"group A\",\"group A\",\"group A\",\"group A\",\"group A\",\"group A\",\"group A\",\"group A\",\"group A\",\"group A\",\"group A\",\"group A\",\"group A\",\"group A\"],\"xaxis\":\"x\",\"yaxis\":\"y\",\"type\":\"histogram\"},{\"alignmentgroup\":\"True\",\"bingroup\":\"x\",\"hovertemplate\":\"race/ethnicity=%{x}<br>count=%{y}<extra></extra>\",\"legendgroup\":\"group D\",\"marker\":{\"color\":\"#ab63fa\",\"pattern\":{\"shape\":\"\"}},\"name\":\"group D\",\"offsetgroup\":\"group D\",\"orientation\":\"v\",\"showlegend\":true,\"x\":[\"group D\",\"group D\",\"group D\",\"group D\",\"group D\",\"group D\",\"group D\",\"group D\",\"group D\",\"group D\",\"group D\",\"group D\",\"group D\",\"group D\",\"group D\",\"group D\",\"group D\",\"group D\",\"group D\",\"group D\",\"group D\",\"group D\",\"group D\",\"group D\",\"group D\",\"group D\",\"group D\",\"group D\",\"group D\",\"group D\",\"group D\",\"group D\",\"group D\",\"group D\",\"group D\",\"group D\",\"group D\",\"group D\",\"group D\",\"group D\",\"group D\",\"group D\",\"group D\",\"group D\",\"group D\",\"group D\",\"group D\",\"group D\",\"group D\",\"group D\",\"group D\",\"group D\",\"group D\",\"group D\",\"group D\",\"group D\",\"group D\",\"group D\",\"group D\",\"group D\",\"group D\",\"group D\",\"group D\",\"group D\",\"group D\",\"group D\",\"group D\",\"group D\",\"group D\",\"group D\",\"group D\",\"group D\",\"group D\",\"group D\",\"group D\",\"group D\",\"group D\",\"group D\",\"group D\",\"group D\",\"group D\",\"group D\",\"group D\",\"group D\",\"group D\",\"group D\",\"group D\",\"group D\",\"group D\",\"group D\",\"group D\",\"group D\",\"group D\",\"group D\",\"group D\",\"group D\",\"group D\",\"group D\",\"group D\",\"group D\",\"group D\",\"group D\",\"group D\",\"group D\",\"group D\",\"group D\",\"group D\",\"group D\",\"group D\",\"group D\",\"group D\",\"group D\",\"group D\",\"group D\",\"group D\",\"group D\",\"group D\",\"group D\",\"group D\",\"group D\",\"group D\",\"group D\",\"group D\",\"group D\",\"group D\",\"group D\",\"group D\",\"group D\",\"group D\",\"group D\",\"group D\",\"group D\",\"group D\",\"group D\",\"group D\",\"group D\",\"group D\",\"group D\",\"group D\",\"group D\",\"group D\",\"group D\",\"group D\",\"group D\",\"group D\",\"group D\",\"group D\",\"group D\",\"group D\",\"group D\",\"group D\",\"group D\",\"group D\",\"group D\",\"group D\",\"group D\",\"group D\",\"group D\",\"group D\",\"group D\",\"group D\",\"group D\",\"group D\",\"group D\",\"group D\",\"group D\",\"group D\",\"group D\",\"group D\",\"group D\",\"group D\",\"group D\",\"group D\",\"group D\",\"group D\",\"group D\",\"group D\",\"group D\",\"group D\",\"group D\",\"group D\",\"group D\",\"group D\",\"group D\",\"group D\",\"group D\",\"group D\",\"group D\",\"group D\",\"group D\",\"group D\",\"group D\",\"group D\",\"group D\",\"group D\",\"group D\",\"group D\",\"group D\",\"group D\",\"group D\",\"group D\",\"group D\",\"group D\",\"group D\",\"group D\",\"group D\",\"group D\",\"group D\",\"group D\",\"group D\",\"group D\",\"group D\",\"group D\",\"group D\",\"group D\",\"group D\",\"group D\",\"group D\",\"group D\",\"group D\",\"group D\",\"group D\",\"group D\",\"group D\",\"group D\",\"group D\",\"group D\",\"group D\",\"group D\",\"group D\",\"group D\",\"group D\",\"group D\",\"group D\",\"group D\",\"group D\",\"group D\",\"group D\",\"group D\",\"group D\",\"group D\",\"group D\",\"group D\",\"group D\",\"group D\",\"group D\",\"group D\",\"group D\",\"group D\",\"group D\",\"group D\",\"group D\",\"group D\",\"group D\",\"group D\",\"group D\",\"group D\",\"group D\",\"group D\",\"group D\",\"group D\",\"group D\"],\"xaxis\":\"x\",\"yaxis\":\"y\",\"type\":\"histogram\"},{\"alignmentgroup\":\"True\",\"bingroup\":\"x\",\"hovertemplate\":\"race/ethnicity=%{x}<br>count=%{y}<extra></extra>\",\"legendgroup\":\"group E\",\"marker\":{\"color\":\"#FFA15A\",\"pattern\":{\"shape\":\"\"}},\"name\":\"group E\",\"offsetgroup\":\"group E\",\"orientation\":\"v\",\"showlegend\":true,\"x\":[\"group E\",\"group E\",\"group E\",\"group E\",\"group E\",\"group E\",\"group E\",\"group E\",\"group E\",\"group E\",\"group E\",\"group E\",\"group E\",\"group E\",\"group E\",\"group E\",\"group E\",\"group E\",\"group E\",\"group E\",\"group E\",\"group E\",\"group E\",\"group E\",\"group E\",\"group E\",\"group E\",\"group E\",\"group E\",\"group E\",\"group E\",\"group E\",\"group E\",\"group E\",\"group E\",\"group E\",\"group E\",\"group E\",\"group E\",\"group E\",\"group E\",\"group E\",\"group E\",\"group E\",\"group E\",\"group E\",\"group E\",\"group E\",\"group E\",\"group E\",\"group E\",\"group E\",\"group E\",\"group E\",\"group E\",\"group E\",\"group E\",\"group E\",\"group E\",\"group E\",\"group E\",\"group E\",\"group E\",\"group E\",\"group E\",\"group E\",\"group E\",\"group E\",\"group E\",\"group E\",\"group E\",\"group E\",\"group E\",\"group E\",\"group E\",\"group E\",\"group E\",\"group E\",\"group E\",\"group E\",\"group E\",\"group E\",\"group E\",\"group E\",\"group E\",\"group E\",\"group E\",\"group E\",\"group E\",\"group E\",\"group E\",\"group E\",\"group E\",\"group E\",\"group E\",\"group E\",\"group E\",\"group E\",\"group E\",\"group E\",\"group E\",\"group E\",\"group E\",\"group E\",\"group E\",\"group E\",\"group E\",\"group E\",\"group E\",\"group E\",\"group E\",\"group E\",\"group E\",\"group E\",\"group E\",\"group E\",\"group E\",\"group E\",\"group E\",\"group E\",\"group E\",\"group E\",\"group E\",\"group E\",\"group E\",\"group E\",\"group E\",\"group E\",\"group E\",\"group E\",\"group E\",\"group E\",\"group E\",\"group E\",\"group E\",\"group E\",\"group E\",\"group E\",\"group E\",\"group E\"],\"xaxis\":\"x\",\"yaxis\":\"y\",\"type\":\"histogram\"}],                        {\"template\":{\"data\":{\"bar\":[{\"error_x\":{\"color\":\"#2a3f5f\"},\"error_y\":{\"color\":\"#2a3f5f\"},\"marker\":{\"line\":{\"color\":\"#E5ECF6\",\"width\":0.5},\"pattern\":{\"fillmode\":\"overlay\",\"size\":10,\"solidity\":0.2}},\"type\":\"bar\"}],\"barpolar\":[{\"marker\":{\"line\":{\"color\":\"#E5ECF6\",\"width\":0.5},\"pattern\":{\"fillmode\":\"overlay\",\"size\":10,\"solidity\":0.2}},\"type\":\"barpolar\"}],\"carpet\":[{\"aaxis\":{\"endlinecolor\":\"#2a3f5f\",\"gridcolor\":\"white\",\"linecolor\":\"white\",\"minorgridcolor\":\"white\",\"startlinecolor\":\"#2a3f5f\"},\"baxis\":{\"endlinecolor\":\"#2a3f5f\",\"gridcolor\":\"white\",\"linecolor\":\"white\",\"minorgridcolor\":\"white\",\"startlinecolor\":\"#2a3f5f\"},\"type\":\"carpet\"}],\"choropleth\":[{\"colorbar\":{\"outlinewidth\":0,\"ticks\":\"\"},\"type\":\"choropleth\"}],\"contour\":[{\"colorbar\":{\"outlinewidth\":0,\"ticks\":\"\"},\"colorscale\":[[0.0,\"#0d0887\"],[0.1111111111111111,\"#46039f\"],[0.2222222222222222,\"#7201a8\"],[0.3333333333333333,\"#9c179e\"],[0.4444444444444444,\"#bd3786\"],[0.5555555555555556,\"#d8576b\"],[0.6666666666666666,\"#ed7953\"],[0.7777777777777778,\"#fb9f3a\"],[0.8888888888888888,\"#fdca26\"],[1.0,\"#f0f921\"]],\"type\":\"contour\"}],\"contourcarpet\":[{\"colorbar\":{\"outlinewidth\":0,\"ticks\":\"\"},\"type\":\"contourcarpet\"}],\"heatmap\":[{\"colorbar\":{\"outlinewidth\":0,\"ticks\":\"\"},\"colorscale\":[[0.0,\"#0d0887\"],[0.1111111111111111,\"#46039f\"],[0.2222222222222222,\"#7201a8\"],[0.3333333333333333,\"#9c179e\"],[0.4444444444444444,\"#bd3786\"],[0.5555555555555556,\"#d8576b\"],[0.6666666666666666,\"#ed7953\"],[0.7777777777777778,\"#fb9f3a\"],[0.8888888888888888,\"#fdca26\"],[1.0,\"#f0f921\"]],\"type\":\"heatmap\"}],\"heatmapgl\":[{\"colorbar\":{\"outlinewidth\":0,\"ticks\":\"\"},\"colorscale\":[[0.0,\"#0d0887\"],[0.1111111111111111,\"#46039f\"],[0.2222222222222222,\"#7201a8\"],[0.3333333333333333,\"#9c179e\"],[0.4444444444444444,\"#bd3786\"],[0.5555555555555556,\"#d8576b\"],[0.6666666666666666,\"#ed7953\"],[0.7777777777777778,\"#fb9f3a\"],[0.8888888888888888,\"#fdca26\"],[1.0,\"#f0f921\"]],\"type\":\"heatmapgl\"}],\"histogram\":[{\"marker\":{\"pattern\":{\"fillmode\":\"overlay\",\"size\":10,\"solidity\":0.2}},\"type\":\"histogram\"}],\"histogram2d\":[{\"colorbar\":{\"outlinewidth\":0,\"ticks\":\"\"},\"colorscale\":[[0.0,\"#0d0887\"],[0.1111111111111111,\"#46039f\"],[0.2222222222222222,\"#7201a8\"],[0.3333333333333333,\"#9c179e\"],[0.4444444444444444,\"#bd3786\"],[0.5555555555555556,\"#d8576b\"],[0.6666666666666666,\"#ed7953\"],[0.7777777777777778,\"#fb9f3a\"],[0.8888888888888888,\"#fdca26\"],[1.0,\"#f0f921\"]],\"type\":\"histogram2d\"}],\"histogram2dcontour\":[{\"colorbar\":{\"outlinewidth\":0,\"ticks\":\"\"},\"colorscale\":[[0.0,\"#0d0887\"],[0.1111111111111111,\"#46039f\"],[0.2222222222222222,\"#7201a8\"],[0.3333333333333333,\"#9c179e\"],[0.4444444444444444,\"#bd3786\"],[0.5555555555555556,\"#d8576b\"],[0.6666666666666666,\"#ed7953\"],[0.7777777777777778,\"#fb9f3a\"],[0.8888888888888888,\"#fdca26\"],[1.0,\"#f0f921\"]],\"type\":\"histogram2dcontour\"}],\"mesh3d\":[{\"colorbar\":{\"outlinewidth\":0,\"ticks\":\"\"},\"type\":\"mesh3d\"}],\"parcoords\":[{\"line\":{\"colorbar\":{\"outlinewidth\":0,\"ticks\":\"\"}},\"type\":\"parcoords\"}],\"pie\":[{\"automargin\":true,\"type\":\"pie\"}],\"scatter\":[{\"marker\":{\"colorbar\":{\"outlinewidth\":0,\"ticks\":\"\"}},\"type\":\"scatter\"}],\"scatter3d\":[{\"line\":{\"colorbar\":{\"outlinewidth\":0,\"ticks\":\"\"}},\"marker\":{\"colorbar\":{\"outlinewidth\":0,\"ticks\":\"\"}},\"type\":\"scatter3d\"}],\"scattercarpet\":[{\"marker\":{\"colorbar\":{\"outlinewidth\":0,\"ticks\":\"\"}},\"type\":\"scattercarpet\"}],\"scattergeo\":[{\"marker\":{\"colorbar\":{\"outlinewidth\":0,\"ticks\":\"\"}},\"type\":\"scattergeo\"}],\"scattergl\":[{\"marker\":{\"colorbar\":{\"outlinewidth\":0,\"ticks\":\"\"}},\"type\":\"scattergl\"}],\"scattermapbox\":[{\"marker\":{\"colorbar\":{\"outlinewidth\":0,\"ticks\":\"\"}},\"type\":\"scattermapbox\"}],\"scatterpolar\":[{\"marker\":{\"colorbar\":{\"outlinewidth\":0,\"ticks\":\"\"}},\"type\":\"scatterpolar\"}],\"scatterpolargl\":[{\"marker\":{\"colorbar\":{\"outlinewidth\":0,\"ticks\":\"\"}},\"type\":\"scatterpolargl\"}],\"scatterternary\":[{\"marker\":{\"colorbar\":{\"outlinewidth\":0,\"ticks\":\"\"}},\"type\":\"scatterternary\"}],\"surface\":[{\"colorbar\":{\"outlinewidth\":0,\"ticks\":\"\"},\"colorscale\":[[0.0,\"#0d0887\"],[0.1111111111111111,\"#46039f\"],[0.2222222222222222,\"#7201a8\"],[0.3333333333333333,\"#9c179e\"],[0.4444444444444444,\"#bd3786\"],[0.5555555555555556,\"#d8576b\"],[0.6666666666666666,\"#ed7953\"],[0.7777777777777778,\"#fb9f3a\"],[0.8888888888888888,\"#fdca26\"],[1.0,\"#f0f921\"]],\"type\":\"surface\"}],\"table\":[{\"cells\":{\"fill\":{\"color\":\"#EBF0F8\"},\"line\":{\"color\":\"white\"}},\"header\":{\"fill\":{\"color\":\"#C8D4E3\"},\"line\":{\"color\":\"white\"}},\"type\":\"table\"}]},\"layout\":{\"annotationdefaults\":{\"arrowcolor\":\"#2a3f5f\",\"arrowhead\":0,\"arrowwidth\":1},\"autotypenumbers\":\"strict\",\"coloraxis\":{\"colorbar\":{\"outlinewidth\":0,\"ticks\":\"\"}},\"colorscale\":{\"diverging\":[[0,\"#8e0152\"],[0.1,\"#c51b7d\"],[0.2,\"#de77ae\"],[0.3,\"#f1b6da\"],[0.4,\"#fde0ef\"],[0.5,\"#f7f7f7\"],[0.6,\"#e6f5d0\"],[0.7,\"#b8e186\"],[0.8,\"#7fbc41\"],[0.9,\"#4d9221\"],[1,\"#276419\"]],\"sequential\":[[0.0,\"#0d0887\"],[0.1111111111111111,\"#46039f\"],[0.2222222222222222,\"#7201a8\"],[0.3333333333333333,\"#9c179e\"],[0.4444444444444444,\"#bd3786\"],[0.5555555555555556,\"#d8576b\"],[0.6666666666666666,\"#ed7953\"],[0.7777777777777778,\"#fb9f3a\"],[0.8888888888888888,\"#fdca26\"],[1.0,\"#f0f921\"]],\"sequentialminus\":[[0.0,\"#0d0887\"],[0.1111111111111111,\"#46039f\"],[0.2222222222222222,\"#7201a8\"],[0.3333333333333333,\"#9c179e\"],[0.4444444444444444,\"#bd3786\"],[0.5555555555555556,\"#d8576b\"],[0.6666666666666666,\"#ed7953\"],[0.7777777777777778,\"#fb9f3a\"],[0.8888888888888888,\"#fdca26\"],[1.0,\"#f0f921\"]]},\"colorway\":[\"#636efa\",\"#EF553B\",\"#00cc96\",\"#ab63fa\",\"#FFA15A\",\"#19d3f3\",\"#FF6692\",\"#B6E880\",\"#FF97FF\",\"#FECB52\"],\"font\":{\"color\":\"#2a3f5f\"},\"geo\":{\"bgcolor\":\"white\",\"lakecolor\":\"white\",\"landcolor\":\"#E5ECF6\",\"showlakes\":true,\"showland\":true,\"subunitcolor\":\"white\"},\"hoverlabel\":{\"align\":\"left\"},\"hovermode\":\"closest\",\"mapbox\":{\"style\":\"light\"},\"paper_bgcolor\":\"white\",\"plot_bgcolor\":\"#E5ECF6\",\"polar\":{\"angularaxis\":{\"gridcolor\":\"white\",\"linecolor\":\"white\",\"ticks\":\"\"},\"bgcolor\":\"#E5ECF6\",\"radialaxis\":{\"gridcolor\":\"white\",\"linecolor\":\"white\",\"ticks\":\"\"}},\"scene\":{\"xaxis\":{\"backgroundcolor\":\"#E5ECF6\",\"gridcolor\":\"white\",\"gridwidth\":2,\"linecolor\":\"white\",\"showbackground\":true,\"ticks\":\"\",\"zerolinecolor\":\"white\"},\"yaxis\":{\"backgroundcolor\":\"#E5ECF6\",\"gridcolor\":\"white\",\"gridwidth\":2,\"linecolor\":\"white\",\"showbackground\":true,\"ticks\":\"\",\"zerolinecolor\":\"white\"},\"zaxis\":{\"backgroundcolor\":\"#E5ECF6\",\"gridcolor\":\"white\",\"gridwidth\":2,\"linecolor\":\"white\",\"showbackground\":true,\"ticks\":\"\",\"zerolinecolor\":\"white\"}},\"shapedefaults\":{\"line\":{\"color\":\"#2a3f5f\"}},\"ternary\":{\"aaxis\":{\"gridcolor\":\"white\",\"linecolor\":\"white\",\"ticks\":\"\"},\"baxis\":{\"gridcolor\":\"white\",\"linecolor\":\"white\",\"ticks\":\"\"},\"bgcolor\":\"#E5ECF6\",\"caxis\":{\"gridcolor\":\"white\",\"linecolor\":\"white\",\"ticks\":\"\"}},\"title\":{\"x\":0.05},\"xaxis\":{\"automargin\":true,\"gridcolor\":\"white\",\"linecolor\":\"white\",\"ticks\":\"\",\"title\":{\"standoff\":15},\"zerolinecolor\":\"white\",\"zerolinewidth\":2},\"yaxis\":{\"automargin\":true,\"gridcolor\":\"white\",\"linecolor\":\"white\",\"ticks\":\"\",\"title\":{\"standoff\":15},\"zerolinecolor\":\"white\",\"zerolinewidth\":2}}},\"xaxis\":{\"anchor\":\"y\",\"domain\":[0.0,1.0],\"title\":{\"text\":\"race/ethnicity\"},\"categoryorder\":\"array\",\"categoryarray\":[\"group B\",\"group C\",\"group A\",\"group D\",\"group E\"]},\"yaxis\":{\"anchor\":\"x\",\"domain\":[0.0,1.0],\"title\":{\"text\":\"count\"}},\"legend\":{\"title\":{\"text\":\"race/ethnicity\"},\"tracegroupgap\":0},\"margin\":{\"t\":60},\"barmode\":\"relative\"},                        {\"responsive\": true}                    ).then(function(){\n",
       "                            \n",
       "var gd = document.getElementById('3fa0b2da-f58f-4f04-bd96-359f381c50b2');\n",
       "var x = new MutationObserver(function (mutations, observer) {{\n",
       "        var display = window.getComputedStyle(gd).display;\n",
       "        if (!display || display === 'none') {{\n",
       "            console.log([gd, 'removed!']);\n",
       "            Plotly.purge(gd);\n",
       "            observer.disconnect();\n",
       "        }}\n",
       "}});\n",
       "\n",
       "// Listen for the removal of the full notebook cells\n",
       "var notebookContainer = gd.closest('#notebook-container');\n",
       "if (notebookContainer) {{\n",
       "    x.observe(notebookContainer, {childList: true});\n",
       "}}\n",
       "\n",
       "// Listen for the clearing of the current output cell\n",
       "var outputEl = gd.closest('.output');\n",
       "if (outputEl) {{\n",
       "    x.observe(outputEl, {childList: true});\n",
       "}}\n",
       "\n",
       "                        })                };                });            </script>        </div>"
      ]
     },
     "metadata": {},
     "output_type": "display_data"
    }
   ],
   "source": [
    "px.histogram(dataset, x=\"race/ethnicity\", color=\"race/ethnicity\")"
   ]
  },
  {
   "cell_type": "code",
   "execution_count": 29,
   "id": "90f4c05e",
   "metadata": {},
   "outputs": [
    {
     "data": {
      "application/vnd.plotly.v1+json": {
       "config": {
        "plotlyServerURL": "https://plot.ly"
       },
       "data": [
        {
         "alignmentgroup": "True",
         "bingroup": "x",
         "hovertemplate": "gender=%{x}<br>count=%{y}<extra></extra>",
         "legendgroup": "female",
         "marker": {
          "color": "#636efa",
          "pattern": {
           "shape": ""
          }
         },
         "name": "female",
         "offsetgroup": "female",
         "orientation": "v",
         "showlegend": true,
         "type": "histogram",
         "x": [
          "female",
          "female",
          "female",
          "female",
          "female",
          "female",
          "female",
          "female",
          "female",
          "female",
          "female",
          "female",
          "female",
          "female",
          "female",
          "female",
          "female",
          "female",
          "female",
          "female",
          "female",
          "female",
          "female",
          "female",
          "female",
          "female",
          "female",
          "female",
          "female",
          "female",
          "female",
          "female",
          "female",
          "female",
          "female",
          "female",
          "female",
          "female",
          "female",
          "female",
          "female",
          "female",
          "female",
          "female",
          "female",
          "female",
          "female",
          "female",
          "female",
          "female",
          "female",
          "female",
          "female",
          "female",
          "female",
          "female",
          "female",
          "female",
          "female",
          "female",
          "female",
          "female",
          "female",
          "female",
          "female",
          "female",
          "female",
          "female",
          "female",
          "female",
          "female",
          "female",
          "female",
          "female",
          "female",
          "female",
          "female",
          "female",
          "female",
          "female",
          "female",
          "female",
          "female",
          "female",
          "female",
          "female",
          "female",
          "female",
          "female",
          "female",
          "female",
          "female",
          "female",
          "female",
          "female",
          "female",
          "female",
          "female",
          "female",
          "female",
          "female",
          "female",
          "female",
          "female",
          "female",
          "female",
          "female",
          "female",
          "female",
          "female",
          "female",
          "female",
          "female",
          "female",
          "female",
          "female",
          "female",
          "female",
          "female",
          "female",
          "female",
          "female",
          "female",
          "female",
          "female",
          "female",
          "female",
          "female",
          "female",
          "female",
          "female",
          "female",
          "female",
          "female",
          "female",
          "female",
          "female",
          "female",
          "female",
          "female",
          "female",
          "female",
          "female",
          "female",
          "female",
          "female",
          "female",
          "female",
          "female",
          "female",
          "female",
          "female",
          "female",
          "female",
          "female",
          "female",
          "female",
          "female",
          "female",
          "female",
          "female",
          "female",
          "female",
          "female",
          "female",
          "female",
          "female",
          "female",
          "female",
          "female",
          "female",
          "female",
          "female",
          "female",
          "female",
          "female",
          "female",
          "female",
          "female",
          "female",
          "female",
          "female",
          "female",
          "female",
          "female",
          "female",
          "female",
          "female",
          "female",
          "female",
          "female",
          "female",
          "female",
          "female",
          "female",
          "female",
          "female",
          "female",
          "female",
          "female",
          "female",
          "female",
          "female",
          "female",
          "female",
          "female",
          "female",
          "female",
          "female",
          "female",
          "female",
          "female",
          "female",
          "female",
          "female",
          "female",
          "female",
          "female",
          "female",
          "female",
          "female",
          "female",
          "female",
          "female",
          "female",
          "female",
          "female",
          "female",
          "female",
          "female",
          "female",
          "female",
          "female",
          "female",
          "female",
          "female",
          "female",
          "female",
          "female",
          "female",
          "female",
          "female",
          "female",
          "female",
          "female",
          "female",
          "female",
          "female",
          "female",
          "female",
          "female",
          "female",
          "female",
          "female",
          "female",
          "female",
          "female",
          "female",
          "female",
          "female",
          "female",
          "female",
          "female",
          "female",
          "female",
          "female",
          "female",
          "female",
          "female",
          "female",
          "female",
          "female",
          "female",
          "female",
          "female",
          "female",
          "female",
          "female",
          "female",
          "female",
          "female",
          "female",
          "female",
          "female",
          "female",
          "female",
          "female",
          "female",
          "female",
          "female",
          "female",
          "female",
          "female",
          "female",
          "female",
          "female",
          "female",
          "female",
          "female",
          "female",
          "female",
          "female",
          "female",
          "female",
          "female",
          "female",
          "female",
          "female",
          "female",
          "female",
          "female",
          "female",
          "female",
          "female",
          "female",
          "female",
          "female",
          "female",
          "female",
          "female",
          "female",
          "female",
          "female",
          "female",
          "female",
          "female",
          "female",
          "female",
          "female",
          "female",
          "female",
          "female",
          "female",
          "female",
          "female",
          "female",
          "female",
          "female",
          "female",
          "female",
          "female",
          "female",
          "female",
          "female",
          "female",
          "female",
          "female",
          "female",
          "female",
          "female",
          "female",
          "female",
          "female",
          "female",
          "female",
          "female",
          "female",
          "female",
          "female",
          "female",
          "female",
          "female",
          "female",
          "female",
          "female",
          "female",
          "female",
          "female",
          "female",
          "female",
          "female",
          "female",
          "female",
          "female",
          "female",
          "female",
          "female",
          "female",
          "female",
          "female",
          "female",
          "female",
          "female",
          "female",
          "female",
          "female",
          "female",
          "female",
          "female",
          "female",
          "female",
          "female",
          "female",
          "female",
          "female",
          "female",
          "female",
          "female",
          "female",
          "female",
          "female",
          "female",
          "female",
          "female",
          "female",
          "female",
          "female",
          "female",
          "female",
          "female",
          "female",
          "female",
          "female",
          "female",
          "female",
          "female",
          "female",
          "female",
          "female",
          "female",
          "female",
          "female",
          "female",
          "female",
          "female",
          "female",
          "female",
          "female",
          "female",
          "female",
          "female",
          "female",
          "female",
          "female",
          "female",
          "female",
          "female",
          "female",
          "female",
          "female",
          "female",
          "female",
          "female",
          "female",
          "female",
          "female",
          "female",
          "female",
          "female",
          "female",
          "female",
          "female",
          "female",
          "female",
          "female",
          "female",
          "female",
          "female",
          "female",
          "female",
          "female",
          "female",
          "female",
          "female",
          "female",
          "female",
          "female",
          "female",
          "female",
          "female",
          "female",
          "female",
          "female",
          "female",
          "female",
          "female",
          "female",
          "female",
          "female",
          "female",
          "female",
          "female",
          "female",
          "female",
          "female",
          "female",
          "female",
          "female",
          "female",
          "female",
          "female",
          "female",
          "female",
          "female",
          "female",
          "female",
          "female",
          "female",
          "female",
          "female",
          "female",
          "female",
          "female",
          "female",
          "female",
          "female",
          "female",
          "female",
          "female",
          "female",
          "female",
          "female",
          "female",
          "female",
          "female",
          "female",
          "female",
          "female"
         ],
         "xaxis": "x",
         "yaxis": "y"
        },
        {
         "alignmentgroup": "True",
         "bingroup": "x",
         "hovertemplate": "gender=%{x}<br>count=%{y}<extra></extra>",
         "legendgroup": "male",
         "marker": {
          "color": "#EF553B",
          "pattern": {
           "shape": ""
          }
         },
         "name": "male",
         "offsetgroup": "male",
         "orientation": "v",
         "showlegend": true,
         "type": "histogram",
         "x": [
          "male",
          "male",
          "male",
          "male",
          "male",
          "male",
          "male",
          "male",
          "male",
          "male",
          "male",
          "male",
          "male",
          "male",
          "male",
          "male",
          "male",
          "male",
          "male",
          "male",
          "male",
          "male",
          "male",
          "male",
          "male",
          "male",
          "male",
          "male",
          "male",
          "male",
          "male",
          "male",
          "male",
          "male",
          "male",
          "male",
          "male",
          "male",
          "male",
          "male",
          "male",
          "male",
          "male",
          "male",
          "male",
          "male",
          "male",
          "male",
          "male",
          "male",
          "male",
          "male",
          "male",
          "male",
          "male",
          "male",
          "male",
          "male",
          "male",
          "male",
          "male",
          "male",
          "male",
          "male",
          "male",
          "male",
          "male",
          "male",
          "male",
          "male",
          "male",
          "male",
          "male",
          "male",
          "male",
          "male",
          "male",
          "male",
          "male",
          "male",
          "male",
          "male",
          "male",
          "male",
          "male",
          "male",
          "male",
          "male",
          "male",
          "male",
          "male",
          "male",
          "male",
          "male",
          "male",
          "male",
          "male",
          "male",
          "male",
          "male",
          "male",
          "male",
          "male",
          "male",
          "male",
          "male",
          "male",
          "male",
          "male",
          "male",
          "male",
          "male",
          "male",
          "male",
          "male",
          "male",
          "male",
          "male",
          "male",
          "male",
          "male",
          "male",
          "male",
          "male",
          "male",
          "male",
          "male",
          "male",
          "male",
          "male",
          "male",
          "male",
          "male",
          "male",
          "male",
          "male",
          "male",
          "male",
          "male",
          "male",
          "male",
          "male",
          "male",
          "male",
          "male",
          "male",
          "male",
          "male",
          "male",
          "male",
          "male",
          "male",
          "male",
          "male",
          "male",
          "male",
          "male",
          "male",
          "male",
          "male",
          "male",
          "male",
          "male",
          "male",
          "male",
          "male",
          "male",
          "male",
          "male",
          "male",
          "male",
          "male",
          "male",
          "male",
          "male",
          "male",
          "male",
          "male",
          "male",
          "male",
          "male",
          "male",
          "male",
          "male",
          "male",
          "male",
          "male",
          "male",
          "male",
          "male",
          "male",
          "male",
          "male",
          "male",
          "male",
          "male",
          "male",
          "male",
          "male",
          "male",
          "male",
          "male",
          "male",
          "male",
          "male",
          "male",
          "male",
          "male",
          "male",
          "male",
          "male",
          "male",
          "male",
          "male",
          "male",
          "male",
          "male",
          "male",
          "male",
          "male",
          "male",
          "male",
          "male",
          "male",
          "male",
          "male",
          "male",
          "male",
          "male",
          "male",
          "male",
          "male",
          "male",
          "male",
          "male",
          "male",
          "male",
          "male",
          "male",
          "male",
          "male",
          "male",
          "male",
          "male",
          "male",
          "male",
          "male",
          "male",
          "male",
          "male",
          "male",
          "male",
          "male",
          "male",
          "male",
          "male",
          "male",
          "male",
          "male",
          "male",
          "male",
          "male",
          "male",
          "male",
          "male",
          "male",
          "male",
          "male",
          "male",
          "male",
          "male",
          "male",
          "male",
          "male",
          "male",
          "male",
          "male",
          "male",
          "male",
          "male",
          "male",
          "male",
          "male",
          "male",
          "male",
          "male",
          "male",
          "male",
          "male",
          "male",
          "male",
          "male",
          "male",
          "male",
          "male",
          "male",
          "male",
          "male",
          "male",
          "male",
          "male",
          "male",
          "male",
          "male",
          "male",
          "male",
          "male",
          "male",
          "male",
          "male",
          "male",
          "male",
          "male",
          "male",
          "male",
          "male",
          "male",
          "male",
          "male",
          "male",
          "male",
          "male",
          "male",
          "male",
          "male",
          "male",
          "male",
          "male",
          "male",
          "male",
          "male",
          "male",
          "male",
          "male",
          "male",
          "male",
          "male",
          "male",
          "male",
          "male",
          "male",
          "male",
          "male",
          "male",
          "male",
          "male",
          "male",
          "male",
          "male",
          "male",
          "male",
          "male",
          "male",
          "male",
          "male",
          "male",
          "male",
          "male",
          "male",
          "male",
          "male",
          "male",
          "male",
          "male",
          "male",
          "male",
          "male",
          "male",
          "male",
          "male",
          "male",
          "male",
          "male",
          "male",
          "male",
          "male",
          "male",
          "male",
          "male",
          "male",
          "male",
          "male",
          "male",
          "male",
          "male",
          "male",
          "male",
          "male",
          "male",
          "male",
          "male",
          "male",
          "male",
          "male",
          "male",
          "male",
          "male",
          "male",
          "male",
          "male",
          "male",
          "male",
          "male",
          "male",
          "male",
          "male",
          "male",
          "male",
          "male",
          "male",
          "male",
          "male",
          "male",
          "male",
          "male",
          "male",
          "male",
          "male",
          "male",
          "male",
          "male",
          "male",
          "male",
          "male",
          "male",
          "male",
          "male",
          "male",
          "male",
          "male",
          "male",
          "male",
          "male",
          "male",
          "male",
          "male",
          "male",
          "male",
          "male",
          "male",
          "male",
          "male",
          "male",
          "male",
          "male",
          "male",
          "male",
          "male",
          "male",
          "male",
          "male",
          "male",
          "male",
          "male",
          "male",
          "male",
          "male",
          "male",
          "male",
          "male",
          "male",
          "male",
          "male",
          "male",
          "male",
          "male",
          "male",
          "male",
          "male",
          "male",
          "male",
          "male",
          "male",
          "male",
          "male",
          "male",
          "male",
          "male",
          "male",
          "male",
          "male",
          "male"
         ],
         "xaxis": "x",
         "yaxis": "y"
        }
       ],
       "layout": {
        "barmode": "relative",
        "legend": {
         "title": {
          "text": "gender"
         },
         "tracegroupgap": 0
        },
        "margin": {
         "t": 60
        },
        "template": {
         "data": {
          "bar": [
           {
            "error_x": {
             "color": "#2a3f5f"
            },
            "error_y": {
             "color": "#2a3f5f"
            },
            "marker": {
             "line": {
              "color": "#E5ECF6",
              "width": 0.5
             },
             "pattern": {
              "fillmode": "overlay",
              "size": 10,
              "solidity": 0.2
             }
            },
            "type": "bar"
           }
          ],
          "barpolar": [
           {
            "marker": {
             "line": {
              "color": "#E5ECF6",
              "width": 0.5
             },
             "pattern": {
              "fillmode": "overlay",
              "size": 10,
              "solidity": 0.2
             }
            },
            "type": "barpolar"
           }
          ],
          "carpet": [
           {
            "aaxis": {
             "endlinecolor": "#2a3f5f",
             "gridcolor": "white",
             "linecolor": "white",
             "minorgridcolor": "white",
             "startlinecolor": "#2a3f5f"
            },
            "baxis": {
             "endlinecolor": "#2a3f5f",
             "gridcolor": "white",
             "linecolor": "white",
             "minorgridcolor": "white",
             "startlinecolor": "#2a3f5f"
            },
            "type": "carpet"
           }
          ],
          "choropleth": [
           {
            "colorbar": {
             "outlinewidth": 0,
             "ticks": ""
            },
            "type": "choropleth"
           }
          ],
          "contour": [
           {
            "colorbar": {
             "outlinewidth": 0,
             "ticks": ""
            },
            "colorscale": [
             [
              0,
              "#0d0887"
             ],
             [
              0.1111111111111111,
              "#46039f"
             ],
             [
              0.2222222222222222,
              "#7201a8"
             ],
             [
              0.3333333333333333,
              "#9c179e"
             ],
             [
              0.4444444444444444,
              "#bd3786"
             ],
             [
              0.5555555555555556,
              "#d8576b"
             ],
             [
              0.6666666666666666,
              "#ed7953"
             ],
             [
              0.7777777777777778,
              "#fb9f3a"
             ],
             [
              0.8888888888888888,
              "#fdca26"
             ],
             [
              1,
              "#f0f921"
             ]
            ],
            "type": "contour"
           }
          ],
          "contourcarpet": [
           {
            "colorbar": {
             "outlinewidth": 0,
             "ticks": ""
            },
            "type": "contourcarpet"
           }
          ],
          "heatmap": [
           {
            "colorbar": {
             "outlinewidth": 0,
             "ticks": ""
            },
            "colorscale": [
             [
              0,
              "#0d0887"
             ],
             [
              0.1111111111111111,
              "#46039f"
             ],
             [
              0.2222222222222222,
              "#7201a8"
             ],
             [
              0.3333333333333333,
              "#9c179e"
             ],
             [
              0.4444444444444444,
              "#bd3786"
             ],
             [
              0.5555555555555556,
              "#d8576b"
             ],
             [
              0.6666666666666666,
              "#ed7953"
             ],
             [
              0.7777777777777778,
              "#fb9f3a"
             ],
             [
              0.8888888888888888,
              "#fdca26"
             ],
             [
              1,
              "#f0f921"
             ]
            ],
            "type": "heatmap"
           }
          ],
          "heatmapgl": [
           {
            "colorbar": {
             "outlinewidth": 0,
             "ticks": ""
            },
            "colorscale": [
             [
              0,
              "#0d0887"
             ],
             [
              0.1111111111111111,
              "#46039f"
             ],
             [
              0.2222222222222222,
              "#7201a8"
             ],
             [
              0.3333333333333333,
              "#9c179e"
             ],
             [
              0.4444444444444444,
              "#bd3786"
             ],
             [
              0.5555555555555556,
              "#d8576b"
             ],
             [
              0.6666666666666666,
              "#ed7953"
             ],
             [
              0.7777777777777778,
              "#fb9f3a"
             ],
             [
              0.8888888888888888,
              "#fdca26"
             ],
             [
              1,
              "#f0f921"
             ]
            ],
            "type": "heatmapgl"
           }
          ],
          "histogram": [
           {
            "marker": {
             "pattern": {
              "fillmode": "overlay",
              "size": 10,
              "solidity": 0.2
             }
            },
            "type": "histogram"
           }
          ],
          "histogram2d": [
           {
            "colorbar": {
             "outlinewidth": 0,
             "ticks": ""
            },
            "colorscale": [
             [
              0,
              "#0d0887"
             ],
             [
              0.1111111111111111,
              "#46039f"
             ],
             [
              0.2222222222222222,
              "#7201a8"
             ],
             [
              0.3333333333333333,
              "#9c179e"
             ],
             [
              0.4444444444444444,
              "#bd3786"
             ],
             [
              0.5555555555555556,
              "#d8576b"
             ],
             [
              0.6666666666666666,
              "#ed7953"
             ],
             [
              0.7777777777777778,
              "#fb9f3a"
             ],
             [
              0.8888888888888888,
              "#fdca26"
             ],
             [
              1,
              "#f0f921"
             ]
            ],
            "type": "histogram2d"
           }
          ],
          "histogram2dcontour": [
           {
            "colorbar": {
             "outlinewidth": 0,
             "ticks": ""
            },
            "colorscale": [
             [
              0,
              "#0d0887"
             ],
             [
              0.1111111111111111,
              "#46039f"
             ],
             [
              0.2222222222222222,
              "#7201a8"
             ],
             [
              0.3333333333333333,
              "#9c179e"
             ],
             [
              0.4444444444444444,
              "#bd3786"
             ],
             [
              0.5555555555555556,
              "#d8576b"
             ],
             [
              0.6666666666666666,
              "#ed7953"
             ],
             [
              0.7777777777777778,
              "#fb9f3a"
             ],
             [
              0.8888888888888888,
              "#fdca26"
             ],
             [
              1,
              "#f0f921"
             ]
            ],
            "type": "histogram2dcontour"
           }
          ],
          "mesh3d": [
           {
            "colorbar": {
             "outlinewidth": 0,
             "ticks": ""
            },
            "type": "mesh3d"
           }
          ],
          "parcoords": [
           {
            "line": {
             "colorbar": {
              "outlinewidth": 0,
              "ticks": ""
             }
            },
            "type": "parcoords"
           }
          ],
          "pie": [
           {
            "automargin": true,
            "type": "pie"
           }
          ],
          "scatter": [
           {
            "marker": {
             "colorbar": {
              "outlinewidth": 0,
              "ticks": ""
             }
            },
            "type": "scatter"
           }
          ],
          "scatter3d": [
           {
            "line": {
             "colorbar": {
              "outlinewidth": 0,
              "ticks": ""
             }
            },
            "marker": {
             "colorbar": {
              "outlinewidth": 0,
              "ticks": ""
             }
            },
            "type": "scatter3d"
           }
          ],
          "scattercarpet": [
           {
            "marker": {
             "colorbar": {
              "outlinewidth": 0,
              "ticks": ""
             }
            },
            "type": "scattercarpet"
           }
          ],
          "scattergeo": [
           {
            "marker": {
             "colorbar": {
              "outlinewidth": 0,
              "ticks": ""
             }
            },
            "type": "scattergeo"
           }
          ],
          "scattergl": [
           {
            "marker": {
             "colorbar": {
              "outlinewidth": 0,
              "ticks": ""
             }
            },
            "type": "scattergl"
           }
          ],
          "scattermapbox": [
           {
            "marker": {
             "colorbar": {
              "outlinewidth": 0,
              "ticks": ""
             }
            },
            "type": "scattermapbox"
           }
          ],
          "scatterpolar": [
           {
            "marker": {
             "colorbar": {
              "outlinewidth": 0,
              "ticks": ""
             }
            },
            "type": "scatterpolar"
           }
          ],
          "scatterpolargl": [
           {
            "marker": {
             "colorbar": {
              "outlinewidth": 0,
              "ticks": ""
             }
            },
            "type": "scatterpolargl"
           }
          ],
          "scatterternary": [
           {
            "marker": {
             "colorbar": {
              "outlinewidth": 0,
              "ticks": ""
             }
            },
            "type": "scatterternary"
           }
          ],
          "surface": [
           {
            "colorbar": {
             "outlinewidth": 0,
             "ticks": ""
            },
            "colorscale": [
             [
              0,
              "#0d0887"
             ],
             [
              0.1111111111111111,
              "#46039f"
             ],
             [
              0.2222222222222222,
              "#7201a8"
             ],
             [
              0.3333333333333333,
              "#9c179e"
             ],
             [
              0.4444444444444444,
              "#bd3786"
             ],
             [
              0.5555555555555556,
              "#d8576b"
             ],
             [
              0.6666666666666666,
              "#ed7953"
             ],
             [
              0.7777777777777778,
              "#fb9f3a"
             ],
             [
              0.8888888888888888,
              "#fdca26"
             ],
             [
              1,
              "#f0f921"
             ]
            ],
            "type": "surface"
           }
          ],
          "table": [
           {
            "cells": {
             "fill": {
              "color": "#EBF0F8"
             },
             "line": {
              "color": "white"
             }
            },
            "header": {
             "fill": {
              "color": "#C8D4E3"
             },
             "line": {
              "color": "white"
             }
            },
            "type": "table"
           }
          ]
         },
         "layout": {
          "annotationdefaults": {
           "arrowcolor": "#2a3f5f",
           "arrowhead": 0,
           "arrowwidth": 1
          },
          "autotypenumbers": "strict",
          "coloraxis": {
           "colorbar": {
            "outlinewidth": 0,
            "ticks": ""
           }
          },
          "colorscale": {
           "diverging": [
            [
             0,
             "#8e0152"
            ],
            [
             0.1,
             "#c51b7d"
            ],
            [
             0.2,
             "#de77ae"
            ],
            [
             0.3,
             "#f1b6da"
            ],
            [
             0.4,
             "#fde0ef"
            ],
            [
             0.5,
             "#f7f7f7"
            ],
            [
             0.6,
             "#e6f5d0"
            ],
            [
             0.7,
             "#b8e186"
            ],
            [
             0.8,
             "#7fbc41"
            ],
            [
             0.9,
             "#4d9221"
            ],
            [
             1,
             "#276419"
            ]
           ],
           "sequential": [
            [
             0,
             "#0d0887"
            ],
            [
             0.1111111111111111,
             "#46039f"
            ],
            [
             0.2222222222222222,
             "#7201a8"
            ],
            [
             0.3333333333333333,
             "#9c179e"
            ],
            [
             0.4444444444444444,
             "#bd3786"
            ],
            [
             0.5555555555555556,
             "#d8576b"
            ],
            [
             0.6666666666666666,
             "#ed7953"
            ],
            [
             0.7777777777777778,
             "#fb9f3a"
            ],
            [
             0.8888888888888888,
             "#fdca26"
            ],
            [
             1,
             "#f0f921"
            ]
           ],
           "sequentialminus": [
            [
             0,
             "#0d0887"
            ],
            [
             0.1111111111111111,
             "#46039f"
            ],
            [
             0.2222222222222222,
             "#7201a8"
            ],
            [
             0.3333333333333333,
             "#9c179e"
            ],
            [
             0.4444444444444444,
             "#bd3786"
            ],
            [
             0.5555555555555556,
             "#d8576b"
            ],
            [
             0.6666666666666666,
             "#ed7953"
            ],
            [
             0.7777777777777778,
             "#fb9f3a"
            ],
            [
             0.8888888888888888,
             "#fdca26"
            ],
            [
             1,
             "#f0f921"
            ]
           ]
          },
          "colorway": [
           "#636efa",
           "#EF553B",
           "#00cc96",
           "#ab63fa",
           "#FFA15A",
           "#19d3f3",
           "#FF6692",
           "#B6E880",
           "#FF97FF",
           "#FECB52"
          ],
          "font": {
           "color": "#2a3f5f"
          },
          "geo": {
           "bgcolor": "white",
           "lakecolor": "white",
           "landcolor": "#E5ECF6",
           "showlakes": true,
           "showland": true,
           "subunitcolor": "white"
          },
          "hoverlabel": {
           "align": "left"
          },
          "hovermode": "closest",
          "mapbox": {
           "style": "light"
          },
          "paper_bgcolor": "white",
          "plot_bgcolor": "#E5ECF6",
          "polar": {
           "angularaxis": {
            "gridcolor": "white",
            "linecolor": "white",
            "ticks": ""
           },
           "bgcolor": "#E5ECF6",
           "radialaxis": {
            "gridcolor": "white",
            "linecolor": "white",
            "ticks": ""
           }
          },
          "scene": {
           "xaxis": {
            "backgroundcolor": "#E5ECF6",
            "gridcolor": "white",
            "gridwidth": 2,
            "linecolor": "white",
            "showbackground": true,
            "ticks": "",
            "zerolinecolor": "white"
           },
           "yaxis": {
            "backgroundcolor": "#E5ECF6",
            "gridcolor": "white",
            "gridwidth": 2,
            "linecolor": "white",
            "showbackground": true,
            "ticks": "",
            "zerolinecolor": "white"
           },
           "zaxis": {
            "backgroundcolor": "#E5ECF6",
            "gridcolor": "white",
            "gridwidth": 2,
            "linecolor": "white",
            "showbackground": true,
            "ticks": "",
            "zerolinecolor": "white"
           }
          },
          "shapedefaults": {
           "line": {
            "color": "#2a3f5f"
           }
          },
          "ternary": {
           "aaxis": {
            "gridcolor": "white",
            "linecolor": "white",
            "ticks": ""
           },
           "baxis": {
            "gridcolor": "white",
            "linecolor": "white",
            "ticks": ""
           },
           "bgcolor": "#E5ECF6",
           "caxis": {
            "gridcolor": "white",
            "linecolor": "white",
            "ticks": ""
           }
          },
          "title": {
           "x": 0.05
          },
          "xaxis": {
           "automargin": true,
           "gridcolor": "white",
           "linecolor": "white",
           "ticks": "",
           "title": {
            "standoff": 15
           },
           "zerolinecolor": "white",
           "zerolinewidth": 2
          },
          "yaxis": {
           "automargin": true,
           "gridcolor": "white",
           "linecolor": "white",
           "ticks": "",
           "title": {
            "standoff": 15
           },
           "zerolinecolor": "white",
           "zerolinewidth": 2
          }
         }
        },
        "xaxis": {
         "anchor": "y",
         "categoryarray": [
          "female",
          "male"
         ],
         "categoryorder": "array",
         "domain": [
          0,
          1
         ],
         "title": {
          "text": "gender"
         }
        },
        "yaxis": {
         "anchor": "x",
         "domain": [
          0,
          1
         ],
         "title": {
          "text": "count"
         }
        }
       }
      },
      "text/html": [
       "<div>                            <div id=\"a51ec928-05d9-499f-8108-9877c5e03950\" class=\"plotly-graph-div\" style=\"height:525px; width:100%;\"></div>            <script type=\"text/javascript\">                require([\"plotly\"], function(Plotly) {                    window.PLOTLYENV=window.PLOTLYENV || {};                                    if (document.getElementById(\"a51ec928-05d9-499f-8108-9877c5e03950\")) {                    Plotly.newPlot(                        \"a51ec928-05d9-499f-8108-9877c5e03950\",                        [{\"alignmentgroup\":\"True\",\"bingroup\":\"x\",\"hovertemplate\":\"gender=%{x}<br>count=%{y}<extra></extra>\",\"legendgroup\":\"female\",\"marker\":{\"color\":\"#636efa\",\"pattern\":{\"shape\":\"\"}},\"name\":\"female\",\"offsetgroup\":\"female\",\"orientation\":\"v\",\"showlegend\":true,\"x\":[\"female\",\"female\",\"female\",\"female\",\"female\",\"female\",\"female\",\"female\",\"female\",\"female\",\"female\",\"female\",\"female\",\"female\",\"female\",\"female\",\"female\",\"female\",\"female\",\"female\",\"female\",\"female\",\"female\",\"female\",\"female\",\"female\",\"female\",\"female\",\"female\",\"female\",\"female\",\"female\",\"female\",\"female\",\"female\",\"female\",\"female\",\"female\",\"female\",\"female\",\"female\",\"female\",\"female\",\"female\",\"female\",\"female\",\"female\",\"female\",\"female\",\"female\",\"female\",\"female\",\"female\",\"female\",\"female\",\"female\",\"female\",\"female\",\"female\",\"female\",\"female\",\"female\",\"female\",\"female\",\"female\",\"female\",\"female\",\"female\",\"female\",\"female\",\"female\",\"female\",\"female\",\"female\",\"female\",\"female\",\"female\",\"female\",\"female\",\"female\",\"female\",\"female\",\"female\",\"female\",\"female\",\"female\",\"female\",\"female\",\"female\",\"female\",\"female\",\"female\",\"female\",\"female\",\"female\",\"female\",\"female\",\"female\",\"female\",\"female\",\"female\",\"female\",\"female\",\"female\",\"female\",\"female\",\"female\",\"female\",\"female\",\"female\",\"female\",\"female\",\"female\",\"female\",\"female\",\"female\",\"female\",\"female\",\"female\",\"female\",\"female\",\"female\",\"female\",\"female\",\"female\",\"female\",\"female\",\"female\",\"female\",\"female\",\"female\",\"female\",\"female\",\"female\",\"female\",\"female\",\"female\",\"female\",\"female\",\"female\",\"female\",\"female\",\"female\",\"female\",\"female\",\"female\",\"female\",\"female\",\"female\",\"female\",\"female\",\"female\",\"female\",\"female\",\"female\",\"female\",\"female\",\"female\",\"female\",\"female\",\"female\",\"female\",\"female\",\"female\",\"female\",\"female\",\"female\",\"female\",\"female\",\"female\",\"female\",\"female\",\"female\",\"female\",\"female\",\"female\",\"female\",\"female\",\"female\",\"female\",\"female\",\"female\",\"female\",\"female\",\"female\",\"female\",\"female\",\"female\",\"female\",\"female\",\"female\",\"female\",\"female\",\"female\",\"female\",\"female\",\"female\",\"female\",\"female\",\"female\",\"female\",\"female\",\"female\",\"female\",\"female\",\"female\",\"female\",\"female\",\"female\",\"female\",\"female\",\"female\",\"female\",\"female\",\"female\",\"female\",\"female\",\"female\",\"female\",\"female\",\"female\",\"female\",\"female\",\"female\",\"female\",\"female\",\"female\",\"female\",\"female\",\"female\",\"female\",\"female\",\"female\",\"female\",\"female\",\"female\",\"female\",\"female\",\"female\",\"female\",\"female\",\"female\",\"female\",\"female\",\"female\",\"female\",\"female\",\"female\",\"female\",\"female\",\"female\",\"female\",\"female\",\"female\",\"female\",\"female\",\"female\",\"female\",\"female\",\"female\",\"female\",\"female\",\"female\",\"female\",\"female\",\"female\",\"female\",\"female\",\"female\",\"female\",\"female\",\"female\",\"female\",\"female\",\"female\",\"female\",\"female\",\"female\",\"female\",\"female\",\"female\",\"female\",\"female\",\"female\",\"female\",\"female\",\"female\",\"female\",\"female\",\"female\",\"female\",\"female\",\"female\",\"female\",\"female\",\"female\",\"female\",\"female\",\"female\",\"female\",\"female\",\"female\",\"female\",\"female\",\"female\",\"female\",\"female\",\"female\",\"female\",\"female\",\"female\",\"female\",\"female\",\"female\",\"female\",\"female\",\"female\",\"female\",\"female\",\"female\",\"female\",\"female\",\"female\",\"female\",\"female\",\"female\",\"female\",\"female\",\"female\",\"female\",\"female\",\"female\",\"female\",\"female\",\"female\",\"female\",\"female\",\"female\",\"female\",\"female\",\"female\",\"female\",\"female\",\"female\",\"female\",\"female\",\"female\",\"female\",\"female\",\"female\",\"female\",\"female\",\"female\",\"female\",\"female\",\"female\",\"female\",\"female\",\"female\",\"female\",\"female\",\"female\",\"female\",\"female\",\"female\",\"female\",\"female\",\"female\",\"female\",\"female\",\"female\",\"female\",\"female\",\"female\",\"female\",\"female\",\"female\",\"female\",\"female\",\"female\",\"female\",\"female\",\"female\",\"female\",\"female\",\"female\",\"female\",\"female\",\"female\",\"female\",\"female\",\"female\",\"female\",\"female\",\"female\",\"female\",\"female\",\"female\",\"female\",\"female\",\"female\",\"female\",\"female\",\"female\",\"female\",\"female\",\"female\",\"female\",\"female\",\"female\",\"female\",\"female\",\"female\",\"female\",\"female\",\"female\",\"female\",\"female\",\"female\",\"female\",\"female\",\"female\",\"female\",\"female\",\"female\",\"female\",\"female\",\"female\",\"female\",\"female\",\"female\",\"female\",\"female\",\"female\",\"female\",\"female\",\"female\",\"female\",\"female\",\"female\",\"female\",\"female\",\"female\",\"female\",\"female\",\"female\",\"female\",\"female\",\"female\",\"female\",\"female\",\"female\",\"female\",\"female\",\"female\",\"female\",\"female\",\"female\",\"female\",\"female\",\"female\",\"female\",\"female\",\"female\",\"female\",\"female\",\"female\",\"female\",\"female\",\"female\",\"female\",\"female\",\"female\",\"female\",\"female\",\"female\",\"female\",\"female\",\"female\",\"female\",\"female\",\"female\",\"female\",\"female\",\"female\",\"female\",\"female\",\"female\",\"female\",\"female\",\"female\",\"female\",\"female\",\"female\",\"female\",\"female\",\"female\",\"female\",\"female\",\"female\",\"female\",\"female\",\"female\",\"female\",\"female\",\"female\",\"female\",\"female\",\"female\",\"female\",\"female\",\"female\",\"female\",\"female\",\"female\",\"female\",\"female\",\"female\"],\"xaxis\":\"x\",\"yaxis\":\"y\",\"type\":\"histogram\"},{\"alignmentgroup\":\"True\",\"bingroup\":\"x\",\"hovertemplate\":\"gender=%{x}<br>count=%{y}<extra></extra>\",\"legendgroup\":\"male\",\"marker\":{\"color\":\"#EF553B\",\"pattern\":{\"shape\":\"\"}},\"name\":\"male\",\"offsetgroup\":\"male\",\"orientation\":\"v\",\"showlegend\":true,\"x\":[\"male\",\"male\",\"male\",\"male\",\"male\",\"male\",\"male\",\"male\",\"male\",\"male\",\"male\",\"male\",\"male\",\"male\",\"male\",\"male\",\"male\",\"male\",\"male\",\"male\",\"male\",\"male\",\"male\",\"male\",\"male\",\"male\",\"male\",\"male\",\"male\",\"male\",\"male\",\"male\",\"male\",\"male\",\"male\",\"male\",\"male\",\"male\",\"male\",\"male\",\"male\",\"male\",\"male\",\"male\",\"male\",\"male\",\"male\",\"male\",\"male\",\"male\",\"male\",\"male\",\"male\",\"male\",\"male\",\"male\",\"male\",\"male\",\"male\",\"male\",\"male\",\"male\",\"male\",\"male\",\"male\",\"male\",\"male\",\"male\",\"male\",\"male\",\"male\",\"male\",\"male\",\"male\",\"male\",\"male\",\"male\",\"male\",\"male\",\"male\",\"male\",\"male\",\"male\",\"male\",\"male\",\"male\",\"male\",\"male\",\"male\",\"male\",\"male\",\"male\",\"male\",\"male\",\"male\",\"male\",\"male\",\"male\",\"male\",\"male\",\"male\",\"male\",\"male\",\"male\",\"male\",\"male\",\"male\",\"male\",\"male\",\"male\",\"male\",\"male\",\"male\",\"male\",\"male\",\"male\",\"male\",\"male\",\"male\",\"male\",\"male\",\"male\",\"male\",\"male\",\"male\",\"male\",\"male\",\"male\",\"male\",\"male\",\"male\",\"male\",\"male\",\"male\",\"male\",\"male\",\"male\",\"male\",\"male\",\"male\",\"male\",\"male\",\"male\",\"male\",\"male\",\"male\",\"male\",\"male\",\"male\",\"male\",\"male\",\"male\",\"male\",\"male\",\"male\",\"male\",\"male\",\"male\",\"male\",\"male\",\"male\",\"male\",\"male\",\"male\",\"male\",\"male\",\"male\",\"male\",\"male\",\"male\",\"male\",\"male\",\"male\",\"male\",\"male\",\"male\",\"male\",\"male\",\"male\",\"male\",\"male\",\"male\",\"male\",\"male\",\"male\",\"male\",\"male\",\"male\",\"male\",\"male\",\"male\",\"male\",\"male\",\"male\",\"male\",\"male\",\"male\",\"male\",\"male\",\"male\",\"male\",\"male\",\"male\",\"male\",\"male\",\"male\",\"male\",\"male\",\"male\",\"male\",\"male\",\"male\",\"male\",\"male\",\"male\",\"male\",\"male\",\"male\",\"male\",\"male\",\"male\",\"male\",\"male\",\"male\",\"male\",\"male\",\"male\",\"male\",\"male\",\"male\",\"male\",\"male\",\"male\",\"male\",\"male\",\"male\",\"male\",\"male\",\"male\",\"male\",\"male\",\"male\",\"male\",\"male\",\"male\",\"male\",\"male\",\"male\",\"male\",\"male\",\"male\",\"male\",\"male\",\"male\",\"male\",\"male\",\"male\",\"male\",\"male\",\"male\",\"male\",\"male\",\"male\",\"male\",\"male\",\"male\",\"male\",\"male\",\"male\",\"male\",\"male\",\"male\",\"male\",\"male\",\"male\",\"male\",\"male\",\"male\",\"male\",\"male\",\"male\",\"male\",\"male\",\"male\",\"male\",\"male\",\"male\",\"male\",\"male\",\"male\",\"male\",\"male\",\"male\",\"male\",\"male\",\"male\",\"male\",\"male\",\"male\",\"male\",\"male\",\"male\",\"male\",\"male\",\"male\",\"male\",\"male\",\"male\",\"male\",\"male\",\"male\",\"male\",\"male\",\"male\",\"male\",\"male\",\"male\",\"male\",\"male\",\"male\",\"male\",\"male\",\"male\",\"male\",\"male\",\"male\",\"male\",\"male\",\"male\",\"male\",\"male\",\"male\",\"male\",\"male\",\"male\",\"male\",\"male\",\"male\",\"male\",\"male\",\"male\",\"male\",\"male\",\"male\",\"male\",\"male\",\"male\",\"male\",\"male\",\"male\",\"male\",\"male\",\"male\",\"male\",\"male\",\"male\",\"male\",\"male\",\"male\",\"male\",\"male\",\"male\",\"male\",\"male\",\"male\",\"male\",\"male\",\"male\",\"male\",\"male\",\"male\",\"male\",\"male\",\"male\",\"male\",\"male\",\"male\",\"male\",\"male\",\"male\",\"male\",\"male\",\"male\",\"male\",\"male\",\"male\",\"male\",\"male\",\"male\",\"male\",\"male\",\"male\",\"male\",\"male\",\"male\",\"male\",\"male\",\"male\",\"male\",\"male\",\"male\",\"male\",\"male\",\"male\",\"male\",\"male\",\"male\",\"male\",\"male\",\"male\",\"male\",\"male\",\"male\",\"male\",\"male\",\"male\",\"male\",\"male\",\"male\",\"male\",\"male\",\"male\",\"male\",\"male\",\"male\",\"male\",\"male\",\"male\",\"male\",\"male\",\"male\",\"male\",\"male\",\"male\",\"male\",\"male\",\"male\",\"male\",\"male\",\"male\",\"male\",\"male\",\"male\",\"male\",\"male\",\"male\",\"male\",\"male\",\"male\",\"male\",\"male\",\"male\",\"male\",\"male\",\"male\",\"male\",\"male\",\"male\",\"male\",\"male\",\"male\",\"male\",\"male\",\"male\",\"male\",\"male\",\"male\",\"male\",\"male\",\"male\",\"male\",\"male\",\"male\",\"male\",\"male\",\"male\",\"male\",\"male\",\"male\",\"male\",\"male\",\"male\"],\"xaxis\":\"x\",\"yaxis\":\"y\",\"type\":\"histogram\"}],                        {\"template\":{\"data\":{\"bar\":[{\"error_x\":{\"color\":\"#2a3f5f\"},\"error_y\":{\"color\":\"#2a3f5f\"},\"marker\":{\"line\":{\"color\":\"#E5ECF6\",\"width\":0.5},\"pattern\":{\"fillmode\":\"overlay\",\"size\":10,\"solidity\":0.2}},\"type\":\"bar\"}],\"barpolar\":[{\"marker\":{\"line\":{\"color\":\"#E5ECF6\",\"width\":0.5},\"pattern\":{\"fillmode\":\"overlay\",\"size\":10,\"solidity\":0.2}},\"type\":\"barpolar\"}],\"carpet\":[{\"aaxis\":{\"endlinecolor\":\"#2a3f5f\",\"gridcolor\":\"white\",\"linecolor\":\"white\",\"minorgridcolor\":\"white\",\"startlinecolor\":\"#2a3f5f\"},\"baxis\":{\"endlinecolor\":\"#2a3f5f\",\"gridcolor\":\"white\",\"linecolor\":\"white\",\"minorgridcolor\":\"white\",\"startlinecolor\":\"#2a3f5f\"},\"type\":\"carpet\"}],\"choropleth\":[{\"colorbar\":{\"outlinewidth\":0,\"ticks\":\"\"},\"type\":\"choropleth\"}],\"contour\":[{\"colorbar\":{\"outlinewidth\":0,\"ticks\":\"\"},\"colorscale\":[[0.0,\"#0d0887\"],[0.1111111111111111,\"#46039f\"],[0.2222222222222222,\"#7201a8\"],[0.3333333333333333,\"#9c179e\"],[0.4444444444444444,\"#bd3786\"],[0.5555555555555556,\"#d8576b\"],[0.6666666666666666,\"#ed7953\"],[0.7777777777777778,\"#fb9f3a\"],[0.8888888888888888,\"#fdca26\"],[1.0,\"#f0f921\"]],\"type\":\"contour\"}],\"contourcarpet\":[{\"colorbar\":{\"outlinewidth\":0,\"ticks\":\"\"},\"type\":\"contourcarpet\"}],\"heatmap\":[{\"colorbar\":{\"outlinewidth\":0,\"ticks\":\"\"},\"colorscale\":[[0.0,\"#0d0887\"],[0.1111111111111111,\"#46039f\"],[0.2222222222222222,\"#7201a8\"],[0.3333333333333333,\"#9c179e\"],[0.4444444444444444,\"#bd3786\"],[0.5555555555555556,\"#d8576b\"],[0.6666666666666666,\"#ed7953\"],[0.7777777777777778,\"#fb9f3a\"],[0.8888888888888888,\"#fdca26\"],[1.0,\"#f0f921\"]],\"type\":\"heatmap\"}],\"heatmapgl\":[{\"colorbar\":{\"outlinewidth\":0,\"ticks\":\"\"},\"colorscale\":[[0.0,\"#0d0887\"],[0.1111111111111111,\"#46039f\"],[0.2222222222222222,\"#7201a8\"],[0.3333333333333333,\"#9c179e\"],[0.4444444444444444,\"#bd3786\"],[0.5555555555555556,\"#d8576b\"],[0.6666666666666666,\"#ed7953\"],[0.7777777777777778,\"#fb9f3a\"],[0.8888888888888888,\"#fdca26\"],[1.0,\"#f0f921\"]],\"type\":\"heatmapgl\"}],\"histogram\":[{\"marker\":{\"pattern\":{\"fillmode\":\"overlay\",\"size\":10,\"solidity\":0.2}},\"type\":\"histogram\"}],\"histogram2d\":[{\"colorbar\":{\"outlinewidth\":0,\"ticks\":\"\"},\"colorscale\":[[0.0,\"#0d0887\"],[0.1111111111111111,\"#46039f\"],[0.2222222222222222,\"#7201a8\"],[0.3333333333333333,\"#9c179e\"],[0.4444444444444444,\"#bd3786\"],[0.5555555555555556,\"#d8576b\"],[0.6666666666666666,\"#ed7953\"],[0.7777777777777778,\"#fb9f3a\"],[0.8888888888888888,\"#fdca26\"],[1.0,\"#f0f921\"]],\"type\":\"histogram2d\"}],\"histogram2dcontour\":[{\"colorbar\":{\"outlinewidth\":0,\"ticks\":\"\"},\"colorscale\":[[0.0,\"#0d0887\"],[0.1111111111111111,\"#46039f\"],[0.2222222222222222,\"#7201a8\"],[0.3333333333333333,\"#9c179e\"],[0.4444444444444444,\"#bd3786\"],[0.5555555555555556,\"#d8576b\"],[0.6666666666666666,\"#ed7953\"],[0.7777777777777778,\"#fb9f3a\"],[0.8888888888888888,\"#fdca26\"],[1.0,\"#f0f921\"]],\"type\":\"histogram2dcontour\"}],\"mesh3d\":[{\"colorbar\":{\"outlinewidth\":0,\"ticks\":\"\"},\"type\":\"mesh3d\"}],\"parcoords\":[{\"line\":{\"colorbar\":{\"outlinewidth\":0,\"ticks\":\"\"}},\"type\":\"parcoords\"}],\"pie\":[{\"automargin\":true,\"type\":\"pie\"}],\"scatter\":[{\"marker\":{\"colorbar\":{\"outlinewidth\":0,\"ticks\":\"\"}},\"type\":\"scatter\"}],\"scatter3d\":[{\"line\":{\"colorbar\":{\"outlinewidth\":0,\"ticks\":\"\"}},\"marker\":{\"colorbar\":{\"outlinewidth\":0,\"ticks\":\"\"}},\"type\":\"scatter3d\"}],\"scattercarpet\":[{\"marker\":{\"colorbar\":{\"outlinewidth\":0,\"ticks\":\"\"}},\"type\":\"scattercarpet\"}],\"scattergeo\":[{\"marker\":{\"colorbar\":{\"outlinewidth\":0,\"ticks\":\"\"}},\"type\":\"scattergeo\"}],\"scattergl\":[{\"marker\":{\"colorbar\":{\"outlinewidth\":0,\"ticks\":\"\"}},\"type\":\"scattergl\"}],\"scattermapbox\":[{\"marker\":{\"colorbar\":{\"outlinewidth\":0,\"ticks\":\"\"}},\"type\":\"scattermapbox\"}],\"scatterpolar\":[{\"marker\":{\"colorbar\":{\"outlinewidth\":0,\"ticks\":\"\"}},\"type\":\"scatterpolar\"}],\"scatterpolargl\":[{\"marker\":{\"colorbar\":{\"outlinewidth\":0,\"ticks\":\"\"}},\"type\":\"scatterpolargl\"}],\"scatterternary\":[{\"marker\":{\"colorbar\":{\"outlinewidth\":0,\"ticks\":\"\"}},\"type\":\"scatterternary\"}],\"surface\":[{\"colorbar\":{\"outlinewidth\":0,\"ticks\":\"\"},\"colorscale\":[[0.0,\"#0d0887\"],[0.1111111111111111,\"#46039f\"],[0.2222222222222222,\"#7201a8\"],[0.3333333333333333,\"#9c179e\"],[0.4444444444444444,\"#bd3786\"],[0.5555555555555556,\"#d8576b\"],[0.6666666666666666,\"#ed7953\"],[0.7777777777777778,\"#fb9f3a\"],[0.8888888888888888,\"#fdca26\"],[1.0,\"#f0f921\"]],\"type\":\"surface\"}],\"table\":[{\"cells\":{\"fill\":{\"color\":\"#EBF0F8\"},\"line\":{\"color\":\"white\"}},\"header\":{\"fill\":{\"color\":\"#C8D4E3\"},\"line\":{\"color\":\"white\"}},\"type\":\"table\"}]},\"layout\":{\"annotationdefaults\":{\"arrowcolor\":\"#2a3f5f\",\"arrowhead\":0,\"arrowwidth\":1},\"autotypenumbers\":\"strict\",\"coloraxis\":{\"colorbar\":{\"outlinewidth\":0,\"ticks\":\"\"}},\"colorscale\":{\"diverging\":[[0,\"#8e0152\"],[0.1,\"#c51b7d\"],[0.2,\"#de77ae\"],[0.3,\"#f1b6da\"],[0.4,\"#fde0ef\"],[0.5,\"#f7f7f7\"],[0.6,\"#e6f5d0\"],[0.7,\"#b8e186\"],[0.8,\"#7fbc41\"],[0.9,\"#4d9221\"],[1,\"#276419\"]],\"sequential\":[[0.0,\"#0d0887\"],[0.1111111111111111,\"#46039f\"],[0.2222222222222222,\"#7201a8\"],[0.3333333333333333,\"#9c179e\"],[0.4444444444444444,\"#bd3786\"],[0.5555555555555556,\"#d8576b\"],[0.6666666666666666,\"#ed7953\"],[0.7777777777777778,\"#fb9f3a\"],[0.8888888888888888,\"#fdca26\"],[1.0,\"#f0f921\"]],\"sequentialminus\":[[0.0,\"#0d0887\"],[0.1111111111111111,\"#46039f\"],[0.2222222222222222,\"#7201a8\"],[0.3333333333333333,\"#9c179e\"],[0.4444444444444444,\"#bd3786\"],[0.5555555555555556,\"#d8576b\"],[0.6666666666666666,\"#ed7953\"],[0.7777777777777778,\"#fb9f3a\"],[0.8888888888888888,\"#fdca26\"],[1.0,\"#f0f921\"]]},\"colorway\":[\"#636efa\",\"#EF553B\",\"#00cc96\",\"#ab63fa\",\"#FFA15A\",\"#19d3f3\",\"#FF6692\",\"#B6E880\",\"#FF97FF\",\"#FECB52\"],\"font\":{\"color\":\"#2a3f5f\"},\"geo\":{\"bgcolor\":\"white\",\"lakecolor\":\"white\",\"landcolor\":\"#E5ECF6\",\"showlakes\":true,\"showland\":true,\"subunitcolor\":\"white\"},\"hoverlabel\":{\"align\":\"left\"},\"hovermode\":\"closest\",\"mapbox\":{\"style\":\"light\"},\"paper_bgcolor\":\"white\",\"plot_bgcolor\":\"#E5ECF6\",\"polar\":{\"angularaxis\":{\"gridcolor\":\"white\",\"linecolor\":\"white\",\"ticks\":\"\"},\"bgcolor\":\"#E5ECF6\",\"radialaxis\":{\"gridcolor\":\"white\",\"linecolor\":\"white\",\"ticks\":\"\"}},\"scene\":{\"xaxis\":{\"backgroundcolor\":\"#E5ECF6\",\"gridcolor\":\"white\",\"gridwidth\":2,\"linecolor\":\"white\",\"showbackground\":true,\"ticks\":\"\",\"zerolinecolor\":\"white\"},\"yaxis\":{\"backgroundcolor\":\"#E5ECF6\",\"gridcolor\":\"white\",\"gridwidth\":2,\"linecolor\":\"white\",\"showbackground\":true,\"ticks\":\"\",\"zerolinecolor\":\"white\"},\"zaxis\":{\"backgroundcolor\":\"#E5ECF6\",\"gridcolor\":\"white\",\"gridwidth\":2,\"linecolor\":\"white\",\"showbackground\":true,\"ticks\":\"\",\"zerolinecolor\":\"white\"}},\"shapedefaults\":{\"line\":{\"color\":\"#2a3f5f\"}},\"ternary\":{\"aaxis\":{\"gridcolor\":\"white\",\"linecolor\":\"white\",\"ticks\":\"\"},\"baxis\":{\"gridcolor\":\"white\",\"linecolor\":\"white\",\"ticks\":\"\"},\"bgcolor\":\"#E5ECF6\",\"caxis\":{\"gridcolor\":\"white\",\"linecolor\":\"white\",\"ticks\":\"\"}},\"title\":{\"x\":0.05},\"xaxis\":{\"automargin\":true,\"gridcolor\":\"white\",\"linecolor\":\"white\",\"ticks\":\"\",\"title\":{\"standoff\":15},\"zerolinecolor\":\"white\",\"zerolinewidth\":2},\"yaxis\":{\"automargin\":true,\"gridcolor\":\"white\",\"linecolor\":\"white\",\"ticks\":\"\",\"title\":{\"standoff\":15},\"zerolinecolor\":\"white\",\"zerolinewidth\":2}}},\"xaxis\":{\"anchor\":\"y\",\"domain\":[0.0,1.0],\"title\":{\"text\":\"gender\"},\"categoryorder\":\"array\",\"categoryarray\":[\"female\",\"male\"]},\"yaxis\":{\"anchor\":\"x\",\"domain\":[0.0,1.0],\"title\":{\"text\":\"count\"}},\"legend\":{\"title\":{\"text\":\"gender\"},\"tracegroupgap\":0},\"margin\":{\"t\":60},\"barmode\":\"relative\"},                        {\"responsive\": true}                    ).then(function(){\n",
       "                            \n",
       "var gd = document.getElementById('a51ec928-05d9-499f-8108-9877c5e03950');\n",
       "var x = new MutationObserver(function (mutations, observer) {{\n",
       "        var display = window.getComputedStyle(gd).display;\n",
       "        if (!display || display === 'none') {{\n",
       "            console.log([gd, 'removed!']);\n",
       "            Plotly.purge(gd);\n",
       "            observer.disconnect();\n",
       "        }}\n",
       "}});\n",
       "\n",
       "// Listen for the removal of the full notebook cells\n",
       "var notebookContainer = gd.closest('#notebook-container');\n",
       "if (notebookContainer) {{\n",
       "    x.observe(notebookContainer, {childList: true});\n",
       "}}\n",
       "\n",
       "// Listen for the clearing of the current output cell\n",
       "var outputEl = gd.closest('.output');\n",
       "if (outputEl) {{\n",
       "    x.observe(outputEl, {childList: true});\n",
       "}}\n",
       "\n",
       "                        })                };                });            </script>        </div>"
      ]
     },
     "metadata": {},
     "output_type": "display_data"
    }
   ],
   "source": [
    "px.histogram(dataset, x=\"gender\", color=\"gender\")"
   ]
  },
  {
   "cell_type": "markdown",
   "id": "54430d14",
   "metadata": {},
   "source": [
    "### Now lets see how many students passed the exams "
   ]
  },
  {
   "cell_type": "markdown",
   "id": "7f9ed578",
   "metadata": {},
   "source": [
    "Let go for maths first. We need to have some passing marks, let say 33."
   ]
  },
  {
   "cell_type": "code",
   "execution_count": 32,
   "id": "ccdc5c6b",
   "metadata": {},
   "outputs": [
    {
     "data": {
      "application/vnd.plotly.v1+json": {
       "config": {
        "plotlyServerURL": "https://plot.ly"
       },
       "data": [
        {
         "alignmentgroup": "True",
         "bingroup": "x",
         "hovertemplate": "passed_in_maths=Pass<br>gender=%{x}<br>count=%{y}<extra></extra>",
         "legendgroup": "Pass",
         "marker": {
          "color": "#636efa",
          "pattern": {
           "shape": ""
          }
         },
         "name": "Pass",
         "offsetgroup": "Pass",
         "orientation": "v",
         "showlegend": true,
         "type": "histogram",
         "x": [
          "female",
          "female",
          "female",
          "male",
          "male",
          "female",
          "female",
          "male",
          "male",
          "female",
          "male",
          "male",
          "female",
          "male",
          "female",
          "female",
          "male",
          "male",
          "female",
          "male",
          "female",
          "male",
          "female",
          "male",
          "male",
          "male",
          "female",
          "male",
          "female",
          "female",
          "female",
          "female",
          "male",
          "male",
          "male",
          "female",
          "female",
          "female",
          "male",
          "male",
          "female",
          "female",
          "male",
          "female",
          "male",
          "female",
          "female",
          "female",
          "male",
          "male",
          "male",
          "male",
          "male",
          "female",
          "female",
          "male",
          "male",
          "male",
          "male",
          "male",
          "female",
          "female",
          "male",
          "male",
          "female",
          "male",
          "female",
          "female",
          "male",
          "female",
          "male",
          "male",
          "male",
          "male",
          "female",
          "female",
          "female",
          "male",
          "male",
          "male",
          "male",
          "female",
          "female",
          "female",
          "female",
          "female",
          "female",
          "male",
          "male",
          "female",
          "male",
          "male",
          "female",
          "female",
          "female",
          "male",
          "male",
          "female",
          "male",
          "male",
          "female",
          "female",
          "male",
          "female",
          "female",
          "female",
          "male",
          "male",
          "female",
          "female",
          "male",
          "female",
          "female",
          "female",
          "female",
          "female",
          "male",
          "female",
          "male",
          "male",
          "female",
          "male",
          "male",
          "male",
          "female",
          "male",
          "male",
          "male",
          "female",
          "male",
          "male",
          "male",
          "male",
          "female",
          "male",
          "female",
          "female",
          "female",
          "male",
          "male",
          "male",
          "male",
          "female",
          "male",
          "male",
          "male",
          "female",
          "male",
          "male",
          "female",
          "female",
          "male",
          "female",
          "male",
          "male",
          "female",
          "male",
          "male",
          "female",
          "female",
          "male",
          "female",
          "female",
          "female",
          "male",
          "male",
          "female",
          "female",
          "female",
          "female",
          "female",
          "female",
          "female",
          "female",
          "male",
          "female",
          "female",
          "female",
          "male",
          "male",
          "male",
          "male",
          "male",
          "female",
          "female",
          "male",
          "female",
          "male",
          "female",
          "male",
          "male",
          "male",
          "female",
          "female",
          "female",
          "female",
          "male",
          "female",
          "male",
          "male",
          "male",
          "male",
          "female",
          "female",
          "male",
          "male",
          "female",
          "male",
          "male",
          "male",
          "female",
          "female",
          "male",
          "male",
          "female",
          "male",
          "female",
          "male",
          "female",
          "female",
          "female",
          "male",
          "male",
          "female",
          "male",
          "male",
          "female",
          "male",
          "male",
          "male",
          "male",
          "female",
          "male",
          "male",
          "male",
          "female",
          "female",
          "male",
          "male",
          "male",
          "male",
          "female",
          "female",
          "male",
          "male",
          "female",
          "female",
          "male",
          "male",
          "female",
          "female",
          "male",
          "female",
          "female",
          "female",
          "male",
          "female",
          "female",
          "male",
          "male",
          "female",
          "female",
          "female",
          "female",
          "male",
          "male",
          "female",
          "female",
          "male",
          "male",
          "female",
          "female",
          "female",
          "male",
          "male",
          "male",
          "female",
          "female",
          "female",
          "male",
          "male",
          "female",
          "male",
          "male",
          "male",
          "male",
          "male",
          "female",
          "male",
          "male",
          "male",
          "male",
          "male",
          "male",
          "male",
          "male",
          "female",
          "male",
          "female",
          "male",
          "male",
          "male",
          "female",
          "female",
          "female",
          "male",
          "male",
          "female",
          "female",
          "male",
          "female",
          "male",
          "male",
          "female",
          "female",
          "female",
          "female",
          "female",
          "female",
          "female",
          "male",
          "male",
          "female",
          "male",
          "male",
          "male",
          "male",
          "female",
          "female",
          "male",
          "male",
          "female",
          "male",
          "female",
          "female",
          "male",
          "male",
          "female",
          "male",
          "female",
          "male",
          "male",
          "female",
          "male",
          "female",
          "female",
          "female",
          "female",
          "male",
          "female",
          "male",
          "female",
          "female",
          "male",
          "female",
          "male",
          "male",
          "male",
          "male",
          "female",
          "female",
          "male",
          "female",
          "male",
          "female",
          "female",
          "male",
          "female",
          "female",
          "female",
          "male",
          "female",
          "male",
          "male",
          "female",
          "female",
          "female",
          "female",
          "female",
          "female",
          "male",
          "male",
          "female",
          "male",
          "male",
          "female",
          "male",
          "female",
          "female",
          "male",
          "male",
          "female",
          "male",
          "female",
          "female",
          "female",
          "female",
          "male",
          "female",
          "female",
          "male",
          "female",
          "male",
          "male",
          "male",
          "female",
          "male",
          "male",
          "male",
          "male",
          "male",
          "female",
          "female",
          "female",
          "female",
          "male",
          "female",
          "male",
          "male",
          "male",
          "male",
          "male",
          "female",
          "male",
          "female",
          "male",
          "male",
          "male",
          "male",
          "male",
          "male",
          "female",
          "female",
          "female",
          "female",
          "male",
          "female",
          "male",
          "male",
          "male",
          "male",
          "female",
          "female",
          "female",
          "male",
          "female",
          "male",
          "female",
          "male",
          "female",
          "male",
          "male",
          "male",
          "female",
          "female",
          "male",
          "female",
          "male",
          "female",
          "male",
          "female",
          "female",
          "female",
          "female",
          "female",
          "female",
          "male",
          "male",
          "female",
          "male",
          "male",
          "female",
          "male",
          "male",
          "female",
          "male",
          "male",
          "female",
          "male",
          "male",
          "female",
          "female",
          "female",
          "female",
          "female",
          "male",
          "female",
          "female",
          "female",
          "male",
          "female",
          "female",
          "male",
          "female",
          "female",
          "female",
          "male",
          "male",
          "male",
          "female",
          "male",
          "male",
          "male",
          "female",
          "female",
          "female",
          "female",
          "female",
          "female",
          "female",
          "male",
          "female",
          "male",
          "male",
          "male",
          "male",
          "male",
          "female",
          "female",
          "female",
          "female",
          "male",
          "female",
          "male",
          "female",
          "male",
          "female",
          "male",
          "male",
          "male",
          "male",
          "female",
          "female",
          "female",
          "male",
          "female",
          "male",
          "female",
          "male",
          "male",
          "male",
          "female",
          "male",
          "male",
          "female",
          "male",
          "female",
          "male",
          "female",
          "female",
          "male",
          "female",
          "male",
          "male",
          "female",
          "female",
          "male",
          "male",
          "male",
          "male",
          "female",
          "female",
          "female",
          "male",
          "male",
          "female",
          "female",
          "female",
          "female",
          "female",
          "female",
          "female",
          "female",
          "female",
          "female",
          "female",
          "female",
          "female",
          "male",
          "male",
          "male",
          "female",
          "female",
          "female",
          "male",
          "female",
          "female",
          "female",
          "female",
          "male",
          "male",
          "male",
          "female",
          "female",
          "female",
          "female",
          "male",
          "female",
          "male",
          "female",
          "female",
          "female",
          "female",
          "male",
          "male",
          "male",
          "female",
          "male",
          "male",
          "male",
          "female",
          "male",
          "male",
          "male",
          "male",
          "female",
          "male",
          "male",
          "female",
          "female",
          "male",
          "male",
          "female",
          "female",
          "male",
          "female",
          "male",
          "female",
          "female",
          "female",
          "male",
          "female",
          "female",
          "female",
          "female",
          "female",
          "male",
          "female",
          "female",
          "female",
          "female",
          "female",
          "male",
          "male",
          "female",
          "male",
          "male",
          "male",
          "female",
          "female",
          "male",
          "female",
          "female",
          "female",
          "male",
          "male",
          "female",
          "male",
          "female",
          "female",
          "female",
          "female",
          "female",
          "female",
          "male",
          "male",
          "female",
          "male",
          "male",
          "male",
          "female",
          "male",
          "male",
          "male",
          "male",
          "female",
          "female",
          "female",
          "female",
          "female",
          "female",
          "female",
          "female",
          "female",
          "male",
          "female",
          "female",
          "male",
          "female",
          "female",
          "male",
          "male",
          "male",
          "male",
          "female",
          "male",
          "female",
          "female",
          "male",
          "female",
          "female",
          "male",
          "female",
          "female",
          "male",
          "female",
          "male",
          "female",
          "male",
          "male",
          "male",
          "female",
          "male",
          "female",
          "male",
          "female",
          "male",
          "female",
          "male",
          "female",
          "male",
          "male",
          "female",
          "male",
          "male",
          "male",
          "female",
          "female",
          "female",
          "male",
          "male",
          "male",
          "male",
          "female",
          "male",
          "male",
          "male",
          "male",
          "female",
          "male",
          "female",
          "male",
          "male",
          "female",
          "male",
          "female",
          "female",
          "male",
          "female",
          "male",
          "female",
          "female",
          "male",
          "female",
          "male",
          "male",
          "male",
          "female",
          "female",
          "male",
          "female",
          "female",
          "female",
          "female",
          "male",
          "female",
          "female",
          "female",
          "female",
          "male",
          "female",
          "male",
          "female",
          "female",
          "female",
          "male",
          "male",
          "female",
          "female",
          "male",
          "female",
          "male",
          "female",
          "male",
          "male",
          "female",
          "female",
          "female",
          "male",
          "female",
          "female",
          "male",
          "male",
          "male",
          "male",
          "female",
          "male",
          "female",
          "male",
          "female",
          "male",
          "female",
          "female",
          "female",
          "female",
          "male",
          "female",
          "female",
          "male",
          "female",
          "female",
          "female",
          "male",
          "female",
          "female",
          "male",
          "female",
          "male",
          "female",
          "male",
          "female",
          "male",
          "female",
          "female",
          "male",
          "male",
          "female",
          "male",
          "male",
          "male",
          "female",
          "male",
          "male",
          "female",
          "female",
          "male",
          "male",
          "female",
          "male",
          "female",
          "male",
          "male",
          "female",
          "female",
          "male",
          "female",
          "male",
          "male",
          "male",
          "male",
          "male",
          "male",
          "male",
          "female",
          "male",
          "male",
          "female",
          "male",
          "male",
          "male",
          "female",
          "female",
          "male",
          "female",
          "female",
          "male",
          "female",
          "female",
          "female",
          "male",
          "female",
          "male",
          "female",
          "female",
          "female",
          "male",
          "female",
          "male",
          "female",
          "male",
          "female",
          "male",
          "female",
          "female",
          "female",
          "female",
          "male",
          "male",
          "female",
          "female",
          "male",
          "male",
          "female",
          "female",
          "female",
          "female",
          "female",
          "male",
          "female",
          "female",
          "male",
          "male",
          "female",
          "male",
          "female",
          "male",
          "male",
          "male",
          "female",
          "male",
          "female",
          "male",
          "male",
          "male",
          "male",
          "male",
          "male",
          "male",
          "female",
          "male",
          "male",
          "male",
          "female",
          "male",
          "male",
          "female",
          "female",
          "male",
          "female",
          "male",
          "female",
          "male",
          "female",
          "female",
          "male",
          "female",
          "male",
          "male",
          "female",
          "female",
          "male",
          "female",
          "female",
          "female",
          "female",
          "male",
          "female",
          "male",
          "male",
          "female",
          "female",
          "female",
          "male",
          "female",
          "female",
          "female",
          "female",
          "male",
          "male",
          "male",
          "female",
          "male",
          "male",
          "female",
          "female",
          "male",
          "female",
          "male",
          "female",
          "female",
          "male",
          "female",
          "female",
          "female",
          "male",
          "female",
          "male",
          "female",
          "female",
          "female"
         ],
         "xaxis": "x",
         "yaxis": "y"
        },
        {
         "alignmentgroup": "True",
         "bingroup": "x",
         "hovertemplate": "passed_in_maths=Fale<br>gender=%{x}<br>count=%{y}<extra></extra>",
         "legendgroup": "Fale",
         "marker": {
          "color": "#EF553B",
          "pattern": {
           "shape": ""
          }
         },
         "name": "Fale",
         "offsetgroup": "Fale",
         "orientation": "v",
         "showlegend": true,
         "type": "histogram",
         "x": [
          "female",
          "female",
          "female",
          "male",
          "male",
          "female",
          "male",
          "female",
          "female",
          "female",
          "female",
          "female",
          "male",
          "female",
          "female",
          "female",
          "female",
          "female",
          "female",
          "female"
         ],
         "xaxis": "x",
         "yaxis": "y"
        }
       ],
       "layout": {
        "barmode": "relative",
        "legend": {
         "title": {
          "text": "passed_in_maths"
         },
         "tracegroupgap": 0
        },
        "margin": {
         "t": 60
        },
        "template": {
         "data": {
          "bar": [
           {
            "error_x": {
             "color": "#2a3f5f"
            },
            "error_y": {
             "color": "#2a3f5f"
            },
            "marker": {
             "line": {
              "color": "#E5ECF6",
              "width": 0.5
             },
             "pattern": {
              "fillmode": "overlay",
              "size": 10,
              "solidity": 0.2
             }
            },
            "type": "bar"
           }
          ],
          "barpolar": [
           {
            "marker": {
             "line": {
              "color": "#E5ECF6",
              "width": 0.5
             },
             "pattern": {
              "fillmode": "overlay",
              "size": 10,
              "solidity": 0.2
             }
            },
            "type": "barpolar"
           }
          ],
          "carpet": [
           {
            "aaxis": {
             "endlinecolor": "#2a3f5f",
             "gridcolor": "white",
             "linecolor": "white",
             "minorgridcolor": "white",
             "startlinecolor": "#2a3f5f"
            },
            "baxis": {
             "endlinecolor": "#2a3f5f",
             "gridcolor": "white",
             "linecolor": "white",
             "minorgridcolor": "white",
             "startlinecolor": "#2a3f5f"
            },
            "type": "carpet"
           }
          ],
          "choropleth": [
           {
            "colorbar": {
             "outlinewidth": 0,
             "ticks": ""
            },
            "type": "choropleth"
           }
          ],
          "contour": [
           {
            "colorbar": {
             "outlinewidth": 0,
             "ticks": ""
            },
            "colorscale": [
             [
              0,
              "#0d0887"
             ],
             [
              0.1111111111111111,
              "#46039f"
             ],
             [
              0.2222222222222222,
              "#7201a8"
             ],
             [
              0.3333333333333333,
              "#9c179e"
             ],
             [
              0.4444444444444444,
              "#bd3786"
             ],
             [
              0.5555555555555556,
              "#d8576b"
             ],
             [
              0.6666666666666666,
              "#ed7953"
             ],
             [
              0.7777777777777778,
              "#fb9f3a"
             ],
             [
              0.8888888888888888,
              "#fdca26"
             ],
             [
              1,
              "#f0f921"
             ]
            ],
            "type": "contour"
           }
          ],
          "contourcarpet": [
           {
            "colorbar": {
             "outlinewidth": 0,
             "ticks": ""
            },
            "type": "contourcarpet"
           }
          ],
          "heatmap": [
           {
            "colorbar": {
             "outlinewidth": 0,
             "ticks": ""
            },
            "colorscale": [
             [
              0,
              "#0d0887"
             ],
             [
              0.1111111111111111,
              "#46039f"
             ],
             [
              0.2222222222222222,
              "#7201a8"
             ],
             [
              0.3333333333333333,
              "#9c179e"
             ],
             [
              0.4444444444444444,
              "#bd3786"
             ],
             [
              0.5555555555555556,
              "#d8576b"
             ],
             [
              0.6666666666666666,
              "#ed7953"
             ],
             [
              0.7777777777777778,
              "#fb9f3a"
             ],
             [
              0.8888888888888888,
              "#fdca26"
             ],
             [
              1,
              "#f0f921"
             ]
            ],
            "type": "heatmap"
           }
          ],
          "heatmapgl": [
           {
            "colorbar": {
             "outlinewidth": 0,
             "ticks": ""
            },
            "colorscale": [
             [
              0,
              "#0d0887"
             ],
             [
              0.1111111111111111,
              "#46039f"
             ],
             [
              0.2222222222222222,
              "#7201a8"
             ],
             [
              0.3333333333333333,
              "#9c179e"
             ],
             [
              0.4444444444444444,
              "#bd3786"
             ],
             [
              0.5555555555555556,
              "#d8576b"
             ],
             [
              0.6666666666666666,
              "#ed7953"
             ],
             [
              0.7777777777777778,
              "#fb9f3a"
             ],
             [
              0.8888888888888888,
              "#fdca26"
             ],
             [
              1,
              "#f0f921"
             ]
            ],
            "type": "heatmapgl"
           }
          ],
          "histogram": [
           {
            "marker": {
             "pattern": {
              "fillmode": "overlay",
              "size": 10,
              "solidity": 0.2
             }
            },
            "type": "histogram"
           }
          ],
          "histogram2d": [
           {
            "colorbar": {
             "outlinewidth": 0,
             "ticks": ""
            },
            "colorscale": [
             [
              0,
              "#0d0887"
             ],
             [
              0.1111111111111111,
              "#46039f"
             ],
             [
              0.2222222222222222,
              "#7201a8"
             ],
             [
              0.3333333333333333,
              "#9c179e"
             ],
             [
              0.4444444444444444,
              "#bd3786"
             ],
             [
              0.5555555555555556,
              "#d8576b"
             ],
             [
              0.6666666666666666,
              "#ed7953"
             ],
             [
              0.7777777777777778,
              "#fb9f3a"
             ],
             [
              0.8888888888888888,
              "#fdca26"
             ],
             [
              1,
              "#f0f921"
             ]
            ],
            "type": "histogram2d"
           }
          ],
          "histogram2dcontour": [
           {
            "colorbar": {
             "outlinewidth": 0,
             "ticks": ""
            },
            "colorscale": [
             [
              0,
              "#0d0887"
             ],
             [
              0.1111111111111111,
              "#46039f"
             ],
             [
              0.2222222222222222,
              "#7201a8"
             ],
             [
              0.3333333333333333,
              "#9c179e"
             ],
             [
              0.4444444444444444,
              "#bd3786"
             ],
             [
              0.5555555555555556,
              "#d8576b"
             ],
             [
              0.6666666666666666,
              "#ed7953"
             ],
             [
              0.7777777777777778,
              "#fb9f3a"
             ],
             [
              0.8888888888888888,
              "#fdca26"
             ],
             [
              1,
              "#f0f921"
             ]
            ],
            "type": "histogram2dcontour"
           }
          ],
          "mesh3d": [
           {
            "colorbar": {
             "outlinewidth": 0,
             "ticks": ""
            },
            "type": "mesh3d"
           }
          ],
          "parcoords": [
           {
            "line": {
             "colorbar": {
              "outlinewidth": 0,
              "ticks": ""
             }
            },
            "type": "parcoords"
           }
          ],
          "pie": [
           {
            "automargin": true,
            "type": "pie"
           }
          ],
          "scatter": [
           {
            "marker": {
             "colorbar": {
              "outlinewidth": 0,
              "ticks": ""
             }
            },
            "type": "scatter"
           }
          ],
          "scatter3d": [
           {
            "line": {
             "colorbar": {
              "outlinewidth": 0,
              "ticks": ""
             }
            },
            "marker": {
             "colorbar": {
              "outlinewidth": 0,
              "ticks": ""
             }
            },
            "type": "scatter3d"
           }
          ],
          "scattercarpet": [
           {
            "marker": {
             "colorbar": {
              "outlinewidth": 0,
              "ticks": ""
             }
            },
            "type": "scattercarpet"
           }
          ],
          "scattergeo": [
           {
            "marker": {
             "colorbar": {
              "outlinewidth": 0,
              "ticks": ""
             }
            },
            "type": "scattergeo"
           }
          ],
          "scattergl": [
           {
            "marker": {
             "colorbar": {
              "outlinewidth": 0,
              "ticks": ""
             }
            },
            "type": "scattergl"
           }
          ],
          "scattermapbox": [
           {
            "marker": {
             "colorbar": {
              "outlinewidth": 0,
              "ticks": ""
             }
            },
            "type": "scattermapbox"
           }
          ],
          "scatterpolar": [
           {
            "marker": {
             "colorbar": {
              "outlinewidth": 0,
              "ticks": ""
             }
            },
            "type": "scatterpolar"
           }
          ],
          "scatterpolargl": [
           {
            "marker": {
             "colorbar": {
              "outlinewidth": 0,
              "ticks": ""
             }
            },
            "type": "scatterpolargl"
           }
          ],
          "scatterternary": [
           {
            "marker": {
             "colorbar": {
              "outlinewidth": 0,
              "ticks": ""
             }
            },
            "type": "scatterternary"
           }
          ],
          "surface": [
           {
            "colorbar": {
             "outlinewidth": 0,
             "ticks": ""
            },
            "colorscale": [
             [
              0,
              "#0d0887"
             ],
             [
              0.1111111111111111,
              "#46039f"
             ],
             [
              0.2222222222222222,
              "#7201a8"
             ],
             [
              0.3333333333333333,
              "#9c179e"
             ],
             [
              0.4444444444444444,
              "#bd3786"
             ],
             [
              0.5555555555555556,
              "#d8576b"
             ],
             [
              0.6666666666666666,
              "#ed7953"
             ],
             [
              0.7777777777777778,
              "#fb9f3a"
             ],
             [
              0.8888888888888888,
              "#fdca26"
             ],
             [
              1,
              "#f0f921"
             ]
            ],
            "type": "surface"
           }
          ],
          "table": [
           {
            "cells": {
             "fill": {
              "color": "#EBF0F8"
             },
             "line": {
              "color": "white"
             }
            },
            "header": {
             "fill": {
              "color": "#C8D4E3"
             },
             "line": {
              "color": "white"
             }
            },
            "type": "table"
           }
          ]
         },
         "layout": {
          "annotationdefaults": {
           "arrowcolor": "#2a3f5f",
           "arrowhead": 0,
           "arrowwidth": 1
          },
          "autotypenumbers": "strict",
          "coloraxis": {
           "colorbar": {
            "outlinewidth": 0,
            "ticks": ""
           }
          },
          "colorscale": {
           "diverging": [
            [
             0,
             "#8e0152"
            ],
            [
             0.1,
             "#c51b7d"
            ],
            [
             0.2,
             "#de77ae"
            ],
            [
             0.3,
             "#f1b6da"
            ],
            [
             0.4,
             "#fde0ef"
            ],
            [
             0.5,
             "#f7f7f7"
            ],
            [
             0.6,
             "#e6f5d0"
            ],
            [
             0.7,
             "#b8e186"
            ],
            [
             0.8,
             "#7fbc41"
            ],
            [
             0.9,
             "#4d9221"
            ],
            [
             1,
             "#276419"
            ]
           ],
           "sequential": [
            [
             0,
             "#0d0887"
            ],
            [
             0.1111111111111111,
             "#46039f"
            ],
            [
             0.2222222222222222,
             "#7201a8"
            ],
            [
             0.3333333333333333,
             "#9c179e"
            ],
            [
             0.4444444444444444,
             "#bd3786"
            ],
            [
             0.5555555555555556,
             "#d8576b"
            ],
            [
             0.6666666666666666,
             "#ed7953"
            ],
            [
             0.7777777777777778,
             "#fb9f3a"
            ],
            [
             0.8888888888888888,
             "#fdca26"
            ],
            [
             1,
             "#f0f921"
            ]
           ],
           "sequentialminus": [
            [
             0,
             "#0d0887"
            ],
            [
             0.1111111111111111,
             "#46039f"
            ],
            [
             0.2222222222222222,
             "#7201a8"
            ],
            [
             0.3333333333333333,
             "#9c179e"
            ],
            [
             0.4444444444444444,
             "#bd3786"
            ],
            [
             0.5555555555555556,
             "#d8576b"
            ],
            [
             0.6666666666666666,
             "#ed7953"
            ],
            [
             0.7777777777777778,
             "#fb9f3a"
            ],
            [
             0.8888888888888888,
             "#fdca26"
            ],
            [
             1,
             "#f0f921"
            ]
           ]
          },
          "colorway": [
           "#636efa",
           "#EF553B",
           "#00cc96",
           "#ab63fa",
           "#FFA15A",
           "#19d3f3",
           "#FF6692",
           "#B6E880",
           "#FF97FF",
           "#FECB52"
          ],
          "font": {
           "color": "#2a3f5f"
          },
          "geo": {
           "bgcolor": "white",
           "lakecolor": "white",
           "landcolor": "#E5ECF6",
           "showlakes": true,
           "showland": true,
           "subunitcolor": "white"
          },
          "hoverlabel": {
           "align": "left"
          },
          "hovermode": "closest",
          "mapbox": {
           "style": "light"
          },
          "paper_bgcolor": "white",
          "plot_bgcolor": "#E5ECF6",
          "polar": {
           "angularaxis": {
            "gridcolor": "white",
            "linecolor": "white",
            "ticks": ""
           },
           "bgcolor": "#E5ECF6",
           "radialaxis": {
            "gridcolor": "white",
            "linecolor": "white",
            "ticks": ""
           }
          },
          "scene": {
           "xaxis": {
            "backgroundcolor": "#E5ECF6",
            "gridcolor": "white",
            "gridwidth": 2,
            "linecolor": "white",
            "showbackground": true,
            "ticks": "",
            "zerolinecolor": "white"
           },
           "yaxis": {
            "backgroundcolor": "#E5ECF6",
            "gridcolor": "white",
            "gridwidth": 2,
            "linecolor": "white",
            "showbackground": true,
            "ticks": "",
            "zerolinecolor": "white"
           },
           "zaxis": {
            "backgroundcolor": "#E5ECF6",
            "gridcolor": "white",
            "gridwidth": 2,
            "linecolor": "white",
            "showbackground": true,
            "ticks": "",
            "zerolinecolor": "white"
           }
          },
          "shapedefaults": {
           "line": {
            "color": "#2a3f5f"
           }
          },
          "ternary": {
           "aaxis": {
            "gridcolor": "white",
            "linecolor": "white",
            "ticks": ""
           },
           "baxis": {
            "gridcolor": "white",
            "linecolor": "white",
            "ticks": ""
           },
           "bgcolor": "#E5ECF6",
           "caxis": {
            "gridcolor": "white",
            "linecolor": "white",
            "ticks": ""
           }
          },
          "title": {
           "x": 0.05
          },
          "xaxis": {
           "automargin": true,
           "gridcolor": "white",
           "linecolor": "white",
           "ticks": "",
           "title": {
            "standoff": 15
           },
           "zerolinecolor": "white",
           "zerolinewidth": 2
          },
          "yaxis": {
           "automargin": true,
           "gridcolor": "white",
           "linecolor": "white",
           "ticks": "",
           "title": {
            "standoff": 15
           },
           "zerolinecolor": "white",
           "zerolinewidth": 2
          }
         }
        },
        "xaxis": {
         "anchor": "y",
         "domain": [
          0,
          1
         ],
         "title": {
          "text": "gender"
         }
        },
        "yaxis": {
         "anchor": "x",
         "domain": [
          0,
          1
         ],
         "title": {
          "text": "count"
         }
        }
       }
      },
      "text/html": [
       "<div>                            <div id=\"79b06f51-5fd0-4fb9-9d86-4085f8b9806b\" class=\"plotly-graph-div\" style=\"height:525px; width:100%;\"></div>            <script type=\"text/javascript\">                require([\"plotly\"], function(Plotly) {                    window.PLOTLYENV=window.PLOTLYENV || {};                                    if (document.getElementById(\"79b06f51-5fd0-4fb9-9d86-4085f8b9806b\")) {                    Plotly.newPlot(                        \"79b06f51-5fd0-4fb9-9d86-4085f8b9806b\",                        [{\"alignmentgroup\":\"True\",\"bingroup\":\"x\",\"hovertemplate\":\"passed_in_maths=Pass<br>gender=%{x}<br>count=%{y}<extra></extra>\",\"legendgroup\":\"Pass\",\"marker\":{\"color\":\"#636efa\",\"pattern\":{\"shape\":\"\"}},\"name\":\"Pass\",\"offsetgroup\":\"Pass\",\"orientation\":\"v\",\"showlegend\":true,\"x\":[\"female\",\"female\",\"female\",\"male\",\"male\",\"female\",\"female\",\"male\",\"male\",\"female\",\"male\",\"male\",\"female\",\"male\",\"female\",\"female\",\"male\",\"male\",\"female\",\"male\",\"female\",\"male\",\"female\",\"male\",\"male\",\"male\",\"female\",\"male\",\"female\",\"female\",\"female\",\"female\",\"male\",\"male\",\"male\",\"female\",\"female\",\"female\",\"male\",\"male\",\"female\",\"female\",\"male\",\"female\",\"male\",\"female\",\"female\",\"female\",\"male\",\"male\",\"male\",\"male\",\"male\",\"female\",\"female\",\"male\",\"male\",\"male\",\"male\",\"male\",\"female\",\"female\",\"male\",\"male\",\"female\",\"male\",\"female\",\"female\",\"male\",\"female\",\"male\",\"male\",\"male\",\"male\",\"female\",\"female\",\"female\",\"male\",\"male\",\"male\",\"male\",\"female\",\"female\",\"female\",\"female\",\"female\",\"female\",\"male\",\"male\",\"female\",\"male\",\"male\",\"female\",\"female\",\"female\",\"male\",\"male\",\"female\",\"male\",\"male\",\"female\",\"female\",\"male\",\"female\",\"female\",\"female\",\"male\",\"male\",\"female\",\"female\",\"male\",\"female\",\"female\",\"female\",\"female\",\"female\",\"male\",\"female\",\"male\",\"male\",\"female\",\"male\",\"male\",\"male\",\"female\",\"male\",\"male\",\"male\",\"female\",\"male\",\"male\",\"male\",\"male\",\"female\",\"male\",\"female\",\"female\",\"female\",\"male\",\"male\",\"male\",\"male\",\"female\",\"male\",\"male\",\"male\",\"female\",\"male\",\"male\",\"female\",\"female\",\"male\",\"female\",\"male\",\"male\",\"female\",\"male\",\"male\",\"female\",\"female\",\"male\",\"female\",\"female\",\"female\",\"male\",\"male\",\"female\",\"female\",\"female\",\"female\",\"female\",\"female\",\"female\",\"female\",\"male\",\"female\",\"female\",\"female\",\"male\",\"male\",\"male\",\"male\",\"male\",\"female\",\"female\",\"male\",\"female\",\"male\",\"female\",\"male\",\"male\",\"male\",\"female\",\"female\",\"female\",\"female\",\"male\",\"female\",\"male\",\"male\",\"male\",\"male\",\"female\",\"female\",\"male\",\"male\",\"female\",\"male\",\"male\",\"male\",\"female\",\"female\",\"male\",\"male\",\"female\",\"male\",\"female\",\"male\",\"female\",\"female\",\"female\",\"male\",\"male\",\"female\",\"male\",\"male\",\"female\",\"male\",\"male\",\"male\",\"male\",\"female\",\"male\",\"male\",\"male\",\"female\",\"female\",\"male\",\"male\",\"male\",\"male\",\"female\",\"female\",\"male\",\"male\",\"female\",\"female\",\"male\",\"male\",\"female\",\"female\",\"male\",\"female\",\"female\",\"female\",\"male\",\"female\",\"female\",\"male\",\"male\",\"female\",\"female\",\"female\",\"female\",\"male\",\"male\",\"female\",\"female\",\"male\",\"male\",\"female\",\"female\",\"female\",\"male\",\"male\",\"male\",\"female\",\"female\",\"female\",\"male\",\"male\",\"female\",\"male\",\"male\",\"male\",\"male\",\"male\",\"female\",\"male\",\"male\",\"male\",\"male\",\"male\",\"male\",\"male\",\"male\",\"female\",\"male\",\"female\",\"male\",\"male\",\"male\",\"female\",\"female\",\"female\",\"male\",\"male\",\"female\",\"female\",\"male\",\"female\",\"male\",\"male\",\"female\",\"female\",\"female\",\"female\",\"female\",\"female\",\"female\",\"male\",\"male\",\"female\",\"male\",\"male\",\"male\",\"male\",\"female\",\"female\",\"male\",\"male\",\"female\",\"male\",\"female\",\"female\",\"male\",\"male\",\"female\",\"male\",\"female\",\"male\",\"male\",\"female\",\"male\",\"female\",\"female\",\"female\",\"female\",\"male\",\"female\",\"male\",\"female\",\"female\",\"male\",\"female\",\"male\",\"male\",\"male\",\"male\",\"female\",\"female\",\"male\",\"female\",\"male\",\"female\",\"female\",\"male\",\"female\",\"female\",\"female\",\"male\",\"female\",\"male\",\"male\",\"female\",\"female\",\"female\",\"female\",\"female\",\"female\",\"male\",\"male\",\"female\",\"male\",\"male\",\"female\",\"male\",\"female\",\"female\",\"male\",\"male\",\"female\",\"male\",\"female\",\"female\",\"female\",\"female\",\"male\",\"female\",\"female\",\"male\",\"female\",\"male\",\"male\",\"male\",\"female\",\"male\",\"male\",\"male\",\"male\",\"male\",\"female\",\"female\",\"female\",\"female\",\"male\",\"female\",\"male\",\"male\",\"male\",\"male\",\"male\",\"female\",\"male\",\"female\",\"male\",\"male\",\"male\",\"male\",\"male\",\"male\",\"female\",\"female\",\"female\",\"female\",\"male\",\"female\",\"male\",\"male\",\"male\",\"male\",\"female\",\"female\",\"female\",\"male\",\"female\",\"male\",\"female\",\"male\",\"female\",\"male\",\"male\",\"male\",\"female\",\"female\",\"male\",\"female\",\"male\",\"female\",\"male\",\"female\",\"female\",\"female\",\"female\",\"female\",\"female\",\"male\",\"male\",\"female\",\"male\",\"male\",\"female\",\"male\",\"male\",\"female\",\"male\",\"male\",\"female\",\"male\",\"male\",\"female\",\"female\",\"female\",\"female\",\"female\",\"male\",\"female\",\"female\",\"female\",\"male\",\"female\",\"female\",\"male\",\"female\",\"female\",\"female\",\"male\",\"male\",\"male\",\"female\",\"male\",\"male\",\"male\",\"female\",\"female\",\"female\",\"female\",\"female\",\"female\",\"female\",\"male\",\"female\",\"male\",\"male\",\"male\",\"male\",\"male\",\"female\",\"female\",\"female\",\"female\",\"male\",\"female\",\"male\",\"female\",\"male\",\"female\",\"male\",\"male\",\"male\",\"male\",\"female\",\"female\",\"female\",\"male\",\"female\",\"male\",\"female\",\"male\",\"male\",\"male\",\"female\",\"male\",\"male\",\"female\",\"male\",\"female\",\"male\",\"female\",\"female\",\"male\",\"female\",\"male\",\"male\",\"female\",\"female\",\"male\",\"male\",\"male\",\"male\",\"female\",\"female\",\"female\",\"male\",\"male\",\"female\",\"female\",\"female\",\"female\",\"female\",\"female\",\"female\",\"female\",\"female\",\"female\",\"female\",\"female\",\"female\",\"male\",\"male\",\"male\",\"female\",\"female\",\"female\",\"male\",\"female\",\"female\",\"female\",\"female\",\"male\",\"male\",\"male\",\"female\",\"female\",\"female\",\"female\",\"male\",\"female\",\"male\",\"female\",\"female\",\"female\",\"female\",\"male\",\"male\",\"male\",\"female\",\"male\",\"male\",\"male\",\"female\",\"male\",\"male\",\"male\",\"male\",\"female\",\"male\",\"male\",\"female\",\"female\",\"male\",\"male\",\"female\",\"female\",\"male\",\"female\",\"male\",\"female\",\"female\",\"female\",\"male\",\"female\",\"female\",\"female\",\"female\",\"female\",\"male\",\"female\",\"female\",\"female\",\"female\",\"female\",\"male\",\"male\",\"female\",\"male\",\"male\",\"male\",\"female\",\"female\",\"male\",\"female\",\"female\",\"female\",\"male\",\"male\",\"female\",\"male\",\"female\",\"female\",\"female\",\"female\",\"female\",\"female\",\"male\",\"male\",\"female\",\"male\",\"male\",\"male\",\"female\",\"male\",\"male\",\"male\",\"male\",\"female\",\"female\",\"female\",\"female\",\"female\",\"female\",\"female\",\"female\",\"female\",\"male\",\"female\",\"female\",\"male\",\"female\",\"female\",\"male\",\"male\",\"male\",\"male\",\"female\",\"male\",\"female\",\"female\",\"male\",\"female\",\"female\",\"male\",\"female\",\"female\",\"male\",\"female\",\"male\",\"female\",\"male\",\"male\",\"male\",\"female\",\"male\",\"female\",\"male\",\"female\",\"male\",\"female\",\"male\",\"female\",\"male\",\"male\",\"female\",\"male\",\"male\",\"male\",\"female\",\"female\",\"female\",\"male\",\"male\",\"male\",\"male\",\"female\",\"male\",\"male\",\"male\",\"male\",\"female\",\"male\",\"female\",\"male\",\"male\",\"female\",\"male\",\"female\",\"female\",\"male\",\"female\",\"male\",\"female\",\"female\",\"male\",\"female\",\"male\",\"male\",\"male\",\"female\",\"female\",\"male\",\"female\",\"female\",\"female\",\"female\",\"male\",\"female\",\"female\",\"female\",\"female\",\"male\",\"female\",\"male\",\"female\",\"female\",\"female\",\"male\",\"male\",\"female\",\"female\",\"male\",\"female\",\"male\",\"female\",\"male\",\"male\",\"female\",\"female\",\"female\",\"male\",\"female\",\"female\",\"male\",\"male\",\"male\",\"male\",\"female\",\"male\",\"female\",\"male\",\"female\",\"male\",\"female\",\"female\",\"female\",\"female\",\"male\",\"female\",\"female\",\"male\",\"female\",\"female\",\"female\",\"male\",\"female\",\"female\",\"male\",\"female\",\"male\",\"female\",\"male\",\"female\",\"male\",\"female\",\"female\",\"male\",\"male\",\"female\",\"male\",\"male\",\"male\",\"female\",\"male\",\"male\",\"female\",\"female\",\"male\",\"male\",\"female\",\"male\",\"female\",\"male\",\"male\",\"female\",\"female\",\"male\",\"female\",\"male\",\"male\",\"male\",\"male\",\"male\",\"male\",\"male\",\"female\",\"male\",\"male\",\"female\",\"male\",\"male\",\"male\",\"female\",\"female\",\"male\",\"female\",\"female\",\"male\",\"female\",\"female\",\"female\",\"male\",\"female\",\"male\",\"female\",\"female\",\"female\",\"male\",\"female\",\"male\",\"female\",\"male\",\"female\",\"male\",\"female\",\"female\",\"female\",\"female\",\"male\",\"male\",\"female\",\"female\",\"male\",\"male\",\"female\",\"female\",\"female\",\"female\",\"female\",\"male\",\"female\",\"female\",\"male\",\"male\",\"female\",\"male\",\"female\",\"male\",\"male\",\"male\",\"female\",\"male\",\"female\",\"male\",\"male\",\"male\",\"male\",\"male\",\"male\",\"male\",\"female\",\"male\",\"male\",\"male\",\"female\",\"male\",\"male\",\"female\",\"female\",\"male\",\"female\",\"male\",\"female\",\"male\",\"female\",\"female\",\"male\",\"female\",\"male\",\"male\",\"female\",\"female\",\"male\",\"female\",\"female\",\"female\",\"female\",\"male\",\"female\",\"male\",\"male\",\"female\",\"female\",\"female\",\"male\",\"female\",\"female\",\"female\",\"female\",\"male\",\"male\",\"male\",\"female\",\"male\",\"male\",\"female\",\"female\",\"male\",\"female\",\"male\",\"female\",\"female\",\"male\",\"female\",\"female\",\"female\",\"male\",\"female\",\"male\",\"female\",\"female\",\"female\"],\"xaxis\":\"x\",\"yaxis\":\"y\",\"type\":\"histogram\"},{\"alignmentgroup\":\"True\",\"bingroup\":\"x\",\"hovertemplate\":\"passed_in_maths=Fale<br>gender=%{x}<br>count=%{y}<extra></extra>\",\"legendgroup\":\"Fale\",\"marker\":{\"color\":\"#EF553B\",\"pattern\":{\"shape\":\"\"}},\"name\":\"Fale\",\"offsetgroup\":\"Fale\",\"orientation\":\"v\",\"showlegend\":true,\"x\":[\"female\",\"female\",\"female\",\"male\",\"male\",\"female\",\"male\",\"female\",\"female\",\"female\",\"female\",\"female\",\"male\",\"female\",\"female\",\"female\",\"female\",\"female\",\"female\",\"female\"],\"xaxis\":\"x\",\"yaxis\":\"y\",\"type\":\"histogram\"}],                        {\"template\":{\"data\":{\"bar\":[{\"error_x\":{\"color\":\"#2a3f5f\"},\"error_y\":{\"color\":\"#2a3f5f\"},\"marker\":{\"line\":{\"color\":\"#E5ECF6\",\"width\":0.5},\"pattern\":{\"fillmode\":\"overlay\",\"size\":10,\"solidity\":0.2}},\"type\":\"bar\"}],\"barpolar\":[{\"marker\":{\"line\":{\"color\":\"#E5ECF6\",\"width\":0.5},\"pattern\":{\"fillmode\":\"overlay\",\"size\":10,\"solidity\":0.2}},\"type\":\"barpolar\"}],\"carpet\":[{\"aaxis\":{\"endlinecolor\":\"#2a3f5f\",\"gridcolor\":\"white\",\"linecolor\":\"white\",\"minorgridcolor\":\"white\",\"startlinecolor\":\"#2a3f5f\"},\"baxis\":{\"endlinecolor\":\"#2a3f5f\",\"gridcolor\":\"white\",\"linecolor\":\"white\",\"minorgridcolor\":\"white\",\"startlinecolor\":\"#2a3f5f\"},\"type\":\"carpet\"}],\"choropleth\":[{\"colorbar\":{\"outlinewidth\":0,\"ticks\":\"\"},\"type\":\"choropleth\"}],\"contour\":[{\"colorbar\":{\"outlinewidth\":0,\"ticks\":\"\"},\"colorscale\":[[0.0,\"#0d0887\"],[0.1111111111111111,\"#46039f\"],[0.2222222222222222,\"#7201a8\"],[0.3333333333333333,\"#9c179e\"],[0.4444444444444444,\"#bd3786\"],[0.5555555555555556,\"#d8576b\"],[0.6666666666666666,\"#ed7953\"],[0.7777777777777778,\"#fb9f3a\"],[0.8888888888888888,\"#fdca26\"],[1.0,\"#f0f921\"]],\"type\":\"contour\"}],\"contourcarpet\":[{\"colorbar\":{\"outlinewidth\":0,\"ticks\":\"\"},\"type\":\"contourcarpet\"}],\"heatmap\":[{\"colorbar\":{\"outlinewidth\":0,\"ticks\":\"\"},\"colorscale\":[[0.0,\"#0d0887\"],[0.1111111111111111,\"#46039f\"],[0.2222222222222222,\"#7201a8\"],[0.3333333333333333,\"#9c179e\"],[0.4444444444444444,\"#bd3786\"],[0.5555555555555556,\"#d8576b\"],[0.6666666666666666,\"#ed7953\"],[0.7777777777777778,\"#fb9f3a\"],[0.8888888888888888,\"#fdca26\"],[1.0,\"#f0f921\"]],\"type\":\"heatmap\"}],\"heatmapgl\":[{\"colorbar\":{\"outlinewidth\":0,\"ticks\":\"\"},\"colorscale\":[[0.0,\"#0d0887\"],[0.1111111111111111,\"#46039f\"],[0.2222222222222222,\"#7201a8\"],[0.3333333333333333,\"#9c179e\"],[0.4444444444444444,\"#bd3786\"],[0.5555555555555556,\"#d8576b\"],[0.6666666666666666,\"#ed7953\"],[0.7777777777777778,\"#fb9f3a\"],[0.8888888888888888,\"#fdca26\"],[1.0,\"#f0f921\"]],\"type\":\"heatmapgl\"}],\"histogram\":[{\"marker\":{\"pattern\":{\"fillmode\":\"overlay\",\"size\":10,\"solidity\":0.2}},\"type\":\"histogram\"}],\"histogram2d\":[{\"colorbar\":{\"outlinewidth\":0,\"ticks\":\"\"},\"colorscale\":[[0.0,\"#0d0887\"],[0.1111111111111111,\"#46039f\"],[0.2222222222222222,\"#7201a8\"],[0.3333333333333333,\"#9c179e\"],[0.4444444444444444,\"#bd3786\"],[0.5555555555555556,\"#d8576b\"],[0.6666666666666666,\"#ed7953\"],[0.7777777777777778,\"#fb9f3a\"],[0.8888888888888888,\"#fdca26\"],[1.0,\"#f0f921\"]],\"type\":\"histogram2d\"}],\"histogram2dcontour\":[{\"colorbar\":{\"outlinewidth\":0,\"ticks\":\"\"},\"colorscale\":[[0.0,\"#0d0887\"],[0.1111111111111111,\"#46039f\"],[0.2222222222222222,\"#7201a8\"],[0.3333333333333333,\"#9c179e\"],[0.4444444444444444,\"#bd3786\"],[0.5555555555555556,\"#d8576b\"],[0.6666666666666666,\"#ed7953\"],[0.7777777777777778,\"#fb9f3a\"],[0.8888888888888888,\"#fdca26\"],[1.0,\"#f0f921\"]],\"type\":\"histogram2dcontour\"}],\"mesh3d\":[{\"colorbar\":{\"outlinewidth\":0,\"ticks\":\"\"},\"type\":\"mesh3d\"}],\"parcoords\":[{\"line\":{\"colorbar\":{\"outlinewidth\":0,\"ticks\":\"\"}},\"type\":\"parcoords\"}],\"pie\":[{\"automargin\":true,\"type\":\"pie\"}],\"scatter\":[{\"marker\":{\"colorbar\":{\"outlinewidth\":0,\"ticks\":\"\"}},\"type\":\"scatter\"}],\"scatter3d\":[{\"line\":{\"colorbar\":{\"outlinewidth\":0,\"ticks\":\"\"}},\"marker\":{\"colorbar\":{\"outlinewidth\":0,\"ticks\":\"\"}},\"type\":\"scatter3d\"}],\"scattercarpet\":[{\"marker\":{\"colorbar\":{\"outlinewidth\":0,\"ticks\":\"\"}},\"type\":\"scattercarpet\"}],\"scattergeo\":[{\"marker\":{\"colorbar\":{\"outlinewidth\":0,\"ticks\":\"\"}},\"type\":\"scattergeo\"}],\"scattergl\":[{\"marker\":{\"colorbar\":{\"outlinewidth\":0,\"ticks\":\"\"}},\"type\":\"scattergl\"}],\"scattermapbox\":[{\"marker\":{\"colorbar\":{\"outlinewidth\":0,\"ticks\":\"\"}},\"type\":\"scattermapbox\"}],\"scatterpolar\":[{\"marker\":{\"colorbar\":{\"outlinewidth\":0,\"ticks\":\"\"}},\"type\":\"scatterpolar\"}],\"scatterpolargl\":[{\"marker\":{\"colorbar\":{\"outlinewidth\":0,\"ticks\":\"\"}},\"type\":\"scatterpolargl\"}],\"scatterternary\":[{\"marker\":{\"colorbar\":{\"outlinewidth\":0,\"ticks\":\"\"}},\"type\":\"scatterternary\"}],\"surface\":[{\"colorbar\":{\"outlinewidth\":0,\"ticks\":\"\"},\"colorscale\":[[0.0,\"#0d0887\"],[0.1111111111111111,\"#46039f\"],[0.2222222222222222,\"#7201a8\"],[0.3333333333333333,\"#9c179e\"],[0.4444444444444444,\"#bd3786\"],[0.5555555555555556,\"#d8576b\"],[0.6666666666666666,\"#ed7953\"],[0.7777777777777778,\"#fb9f3a\"],[0.8888888888888888,\"#fdca26\"],[1.0,\"#f0f921\"]],\"type\":\"surface\"}],\"table\":[{\"cells\":{\"fill\":{\"color\":\"#EBF0F8\"},\"line\":{\"color\":\"white\"}},\"header\":{\"fill\":{\"color\":\"#C8D4E3\"},\"line\":{\"color\":\"white\"}},\"type\":\"table\"}]},\"layout\":{\"annotationdefaults\":{\"arrowcolor\":\"#2a3f5f\",\"arrowhead\":0,\"arrowwidth\":1},\"autotypenumbers\":\"strict\",\"coloraxis\":{\"colorbar\":{\"outlinewidth\":0,\"ticks\":\"\"}},\"colorscale\":{\"diverging\":[[0,\"#8e0152\"],[0.1,\"#c51b7d\"],[0.2,\"#de77ae\"],[0.3,\"#f1b6da\"],[0.4,\"#fde0ef\"],[0.5,\"#f7f7f7\"],[0.6,\"#e6f5d0\"],[0.7,\"#b8e186\"],[0.8,\"#7fbc41\"],[0.9,\"#4d9221\"],[1,\"#276419\"]],\"sequential\":[[0.0,\"#0d0887\"],[0.1111111111111111,\"#46039f\"],[0.2222222222222222,\"#7201a8\"],[0.3333333333333333,\"#9c179e\"],[0.4444444444444444,\"#bd3786\"],[0.5555555555555556,\"#d8576b\"],[0.6666666666666666,\"#ed7953\"],[0.7777777777777778,\"#fb9f3a\"],[0.8888888888888888,\"#fdca26\"],[1.0,\"#f0f921\"]],\"sequentialminus\":[[0.0,\"#0d0887\"],[0.1111111111111111,\"#46039f\"],[0.2222222222222222,\"#7201a8\"],[0.3333333333333333,\"#9c179e\"],[0.4444444444444444,\"#bd3786\"],[0.5555555555555556,\"#d8576b\"],[0.6666666666666666,\"#ed7953\"],[0.7777777777777778,\"#fb9f3a\"],[0.8888888888888888,\"#fdca26\"],[1.0,\"#f0f921\"]]},\"colorway\":[\"#636efa\",\"#EF553B\",\"#00cc96\",\"#ab63fa\",\"#FFA15A\",\"#19d3f3\",\"#FF6692\",\"#B6E880\",\"#FF97FF\",\"#FECB52\"],\"font\":{\"color\":\"#2a3f5f\"},\"geo\":{\"bgcolor\":\"white\",\"lakecolor\":\"white\",\"landcolor\":\"#E5ECF6\",\"showlakes\":true,\"showland\":true,\"subunitcolor\":\"white\"},\"hoverlabel\":{\"align\":\"left\"},\"hovermode\":\"closest\",\"mapbox\":{\"style\":\"light\"},\"paper_bgcolor\":\"white\",\"plot_bgcolor\":\"#E5ECF6\",\"polar\":{\"angularaxis\":{\"gridcolor\":\"white\",\"linecolor\":\"white\",\"ticks\":\"\"},\"bgcolor\":\"#E5ECF6\",\"radialaxis\":{\"gridcolor\":\"white\",\"linecolor\":\"white\",\"ticks\":\"\"}},\"scene\":{\"xaxis\":{\"backgroundcolor\":\"#E5ECF6\",\"gridcolor\":\"white\",\"gridwidth\":2,\"linecolor\":\"white\",\"showbackground\":true,\"ticks\":\"\",\"zerolinecolor\":\"white\"},\"yaxis\":{\"backgroundcolor\":\"#E5ECF6\",\"gridcolor\":\"white\",\"gridwidth\":2,\"linecolor\":\"white\",\"showbackground\":true,\"ticks\":\"\",\"zerolinecolor\":\"white\"},\"zaxis\":{\"backgroundcolor\":\"#E5ECF6\",\"gridcolor\":\"white\",\"gridwidth\":2,\"linecolor\":\"white\",\"showbackground\":true,\"ticks\":\"\",\"zerolinecolor\":\"white\"}},\"shapedefaults\":{\"line\":{\"color\":\"#2a3f5f\"}},\"ternary\":{\"aaxis\":{\"gridcolor\":\"white\",\"linecolor\":\"white\",\"ticks\":\"\"},\"baxis\":{\"gridcolor\":\"white\",\"linecolor\":\"white\",\"ticks\":\"\"},\"bgcolor\":\"#E5ECF6\",\"caxis\":{\"gridcolor\":\"white\",\"linecolor\":\"white\",\"ticks\":\"\"}},\"title\":{\"x\":0.05},\"xaxis\":{\"automargin\":true,\"gridcolor\":\"white\",\"linecolor\":\"white\",\"ticks\":\"\",\"title\":{\"standoff\":15},\"zerolinecolor\":\"white\",\"zerolinewidth\":2},\"yaxis\":{\"automargin\":true,\"gridcolor\":\"white\",\"linecolor\":\"white\",\"ticks\":\"\",\"title\":{\"standoff\":15},\"zerolinecolor\":\"white\",\"zerolinewidth\":2}}},\"xaxis\":{\"anchor\":\"y\",\"domain\":[0.0,1.0],\"title\":{\"text\":\"gender\"}},\"yaxis\":{\"anchor\":\"x\",\"domain\":[0.0,1.0],\"title\":{\"text\":\"count\"}},\"legend\":{\"title\":{\"text\":\"passed_in_maths\"},\"tracegroupgap\":0},\"margin\":{\"t\":60},\"barmode\":\"relative\"},                        {\"responsive\": true}                    ).then(function(){\n",
       "                            \n",
       "var gd = document.getElementById('79b06f51-5fd0-4fb9-9d86-4085f8b9806b');\n",
       "var x = new MutationObserver(function (mutations, observer) {{\n",
       "        var display = window.getComputedStyle(gd).display;\n",
       "        if (!display || display === 'none') {{\n",
       "            console.log([gd, 'removed!']);\n",
       "            Plotly.purge(gd);\n",
       "            observer.disconnect();\n",
       "        }}\n",
       "}});\n",
       "\n",
       "// Listen for the removal of the full notebook cells\n",
       "var notebookContainer = gd.closest('#notebook-container');\n",
       "if (notebookContainer) {{\n",
       "    x.observe(notebookContainer, {childList: true});\n",
       "}}\n",
       "\n",
       "// Listen for the clearing of the current output cell\n",
       "var outputEl = gd.closest('.output');\n",
       "if (outputEl) {{\n",
       "    x.observe(outputEl, {childList: true});\n",
       "}}\n",
       "\n",
       "                        })                };                });            </script>        </div>"
      ]
     },
     "metadata": {},
     "output_type": "display_data"
    }
   ],
   "source": [
    "passing_marks = 33\n",
    "dataset[\"passed_in_maths\"] = np.where(dataset[\"math score\"]> passing_marks, 'Pass', \"Fale\")\n",
    "px.histogram(dataset, x=\"gender\", color=\"passed_in_maths\")"
   ]
  },
  {
   "cell_type": "code",
   "execution_count": 36,
   "id": "c25c51fe",
   "metadata": {},
   "outputs": [
    {
     "data": {
      "application/vnd.plotly.v1+json": {
       "config": {
        "plotlyServerURL": "https://plot.ly"
       },
       "data": [
        {
         "alignmentgroup": "True",
         "bingroup": "x",
         "hovertemplate": "passed_in_writing=Pass<br>test preparation course=%{x}<br>count=%{y}<extra></extra>",
         "legendgroup": "Pass",
         "marker": {
          "color": "#636efa",
          "pattern": {
           "shape": ""
          }
         },
         "name": "Pass",
         "offsetgroup": "Pass",
         "orientation": "v",
         "showlegend": true,
         "type": "histogram",
         "x": [
          "none",
          "completed",
          "none",
          "none",
          "none",
          "none",
          "completed",
          "none",
          "completed",
          "none",
          "none",
          "none",
          "none",
          "completed",
          "none",
          "none",
          "none",
          "completed",
          "none",
          "none",
          "completed",
          "none",
          "none",
          "completed",
          "none",
          "none",
          "none",
          "none",
          "none",
          "none",
          "none",
          "none",
          "none",
          "none",
          "completed",
          "none",
          "none",
          "completed",
          "none",
          "none",
          "none",
          "none",
          "completed",
          "none",
          "none",
          "completed",
          "none",
          "completed",
          "completed",
          "none",
          "completed",
          "none",
          "none",
          "completed",
          "none",
          "completed",
          "none",
          "completed",
          "completed",
          "none",
          "none",
          "none",
          "none",
          "none",
          "none",
          "none",
          "none",
          "none",
          "completed",
          "completed",
          "none",
          "none",
          "none",
          "none",
          "completed",
          "completed",
          "none",
          "none",
          "none",
          "completed",
          "none",
          "none",
          "none",
          "none",
          "none",
          "none",
          "none",
          "none",
          "none",
          "none",
          "completed",
          "none",
          "completed",
          "completed",
          "completed",
          "none",
          "none",
          "none",
          "completed",
          "none",
          "completed",
          "completed",
          "none",
          "none",
          "completed",
          "none",
          "none",
          "completed",
          "none",
          "none",
          "none",
          "completed",
          "none",
          "none",
          "none",
          "none",
          "none",
          "completed",
          "completed",
          "completed",
          "none",
          "none",
          "none",
          "none",
          "completed",
          "none",
          "none",
          "none",
          "completed",
          "completed",
          "completed",
          "completed",
          "none",
          "completed",
          "none",
          "none",
          "completed",
          "none",
          "none",
          "completed",
          "none",
          "none",
          "none",
          "none",
          "completed",
          "completed",
          "completed",
          "none",
          "completed",
          "none",
          "none",
          "completed",
          "completed",
          "none",
          "completed",
          "none",
          "completed",
          "completed",
          "none",
          "none",
          "none",
          "completed",
          "completed",
          "completed",
          "completed",
          "completed",
          "completed",
          "none",
          "none",
          "none",
          "completed",
          "completed",
          "completed",
          "completed",
          "completed",
          "completed",
          "completed",
          "none",
          "none",
          "none",
          "completed",
          "completed",
          "none",
          "completed",
          "none",
          "none",
          "none",
          "completed",
          "none",
          "completed",
          "completed",
          "none",
          "completed",
          "none",
          "none",
          "none",
          "completed",
          "none",
          "none",
          "none",
          "none",
          "completed",
          "none",
          "completed",
          "none",
          "none",
          "completed",
          "none",
          "completed",
          "completed",
          "completed",
          "completed",
          "none",
          "none",
          "completed",
          "completed",
          "none",
          "none",
          "none",
          "completed",
          "none",
          "none",
          "none",
          "none",
          "completed",
          "none",
          "none",
          "none",
          "none",
          "completed",
          "none",
          "none",
          "completed",
          "none",
          "none",
          "completed",
          "none",
          "none",
          "none",
          "none",
          "none",
          "none",
          "completed",
          "none",
          "none",
          "completed",
          "none",
          "completed",
          "none",
          "none",
          "none",
          "none",
          "completed",
          "none",
          "completed",
          "completed",
          "completed",
          "none",
          "none",
          "none",
          "none",
          "none",
          "none",
          "completed",
          "none",
          "none",
          "none",
          "none",
          "none",
          "completed",
          "none",
          "completed",
          "completed",
          "none",
          "none",
          "none",
          "none",
          "none",
          "completed",
          "none",
          "completed",
          "completed",
          "none",
          "none",
          "completed",
          "none",
          "none",
          "completed",
          "none",
          "completed",
          "none",
          "completed",
          "completed",
          "completed",
          "none",
          "completed",
          "none",
          "completed",
          "none",
          "completed",
          "none",
          "completed",
          "none",
          "none",
          "none",
          "none",
          "none",
          "completed",
          "completed",
          "completed",
          "none",
          "completed",
          "none",
          "none",
          "none",
          "completed",
          "none",
          "none",
          "none",
          "none",
          "none",
          "none",
          "completed",
          "none",
          "none",
          "none",
          "completed",
          "none",
          "none",
          "none",
          "completed",
          "none",
          "completed",
          "none",
          "none",
          "completed",
          "completed",
          "none",
          "none",
          "none",
          "completed",
          "none",
          "none",
          "none",
          "none",
          "completed",
          "none",
          "none",
          "none",
          "none",
          "completed",
          "none",
          "none",
          "none",
          "completed",
          "none",
          "none",
          "completed",
          "completed",
          "none",
          "none",
          "none",
          "none",
          "completed",
          "none",
          "completed",
          "none",
          "none",
          "none",
          "completed",
          "none",
          "none",
          "none",
          "completed",
          "none",
          "none",
          "none",
          "none",
          "none",
          "none",
          "none",
          "none",
          "completed",
          "none",
          "none",
          "completed",
          "completed",
          "none",
          "none",
          "none",
          "none",
          "none",
          "completed",
          "none",
          "none",
          "completed",
          "none",
          "none",
          "completed",
          "none",
          "completed",
          "completed",
          "completed",
          "completed",
          "none",
          "completed",
          "completed",
          "none",
          "completed",
          "none",
          "none",
          "completed",
          "completed",
          "completed",
          "completed",
          "completed",
          "none",
          "none",
          "none",
          "none",
          "none",
          "none",
          "none",
          "none",
          "none",
          "none",
          "none",
          "completed",
          "none",
          "none",
          "none",
          "completed",
          "completed",
          "none",
          "none",
          "none",
          "none",
          "completed",
          "none",
          "completed",
          "none",
          "none",
          "completed",
          "none",
          "none",
          "none",
          "none",
          "none",
          "none",
          "none",
          "none",
          "completed",
          "none",
          "none",
          "none",
          "none",
          "completed",
          "none",
          "none",
          "completed",
          "completed",
          "none",
          "completed",
          "none",
          "completed",
          "none",
          "completed",
          "completed",
          "completed",
          "none",
          "none",
          "none",
          "completed",
          "none",
          "none",
          "none",
          "none",
          "none",
          "none",
          "none",
          "completed",
          "completed",
          "none",
          "none",
          "none",
          "none",
          "none",
          "completed",
          "none",
          "completed",
          "none",
          "none",
          "none",
          "completed",
          "none",
          "completed",
          "none",
          "none",
          "none",
          "none",
          "none",
          "none",
          "none",
          "none",
          "none",
          "completed",
          "completed",
          "completed",
          "none",
          "completed",
          "completed",
          "completed",
          "none",
          "none",
          "none",
          "none",
          "completed",
          "none",
          "completed",
          "none",
          "none",
          "none",
          "completed",
          "none",
          "completed",
          "completed",
          "completed",
          "completed",
          "completed",
          "none",
          "completed",
          "completed",
          "completed",
          "completed",
          "none",
          "none",
          "none",
          "completed",
          "completed",
          "completed",
          "none",
          "none",
          "none",
          "completed",
          "none",
          "none",
          "none",
          "completed",
          "none",
          "none",
          "none",
          "completed",
          "none",
          "completed",
          "completed",
          "none",
          "none",
          "completed",
          "completed",
          "none",
          "none",
          "completed",
          "none",
          "none",
          "completed",
          "none",
          "completed",
          "completed",
          "none",
          "completed",
          "none",
          "none",
          "none",
          "none",
          "completed",
          "none",
          "none",
          "none",
          "none",
          "none",
          "none",
          "none",
          "none",
          "none",
          "none",
          "completed",
          "completed",
          "none",
          "none",
          "none",
          "none",
          "none",
          "none",
          "completed",
          "none",
          "none",
          "none",
          "none",
          "none",
          "completed",
          "none",
          "completed",
          "none",
          "none",
          "none",
          "none",
          "none",
          "none",
          "completed",
          "none",
          "none",
          "completed",
          "completed",
          "none",
          "completed",
          "completed",
          "none",
          "none",
          "completed",
          "none",
          "none",
          "completed",
          "none",
          "none",
          "none",
          "completed",
          "completed",
          "none",
          "none",
          "none",
          "completed",
          "none",
          "completed",
          "none",
          "completed",
          "none",
          "none",
          "none",
          "completed",
          "completed",
          "completed",
          "completed",
          "completed",
          "none",
          "none",
          "none",
          "none",
          "none",
          "none",
          "none",
          "none",
          "none",
          "none",
          "none",
          "completed",
          "completed",
          "none",
          "none",
          "completed",
          "none",
          "none",
          "none",
          "completed",
          "completed",
          "completed",
          "completed",
          "completed",
          "none",
          "none",
          "none",
          "none",
          "none",
          "completed",
          "completed",
          "completed",
          "completed",
          "none",
          "none",
          "none",
          "none",
          "none",
          "completed",
          "none",
          "none",
          "none",
          "completed",
          "none",
          "completed",
          "none",
          "completed",
          "none",
          "completed",
          "none",
          "completed",
          "none",
          "none",
          "none",
          "none",
          "completed",
          "completed",
          "completed",
          "none",
          "none",
          "completed",
          "completed",
          "completed",
          "completed",
          "none",
          "completed",
          "none",
          "completed",
          "completed",
          "none",
          "none",
          "completed",
          "completed",
          "completed",
          "none",
          "none",
          "completed",
          "none",
          "completed",
          "none",
          "none",
          "none",
          "none",
          "completed",
          "none",
          "none",
          "none",
          "none",
          "none",
          "completed",
          "none",
          "none",
          "none",
          "none",
          "none",
          "completed",
          "completed",
          "none",
          "completed",
          "completed",
          "none",
          "none",
          "none",
          "completed",
          "completed",
          "completed",
          "none",
          "none",
          "completed",
          "none",
          "none",
          "none",
          "completed",
          "completed",
          "none",
          "none",
          "none",
          "none",
          "completed",
          "none",
          "none",
          "none",
          "none",
          "none",
          "completed",
          "completed",
          "none",
          "none",
          "completed",
          "completed",
          "completed",
          "completed",
          "none",
          "none",
          "none",
          "none",
          "none",
          "none",
          "completed",
          "none",
          "completed",
          "none",
          "none",
          "none",
          "none",
          "completed",
          "completed",
          "none",
          "none",
          "none",
          "none",
          "none",
          "none",
          "none",
          "none",
          "none",
          "none",
          "completed",
          "completed",
          "none",
          "completed",
          "none",
          "completed",
          "none",
          "none",
          "completed",
          "none",
          "completed",
          "none",
          "none",
          "none",
          "completed",
          "none",
          "completed",
          "none",
          "none",
          "completed",
          "none",
          "completed",
          "none",
          "completed",
          "none",
          "completed",
          "completed",
          "none",
          "none",
          "none",
          "completed",
          "completed",
          "completed",
          "none",
          "completed",
          "none",
          "none",
          "none",
          "none",
          "none",
          "none",
          "none",
          "none",
          "none",
          "none",
          "none",
          "completed",
          "none",
          "none",
          "none",
          "completed",
          "completed",
          "none",
          "completed",
          "none",
          "none",
          "completed",
          "none",
          "none",
          "completed",
          "completed",
          "none",
          "none",
          "none",
          "none",
          "none",
          "none",
          "none",
          "completed",
          "completed",
          "none",
          "none",
          "none",
          "completed",
          "completed",
          "none",
          "none",
          "none",
          "completed",
          "none",
          "none",
          "completed",
          "none",
          "none",
          "completed",
          "completed",
          "completed",
          "none",
          "none",
          "completed",
          "completed",
          "none",
          "none",
          "none",
          "completed",
          "none",
          "completed",
          "none",
          "none",
          "completed",
          "completed",
          "none",
          "none",
          "completed",
          "none",
          "completed",
          "completed",
          "none",
          "none",
          "none",
          "none",
          "none",
          "completed",
          "none",
          "completed",
          "completed",
          "none",
          "completed",
          "none",
          "completed",
          "completed",
          "completed",
          "none",
          "none",
          "none",
          "completed",
          "completed",
          "completed",
          "none",
          "none",
          "completed",
          "none",
          "none",
          "none",
          "none",
          "completed",
          "completed",
          "none",
          "completed",
          "none",
          "completed",
          "none",
          "none",
          "none",
          "none",
          "none",
          "none",
          "none",
          "none",
          "none",
          "completed",
          "none",
          "none",
          "completed",
          "none",
          "none",
          "none",
          "none",
          "completed",
          "completed",
          "none",
          "none",
          "completed",
          "completed",
          "none",
          "completed",
          "none",
          "none",
          "completed",
          "completed",
          "none",
          "none",
          "none",
          "completed",
          "none",
          "completed",
          "completed",
          "completed",
          "none",
          "none",
          "none",
          "completed",
          "none",
          "completed",
          "completed",
          "none"
         ],
         "xaxis": "x",
         "yaxis": "y"
        },
        {
         "alignmentgroup": "True",
         "bingroup": "x",
         "hovertemplate": "passed_in_writing=Fale<br>test preparation course=%{x}<br>count=%{y}<extra></extra>",
         "legendgroup": "Fale",
         "marker": {
          "color": "#EF553B",
          "pattern": {
           "shape": ""
          }
         },
         "name": "Fale",
         "offsetgroup": "Fale",
         "orientation": "v",
         "showlegend": true,
         "type": "histogram",
         "x": [
          "none",
          "none",
          "none",
          "none",
          "none",
          "none",
          "none",
          "none",
          "none",
          "none",
          "none",
          "none",
          "none",
          "none"
         ],
         "xaxis": "x",
         "yaxis": "y"
        }
       ],
       "layout": {
        "barmode": "relative",
        "legend": {
         "title": {
          "text": "passed_in_writing"
         },
         "tracegroupgap": 0
        },
        "margin": {
         "t": 60
        },
        "template": {
         "data": {
          "bar": [
           {
            "error_x": {
             "color": "#2a3f5f"
            },
            "error_y": {
             "color": "#2a3f5f"
            },
            "marker": {
             "line": {
              "color": "#E5ECF6",
              "width": 0.5
             },
             "pattern": {
              "fillmode": "overlay",
              "size": 10,
              "solidity": 0.2
             }
            },
            "type": "bar"
           }
          ],
          "barpolar": [
           {
            "marker": {
             "line": {
              "color": "#E5ECF6",
              "width": 0.5
             },
             "pattern": {
              "fillmode": "overlay",
              "size": 10,
              "solidity": 0.2
             }
            },
            "type": "barpolar"
           }
          ],
          "carpet": [
           {
            "aaxis": {
             "endlinecolor": "#2a3f5f",
             "gridcolor": "white",
             "linecolor": "white",
             "minorgridcolor": "white",
             "startlinecolor": "#2a3f5f"
            },
            "baxis": {
             "endlinecolor": "#2a3f5f",
             "gridcolor": "white",
             "linecolor": "white",
             "minorgridcolor": "white",
             "startlinecolor": "#2a3f5f"
            },
            "type": "carpet"
           }
          ],
          "choropleth": [
           {
            "colorbar": {
             "outlinewidth": 0,
             "ticks": ""
            },
            "type": "choropleth"
           }
          ],
          "contour": [
           {
            "colorbar": {
             "outlinewidth": 0,
             "ticks": ""
            },
            "colorscale": [
             [
              0,
              "#0d0887"
             ],
             [
              0.1111111111111111,
              "#46039f"
             ],
             [
              0.2222222222222222,
              "#7201a8"
             ],
             [
              0.3333333333333333,
              "#9c179e"
             ],
             [
              0.4444444444444444,
              "#bd3786"
             ],
             [
              0.5555555555555556,
              "#d8576b"
             ],
             [
              0.6666666666666666,
              "#ed7953"
             ],
             [
              0.7777777777777778,
              "#fb9f3a"
             ],
             [
              0.8888888888888888,
              "#fdca26"
             ],
             [
              1,
              "#f0f921"
             ]
            ],
            "type": "contour"
           }
          ],
          "contourcarpet": [
           {
            "colorbar": {
             "outlinewidth": 0,
             "ticks": ""
            },
            "type": "contourcarpet"
           }
          ],
          "heatmap": [
           {
            "colorbar": {
             "outlinewidth": 0,
             "ticks": ""
            },
            "colorscale": [
             [
              0,
              "#0d0887"
             ],
             [
              0.1111111111111111,
              "#46039f"
             ],
             [
              0.2222222222222222,
              "#7201a8"
             ],
             [
              0.3333333333333333,
              "#9c179e"
             ],
             [
              0.4444444444444444,
              "#bd3786"
             ],
             [
              0.5555555555555556,
              "#d8576b"
             ],
             [
              0.6666666666666666,
              "#ed7953"
             ],
             [
              0.7777777777777778,
              "#fb9f3a"
             ],
             [
              0.8888888888888888,
              "#fdca26"
             ],
             [
              1,
              "#f0f921"
             ]
            ],
            "type": "heatmap"
           }
          ],
          "heatmapgl": [
           {
            "colorbar": {
             "outlinewidth": 0,
             "ticks": ""
            },
            "colorscale": [
             [
              0,
              "#0d0887"
             ],
             [
              0.1111111111111111,
              "#46039f"
             ],
             [
              0.2222222222222222,
              "#7201a8"
             ],
             [
              0.3333333333333333,
              "#9c179e"
             ],
             [
              0.4444444444444444,
              "#bd3786"
             ],
             [
              0.5555555555555556,
              "#d8576b"
             ],
             [
              0.6666666666666666,
              "#ed7953"
             ],
             [
              0.7777777777777778,
              "#fb9f3a"
             ],
             [
              0.8888888888888888,
              "#fdca26"
             ],
             [
              1,
              "#f0f921"
             ]
            ],
            "type": "heatmapgl"
           }
          ],
          "histogram": [
           {
            "marker": {
             "pattern": {
              "fillmode": "overlay",
              "size": 10,
              "solidity": 0.2
             }
            },
            "type": "histogram"
           }
          ],
          "histogram2d": [
           {
            "colorbar": {
             "outlinewidth": 0,
             "ticks": ""
            },
            "colorscale": [
             [
              0,
              "#0d0887"
             ],
             [
              0.1111111111111111,
              "#46039f"
             ],
             [
              0.2222222222222222,
              "#7201a8"
             ],
             [
              0.3333333333333333,
              "#9c179e"
             ],
             [
              0.4444444444444444,
              "#bd3786"
             ],
             [
              0.5555555555555556,
              "#d8576b"
             ],
             [
              0.6666666666666666,
              "#ed7953"
             ],
             [
              0.7777777777777778,
              "#fb9f3a"
             ],
             [
              0.8888888888888888,
              "#fdca26"
             ],
             [
              1,
              "#f0f921"
             ]
            ],
            "type": "histogram2d"
           }
          ],
          "histogram2dcontour": [
           {
            "colorbar": {
             "outlinewidth": 0,
             "ticks": ""
            },
            "colorscale": [
             [
              0,
              "#0d0887"
             ],
             [
              0.1111111111111111,
              "#46039f"
             ],
             [
              0.2222222222222222,
              "#7201a8"
             ],
             [
              0.3333333333333333,
              "#9c179e"
             ],
             [
              0.4444444444444444,
              "#bd3786"
             ],
             [
              0.5555555555555556,
              "#d8576b"
             ],
             [
              0.6666666666666666,
              "#ed7953"
             ],
             [
              0.7777777777777778,
              "#fb9f3a"
             ],
             [
              0.8888888888888888,
              "#fdca26"
             ],
             [
              1,
              "#f0f921"
             ]
            ],
            "type": "histogram2dcontour"
           }
          ],
          "mesh3d": [
           {
            "colorbar": {
             "outlinewidth": 0,
             "ticks": ""
            },
            "type": "mesh3d"
           }
          ],
          "parcoords": [
           {
            "line": {
             "colorbar": {
              "outlinewidth": 0,
              "ticks": ""
             }
            },
            "type": "parcoords"
           }
          ],
          "pie": [
           {
            "automargin": true,
            "type": "pie"
           }
          ],
          "scatter": [
           {
            "marker": {
             "colorbar": {
              "outlinewidth": 0,
              "ticks": ""
             }
            },
            "type": "scatter"
           }
          ],
          "scatter3d": [
           {
            "line": {
             "colorbar": {
              "outlinewidth": 0,
              "ticks": ""
             }
            },
            "marker": {
             "colorbar": {
              "outlinewidth": 0,
              "ticks": ""
             }
            },
            "type": "scatter3d"
           }
          ],
          "scattercarpet": [
           {
            "marker": {
             "colorbar": {
              "outlinewidth": 0,
              "ticks": ""
             }
            },
            "type": "scattercarpet"
           }
          ],
          "scattergeo": [
           {
            "marker": {
             "colorbar": {
              "outlinewidth": 0,
              "ticks": ""
             }
            },
            "type": "scattergeo"
           }
          ],
          "scattergl": [
           {
            "marker": {
             "colorbar": {
              "outlinewidth": 0,
              "ticks": ""
             }
            },
            "type": "scattergl"
           }
          ],
          "scattermapbox": [
           {
            "marker": {
             "colorbar": {
              "outlinewidth": 0,
              "ticks": ""
             }
            },
            "type": "scattermapbox"
           }
          ],
          "scatterpolar": [
           {
            "marker": {
             "colorbar": {
              "outlinewidth": 0,
              "ticks": ""
             }
            },
            "type": "scatterpolar"
           }
          ],
          "scatterpolargl": [
           {
            "marker": {
             "colorbar": {
              "outlinewidth": 0,
              "ticks": ""
             }
            },
            "type": "scatterpolargl"
           }
          ],
          "scatterternary": [
           {
            "marker": {
             "colorbar": {
              "outlinewidth": 0,
              "ticks": ""
             }
            },
            "type": "scatterternary"
           }
          ],
          "surface": [
           {
            "colorbar": {
             "outlinewidth": 0,
             "ticks": ""
            },
            "colorscale": [
             [
              0,
              "#0d0887"
             ],
             [
              0.1111111111111111,
              "#46039f"
             ],
             [
              0.2222222222222222,
              "#7201a8"
             ],
             [
              0.3333333333333333,
              "#9c179e"
             ],
             [
              0.4444444444444444,
              "#bd3786"
             ],
             [
              0.5555555555555556,
              "#d8576b"
             ],
             [
              0.6666666666666666,
              "#ed7953"
             ],
             [
              0.7777777777777778,
              "#fb9f3a"
             ],
             [
              0.8888888888888888,
              "#fdca26"
             ],
             [
              1,
              "#f0f921"
             ]
            ],
            "type": "surface"
           }
          ],
          "table": [
           {
            "cells": {
             "fill": {
              "color": "#EBF0F8"
             },
             "line": {
              "color": "white"
             }
            },
            "header": {
             "fill": {
              "color": "#C8D4E3"
             },
             "line": {
              "color": "white"
             }
            },
            "type": "table"
           }
          ]
         },
         "layout": {
          "annotationdefaults": {
           "arrowcolor": "#2a3f5f",
           "arrowhead": 0,
           "arrowwidth": 1
          },
          "autotypenumbers": "strict",
          "coloraxis": {
           "colorbar": {
            "outlinewidth": 0,
            "ticks": ""
           }
          },
          "colorscale": {
           "diverging": [
            [
             0,
             "#8e0152"
            ],
            [
             0.1,
             "#c51b7d"
            ],
            [
             0.2,
             "#de77ae"
            ],
            [
             0.3,
             "#f1b6da"
            ],
            [
             0.4,
             "#fde0ef"
            ],
            [
             0.5,
             "#f7f7f7"
            ],
            [
             0.6,
             "#e6f5d0"
            ],
            [
             0.7,
             "#b8e186"
            ],
            [
             0.8,
             "#7fbc41"
            ],
            [
             0.9,
             "#4d9221"
            ],
            [
             1,
             "#276419"
            ]
           ],
           "sequential": [
            [
             0,
             "#0d0887"
            ],
            [
             0.1111111111111111,
             "#46039f"
            ],
            [
             0.2222222222222222,
             "#7201a8"
            ],
            [
             0.3333333333333333,
             "#9c179e"
            ],
            [
             0.4444444444444444,
             "#bd3786"
            ],
            [
             0.5555555555555556,
             "#d8576b"
            ],
            [
             0.6666666666666666,
             "#ed7953"
            ],
            [
             0.7777777777777778,
             "#fb9f3a"
            ],
            [
             0.8888888888888888,
             "#fdca26"
            ],
            [
             1,
             "#f0f921"
            ]
           ],
           "sequentialminus": [
            [
             0,
             "#0d0887"
            ],
            [
             0.1111111111111111,
             "#46039f"
            ],
            [
             0.2222222222222222,
             "#7201a8"
            ],
            [
             0.3333333333333333,
             "#9c179e"
            ],
            [
             0.4444444444444444,
             "#bd3786"
            ],
            [
             0.5555555555555556,
             "#d8576b"
            ],
            [
             0.6666666666666666,
             "#ed7953"
            ],
            [
             0.7777777777777778,
             "#fb9f3a"
            ],
            [
             0.8888888888888888,
             "#fdca26"
            ],
            [
             1,
             "#f0f921"
            ]
           ]
          },
          "colorway": [
           "#636efa",
           "#EF553B",
           "#00cc96",
           "#ab63fa",
           "#FFA15A",
           "#19d3f3",
           "#FF6692",
           "#B6E880",
           "#FF97FF",
           "#FECB52"
          ],
          "font": {
           "color": "#2a3f5f"
          },
          "geo": {
           "bgcolor": "white",
           "lakecolor": "white",
           "landcolor": "#E5ECF6",
           "showlakes": true,
           "showland": true,
           "subunitcolor": "white"
          },
          "hoverlabel": {
           "align": "left"
          },
          "hovermode": "closest",
          "mapbox": {
           "style": "light"
          },
          "paper_bgcolor": "white",
          "plot_bgcolor": "#E5ECF6",
          "polar": {
           "angularaxis": {
            "gridcolor": "white",
            "linecolor": "white",
            "ticks": ""
           },
           "bgcolor": "#E5ECF6",
           "radialaxis": {
            "gridcolor": "white",
            "linecolor": "white",
            "ticks": ""
           }
          },
          "scene": {
           "xaxis": {
            "backgroundcolor": "#E5ECF6",
            "gridcolor": "white",
            "gridwidth": 2,
            "linecolor": "white",
            "showbackground": true,
            "ticks": "",
            "zerolinecolor": "white"
           },
           "yaxis": {
            "backgroundcolor": "#E5ECF6",
            "gridcolor": "white",
            "gridwidth": 2,
            "linecolor": "white",
            "showbackground": true,
            "ticks": "",
            "zerolinecolor": "white"
           },
           "zaxis": {
            "backgroundcolor": "#E5ECF6",
            "gridcolor": "white",
            "gridwidth": 2,
            "linecolor": "white",
            "showbackground": true,
            "ticks": "",
            "zerolinecolor": "white"
           }
          },
          "shapedefaults": {
           "line": {
            "color": "#2a3f5f"
           }
          },
          "ternary": {
           "aaxis": {
            "gridcolor": "white",
            "linecolor": "white",
            "ticks": ""
           },
           "baxis": {
            "gridcolor": "white",
            "linecolor": "white",
            "ticks": ""
           },
           "bgcolor": "#E5ECF6",
           "caxis": {
            "gridcolor": "white",
            "linecolor": "white",
            "ticks": ""
           }
          },
          "title": {
           "x": 0.05
          },
          "xaxis": {
           "automargin": true,
           "gridcolor": "white",
           "linecolor": "white",
           "ticks": "",
           "title": {
            "standoff": 15
           },
           "zerolinecolor": "white",
           "zerolinewidth": 2
          },
          "yaxis": {
           "automargin": true,
           "gridcolor": "white",
           "linecolor": "white",
           "ticks": "",
           "title": {
            "standoff": 15
           },
           "zerolinecolor": "white",
           "zerolinewidth": 2
          }
         }
        },
        "xaxis": {
         "anchor": "y",
         "domain": [
          0,
          1
         ],
         "title": {
          "text": "test preparation course"
         }
        },
        "yaxis": {
         "anchor": "x",
         "domain": [
          0,
          1
         ],
         "title": {
          "text": "count"
         }
        }
       }
      },
      "text/html": [
       "<div>                            <div id=\"ffe7b7f9-d1bf-492a-a260-2715149ac1ac\" class=\"plotly-graph-div\" style=\"height:525px; width:100%;\"></div>            <script type=\"text/javascript\">                require([\"plotly\"], function(Plotly) {                    window.PLOTLYENV=window.PLOTLYENV || {};                                    if (document.getElementById(\"ffe7b7f9-d1bf-492a-a260-2715149ac1ac\")) {                    Plotly.newPlot(                        \"ffe7b7f9-d1bf-492a-a260-2715149ac1ac\",                        [{\"alignmentgroup\":\"True\",\"bingroup\":\"x\",\"hovertemplate\":\"passed_in_writing=Pass<br>test preparation course=%{x}<br>count=%{y}<extra></extra>\",\"legendgroup\":\"Pass\",\"marker\":{\"color\":\"#636efa\",\"pattern\":{\"shape\":\"\"}},\"name\":\"Pass\",\"offsetgroup\":\"Pass\",\"orientation\":\"v\",\"showlegend\":true,\"x\":[\"none\",\"completed\",\"none\",\"none\",\"none\",\"none\",\"completed\",\"none\",\"completed\",\"none\",\"none\",\"none\",\"none\",\"completed\",\"none\",\"none\",\"none\",\"completed\",\"none\",\"none\",\"completed\",\"none\",\"none\",\"completed\",\"none\",\"none\",\"none\",\"none\",\"none\",\"none\",\"none\",\"none\",\"none\",\"none\",\"completed\",\"none\",\"none\",\"completed\",\"none\",\"none\",\"none\",\"none\",\"completed\",\"none\",\"none\",\"completed\",\"none\",\"completed\",\"completed\",\"none\",\"completed\",\"none\",\"none\",\"completed\",\"none\",\"completed\",\"none\",\"completed\",\"completed\",\"none\",\"none\",\"none\",\"none\",\"none\",\"none\",\"none\",\"none\",\"none\",\"completed\",\"completed\",\"none\",\"none\",\"none\",\"none\",\"completed\",\"completed\",\"none\",\"none\",\"none\",\"completed\",\"none\",\"none\",\"none\",\"none\",\"none\",\"none\",\"none\",\"none\",\"none\",\"none\",\"completed\",\"none\",\"completed\",\"completed\",\"completed\",\"none\",\"none\",\"none\",\"completed\",\"none\",\"completed\",\"completed\",\"none\",\"none\",\"completed\",\"none\",\"none\",\"completed\",\"none\",\"none\",\"none\",\"completed\",\"none\",\"none\",\"none\",\"none\",\"none\",\"completed\",\"completed\",\"completed\",\"none\",\"none\",\"none\",\"none\",\"completed\",\"none\",\"none\",\"none\",\"completed\",\"completed\",\"completed\",\"completed\",\"none\",\"completed\",\"none\",\"none\",\"completed\",\"none\",\"none\",\"completed\",\"none\",\"none\",\"none\",\"none\",\"completed\",\"completed\",\"completed\",\"none\",\"completed\",\"none\",\"none\",\"completed\",\"completed\",\"none\",\"completed\",\"none\",\"completed\",\"completed\",\"none\",\"none\",\"none\",\"completed\",\"completed\",\"completed\",\"completed\",\"completed\",\"completed\",\"none\",\"none\",\"none\",\"completed\",\"completed\",\"completed\",\"completed\",\"completed\",\"completed\",\"completed\",\"none\",\"none\",\"none\",\"completed\",\"completed\",\"none\",\"completed\",\"none\",\"none\",\"none\",\"completed\",\"none\",\"completed\",\"completed\",\"none\",\"completed\",\"none\",\"none\",\"none\",\"completed\",\"none\",\"none\",\"none\",\"none\",\"completed\",\"none\",\"completed\",\"none\",\"none\",\"completed\",\"none\",\"completed\",\"completed\",\"completed\",\"completed\",\"none\",\"none\",\"completed\",\"completed\",\"none\",\"none\",\"none\",\"completed\",\"none\",\"none\",\"none\",\"none\",\"completed\",\"none\",\"none\",\"none\",\"none\",\"completed\",\"none\",\"none\",\"completed\",\"none\",\"none\",\"completed\",\"none\",\"none\",\"none\",\"none\",\"none\",\"none\",\"completed\",\"none\",\"none\",\"completed\",\"none\",\"completed\",\"none\",\"none\",\"none\",\"none\",\"completed\",\"none\",\"completed\",\"completed\",\"completed\",\"none\",\"none\",\"none\",\"none\",\"none\",\"none\",\"completed\",\"none\",\"none\",\"none\",\"none\",\"none\",\"completed\",\"none\",\"completed\",\"completed\",\"none\",\"none\",\"none\",\"none\",\"none\",\"completed\",\"none\",\"completed\",\"completed\",\"none\",\"none\",\"completed\",\"none\",\"none\",\"completed\",\"none\",\"completed\",\"none\",\"completed\",\"completed\",\"completed\",\"none\",\"completed\",\"none\",\"completed\",\"none\",\"completed\",\"none\",\"completed\",\"none\",\"none\",\"none\",\"none\",\"none\",\"completed\",\"completed\",\"completed\",\"none\",\"completed\",\"none\",\"none\",\"none\",\"completed\",\"none\",\"none\",\"none\",\"none\",\"none\",\"none\",\"completed\",\"none\",\"none\",\"none\",\"completed\",\"none\",\"none\",\"none\",\"completed\",\"none\",\"completed\",\"none\",\"none\",\"completed\",\"completed\",\"none\",\"none\",\"none\",\"completed\",\"none\",\"none\",\"none\",\"none\",\"completed\",\"none\",\"none\",\"none\",\"none\",\"completed\",\"none\",\"none\",\"none\",\"completed\",\"none\",\"none\",\"completed\",\"completed\",\"none\",\"none\",\"none\",\"none\",\"completed\",\"none\",\"completed\",\"none\",\"none\",\"none\",\"completed\",\"none\",\"none\",\"none\",\"completed\",\"none\",\"none\",\"none\",\"none\",\"none\",\"none\",\"none\",\"none\",\"completed\",\"none\",\"none\",\"completed\",\"completed\",\"none\",\"none\",\"none\",\"none\",\"none\",\"completed\",\"none\",\"none\",\"completed\",\"none\",\"none\",\"completed\",\"none\",\"completed\",\"completed\",\"completed\",\"completed\",\"none\",\"completed\",\"completed\",\"none\",\"completed\",\"none\",\"none\",\"completed\",\"completed\",\"completed\",\"completed\",\"completed\",\"none\",\"none\",\"none\",\"none\",\"none\",\"none\",\"none\",\"none\",\"none\",\"none\",\"none\",\"completed\",\"none\",\"none\",\"none\",\"completed\",\"completed\",\"none\",\"none\",\"none\",\"none\",\"completed\",\"none\",\"completed\",\"none\",\"none\",\"completed\",\"none\",\"none\",\"none\",\"none\",\"none\",\"none\",\"none\",\"none\",\"completed\",\"none\",\"none\",\"none\",\"none\",\"completed\",\"none\",\"none\",\"completed\",\"completed\",\"none\",\"completed\",\"none\",\"completed\",\"none\",\"completed\",\"completed\",\"completed\",\"none\",\"none\",\"none\",\"completed\",\"none\",\"none\",\"none\",\"none\",\"none\",\"none\",\"none\",\"completed\",\"completed\",\"none\",\"none\",\"none\",\"none\",\"none\",\"completed\",\"none\",\"completed\",\"none\",\"none\",\"none\",\"completed\",\"none\",\"completed\",\"none\",\"none\",\"none\",\"none\",\"none\",\"none\",\"none\",\"none\",\"none\",\"completed\",\"completed\",\"completed\",\"none\",\"completed\",\"completed\",\"completed\",\"none\",\"none\",\"none\",\"none\",\"completed\",\"none\",\"completed\",\"none\",\"none\",\"none\",\"completed\",\"none\",\"completed\",\"completed\",\"completed\",\"completed\",\"completed\",\"none\",\"completed\",\"completed\",\"completed\",\"completed\",\"none\",\"none\",\"none\",\"completed\",\"completed\",\"completed\",\"none\",\"none\",\"none\",\"completed\",\"none\",\"none\",\"none\",\"completed\",\"none\",\"none\",\"none\",\"completed\",\"none\",\"completed\",\"completed\",\"none\",\"none\",\"completed\",\"completed\",\"none\",\"none\",\"completed\",\"none\",\"none\",\"completed\",\"none\",\"completed\",\"completed\",\"none\",\"completed\",\"none\",\"none\",\"none\",\"none\",\"completed\",\"none\",\"none\",\"none\",\"none\",\"none\",\"none\",\"none\",\"none\",\"none\",\"none\",\"completed\",\"completed\",\"none\",\"none\",\"none\",\"none\",\"none\",\"none\",\"completed\",\"none\",\"none\",\"none\",\"none\",\"none\",\"completed\",\"none\",\"completed\",\"none\",\"none\",\"none\",\"none\",\"none\",\"none\",\"completed\",\"none\",\"none\",\"completed\",\"completed\",\"none\",\"completed\",\"completed\",\"none\",\"none\",\"completed\",\"none\",\"none\",\"completed\",\"none\",\"none\",\"none\",\"completed\",\"completed\",\"none\",\"none\",\"none\",\"completed\",\"none\",\"completed\",\"none\",\"completed\",\"none\",\"none\",\"none\",\"completed\",\"completed\",\"completed\",\"completed\",\"completed\",\"none\",\"none\",\"none\",\"none\",\"none\",\"none\",\"none\",\"none\",\"none\",\"none\",\"none\",\"completed\",\"completed\",\"none\",\"none\",\"completed\",\"none\",\"none\",\"none\",\"completed\",\"completed\",\"completed\",\"completed\",\"completed\",\"none\",\"none\",\"none\",\"none\",\"none\",\"completed\",\"completed\",\"completed\",\"completed\",\"none\",\"none\",\"none\",\"none\",\"none\",\"completed\",\"none\",\"none\",\"none\",\"completed\",\"none\",\"completed\",\"none\",\"completed\",\"none\",\"completed\",\"none\",\"completed\",\"none\",\"none\",\"none\",\"none\",\"completed\",\"completed\",\"completed\",\"none\",\"none\",\"completed\",\"completed\",\"completed\",\"completed\",\"none\",\"completed\",\"none\",\"completed\",\"completed\",\"none\",\"none\",\"completed\",\"completed\",\"completed\",\"none\",\"none\",\"completed\",\"none\",\"completed\",\"none\",\"none\",\"none\",\"none\",\"completed\",\"none\",\"none\",\"none\",\"none\",\"none\",\"completed\",\"none\",\"none\",\"none\",\"none\",\"none\",\"completed\",\"completed\",\"none\",\"completed\",\"completed\",\"none\",\"none\",\"none\",\"completed\",\"completed\",\"completed\",\"none\",\"none\",\"completed\",\"none\",\"none\",\"none\",\"completed\",\"completed\",\"none\",\"none\",\"none\",\"none\",\"completed\",\"none\",\"none\",\"none\",\"none\",\"none\",\"completed\",\"completed\",\"none\",\"none\",\"completed\",\"completed\",\"completed\",\"completed\",\"none\",\"none\",\"none\",\"none\",\"none\",\"none\",\"completed\",\"none\",\"completed\",\"none\",\"none\",\"none\",\"none\",\"completed\",\"completed\",\"none\",\"none\",\"none\",\"none\",\"none\",\"none\",\"none\",\"none\",\"none\",\"none\",\"completed\",\"completed\",\"none\",\"completed\",\"none\",\"completed\",\"none\",\"none\",\"completed\",\"none\",\"completed\",\"none\",\"none\",\"none\",\"completed\",\"none\",\"completed\",\"none\",\"none\",\"completed\",\"none\",\"completed\",\"none\",\"completed\",\"none\",\"completed\",\"completed\",\"none\",\"none\",\"none\",\"completed\",\"completed\",\"completed\",\"none\",\"completed\",\"none\",\"none\",\"none\",\"none\",\"none\",\"none\",\"none\",\"none\",\"none\",\"none\",\"none\",\"completed\",\"none\",\"none\",\"none\",\"completed\",\"completed\",\"none\",\"completed\",\"none\",\"none\",\"completed\",\"none\",\"none\",\"completed\",\"completed\",\"none\",\"none\",\"none\",\"none\",\"none\",\"none\",\"none\",\"completed\",\"completed\",\"none\",\"none\",\"none\",\"completed\",\"completed\",\"none\",\"none\",\"none\",\"completed\",\"none\",\"none\",\"completed\",\"none\",\"none\",\"completed\",\"completed\",\"completed\",\"none\",\"none\",\"completed\",\"completed\",\"none\",\"none\",\"none\",\"completed\",\"none\",\"completed\",\"none\",\"none\",\"completed\",\"completed\",\"none\",\"none\",\"completed\",\"none\",\"completed\",\"completed\",\"none\",\"none\",\"none\",\"none\",\"none\",\"completed\",\"none\",\"completed\",\"completed\",\"none\",\"completed\",\"none\",\"completed\",\"completed\",\"completed\",\"none\",\"none\",\"none\",\"completed\",\"completed\",\"completed\",\"none\",\"none\",\"completed\",\"none\",\"none\",\"none\",\"none\",\"completed\",\"completed\",\"none\",\"completed\",\"none\",\"completed\",\"none\",\"none\",\"none\",\"none\",\"none\",\"none\",\"none\",\"none\",\"none\",\"completed\",\"none\",\"none\",\"completed\",\"none\",\"none\",\"none\",\"none\",\"completed\",\"completed\",\"none\",\"none\",\"completed\",\"completed\",\"none\",\"completed\",\"none\",\"none\",\"completed\",\"completed\",\"none\",\"none\",\"none\",\"completed\",\"none\",\"completed\",\"completed\",\"completed\",\"none\",\"none\",\"none\",\"completed\",\"none\",\"completed\",\"completed\",\"none\"],\"xaxis\":\"x\",\"yaxis\":\"y\",\"type\":\"histogram\"},{\"alignmentgroup\":\"True\",\"bingroup\":\"x\",\"hovertemplate\":\"passed_in_writing=Fale<br>test preparation course=%{x}<br>count=%{y}<extra></extra>\",\"legendgroup\":\"Fale\",\"marker\":{\"color\":\"#EF553B\",\"pattern\":{\"shape\":\"\"}},\"name\":\"Fale\",\"offsetgroup\":\"Fale\",\"orientation\":\"v\",\"showlegend\":true,\"x\":[\"none\",\"none\",\"none\",\"none\",\"none\",\"none\",\"none\",\"none\",\"none\",\"none\",\"none\",\"none\",\"none\",\"none\"],\"xaxis\":\"x\",\"yaxis\":\"y\",\"type\":\"histogram\"}],                        {\"template\":{\"data\":{\"bar\":[{\"error_x\":{\"color\":\"#2a3f5f\"},\"error_y\":{\"color\":\"#2a3f5f\"},\"marker\":{\"line\":{\"color\":\"#E5ECF6\",\"width\":0.5},\"pattern\":{\"fillmode\":\"overlay\",\"size\":10,\"solidity\":0.2}},\"type\":\"bar\"}],\"barpolar\":[{\"marker\":{\"line\":{\"color\":\"#E5ECF6\",\"width\":0.5},\"pattern\":{\"fillmode\":\"overlay\",\"size\":10,\"solidity\":0.2}},\"type\":\"barpolar\"}],\"carpet\":[{\"aaxis\":{\"endlinecolor\":\"#2a3f5f\",\"gridcolor\":\"white\",\"linecolor\":\"white\",\"minorgridcolor\":\"white\",\"startlinecolor\":\"#2a3f5f\"},\"baxis\":{\"endlinecolor\":\"#2a3f5f\",\"gridcolor\":\"white\",\"linecolor\":\"white\",\"minorgridcolor\":\"white\",\"startlinecolor\":\"#2a3f5f\"},\"type\":\"carpet\"}],\"choropleth\":[{\"colorbar\":{\"outlinewidth\":0,\"ticks\":\"\"},\"type\":\"choropleth\"}],\"contour\":[{\"colorbar\":{\"outlinewidth\":0,\"ticks\":\"\"},\"colorscale\":[[0.0,\"#0d0887\"],[0.1111111111111111,\"#46039f\"],[0.2222222222222222,\"#7201a8\"],[0.3333333333333333,\"#9c179e\"],[0.4444444444444444,\"#bd3786\"],[0.5555555555555556,\"#d8576b\"],[0.6666666666666666,\"#ed7953\"],[0.7777777777777778,\"#fb9f3a\"],[0.8888888888888888,\"#fdca26\"],[1.0,\"#f0f921\"]],\"type\":\"contour\"}],\"contourcarpet\":[{\"colorbar\":{\"outlinewidth\":0,\"ticks\":\"\"},\"type\":\"contourcarpet\"}],\"heatmap\":[{\"colorbar\":{\"outlinewidth\":0,\"ticks\":\"\"},\"colorscale\":[[0.0,\"#0d0887\"],[0.1111111111111111,\"#46039f\"],[0.2222222222222222,\"#7201a8\"],[0.3333333333333333,\"#9c179e\"],[0.4444444444444444,\"#bd3786\"],[0.5555555555555556,\"#d8576b\"],[0.6666666666666666,\"#ed7953\"],[0.7777777777777778,\"#fb9f3a\"],[0.8888888888888888,\"#fdca26\"],[1.0,\"#f0f921\"]],\"type\":\"heatmap\"}],\"heatmapgl\":[{\"colorbar\":{\"outlinewidth\":0,\"ticks\":\"\"},\"colorscale\":[[0.0,\"#0d0887\"],[0.1111111111111111,\"#46039f\"],[0.2222222222222222,\"#7201a8\"],[0.3333333333333333,\"#9c179e\"],[0.4444444444444444,\"#bd3786\"],[0.5555555555555556,\"#d8576b\"],[0.6666666666666666,\"#ed7953\"],[0.7777777777777778,\"#fb9f3a\"],[0.8888888888888888,\"#fdca26\"],[1.0,\"#f0f921\"]],\"type\":\"heatmapgl\"}],\"histogram\":[{\"marker\":{\"pattern\":{\"fillmode\":\"overlay\",\"size\":10,\"solidity\":0.2}},\"type\":\"histogram\"}],\"histogram2d\":[{\"colorbar\":{\"outlinewidth\":0,\"ticks\":\"\"},\"colorscale\":[[0.0,\"#0d0887\"],[0.1111111111111111,\"#46039f\"],[0.2222222222222222,\"#7201a8\"],[0.3333333333333333,\"#9c179e\"],[0.4444444444444444,\"#bd3786\"],[0.5555555555555556,\"#d8576b\"],[0.6666666666666666,\"#ed7953\"],[0.7777777777777778,\"#fb9f3a\"],[0.8888888888888888,\"#fdca26\"],[1.0,\"#f0f921\"]],\"type\":\"histogram2d\"}],\"histogram2dcontour\":[{\"colorbar\":{\"outlinewidth\":0,\"ticks\":\"\"},\"colorscale\":[[0.0,\"#0d0887\"],[0.1111111111111111,\"#46039f\"],[0.2222222222222222,\"#7201a8\"],[0.3333333333333333,\"#9c179e\"],[0.4444444444444444,\"#bd3786\"],[0.5555555555555556,\"#d8576b\"],[0.6666666666666666,\"#ed7953\"],[0.7777777777777778,\"#fb9f3a\"],[0.8888888888888888,\"#fdca26\"],[1.0,\"#f0f921\"]],\"type\":\"histogram2dcontour\"}],\"mesh3d\":[{\"colorbar\":{\"outlinewidth\":0,\"ticks\":\"\"},\"type\":\"mesh3d\"}],\"parcoords\":[{\"line\":{\"colorbar\":{\"outlinewidth\":0,\"ticks\":\"\"}},\"type\":\"parcoords\"}],\"pie\":[{\"automargin\":true,\"type\":\"pie\"}],\"scatter\":[{\"marker\":{\"colorbar\":{\"outlinewidth\":0,\"ticks\":\"\"}},\"type\":\"scatter\"}],\"scatter3d\":[{\"line\":{\"colorbar\":{\"outlinewidth\":0,\"ticks\":\"\"}},\"marker\":{\"colorbar\":{\"outlinewidth\":0,\"ticks\":\"\"}},\"type\":\"scatter3d\"}],\"scattercarpet\":[{\"marker\":{\"colorbar\":{\"outlinewidth\":0,\"ticks\":\"\"}},\"type\":\"scattercarpet\"}],\"scattergeo\":[{\"marker\":{\"colorbar\":{\"outlinewidth\":0,\"ticks\":\"\"}},\"type\":\"scattergeo\"}],\"scattergl\":[{\"marker\":{\"colorbar\":{\"outlinewidth\":0,\"ticks\":\"\"}},\"type\":\"scattergl\"}],\"scattermapbox\":[{\"marker\":{\"colorbar\":{\"outlinewidth\":0,\"ticks\":\"\"}},\"type\":\"scattermapbox\"}],\"scatterpolar\":[{\"marker\":{\"colorbar\":{\"outlinewidth\":0,\"ticks\":\"\"}},\"type\":\"scatterpolar\"}],\"scatterpolargl\":[{\"marker\":{\"colorbar\":{\"outlinewidth\":0,\"ticks\":\"\"}},\"type\":\"scatterpolargl\"}],\"scatterternary\":[{\"marker\":{\"colorbar\":{\"outlinewidth\":0,\"ticks\":\"\"}},\"type\":\"scatterternary\"}],\"surface\":[{\"colorbar\":{\"outlinewidth\":0,\"ticks\":\"\"},\"colorscale\":[[0.0,\"#0d0887\"],[0.1111111111111111,\"#46039f\"],[0.2222222222222222,\"#7201a8\"],[0.3333333333333333,\"#9c179e\"],[0.4444444444444444,\"#bd3786\"],[0.5555555555555556,\"#d8576b\"],[0.6666666666666666,\"#ed7953\"],[0.7777777777777778,\"#fb9f3a\"],[0.8888888888888888,\"#fdca26\"],[1.0,\"#f0f921\"]],\"type\":\"surface\"}],\"table\":[{\"cells\":{\"fill\":{\"color\":\"#EBF0F8\"},\"line\":{\"color\":\"white\"}},\"header\":{\"fill\":{\"color\":\"#C8D4E3\"},\"line\":{\"color\":\"white\"}},\"type\":\"table\"}]},\"layout\":{\"annotationdefaults\":{\"arrowcolor\":\"#2a3f5f\",\"arrowhead\":0,\"arrowwidth\":1},\"autotypenumbers\":\"strict\",\"coloraxis\":{\"colorbar\":{\"outlinewidth\":0,\"ticks\":\"\"}},\"colorscale\":{\"diverging\":[[0,\"#8e0152\"],[0.1,\"#c51b7d\"],[0.2,\"#de77ae\"],[0.3,\"#f1b6da\"],[0.4,\"#fde0ef\"],[0.5,\"#f7f7f7\"],[0.6,\"#e6f5d0\"],[0.7,\"#b8e186\"],[0.8,\"#7fbc41\"],[0.9,\"#4d9221\"],[1,\"#276419\"]],\"sequential\":[[0.0,\"#0d0887\"],[0.1111111111111111,\"#46039f\"],[0.2222222222222222,\"#7201a8\"],[0.3333333333333333,\"#9c179e\"],[0.4444444444444444,\"#bd3786\"],[0.5555555555555556,\"#d8576b\"],[0.6666666666666666,\"#ed7953\"],[0.7777777777777778,\"#fb9f3a\"],[0.8888888888888888,\"#fdca26\"],[1.0,\"#f0f921\"]],\"sequentialminus\":[[0.0,\"#0d0887\"],[0.1111111111111111,\"#46039f\"],[0.2222222222222222,\"#7201a8\"],[0.3333333333333333,\"#9c179e\"],[0.4444444444444444,\"#bd3786\"],[0.5555555555555556,\"#d8576b\"],[0.6666666666666666,\"#ed7953\"],[0.7777777777777778,\"#fb9f3a\"],[0.8888888888888888,\"#fdca26\"],[1.0,\"#f0f921\"]]},\"colorway\":[\"#636efa\",\"#EF553B\",\"#00cc96\",\"#ab63fa\",\"#FFA15A\",\"#19d3f3\",\"#FF6692\",\"#B6E880\",\"#FF97FF\",\"#FECB52\"],\"font\":{\"color\":\"#2a3f5f\"},\"geo\":{\"bgcolor\":\"white\",\"lakecolor\":\"white\",\"landcolor\":\"#E5ECF6\",\"showlakes\":true,\"showland\":true,\"subunitcolor\":\"white\"},\"hoverlabel\":{\"align\":\"left\"},\"hovermode\":\"closest\",\"mapbox\":{\"style\":\"light\"},\"paper_bgcolor\":\"white\",\"plot_bgcolor\":\"#E5ECF6\",\"polar\":{\"angularaxis\":{\"gridcolor\":\"white\",\"linecolor\":\"white\",\"ticks\":\"\"},\"bgcolor\":\"#E5ECF6\",\"radialaxis\":{\"gridcolor\":\"white\",\"linecolor\":\"white\",\"ticks\":\"\"}},\"scene\":{\"xaxis\":{\"backgroundcolor\":\"#E5ECF6\",\"gridcolor\":\"white\",\"gridwidth\":2,\"linecolor\":\"white\",\"showbackground\":true,\"ticks\":\"\",\"zerolinecolor\":\"white\"},\"yaxis\":{\"backgroundcolor\":\"#E5ECF6\",\"gridcolor\":\"white\",\"gridwidth\":2,\"linecolor\":\"white\",\"showbackground\":true,\"ticks\":\"\",\"zerolinecolor\":\"white\"},\"zaxis\":{\"backgroundcolor\":\"#E5ECF6\",\"gridcolor\":\"white\",\"gridwidth\":2,\"linecolor\":\"white\",\"showbackground\":true,\"ticks\":\"\",\"zerolinecolor\":\"white\"}},\"shapedefaults\":{\"line\":{\"color\":\"#2a3f5f\"}},\"ternary\":{\"aaxis\":{\"gridcolor\":\"white\",\"linecolor\":\"white\",\"ticks\":\"\"},\"baxis\":{\"gridcolor\":\"white\",\"linecolor\":\"white\",\"ticks\":\"\"},\"bgcolor\":\"#E5ECF6\",\"caxis\":{\"gridcolor\":\"white\",\"linecolor\":\"white\",\"ticks\":\"\"}},\"title\":{\"x\":0.05},\"xaxis\":{\"automargin\":true,\"gridcolor\":\"white\",\"linecolor\":\"white\",\"ticks\":\"\",\"title\":{\"standoff\":15},\"zerolinecolor\":\"white\",\"zerolinewidth\":2},\"yaxis\":{\"automargin\":true,\"gridcolor\":\"white\",\"linecolor\":\"white\",\"ticks\":\"\",\"title\":{\"standoff\":15},\"zerolinecolor\":\"white\",\"zerolinewidth\":2}}},\"xaxis\":{\"anchor\":\"y\",\"domain\":[0.0,1.0],\"title\":{\"text\":\"test preparation course\"}},\"yaxis\":{\"anchor\":\"x\",\"domain\":[0.0,1.0],\"title\":{\"text\":\"count\"}},\"legend\":{\"title\":{\"text\":\"passed_in_writing\"},\"tracegroupgap\":0},\"margin\":{\"t\":60},\"barmode\":\"relative\"},                        {\"responsive\": true}                    ).then(function(){\n",
       "                            \n",
       "var gd = document.getElementById('ffe7b7f9-d1bf-492a-a260-2715149ac1ac');\n",
       "var x = new MutationObserver(function (mutations, observer) {{\n",
       "        var display = window.getComputedStyle(gd).display;\n",
       "        if (!display || display === 'none') {{\n",
       "            console.log([gd, 'removed!']);\n",
       "            Plotly.purge(gd);\n",
       "            observer.disconnect();\n",
       "        }}\n",
       "}});\n",
       "\n",
       "// Listen for the removal of the full notebook cells\n",
       "var notebookContainer = gd.closest('#notebook-container');\n",
       "if (notebookContainer) {{\n",
       "    x.observe(notebookContainer, {childList: true});\n",
       "}}\n",
       "\n",
       "// Listen for the clearing of the current output cell\n",
       "var outputEl = gd.closest('.output');\n",
       "if (outputEl) {{\n",
       "    x.observe(outputEl, {childList: true});\n",
       "}}\n",
       "\n",
       "                        })                };                });            </script>        </div>"
      ]
     },
     "metadata": {},
     "output_type": "display_data"
    }
   ],
   "source": [
    "px.histogram(dataset, x=\"test preparation course\", color=\"passed_in_writing\")"
   ]
  },
  {
   "cell_type": "markdown",
   "id": "3b995e97",
   "metadata": {},
   "source": [
    "so from above histogram we came to a conclusion that 478 male sudents passed the maths exam and 502 female passed the maths exam. So, we can say that 98% of students have passed that maths exam"
   ]
  },
  {
   "cell_type": "code",
   "execution_count": 33,
   "id": "a94cbe04",
   "metadata": {},
   "outputs": [
    {
     "data": {
      "application/vnd.plotly.v1+json": {
       "config": {
        "plotlyServerURL": "https://plot.ly"
       },
       "data": [
        {
         "alignmentgroup": "True",
         "bingroup": "x",
         "hovertemplate": "passed_in_maths=Pass<br>parental level of education=%{x}<br>count=%{y}<extra></extra>",
         "legendgroup": "Pass",
         "marker": {
          "color": "#636efa",
          "pattern": {
           "shape": ""
          }
         },
         "name": "Pass",
         "offsetgroup": "Pass",
         "orientation": "v",
         "showlegend": true,
         "type": "histogram",
         "x": [
          "bachelor's degree",
          "some college",
          "master's degree",
          "associate's degree",
          "some college",
          "associate's degree",
          "some college",
          "some college",
          "high school",
          "high school",
          "associate's degree",
          "associate's degree",
          "high school",
          "some college",
          "master's degree",
          "some high school",
          "high school",
          "master's degree",
          "associate's degree",
          "high school",
          "some college",
          "some college",
          "some high school",
          "bachelor's degree",
          "master's degree",
          "some college",
          "bachelor's degree",
          "high school",
          "master's degree",
          "some college",
          "some college",
          "master's degree",
          "some college",
          "some college",
          "associate's degree",
          "associate's degree",
          "some high school",
          "associate's degree",
          "associate's degree",
          "associate's degree",
          "associate's degree",
          "associate's degree",
          "some college",
          "associate's degree",
          "associate's degree",
          "associate's degree",
          "high school",
          "associate's degree",
          "high school",
          "some college",
          "associate's degree",
          "some college",
          "high school",
          "some high school",
          "associate's degree",
          "associate's degree",
          "some college",
          "bachelor's degree",
          "some high school",
          "associate's degree",
          "associate's degree",
          "some high school",
          "some high school",
          "some high school",
          "some college",
          "associate's degree",
          "associate's degree",
          "some college",
          "some college",
          "associate's degree",
          "some high school",
          "some high school",
          "associate's degree",
          "bachelor's degree",
          "some high school",
          "master's degree",
          "associate's degree",
          "high school",
          "some college",
          "associate's degree",
          "high school",
          "some college",
          "some college",
          "associate's degree",
          "some college",
          "some high school",
          "bachelor's degree",
          "high school",
          "associate's degree",
          "some college",
          "associate's degree",
          "some high school",
          "some college",
          "some college",
          "bachelor's degree",
          "some college",
          "bachelor's degree",
          "associate's degree",
          "high school",
          "some college",
          "some college",
          "master's degree",
          "associate's degree",
          "associate's degree",
          "some high school",
          "associate's degree",
          "high school",
          "associate's degree",
          "some college",
          "bachelor's degree",
          "high school",
          "bachelor's degree",
          "bachelor's degree",
          "some high school",
          "some college",
          "bachelor's degree",
          "associate's degree",
          "some college",
          "high school",
          "some college",
          "high school",
          "some high school",
          "some college",
          "master's degree",
          "bachelor's degree",
          "master's degree",
          "some high school",
          "some college",
          "some college",
          "bachelor's degree",
          "bachelor's degree",
          "some high school",
          "high school",
          "associate's degree",
          "some college",
          "some high school",
          "some college",
          "some college",
          "high school",
          "some college",
          "some high school",
          "associate's degree",
          "bachelor's degree",
          "associate's degree",
          "some high school",
          "bachelor's degree",
          "associate's degree",
          "bachelor's degree",
          "some high school",
          "some college",
          "high school",
          "some college",
          "associate's degree",
          "associate's degree",
          "associate's degree",
          "some college",
          "master's degree",
          "high school",
          "master's degree",
          "bachelor's degree",
          "high school",
          "master's degree",
          "high school",
          "some college",
          "high school",
          "some high school",
          "some college",
          "associate's degree",
          "bachelor's degree",
          "master's degree",
          "high school",
          "associate's degree",
          "master's degree",
          "some high school",
          "master's degree",
          "some college",
          "high school",
          "associate's degree",
          "some high school",
          "associate's degree",
          "high school",
          "some high school",
          "some high school",
          "bachelor's degree",
          "associate's degree",
          "some college",
          "some high school",
          "some college",
          "master's degree",
          "associate's degree",
          "some high school",
          "high school",
          "some college",
          "bachelor's degree",
          "associate's degree",
          "some college",
          "associate's degree",
          "associate's degree",
          "some college",
          "some high school",
          "bachelor's degree",
          "high school",
          "some college",
          "some college",
          "some high school",
          "some college",
          "high school",
          "associate's degree",
          "high school",
          "some high school",
          "associate's degree",
          "high school",
          "high school",
          "some high school",
          "high school",
          "associate's degree",
          "some high school",
          "some high school",
          "associate's degree",
          "master's degree",
          "some college",
          "high school",
          "some high school",
          "some college",
          "some college",
          "associate's degree",
          "bachelor's degree",
          "some high school",
          "bachelor's degree",
          "associate's degree",
          "bachelor's degree",
          "some high school",
          "some college",
          "associate's degree",
          "high school",
          "bachelor's degree",
          "high school",
          "some college",
          "some high school",
          "associate's degree",
          "associate's degree",
          "high school",
          "high school",
          "high school",
          "some high school",
          "some college",
          "some high school",
          "master's degree",
          "high school",
          "some college",
          "associate's degree",
          "associate's degree",
          "some college",
          "master's degree",
          "some high school",
          "some college",
          "some high school",
          "high school",
          "high school",
          "some high school",
          "bachelor's degree",
          "high school",
          "associate's degree",
          "some college",
          "bachelor's degree",
          "some college",
          "associate's degree",
          "some college",
          "some college",
          "bachelor's degree",
          "some high school",
          "high school",
          "some high school",
          "bachelor's degree",
          "high school",
          "high school",
          "bachelor's degree",
          "some college",
          "some high school",
          "associate's degree",
          "associate's degree",
          "some high school",
          "bachelor's degree",
          "some high school",
          "associate's degree",
          "some high school",
          "some high school",
          "bachelor's degree",
          "high school",
          "associate's degree",
          "some high school",
          "associate's degree",
          "high school",
          "associate's degree",
          "some college",
          "some high school",
          "associate's degree",
          "associate's degree",
          "associate's degree",
          "some college",
          "some college",
          "some high school",
          "associate's degree",
          "high school",
          "associate's degree",
          "bachelor's degree",
          "bachelor's degree",
          "associate's degree",
          "bachelor's degree",
          "high school",
          "master's degree",
          "associate's degree",
          "bachelor's degree",
          "associate's degree",
          "high school",
          "high school",
          "some college",
          "some high school",
          "high school",
          "some college",
          "some college",
          "associate's degree",
          "some high school",
          "high school",
          "associate's degree",
          "associate's degree",
          "associate's degree",
          "bachelor's degree",
          "some college",
          "some high school",
          "associate's degree",
          "some high school",
          "high school",
          "high school",
          "high school",
          "associate's degree",
          "some college",
          "high school",
          "some college",
          "bachelor's degree",
          "high school",
          "associate's degree",
          "bachelor's degree",
          "some college",
          "some college",
          "associate's degree",
          "some college",
          "bachelor's degree",
          "associate's degree",
          "some college",
          "some college",
          "some college",
          "high school",
          "some high school",
          "some college",
          "some college",
          "bachelor's degree",
          "high school",
          "bachelor's degree",
          "some high school",
          "some high school",
          "some college",
          "some college",
          "some high school",
          "some college",
          "bachelor's degree",
          "associate's degree",
          "some high school",
          "master's degree",
          "some high school",
          "bachelor's degree",
          "associate's degree",
          "associate's degree",
          "master's degree",
          "some high school",
          "some high school",
          "some college",
          "bachelor's degree",
          "associate's degree",
          "high school",
          "master's degree",
          "some high school",
          "some college",
          "some college",
          "associate's degree",
          "some high school",
          "high school",
          "high school",
          "associate's degree",
          "some high school",
          "some high school",
          "some high school",
          "some college",
          "some college",
          "high school",
          "high school",
          "some high school",
          "associate's degree",
          "associate's degree",
          "high school",
          "associate's degree",
          "master's degree",
          "some college",
          "associate's degree",
          "some high school",
          "bachelor's degree",
          "high school",
          "bachelor's degree",
          "associate's degree",
          "some college",
          "high school",
          "associate's degree",
          "high school",
          "master's degree",
          "some high school",
          "some college",
          "some college",
          "bachelor's degree",
          "some high school",
          "some high school",
          "some high school",
          "associate's degree",
          "high school",
          "high school",
          "some high school",
          "some high school",
          "some college",
          "associate's degree",
          "associate's degree",
          "high school",
          "some high school",
          "some college",
          "high school",
          "some high school",
          "associate's degree",
          "some high school",
          "some high school",
          "some college",
          "high school",
          "high school",
          "associate's degree",
          "some college",
          "some college",
          "associate's degree",
          "some college",
          "associate's degree",
          "bachelor's degree",
          "bachelor's degree",
          "associate's degree",
          "bachelor's degree",
          "high school",
          "bachelor's degree",
          "some college",
          "some college",
          "some college",
          "bachelor's degree",
          "some college",
          "high school",
          "high school",
          "some college",
          "associate's degree",
          "high school",
          "associate's degree",
          "some high school",
          "associate's degree",
          "bachelor's degree",
          "bachelor's degree",
          "associate's degree",
          "master's degree",
          "associate's degree",
          "high school",
          "associate's degree",
          "some college",
          "high school",
          "associate's degree",
          "high school",
          "some college",
          "associate's degree",
          "some high school",
          "associate's degree",
          "associate's degree",
          "associate's degree",
          "some college",
          "bachelor's degree",
          "high school",
          "high school",
          "some college",
          "some college",
          "some high school",
          "some college",
          "master's degree",
          "associate's degree",
          "some college",
          "associate's degree",
          "master's degree",
          "some high school",
          "high school",
          "bachelor's degree",
          "master's degree",
          "bachelor's degree",
          "some college",
          "some high school",
          "some high school",
          "some high school",
          "master's degree",
          "some high school",
          "some college",
          "some college",
          "some high school",
          "high school",
          "some college",
          "associate's degree",
          "bachelor's degree",
          "master's degree",
          "high school",
          "some college",
          "some high school",
          "high school",
          "associate's degree",
          "associate's degree",
          "some high school",
          "associate's degree",
          "associate's degree",
          "high school",
          "bachelor's degree",
          "associate's degree",
          "high school",
          "bachelor's degree",
          "associate's degree",
          "high school",
          "associate's degree",
          "associate's degree",
          "associate's degree",
          "master's degree",
          "some high school",
          "some high school",
          "high school",
          "high school",
          "master's degree",
          "some high school",
          "bachelor's degree",
          "associate's degree",
          "some college",
          "associate's degree",
          "associate's degree",
          "master's degree",
          "associate's degree",
          "some high school",
          "some college",
          "some college",
          "bachelor's degree",
          "some college",
          "bachelor's degree",
          "associate's degree",
          "bachelor's degree",
          "master's degree",
          "high school",
          "bachelor's degree",
          "some college",
          "bachelor's degree",
          "some college",
          "high school",
          "high school",
          "associate's degree",
          "some college",
          "high school",
          "some college",
          "master's degree",
          "some high school",
          "some high school",
          "bachelor's degree",
          "associate's degree",
          "some college",
          "associate's degree",
          "high school",
          "bachelor's degree",
          "some college",
          "some high school",
          "some college",
          "some high school",
          "bachelor's degree",
          "high school",
          "bachelor's degree",
          "bachelor's degree",
          "some high school",
          "high school",
          "some high school",
          "master's degree",
          "some college",
          "high school",
          "master's degree",
          "some high school",
          "associate's degree",
          "master's degree",
          "some college",
          "associate's degree",
          "some college",
          "some college",
          "bachelor's degree",
          "associate's degree",
          "associate's degree",
          "high school",
          "bachelor's degree",
          "bachelor's degree",
          "master's degree",
          "associate's degree",
          "high school",
          "bachelor's degree",
          "high school",
          "some college",
          "bachelor's degree",
          "some college",
          "associate's degree",
          "associate's degree",
          "some college",
          "some high school",
          "some college",
          "high school",
          "bachelor's degree",
          "high school",
          "some high school",
          "high school",
          "high school",
          "some high school",
          "some college",
          "associate's degree",
          "high school",
          "associate's degree",
          "some high school",
          "high school",
          "high school",
          "bachelor's degree",
          "associate's degree",
          "high school",
          "high school",
          "some college",
          "some high school",
          "high school",
          "some college",
          "associate's degree",
          "some high school",
          "some college",
          "associate's degree",
          "some high school",
          "associate's degree",
          "associate's degree",
          "some college",
          "some high school",
          "some college",
          "high school",
          "associate's degree",
          "some high school",
          "some college",
          "bachelor's degree",
          "some college",
          "associate's degree",
          "high school",
          "associate's degree",
          "some college",
          "associate's degree",
          "high school",
          "some college",
          "some college",
          "some high school",
          "associate's degree",
          "some college",
          "high school",
          "high school",
          "high school",
          "some college",
          "master's degree",
          "some college",
          "associate's degree",
          "high school",
          "some college",
          "associate's degree",
          "associate's degree",
          "bachelor's degree",
          "associate's degree",
          "some high school",
          "some college",
          "associate's degree",
          "bachelor's degree",
          "associate's degree",
          "high school",
          "bachelor's degree",
          "some high school",
          "bachelor's degree",
          "some college",
          "some high school",
          "bachelor's degree",
          "high school",
          "some college",
          "high school",
          "associate's degree",
          "some college",
          "some high school",
          "some college",
          "master's degree",
          "some high school",
          "associate's degree",
          "associate's degree",
          "associate's degree",
          "high school",
          "associate's degree",
          "some college",
          "some high school",
          "some high school",
          "high school",
          "some college",
          "some college",
          "associate's degree",
          "some high school",
          "high school",
          "some college",
          "associate's degree",
          "some high school",
          "some college",
          "some high school",
          "some college",
          "master's degree",
          "associate's degree",
          "some college",
          "associate's degree",
          "high school",
          "bachelor's degree",
          "associate's degree",
          "high school",
          "associate's degree",
          "some college",
          "associate's degree",
          "high school",
          "some college",
          "bachelor's degree",
          "some college",
          "some high school",
          "some college",
          "master's degree",
          "some high school",
          "associate's degree",
          "associate's degree",
          "some college",
          "bachelor's degree",
          "some college",
          "some college",
          "high school",
          "some high school",
          "some high school",
          "high school",
          "some college",
          "high school",
          "high school",
          "high school",
          "some high school",
          "some college",
          "high school",
          "bachelor's degree",
          "some high school",
          "bachelor's degree",
          "some college",
          "some high school",
          "high school",
          "some college",
          "some college",
          "associate's degree",
          "associate's degree",
          "master's degree",
          "high school",
          "associate's degree",
          "bachelor's degree",
          "some high school",
          "associate's degree",
          "master's degree",
          "high school",
          "some college",
          "high school",
          "some high school",
          "high school",
          "associate's degree",
          "high school",
          "associate's degree",
          "some college",
          "associate's degree",
          "some high school",
          "some high school",
          "associate's degree",
          "some college",
          "some college",
          "some college",
          "some college",
          "high school",
          "high school",
          "bachelor's degree",
          "some high school",
          "high school",
          "master's degree",
          "some high school",
          "high school",
          "some high school",
          "bachelor's degree",
          "bachelor's degree",
          "high school",
          "some high school",
          "some high school",
          "bachelor's degree",
          "some college",
          "high school",
          "some high school",
          "high school",
          "associate's degree",
          "some high school",
          "some high school",
          "some high school",
          "some college",
          "bachelor's degree",
          "bachelor's degree",
          "high school",
          "some college",
          "high school",
          "high school",
          "high school",
          "associate's degree",
          "associate's degree",
          "high school",
          "some high school",
          "some college",
          "some high school",
          "master's degree",
          "master's degree",
          "high school",
          "high school",
          "associate's degree",
          "master's degree",
          "high school",
          "some college",
          "some high school",
          "some high school",
          "bachelor's degree",
          "some college",
          "bachelor's degree",
          "high school",
          "associate's degree",
          "associate's degree",
          "master's degree",
          "bachelor's degree",
          "some college",
          "associate's degree",
          "some college",
          "high school",
          "associate's degree",
          "associate's degree",
          "associate's degree",
          "high school",
          "some college",
          "associate's degree",
          "associate's degree",
          "bachelor's degree",
          "some college",
          "some college",
          "some high school",
          "some high school",
          "associate's degree",
          "bachelor's degree",
          "bachelor's degree",
          "high school",
          "bachelor's degree",
          "associate's degree",
          "associate's degree",
          "associate's degree",
          "high school",
          "some college",
          "high school",
          "some college",
          "associate's degree",
          "master's degree",
          "some high school",
          "associate's degree",
          "high school",
          "some high school",
          "associate's degree",
          "some high school",
          "master's degree",
          "master's degree",
          "high school",
          "bachelor's degree",
          "some high school",
          "some college",
          "high school",
          "some college",
          "bachelor's degree",
          "bachelor's degree",
          "bachelor's degree",
          "some college",
          "bachelor's degree",
          "bachelor's degree",
          "associate's degree",
          "some college",
          "bachelor's degree",
          "high school",
          "associate's degree",
          "some college",
          "high school",
          "high school",
          "high school",
          "associate's degree",
          "high school",
          "some high school",
          "associate's degree",
          "high school",
          "associate's degree",
          "some high school",
          "some college",
          "some college",
          "associate's degree",
          "bachelor's degree",
          "associate's degree",
          "some college",
          "associate's degree",
          "high school",
          "some college",
          "some high school",
          "master's degree",
          "master's degree",
          "high school",
          "some high school",
          "high school",
          "associate's degree",
          "high school",
          "some college",
          "some high school",
          "high school",
          "high school",
          "some college",
          "some high school",
          "high school",
          "some college",
          "associate's degree",
          "some college",
          "master's degree",
          "high school",
          "high school",
          "some college",
          "some high school",
          "associate's degree",
          "some high school",
          "some college",
          "some college",
          "some high school",
          "some college",
          "associate's degree",
          "bachelor's degree",
          "bachelor's degree",
          "some high school",
          "high school",
          "some college",
          "some college",
          "some college",
          "some college",
          "associate's degree",
          "high school",
          "associate's degree",
          "some high school",
          "some high school",
          "some college",
          "some high school",
          "high school",
          "associate's degree",
          "some high school",
          "some high school",
          "some college",
          "high school",
          "some high school",
          "associate's degree",
          "bachelor's degree",
          "high school",
          "master's degree",
          "high school",
          "high school",
          "some college",
          "some college"
         ],
         "xaxis": "x",
         "yaxis": "y"
        },
        {
         "alignmentgroup": "True",
         "bingroup": "x",
         "hovertemplate": "passed_in_maths=Fale<br>parental level of education=%{x}<br>count=%{y}<extra></extra>",
         "legendgroup": "Fale",
         "marker": {
          "color": "#EF553B",
          "pattern": {
           "shape": ""
          }
         },
         "name": "Fale",
         "offsetgroup": "Fale",
         "orientation": "v",
         "showlegend": true,
         "type": "histogram",
         "x": [
          "some high school",
          "high school",
          "some high school",
          "some high school",
          "high school",
          "some college",
          "some college",
          "some high school",
          "some high school",
          "associate's degree",
          "bachelor's degree",
          "some college",
          "high school",
          "high school",
          "some high school",
          "some high school",
          "some college",
          "high school",
          "some high school",
          "high school"
         ],
         "xaxis": "x",
         "yaxis": "y"
        }
       ],
       "layout": {
        "barmode": "relative",
        "legend": {
         "title": {
          "text": "passed_in_maths"
         },
         "tracegroupgap": 0
        },
        "margin": {
         "t": 60
        },
        "template": {
         "data": {
          "bar": [
           {
            "error_x": {
             "color": "#2a3f5f"
            },
            "error_y": {
             "color": "#2a3f5f"
            },
            "marker": {
             "line": {
              "color": "#E5ECF6",
              "width": 0.5
             },
             "pattern": {
              "fillmode": "overlay",
              "size": 10,
              "solidity": 0.2
             }
            },
            "type": "bar"
           }
          ],
          "barpolar": [
           {
            "marker": {
             "line": {
              "color": "#E5ECF6",
              "width": 0.5
             },
             "pattern": {
              "fillmode": "overlay",
              "size": 10,
              "solidity": 0.2
             }
            },
            "type": "barpolar"
           }
          ],
          "carpet": [
           {
            "aaxis": {
             "endlinecolor": "#2a3f5f",
             "gridcolor": "white",
             "linecolor": "white",
             "minorgridcolor": "white",
             "startlinecolor": "#2a3f5f"
            },
            "baxis": {
             "endlinecolor": "#2a3f5f",
             "gridcolor": "white",
             "linecolor": "white",
             "minorgridcolor": "white",
             "startlinecolor": "#2a3f5f"
            },
            "type": "carpet"
           }
          ],
          "choropleth": [
           {
            "colorbar": {
             "outlinewidth": 0,
             "ticks": ""
            },
            "type": "choropleth"
           }
          ],
          "contour": [
           {
            "colorbar": {
             "outlinewidth": 0,
             "ticks": ""
            },
            "colorscale": [
             [
              0,
              "#0d0887"
             ],
             [
              0.1111111111111111,
              "#46039f"
             ],
             [
              0.2222222222222222,
              "#7201a8"
             ],
             [
              0.3333333333333333,
              "#9c179e"
             ],
             [
              0.4444444444444444,
              "#bd3786"
             ],
             [
              0.5555555555555556,
              "#d8576b"
             ],
             [
              0.6666666666666666,
              "#ed7953"
             ],
             [
              0.7777777777777778,
              "#fb9f3a"
             ],
             [
              0.8888888888888888,
              "#fdca26"
             ],
             [
              1,
              "#f0f921"
             ]
            ],
            "type": "contour"
           }
          ],
          "contourcarpet": [
           {
            "colorbar": {
             "outlinewidth": 0,
             "ticks": ""
            },
            "type": "contourcarpet"
           }
          ],
          "heatmap": [
           {
            "colorbar": {
             "outlinewidth": 0,
             "ticks": ""
            },
            "colorscale": [
             [
              0,
              "#0d0887"
             ],
             [
              0.1111111111111111,
              "#46039f"
             ],
             [
              0.2222222222222222,
              "#7201a8"
             ],
             [
              0.3333333333333333,
              "#9c179e"
             ],
             [
              0.4444444444444444,
              "#bd3786"
             ],
             [
              0.5555555555555556,
              "#d8576b"
             ],
             [
              0.6666666666666666,
              "#ed7953"
             ],
             [
              0.7777777777777778,
              "#fb9f3a"
             ],
             [
              0.8888888888888888,
              "#fdca26"
             ],
             [
              1,
              "#f0f921"
             ]
            ],
            "type": "heatmap"
           }
          ],
          "heatmapgl": [
           {
            "colorbar": {
             "outlinewidth": 0,
             "ticks": ""
            },
            "colorscale": [
             [
              0,
              "#0d0887"
             ],
             [
              0.1111111111111111,
              "#46039f"
             ],
             [
              0.2222222222222222,
              "#7201a8"
             ],
             [
              0.3333333333333333,
              "#9c179e"
             ],
             [
              0.4444444444444444,
              "#bd3786"
             ],
             [
              0.5555555555555556,
              "#d8576b"
             ],
             [
              0.6666666666666666,
              "#ed7953"
             ],
             [
              0.7777777777777778,
              "#fb9f3a"
             ],
             [
              0.8888888888888888,
              "#fdca26"
             ],
             [
              1,
              "#f0f921"
             ]
            ],
            "type": "heatmapgl"
           }
          ],
          "histogram": [
           {
            "marker": {
             "pattern": {
              "fillmode": "overlay",
              "size": 10,
              "solidity": 0.2
             }
            },
            "type": "histogram"
           }
          ],
          "histogram2d": [
           {
            "colorbar": {
             "outlinewidth": 0,
             "ticks": ""
            },
            "colorscale": [
             [
              0,
              "#0d0887"
             ],
             [
              0.1111111111111111,
              "#46039f"
             ],
             [
              0.2222222222222222,
              "#7201a8"
             ],
             [
              0.3333333333333333,
              "#9c179e"
             ],
             [
              0.4444444444444444,
              "#bd3786"
             ],
             [
              0.5555555555555556,
              "#d8576b"
             ],
             [
              0.6666666666666666,
              "#ed7953"
             ],
             [
              0.7777777777777778,
              "#fb9f3a"
             ],
             [
              0.8888888888888888,
              "#fdca26"
             ],
             [
              1,
              "#f0f921"
             ]
            ],
            "type": "histogram2d"
           }
          ],
          "histogram2dcontour": [
           {
            "colorbar": {
             "outlinewidth": 0,
             "ticks": ""
            },
            "colorscale": [
             [
              0,
              "#0d0887"
             ],
             [
              0.1111111111111111,
              "#46039f"
             ],
             [
              0.2222222222222222,
              "#7201a8"
             ],
             [
              0.3333333333333333,
              "#9c179e"
             ],
             [
              0.4444444444444444,
              "#bd3786"
             ],
             [
              0.5555555555555556,
              "#d8576b"
             ],
             [
              0.6666666666666666,
              "#ed7953"
             ],
             [
              0.7777777777777778,
              "#fb9f3a"
             ],
             [
              0.8888888888888888,
              "#fdca26"
             ],
             [
              1,
              "#f0f921"
             ]
            ],
            "type": "histogram2dcontour"
           }
          ],
          "mesh3d": [
           {
            "colorbar": {
             "outlinewidth": 0,
             "ticks": ""
            },
            "type": "mesh3d"
           }
          ],
          "parcoords": [
           {
            "line": {
             "colorbar": {
              "outlinewidth": 0,
              "ticks": ""
             }
            },
            "type": "parcoords"
           }
          ],
          "pie": [
           {
            "automargin": true,
            "type": "pie"
           }
          ],
          "scatter": [
           {
            "marker": {
             "colorbar": {
              "outlinewidth": 0,
              "ticks": ""
             }
            },
            "type": "scatter"
           }
          ],
          "scatter3d": [
           {
            "line": {
             "colorbar": {
              "outlinewidth": 0,
              "ticks": ""
             }
            },
            "marker": {
             "colorbar": {
              "outlinewidth": 0,
              "ticks": ""
             }
            },
            "type": "scatter3d"
           }
          ],
          "scattercarpet": [
           {
            "marker": {
             "colorbar": {
              "outlinewidth": 0,
              "ticks": ""
             }
            },
            "type": "scattercarpet"
           }
          ],
          "scattergeo": [
           {
            "marker": {
             "colorbar": {
              "outlinewidth": 0,
              "ticks": ""
             }
            },
            "type": "scattergeo"
           }
          ],
          "scattergl": [
           {
            "marker": {
             "colorbar": {
              "outlinewidth": 0,
              "ticks": ""
             }
            },
            "type": "scattergl"
           }
          ],
          "scattermapbox": [
           {
            "marker": {
             "colorbar": {
              "outlinewidth": 0,
              "ticks": ""
             }
            },
            "type": "scattermapbox"
           }
          ],
          "scatterpolar": [
           {
            "marker": {
             "colorbar": {
              "outlinewidth": 0,
              "ticks": ""
             }
            },
            "type": "scatterpolar"
           }
          ],
          "scatterpolargl": [
           {
            "marker": {
             "colorbar": {
              "outlinewidth": 0,
              "ticks": ""
             }
            },
            "type": "scatterpolargl"
           }
          ],
          "scatterternary": [
           {
            "marker": {
             "colorbar": {
              "outlinewidth": 0,
              "ticks": ""
             }
            },
            "type": "scatterternary"
           }
          ],
          "surface": [
           {
            "colorbar": {
             "outlinewidth": 0,
             "ticks": ""
            },
            "colorscale": [
             [
              0,
              "#0d0887"
             ],
             [
              0.1111111111111111,
              "#46039f"
             ],
             [
              0.2222222222222222,
              "#7201a8"
             ],
             [
              0.3333333333333333,
              "#9c179e"
             ],
             [
              0.4444444444444444,
              "#bd3786"
             ],
             [
              0.5555555555555556,
              "#d8576b"
             ],
             [
              0.6666666666666666,
              "#ed7953"
             ],
             [
              0.7777777777777778,
              "#fb9f3a"
             ],
             [
              0.8888888888888888,
              "#fdca26"
             ],
             [
              1,
              "#f0f921"
             ]
            ],
            "type": "surface"
           }
          ],
          "table": [
           {
            "cells": {
             "fill": {
              "color": "#EBF0F8"
             },
             "line": {
              "color": "white"
             }
            },
            "header": {
             "fill": {
              "color": "#C8D4E3"
             },
             "line": {
              "color": "white"
             }
            },
            "type": "table"
           }
          ]
         },
         "layout": {
          "annotationdefaults": {
           "arrowcolor": "#2a3f5f",
           "arrowhead": 0,
           "arrowwidth": 1
          },
          "autotypenumbers": "strict",
          "coloraxis": {
           "colorbar": {
            "outlinewidth": 0,
            "ticks": ""
           }
          },
          "colorscale": {
           "diverging": [
            [
             0,
             "#8e0152"
            ],
            [
             0.1,
             "#c51b7d"
            ],
            [
             0.2,
             "#de77ae"
            ],
            [
             0.3,
             "#f1b6da"
            ],
            [
             0.4,
             "#fde0ef"
            ],
            [
             0.5,
             "#f7f7f7"
            ],
            [
             0.6,
             "#e6f5d0"
            ],
            [
             0.7,
             "#b8e186"
            ],
            [
             0.8,
             "#7fbc41"
            ],
            [
             0.9,
             "#4d9221"
            ],
            [
             1,
             "#276419"
            ]
           ],
           "sequential": [
            [
             0,
             "#0d0887"
            ],
            [
             0.1111111111111111,
             "#46039f"
            ],
            [
             0.2222222222222222,
             "#7201a8"
            ],
            [
             0.3333333333333333,
             "#9c179e"
            ],
            [
             0.4444444444444444,
             "#bd3786"
            ],
            [
             0.5555555555555556,
             "#d8576b"
            ],
            [
             0.6666666666666666,
             "#ed7953"
            ],
            [
             0.7777777777777778,
             "#fb9f3a"
            ],
            [
             0.8888888888888888,
             "#fdca26"
            ],
            [
             1,
             "#f0f921"
            ]
           ],
           "sequentialminus": [
            [
             0,
             "#0d0887"
            ],
            [
             0.1111111111111111,
             "#46039f"
            ],
            [
             0.2222222222222222,
             "#7201a8"
            ],
            [
             0.3333333333333333,
             "#9c179e"
            ],
            [
             0.4444444444444444,
             "#bd3786"
            ],
            [
             0.5555555555555556,
             "#d8576b"
            ],
            [
             0.6666666666666666,
             "#ed7953"
            ],
            [
             0.7777777777777778,
             "#fb9f3a"
            ],
            [
             0.8888888888888888,
             "#fdca26"
            ],
            [
             1,
             "#f0f921"
            ]
           ]
          },
          "colorway": [
           "#636efa",
           "#EF553B",
           "#00cc96",
           "#ab63fa",
           "#FFA15A",
           "#19d3f3",
           "#FF6692",
           "#B6E880",
           "#FF97FF",
           "#FECB52"
          ],
          "font": {
           "color": "#2a3f5f"
          },
          "geo": {
           "bgcolor": "white",
           "lakecolor": "white",
           "landcolor": "#E5ECF6",
           "showlakes": true,
           "showland": true,
           "subunitcolor": "white"
          },
          "hoverlabel": {
           "align": "left"
          },
          "hovermode": "closest",
          "mapbox": {
           "style": "light"
          },
          "paper_bgcolor": "white",
          "plot_bgcolor": "#E5ECF6",
          "polar": {
           "angularaxis": {
            "gridcolor": "white",
            "linecolor": "white",
            "ticks": ""
           },
           "bgcolor": "#E5ECF6",
           "radialaxis": {
            "gridcolor": "white",
            "linecolor": "white",
            "ticks": ""
           }
          },
          "scene": {
           "xaxis": {
            "backgroundcolor": "#E5ECF6",
            "gridcolor": "white",
            "gridwidth": 2,
            "linecolor": "white",
            "showbackground": true,
            "ticks": "",
            "zerolinecolor": "white"
           },
           "yaxis": {
            "backgroundcolor": "#E5ECF6",
            "gridcolor": "white",
            "gridwidth": 2,
            "linecolor": "white",
            "showbackground": true,
            "ticks": "",
            "zerolinecolor": "white"
           },
           "zaxis": {
            "backgroundcolor": "#E5ECF6",
            "gridcolor": "white",
            "gridwidth": 2,
            "linecolor": "white",
            "showbackground": true,
            "ticks": "",
            "zerolinecolor": "white"
           }
          },
          "shapedefaults": {
           "line": {
            "color": "#2a3f5f"
           }
          },
          "ternary": {
           "aaxis": {
            "gridcolor": "white",
            "linecolor": "white",
            "ticks": ""
           },
           "baxis": {
            "gridcolor": "white",
            "linecolor": "white",
            "ticks": ""
           },
           "bgcolor": "#E5ECF6",
           "caxis": {
            "gridcolor": "white",
            "linecolor": "white",
            "ticks": ""
           }
          },
          "title": {
           "x": 0.05
          },
          "xaxis": {
           "automargin": true,
           "gridcolor": "white",
           "linecolor": "white",
           "ticks": "",
           "title": {
            "standoff": 15
           },
           "zerolinecolor": "white",
           "zerolinewidth": 2
          },
          "yaxis": {
           "automargin": true,
           "gridcolor": "white",
           "linecolor": "white",
           "ticks": "",
           "title": {
            "standoff": 15
           },
           "zerolinecolor": "white",
           "zerolinewidth": 2
          }
         }
        },
        "xaxis": {
         "anchor": "y",
         "domain": [
          0,
          1
         ],
         "title": {
          "text": "parental level of education"
         }
        },
        "yaxis": {
         "anchor": "x",
         "domain": [
          0,
          1
         ],
         "title": {
          "text": "count"
         }
        }
       }
      },
      "text/html": [
       "<div>                            <div id=\"407cda41-4515-4ad4-90a2-bc8e91bf11ac\" class=\"plotly-graph-div\" style=\"height:525px; width:100%;\"></div>            <script type=\"text/javascript\">                require([\"plotly\"], function(Plotly) {                    window.PLOTLYENV=window.PLOTLYENV || {};                                    if (document.getElementById(\"407cda41-4515-4ad4-90a2-bc8e91bf11ac\")) {                    Plotly.newPlot(                        \"407cda41-4515-4ad4-90a2-bc8e91bf11ac\",                        [{\"alignmentgroup\":\"True\",\"bingroup\":\"x\",\"hovertemplate\":\"passed_in_maths=Pass<br>parental level of education=%{x}<br>count=%{y}<extra></extra>\",\"legendgroup\":\"Pass\",\"marker\":{\"color\":\"#636efa\",\"pattern\":{\"shape\":\"\"}},\"name\":\"Pass\",\"offsetgroup\":\"Pass\",\"orientation\":\"v\",\"showlegend\":true,\"x\":[\"bachelor's degree\",\"some college\",\"master's degree\",\"associate's degree\",\"some college\",\"associate's degree\",\"some college\",\"some college\",\"high school\",\"high school\",\"associate's degree\",\"associate's degree\",\"high school\",\"some college\",\"master's degree\",\"some high school\",\"high school\",\"master's degree\",\"associate's degree\",\"high school\",\"some college\",\"some college\",\"some high school\",\"bachelor's degree\",\"master's degree\",\"some college\",\"bachelor's degree\",\"high school\",\"master's degree\",\"some college\",\"some college\",\"master's degree\",\"some college\",\"some college\",\"associate's degree\",\"associate's degree\",\"some high school\",\"associate's degree\",\"associate's degree\",\"associate's degree\",\"associate's degree\",\"associate's degree\",\"some college\",\"associate's degree\",\"associate's degree\",\"associate's degree\",\"high school\",\"associate's degree\",\"high school\",\"some college\",\"associate's degree\",\"some college\",\"high school\",\"some high school\",\"associate's degree\",\"associate's degree\",\"some college\",\"bachelor's degree\",\"some high school\",\"associate's degree\",\"associate's degree\",\"some high school\",\"some high school\",\"some high school\",\"some college\",\"associate's degree\",\"associate's degree\",\"some college\",\"some college\",\"associate's degree\",\"some high school\",\"some high school\",\"associate's degree\",\"bachelor's degree\",\"some high school\",\"master's degree\",\"associate's degree\",\"high school\",\"some college\",\"associate's degree\",\"high school\",\"some college\",\"some college\",\"associate's degree\",\"some college\",\"some high school\",\"bachelor's degree\",\"high school\",\"associate's degree\",\"some college\",\"associate's degree\",\"some high school\",\"some college\",\"some college\",\"bachelor's degree\",\"some college\",\"bachelor's degree\",\"associate's degree\",\"high school\",\"some college\",\"some college\",\"master's degree\",\"associate's degree\",\"associate's degree\",\"some high school\",\"associate's degree\",\"high school\",\"associate's degree\",\"some college\",\"bachelor's degree\",\"high school\",\"bachelor's degree\",\"bachelor's degree\",\"some high school\",\"some college\",\"bachelor's degree\",\"associate's degree\",\"some college\",\"high school\",\"some college\",\"high school\",\"some high school\",\"some college\",\"master's degree\",\"bachelor's degree\",\"master's degree\",\"some high school\",\"some college\",\"some college\",\"bachelor's degree\",\"bachelor's degree\",\"some high school\",\"high school\",\"associate's degree\",\"some college\",\"some high school\",\"some college\",\"some college\",\"high school\",\"some college\",\"some high school\",\"associate's degree\",\"bachelor's degree\",\"associate's degree\",\"some high school\",\"bachelor's degree\",\"associate's degree\",\"bachelor's degree\",\"some high school\",\"some college\",\"high school\",\"some college\",\"associate's degree\",\"associate's degree\",\"associate's degree\",\"some college\",\"master's degree\",\"high school\",\"master's degree\",\"bachelor's degree\",\"high school\",\"master's degree\",\"high school\",\"some college\",\"high school\",\"some high school\",\"some college\",\"associate's degree\",\"bachelor's degree\",\"master's degree\",\"high school\",\"associate's degree\",\"master's degree\",\"some high school\",\"master's degree\",\"some college\",\"high school\",\"associate's degree\",\"some high school\",\"associate's degree\",\"high school\",\"some high school\",\"some high school\",\"bachelor's degree\",\"associate's degree\",\"some college\",\"some high school\",\"some college\",\"master's degree\",\"associate's degree\",\"some high school\",\"high school\",\"some college\",\"bachelor's degree\",\"associate's degree\",\"some college\",\"associate's degree\",\"associate's degree\",\"some college\",\"some high school\",\"bachelor's degree\",\"high school\",\"some college\",\"some college\",\"some high school\",\"some college\",\"high school\",\"associate's degree\",\"high school\",\"some high school\",\"associate's degree\",\"high school\",\"high school\",\"some high school\",\"high school\",\"associate's degree\",\"some high school\",\"some high school\",\"associate's degree\",\"master's degree\",\"some college\",\"high school\",\"some high school\",\"some college\",\"some college\",\"associate's degree\",\"bachelor's degree\",\"some high school\",\"bachelor's degree\",\"associate's degree\",\"bachelor's degree\",\"some high school\",\"some college\",\"associate's degree\",\"high school\",\"bachelor's degree\",\"high school\",\"some college\",\"some high school\",\"associate's degree\",\"associate's degree\",\"high school\",\"high school\",\"high school\",\"some high school\",\"some college\",\"some high school\",\"master's degree\",\"high school\",\"some college\",\"associate's degree\",\"associate's degree\",\"some college\",\"master's degree\",\"some high school\",\"some college\",\"some high school\",\"high school\",\"high school\",\"some high school\",\"bachelor's degree\",\"high school\",\"associate's degree\",\"some college\",\"bachelor's degree\",\"some college\",\"associate's degree\",\"some college\",\"some college\",\"bachelor's degree\",\"some high school\",\"high school\",\"some high school\",\"bachelor's degree\",\"high school\",\"high school\",\"bachelor's degree\",\"some college\",\"some high school\",\"associate's degree\",\"associate's degree\",\"some high school\",\"bachelor's degree\",\"some high school\",\"associate's degree\",\"some high school\",\"some high school\",\"bachelor's degree\",\"high school\",\"associate's degree\",\"some high school\",\"associate's degree\",\"high school\",\"associate's degree\",\"some college\",\"some high school\",\"associate's degree\",\"associate's degree\",\"associate's degree\",\"some college\",\"some college\",\"some high school\",\"associate's degree\",\"high school\",\"associate's degree\",\"bachelor's degree\",\"bachelor's degree\",\"associate's degree\",\"bachelor's degree\",\"high school\",\"master's degree\",\"associate's degree\",\"bachelor's degree\",\"associate's degree\",\"high school\",\"high school\",\"some college\",\"some high school\",\"high school\",\"some college\",\"some college\",\"associate's degree\",\"some high school\",\"high school\",\"associate's degree\",\"associate's degree\",\"associate's degree\",\"bachelor's degree\",\"some college\",\"some high school\",\"associate's degree\",\"some high school\",\"high school\",\"high school\",\"high school\",\"associate's degree\",\"some college\",\"high school\",\"some college\",\"bachelor's degree\",\"high school\",\"associate's degree\",\"bachelor's degree\",\"some college\",\"some college\",\"associate's degree\",\"some college\",\"bachelor's degree\",\"associate's degree\",\"some college\",\"some college\",\"some college\",\"high school\",\"some high school\",\"some college\",\"some college\",\"bachelor's degree\",\"high school\",\"bachelor's degree\",\"some high school\",\"some high school\",\"some college\",\"some college\",\"some high school\",\"some college\",\"bachelor's degree\",\"associate's degree\",\"some high school\",\"master's degree\",\"some high school\",\"bachelor's degree\",\"associate's degree\",\"associate's degree\",\"master's degree\",\"some high school\",\"some high school\",\"some college\",\"bachelor's degree\",\"associate's degree\",\"high school\",\"master's degree\",\"some high school\",\"some college\",\"some college\",\"associate's degree\",\"some high school\",\"high school\",\"high school\",\"associate's degree\",\"some high school\",\"some high school\",\"some high school\",\"some college\",\"some college\",\"high school\",\"high school\",\"some high school\",\"associate's degree\",\"associate's degree\",\"high school\",\"associate's degree\",\"master's degree\",\"some college\",\"associate's degree\",\"some high school\",\"bachelor's degree\",\"high school\",\"bachelor's degree\",\"associate's degree\",\"some college\",\"high school\",\"associate's degree\",\"high school\",\"master's degree\",\"some high school\",\"some college\",\"some college\",\"bachelor's degree\",\"some high school\",\"some high school\",\"some high school\",\"associate's degree\",\"high school\",\"high school\",\"some high school\",\"some high school\",\"some college\",\"associate's degree\",\"associate's degree\",\"high school\",\"some high school\",\"some college\",\"high school\",\"some high school\",\"associate's degree\",\"some high school\",\"some high school\",\"some college\",\"high school\",\"high school\",\"associate's degree\",\"some college\",\"some college\",\"associate's degree\",\"some college\",\"associate's degree\",\"bachelor's degree\",\"bachelor's degree\",\"associate's degree\",\"bachelor's degree\",\"high school\",\"bachelor's degree\",\"some college\",\"some college\",\"some college\",\"bachelor's degree\",\"some college\",\"high school\",\"high school\",\"some college\",\"associate's degree\",\"high school\",\"associate's degree\",\"some high school\",\"associate's degree\",\"bachelor's degree\",\"bachelor's degree\",\"associate's degree\",\"master's degree\",\"associate's degree\",\"high school\",\"associate's degree\",\"some college\",\"high school\",\"associate's degree\",\"high school\",\"some college\",\"associate's degree\",\"some high school\",\"associate's degree\",\"associate's degree\",\"associate's degree\",\"some college\",\"bachelor's degree\",\"high school\",\"high school\",\"some college\",\"some college\",\"some high school\",\"some college\",\"master's degree\",\"associate's degree\",\"some college\",\"associate's degree\",\"master's degree\",\"some high school\",\"high school\",\"bachelor's degree\",\"master's degree\",\"bachelor's degree\",\"some college\",\"some high school\",\"some high school\",\"some high school\",\"master's degree\",\"some high school\",\"some college\",\"some college\",\"some high school\",\"high school\",\"some college\",\"associate's degree\",\"bachelor's degree\",\"master's degree\",\"high school\",\"some college\",\"some high school\",\"high school\",\"associate's degree\",\"associate's degree\",\"some high school\",\"associate's degree\",\"associate's degree\",\"high school\",\"bachelor's degree\",\"associate's degree\",\"high school\",\"bachelor's degree\",\"associate's degree\",\"high school\",\"associate's degree\",\"associate's degree\",\"associate's degree\",\"master's degree\",\"some high school\",\"some high school\",\"high school\",\"high school\",\"master's degree\",\"some high school\",\"bachelor's degree\",\"associate's degree\",\"some college\",\"associate's degree\",\"associate's degree\",\"master's degree\",\"associate's degree\",\"some high school\",\"some college\",\"some college\",\"bachelor's degree\",\"some college\",\"bachelor's degree\",\"associate's degree\",\"bachelor's degree\",\"master's degree\",\"high school\",\"bachelor's degree\",\"some college\",\"bachelor's degree\",\"some college\",\"high school\",\"high school\",\"associate's degree\",\"some college\",\"high school\",\"some college\",\"master's degree\",\"some high school\",\"some high school\",\"bachelor's degree\",\"associate's degree\",\"some college\",\"associate's degree\",\"high school\",\"bachelor's degree\",\"some college\",\"some high school\",\"some college\",\"some high school\",\"bachelor's degree\",\"high school\",\"bachelor's degree\",\"bachelor's degree\",\"some high school\",\"high school\",\"some high school\",\"master's degree\",\"some college\",\"high school\",\"master's degree\",\"some high school\",\"associate's degree\",\"master's degree\",\"some college\",\"associate's degree\",\"some college\",\"some college\",\"bachelor's degree\",\"associate's degree\",\"associate's degree\",\"high school\",\"bachelor's degree\",\"bachelor's degree\",\"master's degree\",\"associate's degree\",\"high school\",\"bachelor's degree\",\"high school\",\"some college\",\"bachelor's degree\",\"some college\",\"associate's degree\",\"associate's degree\",\"some college\",\"some high school\",\"some college\",\"high school\",\"bachelor's degree\",\"high school\",\"some high school\",\"high school\",\"high school\",\"some high school\",\"some college\",\"associate's degree\",\"high school\",\"associate's degree\",\"some high school\",\"high school\",\"high school\",\"bachelor's degree\",\"associate's degree\",\"high school\",\"high school\",\"some college\",\"some high school\",\"high school\",\"some college\",\"associate's degree\",\"some high school\",\"some college\",\"associate's degree\",\"some high school\",\"associate's degree\",\"associate's degree\",\"some college\",\"some high school\",\"some college\",\"high school\",\"associate's degree\",\"some high school\",\"some college\",\"bachelor's degree\",\"some college\",\"associate's degree\",\"high school\",\"associate's degree\",\"some college\",\"associate's degree\",\"high school\",\"some college\",\"some college\",\"some high school\",\"associate's degree\",\"some college\",\"high school\",\"high school\",\"high school\",\"some college\",\"master's degree\",\"some college\",\"associate's degree\",\"high school\",\"some college\",\"associate's degree\",\"associate's degree\",\"bachelor's degree\",\"associate's degree\",\"some high school\",\"some college\",\"associate's degree\",\"bachelor's degree\",\"associate's degree\",\"high school\",\"bachelor's degree\",\"some high school\",\"bachelor's degree\",\"some college\",\"some high school\",\"bachelor's degree\",\"high school\",\"some college\",\"high school\",\"associate's degree\",\"some college\",\"some high school\",\"some college\",\"master's degree\",\"some high school\",\"associate's degree\",\"associate's degree\",\"associate's degree\",\"high school\",\"associate's degree\",\"some college\",\"some high school\",\"some high school\",\"high school\",\"some college\",\"some college\",\"associate's degree\",\"some high school\",\"high school\",\"some college\",\"associate's degree\",\"some high school\",\"some college\",\"some high school\",\"some college\",\"master's degree\",\"associate's degree\",\"some college\",\"associate's degree\",\"high school\",\"bachelor's degree\",\"associate's degree\",\"high school\",\"associate's degree\",\"some college\",\"associate's degree\",\"high school\",\"some college\",\"bachelor's degree\",\"some college\",\"some high school\",\"some college\",\"master's degree\",\"some high school\",\"associate's degree\",\"associate's degree\",\"some college\",\"bachelor's degree\",\"some college\",\"some college\",\"high school\",\"some high school\",\"some high school\",\"high school\",\"some college\",\"high school\",\"high school\",\"high school\",\"some high school\",\"some college\",\"high school\",\"bachelor's degree\",\"some high school\",\"bachelor's degree\",\"some college\",\"some high school\",\"high school\",\"some college\",\"some college\",\"associate's degree\",\"associate's degree\",\"master's degree\",\"high school\",\"associate's degree\",\"bachelor's degree\",\"some high school\",\"associate's degree\",\"master's degree\",\"high school\",\"some college\",\"high school\",\"some high school\",\"high school\",\"associate's degree\",\"high school\",\"associate's degree\",\"some college\",\"associate's degree\",\"some high school\",\"some high school\",\"associate's degree\",\"some college\",\"some college\",\"some college\",\"some college\",\"high school\",\"high school\",\"bachelor's degree\",\"some high school\",\"high school\",\"master's degree\",\"some high school\",\"high school\",\"some high school\",\"bachelor's degree\",\"bachelor's degree\",\"high school\",\"some high school\",\"some high school\",\"bachelor's degree\",\"some college\",\"high school\",\"some high school\",\"high school\",\"associate's degree\",\"some high school\",\"some high school\",\"some high school\",\"some college\",\"bachelor's degree\",\"bachelor's degree\",\"high school\",\"some college\",\"high school\",\"high school\",\"high school\",\"associate's degree\",\"associate's degree\",\"high school\",\"some high school\",\"some college\",\"some high school\",\"master's degree\",\"master's degree\",\"high school\",\"high school\",\"associate's degree\",\"master's degree\",\"high school\",\"some college\",\"some high school\",\"some high school\",\"bachelor's degree\",\"some college\",\"bachelor's degree\",\"high school\",\"associate's degree\",\"associate's degree\",\"master's degree\",\"bachelor's degree\",\"some college\",\"associate's degree\",\"some college\",\"high school\",\"associate's degree\",\"associate's degree\",\"associate's degree\",\"high school\",\"some college\",\"associate's degree\",\"associate's degree\",\"bachelor's degree\",\"some college\",\"some college\",\"some high school\",\"some high school\",\"associate's degree\",\"bachelor's degree\",\"bachelor's degree\",\"high school\",\"bachelor's degree\",\"associate's degree\",\"associate's degree\",\"associate's degree\",\"high school\",\"some college\",\"high school\",\"some college\",\"associate's degree\",\"master's degree\",\"some high school\",\"associate's degree\",\"high school\",\"some high school\",\"associate's degree\",\"some high school\",\"master's degree\",\"master's degree\",\"high school\",\"bachelor's degree\",\"some high school\",\"some college\",\"high school\",\"some college\",\"bachelor's degree\",\"bachelor's degree\",\"bachelor's degree\",\"some college\",\"bachelor's degree\",\"bachelor's degree\",\"associate's degree\",\"some college\",\"bachelor's degree\",\"high school\",\"associate's degree\",\"some college\",\"high school\",\"high school\",\"high school\",\"associate's degree\",\"high school\",\"some high school\",\"associate's degree\",\"high school\",\"associate's degree\",\"some high school\",\"some college\",\"some college\",\"associate's degree\",\"bachelor's degree\",\"associate's degree\",\"some college\",\"associate's degree\",\"high school\",\"some college\",\"some high school\",\"master's degree\",\"master's degree\",\"high school\",\"some high school\",\"high school\",\"associate's degree\",\"high school\",\"some college\",\"some high school\",\"high school\",\"high school\",\"some college\",\"some high school\",\"high school\",\"some college\",\"associate's degree\",\"some college\",\"master's degree\",\"high school\",\"high school\",\"some college\",\"some high school\",\"associate's degree\",\"some high school\",\"some college\",\"some college\",\"some high school\",\"some college\",\"associate's degree\",\"bachelor's degree\",\"bachelor's degree\",\"some high school\",\"high school\",\"some college\",\"some college\",\"some college\",\"some college\",\"associate's degree\",\"high school\",\"associate's degree\",\"some high school\",\"some high school\",\"some college\",\"some high school\",\"high school\",\"associate's degree\",\"some high school\",\"some high school\",\"some college\",\"high school\",\"some high school\",\"associate's degree\",\"bachelor's degree\",\"high school\",\"master's degree\",\"high school\",\"high school\",\"some college\",\"some college\"],\"xaxis\":\"x\",\"yaxis\":\"y\",\"type\":\"histogram\"},{\"alignmentgroup\":\"True\",\"bingroup\":\"x\",\"hovertemplate\":\"passed_in_maths=Fale<br>parental level of education=%{x}<br>count=%{y}<extra></extra>\",\"legendgroup\":\"Fale\",\"marker\":{\"color\":\"#EF553B\",\"pattern\":{\"shape\":\"\"}},\"name\":\"Fale\",\"offsetgroup\":\"Fale\",\"orientation\":\"v\",\"showlegend\":true,\"x\":[\"some high school\",\"high school\",\"some high school\",\"some high school\",\"high school\",\"some college\",\"some college\",\"some high school\",\"some high school\",\"associate's degree\",\"bachelor's degree\",\"some college\",\"high school\",\"high school\",\"some high school\",\"some high school\",\"some college\",\"high school\",\"some high school\",\"high school\"],\"xaxis\":\"x\",\"yaxis\":\"y\",\"type\":\"histogram\"}],                        {\"template\":{\"data\":{\"bar\":[{\"error_x\":{\"color\":\"#2a3f5f\"},\"error_y\":{\"color\":\"#2a3f5f\"},\"marker\":{\"line\":{\"color\":\"#E5ECF6\",\"width\":0.5},\"pattern\":{\"fillmode\":\"overlay\",\"size\":10,\"solidity\":0.2}},\"type\":\"bar\"}],\"barpolar\":[{\"marker\":{\"line\":{\"color\":\"#E5ECF6\",\"width\":0.5},\"pattern\":{\"fillmode\":\"overlay\",\"size\":10,\"solidity\":0.2}},\"type\":\"barpolar\"}],\"carpet\":[{\"aaxis\":{\"endlinecolor\":\"#2a3f5f\",\"gridcolor\":\"white\",\"linecolor\":\"white\",\"minorgridcolor\":\"white\",\"startlinecolor\":\"#2a3f5f\"},\"baxis\":{\"endlinecolor\":\"#2a3f5f\",\"gridcolor\":\"white\",\"linecolor\":\"white\",\"minorgridcolor\":\"white\",\"startlinecolor\":\"#2a3f5f\"},\"type\":\"carpet\"}],\"choropleth\":[{\"colorbar\":{\"outlinewidth\":0,\"ticks\":\"\"},\"type\":\"choropleth\"}],\"contour\":[{\"colorbar\":{\"outlinewidth\":0,\"ticks\":\"\"},\"colorscale\":[[0.0,\"#0d0887\"],[0.1111111111111111,\"#46039f\"],[0.2222222222222222,\"#7201a8\"],[0.3333333333333333,\"#9c179e\"],[0.4444444444444444,\"#bd3786\"],[0.5555555555555556,\"#d8576b\"],[0.6666666666666666,\"#ed7953\"],[0.7777777777777778,\"#fb9f3a\"],[0.8888888888888888,\"#fdca26\"],[1.0,\"#f0f921\"]],\"type\":\"contour\"}],\"contourcarpet\":[{\"colorbar\":{\"outlinewidth\":0,\"ticks\":\"\"},\"type\":\"contourcarpet\"}],\"heatmap\":[{\"colorbar\":{\"outlinewidth\":0,\"ticks\":\"\"},\"colorscale\":[[0.0,\"#0d0887\"],[0.1111111111111111,\"#46039f\"],[0.2222222222222222,\"#7201a8\"],[0.3333333333333333,\"#9c179e\"],[0.4444444444444444,\"#bd3786\"],[0.5555555555555556,\"#d8576b\"],[0.6666666666666666,\"#ed7953\"],[0.7777777777777778,\"#fb9f3a\"],[0.8888888888888888,\"#fdca26\"],[1.0,\"#f0f921\"]],\"type\":\"heatmap\"}],\"heatmapgl\":[{\"colorbar\":{\"outlinewidth\":0,\"ticks\":\"\"},\"colorscale\":[[0.0,\"#0d0887\"],[0.1111111111111111,\"#46039f\"],[0.2222222222222222,\"#7201a8\"],[0.3333333333333333,\"#9c179e\"],[0.4444444444444444,\"#bd3786\"],[0.5555555555555556,\"#d8576b\"],[0.6666666666666666,\"#ed7953\"],[0.7777777777777778,\"#fb9f3a\"],[0.8888888888888888,\"#fdca26\"],[1.0,\"#f0f921\"]],\"type\":\"heatmapgl\"}],\"histogram\":[{\"marker\":{\"pattern\":{\"fillmode\":\"overlay\",\"size\":10,\"solidity\":0.2}},\"type\":\"histogram\"}],\"histogram2d\":[{\"colorbar\":{\"outlinewidth\":0,\"ticks\":\"\"},\"colorscale\":[[0.0,\"#0d0887\"],[0.1111111111111111,\"#46039f\"],[0.2222222222222222,\"#7201a8\"],[0.3333333333333333,\"#9c179e\"],[0.4444444444444444,\"#bd3786\"],[0.5555555555555556,\"#d8576b\"],[0.6666666666666666,\"#ed7953\"],[0.7777777777777778,\"#fb9f3a\"],[0.8888888888888888,\"#fdca26\"],[1.0,\"#f0f921\"]],\"type\":\"histogram2d\"}],\"histogram2dcontour\":[{\"colorbar\":{\"outlinewidth\":0,\"ticks\":\"\"},\"colorscale\":[[0.0,\"#0d0887\"],[0.1111111111111111,\"#46039f\"],[0.2222222222222222,\"#7201a8\"],[0.3333333333333333,\"#9c179e\"],[0.4444444444444444,\"#bd3786\"],[0.5555555555555556,\"#d8576b\"],[0.6666666666666666,\"#ed7953\"],[0.7777777777777778,\"#fb9f3a\"],[0.8888888888888888,\"#fdca26\"],[1.0,\"#f0f921\"]],\"type\":\"histogram2dcontour\"}],\"mesh3d\":[{\"colorbar\":{\"outlinewidth\":0,\"ticks\":\"\"},\"type\":\"mesh3d\"}],\"parcoords\":[{\"line\":{\"colorbar\":{\"outlinewidth\":0,\"ticks\":\"\"}},\"type\":\"parcoords\"}],\"pie\":[{\"automargin\":true,\"type\":\"pie\"}],\"scatter\":[{\"marker\":{\"colorbar\":{\"outlinewidth\":0,\"ticks\":\"\"}},\"type\":\"scatter\"}],\"scatter3d\":[{\"line\":{\"colorbar\":{\"outlinewidth\":0,\"ticks\":\"\"}},\"marker\":{\"colorbar\":{\"outlinewidth\":0,\"ticks\":\"\"}},\"type\":\"scatter3d\"}],\"scattercarpet\":[{\"marker\":{\"colorbar\":{\"outlinewidth\":0,\"ticks\":\"\"}},\"type\":\"scattercarpet\"}],\"scattergeo\":[{\"marker\":{\"colorbar\":{\"outlinewidth\":0,\"ticks\":\"\"}},\"type\":\"scattergeo\"}],\"scattergl\":[{\"marker\":{\"colorbar\":{\"outlinewidth\":0,\"ticks\":\"\"}},\"type\":\"scattergl\"}],\"scattermapbox\":[{\"marker\":{\"colorbar\":{\"outlinewidth\":0,\"ticks\":\"\"}},\"type\":\"scattermapbox\"}],\"scatterpolar\":[{\"marker\":{\"colorbar\":{\"outlinewidth\":0,\"ticks\":\"\"}},\"type\":\"scatterpolar\"}],\"scatterpolargl\":[{\"marker\":{\"colorbar\":{\"outlinewidth\":0,\"ticks\":\"\"}},\"type\":\"scatterpolargl\"}],\"scatterternary\":[{\"marker\":{\"colorbar\":{\"outlinewidth\":0,\"ticks\":\"\"}},\"type\":\"scatterternary\"}],\"surface\":[{\"colorbar\":{\"outlinewidth\":0,\"ticks\":\"\"},\"colorscale\":[[0.0,\"#0d0887\"],[0.1111111111111111,\"#46039f\"],[0.2222222222222222,\"#7201a8\"],[0.3333333333333333,\"#9c179e\"],[0.4444444444444444,\"#bd3786\"],[0.5555555555555556,\"#d8576b\"],[0.6666666666666666,\"#ed7953\"],[0.7777777777777778,\"#fb9f3a\"],[0.8888888888888888,\"#fdca26\"],[1.0,\"#f0f921\"]],\"type\":\"surface\"}],\"table\":[{\"cells\":{\"fill\":{\"color\":\"#EBF0F8\"},\"line\":{\"color\":\"white\"}},\"header\":{\"fill\":{\"color\":\"#C8D4E3\"},\"line\":{\"color\":\"white\"}},\"type\":\"table\"}]},\"layout\":{\"annotationdefaults\":{\"arrowcolor\":\"#2a3f5f\",\"arrowhead\":0,\"arrowwidth\":1},\"autotypenumbers\":\"strict\",\"coloraxis\":{\"colorbar\":{\"outlinewidth\":0,\"ticks\":\"\"}},\"colorscale\":{\"diverging\":[[0,\"#8e0152\"],[0.1,\"#c51b7d\"],[0.2,\"#de77ae\"],[0.3,\"#f1b6da\"],[0.4,\"#fde0ef\"],[0.5,\"#f7f7f7\"],[0.6,\"#e6f5d0\"],[0.7,\"#b8e186\"],[0.8,\"#7fbc41\"],[0.9,\"#4d9221\"],[1,\"#276419\"]],\"sequential\":[[0.0,\"#0d0887\"],[0.1111111111111111,\"#46039f\"],[0.2222222222222222,\"#7201a8\"],[0.3333333333333333,\"#9c179e\"],[0.4444444444444444,\"#bd3786\"],[0.5555555555555556,\"#d8576b\"],[0.6666666666666666,\"#ed7953\"],[0.7777777777777778,\"#fb9f3a\"],[0.8888888888888888,\"#fdca26\"],[1.0,\"#f0f921\"]],\"sequentialminus\":[[0.0,\"#0d0887\"],[0.1111111111111111,\"#46039f\"],[0.2222222222222222,\"#7201a8\"],[0.3333333333333333,\"#9c179e\"],[0.4444444444444444,\"#bd3786\"],[0.5555555555555556,\"#d8576b\"],[0.6666666666666666,\"#ed7953\"],[0.7777777777777778,\"#fb9f3a\"],[0.8888888888888888,\"#fdca26\"],[1.0,\"#f0f921\"]]},\"colorway\":[\"#636efa\",\"#EF553B\",\"#00cc96\",\"#ab63fa\",\"#FFA15A\",\"#19d3f3\",\"#FF6692\",\"#B6E880\",\"#FF97FF\",\"#FECB52\"],\"font\":{\"color\":\"#2a3f5f\"},\"geo\":{\"bgcolor\":\"white\",\"lakecolor\":\"white\",\"landcolor\":\"#E5ECF6\",\"showlakes\":true,\"showland\":true,\"subunitcolor\":\"white\"},\"hoverlabel\":{\"align\":\"left\"},\"hovermode\":\"closest\",\"mapbox\":{\"style\":\"light\"},\"paper_bgcolor\":\"white\",\"plot_bgcolor\":\"#E5ECF6\",\"polar\":{\"angularaxis\":{\"gridcolor\":\"white\",\"linecolor\":\"white\",\"ticks\":\"\"},\"bgcolor\":\"#E5ECF6\",\"radialaxis\":{\"gridcolor\":\"white\",\"linecolor\":\"white\",\"ticks\":\"\"}},\"scene\":{\"xaxis\":{\"backgroundcolor\":\"#E5ECF6\",\"gridcolor\":\"white\",\"gridwidth\":2,\"linecolor\":\"white\",\"showbackground\":true,\"ticks\":\"\",\"zerolinecolor\":\"white\"},\"yaxis\":{\"backgroundcolor\":\"#E5ECF6\",\"gridcolor\":\"white\",\"gridwidth\":2,\"linecolor\":\"white\",\"showbackground\":true,\"ticks\":\"\",\"zerolinecolor\":\"white\"},\"zaxis\":{\"backgroundcolor\":\"#E5ECF6\",\"gridcolor\":\"white\",\"gridwidth\":2,\"linecolor\":\"white\",\"showbackground\":true,\"ticks\":\"\",\"zerolinecolor\":\"white\"}},\"shapedefaults\":{\"line\":{\"color\":\"#2a3f5f\"}},\"ternary\":{\"aaxis\":{\"gridcolor\":\"white\",\"linecolor\":\"white\",\"ticks\":\"\"},\"baxis\":{\"gridcolor\":\"white\",\"linecolor\":\"white\",\"ticks\":\"\"},\"bgcolor\":\"#E5ECF6\",\"caxis\":{\"gridcolor\":\"white\",\"linecolor\":\"white\",\"ticks\":\"\"}},\"title\":{\"x\":0.05},\"xaxis\":{\"automargin\":true,\"gridcolor\":\"white\",\"linecolor\":\"white\",\"ticks\":\"\",\"title\":{\"standoff\":15},\"zerolinecolor\":\"white\",\"zerolinewidth\":2},\"yaxis\":{\"automargin\":true,\"gridcolor\":\"white\",\"linecolor\":\"white\",\"ticks\":\"\",\"title\":{\"standoff\":15},\"zerolinecolor\":\"white\",\"zerolinewidth\":2}}},\"xaxis\":{\"anchor\":\"y\",\"domain\":[0.0,1.0],\"title\":{\"text\":\"parental level of education\"}},\"yaxis\":{\"anchor\":\"x\",\"domain\":[0.0,1.0],\"title\":{\"text\":\"count\"}},\"legend\":{\"title\":{\"text\":\"passed_in_maths\"},\"tracegroupgap\":0},\"margin\":{\"t\":60},\"barmode\":\"relative\"},                        {\"responsive\": true}                    ).then(function(){\n",
       "                            \n",
       "var gd = document.getElementById('407cda41-4515-4ad4-90a2-bc8e91bf11ac');\n",
       "var x = new MutationObserver(function (mutations, observer) {{\n",
       "        var display = window.getComputedStyle(gd).display;\n",
       "        if (!display || display === 'none') {{\n",
       "            console.log([gd, 'removed!']);\n",
       "            Plotly.purge(gd);\n",
       "            observer.disconnect();\n",
       "        }}\n",
       "}});\n",
       "\n",
       "// Listen for the removal of the full notebook cells\n",
       "var notebookContainer = gd.closest('#notebook-container');\n",
       "if (notebookContainer) {{\n",
       "    x.observe(notebookContainer, {childList: true});\n",
       "}}\n",
       "\n",
       "// Listen for the clearing of the current output cell\n",
       "var outputEl = gd.closest('.output');\n",
       "if (outputEl) {{\n",
       "    x.observe(outputEl, {childList: true});\n",
       "}}\n",
       "\n",
       "                        })                };                });            </script>        </div>"
      ]
     },
     "metadata": {},
     "output_type": "display_data"
    }
   ],
   "source": [
    "px.histogram(dataset, x=\"parental level of education\", color=\"passed_in_maths\")"
   ]
  },
  {
   "cell_type": "markdown",
   "id": "5d808fff",
   "metadata": {},
   "source": [
    "so we can say that parental level of education somehow depends whether a student has passed the maths exam or not"
   ]
  },
  {
   "cell_type": "code",
   "execution_count": 34,
   "id": "219c8b42",
   "metadata": {},
   "outputs": [
    {
     "data": {
      "application/vnd.plotly.v1+json": {
       "config": {
        "plotlyServerURL": "https://plot.ly"
       },
       "data": [
        {
         "alignmentgroup": "True",
         "bingroup": "x",
         "hovertemplate": "passed_in_writing=Pass<br>gender=%{x}<br>count=%{y}<extra></extra>",
         "legendgroup": "Pass",
         "marker": {
          "color": "#636efa",
          "pattern": {
           "shape": ""
          }
         },
         "name": "Pass",
         "offsetgroup": "Pass",
         "orientation": "v",
         "showlegend": true,
         "type": "histogram",
         "x": [
          "female",
          "female",
          "female",
          "male",
          "male",
          "female",
          "female",
          "male",
          "male",
          "female",
          "male",
          "male",
          "female",
          "male",
          "female",
          "female",
          "male",
          "male",
          "female",
          "male",
          "female",
          "male",
          "female",
          "male",
          "male",
          "male",
          "female",
          "male",
          "female",
          "female",
          "female",
          "female",
          "male",
          "male",
          "male",
          "female",
          "female",
          "female",
          "male",
          "male",
          "female",
          "female",
          "male",
          "female",
          "male",
          "female",
          "female",
          "female",
          "male",
          "male",
          "male",
          "male",
          "male",
          "female",
          "female",
          "female",
          "male",
          "male",
          "male",
          "male",
          "male",
          "female",
          "female",
          "male",
          "male",
          "female",
          "male",
          "female",
          "female",
          "male",
          "female",
          "male",
          "male",
          "male",
          "male",
          "female",
          "female",
          "female",
          "male",
          "male",
          "male",
          "male",
          "female",
          "female",
          "female",
          "female",
          "female",
          "female",
          "male",
          "male",
          "male",
          "female",
          "male",
          "male",
          "female",
          "female",
          "female",
          "male",
          "male",
          "female",
          "male",
          "male",
          "female",
          "female",
          "male",
          "female",
          "female",
          "female",
          "male",
          "male",
          "female",
          "female",
          "male",
          "female",
          "female",
          "female",
          "female",
          "female",
          "male",
          "female",
          "male",
          "male",
          "female",
          "male",
          "male",
          "male",
          "female",
          "male",
          "male",
          "male",
          "female",
          "male",
          "male",
          "male",
          "male",
          "female",
          "male",
          "female",
          "female",
          "female",
          "male",
          "male",
          "male",
          "male",
          "female",
          "male",
          "male",
          "male",
          "female",
          "male",
          "male",
          "female",
          "female",
          "male",
          "female",
          "male",
          "male",
          "female",
          "male",
          "male",
          "female",
          "female",
          "male",
          "female",
          "female",
          "female",
          "male",
          "male",
          "female",
          "female",
          "female",
          "female",
          "female",
          "female",
          "female",
          "female",
          "male",
          "female",
          "female",
          "female",
          "male",
          "male",
          "male",
          "male",
          "male",
          "female",
          "female",
          "male",
          "female",
          "male",
          "female",
          "male",
          "male",
          "male",
          "female",
          "female",
          "female",
          "female",
          "male",
          "female",
          "male",
          "male",
          "male",
          "male",
          "female",
          "female",
          "male",
          "female",
          "male",
          "male",
          "male",
          "female",
          "female",
          "male",
          "male",
          "female",
          "male",
          "female",
          "male",
          "female",
          "female",
          "female",
          "male",
          "male",
          "female",
          "male",
          "male",
          "female",
          "male",
          "male",
          "male",
          "male",
          "female",
          "male",
          "male",
          "male",
          "female",
          "female",
          "male",
          "male",
          "male",
          "male",
          "female",
          "female",
          "male",
          "male",
          "female",
          "female",
          "male",
          "male",
          "female",
          "female",
          "male",
          "female",
          "female",
          "female",
          "male",
          "female",
          "female",
          "male",
          "male",
          "female",
          "female",
          "female",
          "female",
          "male",
          "male",
          "female",
          "female",
          "male",
          "male",
          "female",
          "female",
          "female",
          "male",
          "male",
          "male",
          "female",
          "female",
          "female",
          "male",
          "male",
          "female",
          "male",
          "male",
          "male",
          "male",
          "male",
          "female",
          "male",
          "male",
          "male",
          "male",
          "male",
          "male",
          "male",
          "male",
          "female",
          "male",
          "female",
          "male",
          "male",
          "male",
          "female",
          "female",
          "female",
          "male",
          "male",
          "female",
          "female",
          "male",
          "female",
          "male",
          "male",
          "female",
          "female",
          "female",
          "female",
          "female",
          "female",
          "female",
          "male",
          "male",
          "female",
          "male",
          "male",
          "male",
          "male",
          "female",
          "female",
          "male",
          "male",
          "female",
          "male",
          "female",
          "female",
          "male",
          "male",
          "female",
          "male",
          "female",
          "male",
          "male",
          "female",
          "male",
          "female",
          "female",
          "female",
          "female",
          "male",
          "female",
          "male",
          "female",
          "female",
          "male",
          "female",
          "male",
          "male",
          "male",
          "male",
          "female",
          "female",
          "male",
          "female",
          "male",
          "female",
          "female",
          "male",
          "female",
          "female",
          "female",
          "male",
          "female",
          "male",
          "male",
          "female",
          "female",
          "female",
          "female",
          "female",
          "female",
          "male",
          "male",
          "female",
          "male",
          "male",
          "female",
          "male",
          "female",
          "female",
          "male",
          "male",
          "female",
          "male",
          "female",
          "female",
          "female",
          "female",
          "male",
          "female",
          "female",
          "male",
          "female",
          "male",
          "male",
          "male",
          "female",
          "male",
          "male",
          "male",
          "male",
          "male",
          "female",
          "female",
          "female",
          "female",
          "male",
          "female",
          "male",
          "male",
          "male",
          "male",
          "male",
          "female",
          "male",
          "female",
          "male",
          "male",
          "male",
          "male",
          "male",
          "male",
          "female",
          "female",
          "female",
          "female",
          "male",
          "female",
          "male",
          "male",
          "male",
          "male",
          "female",
          "female",
          "female",
          "male",
          "female",
          "male",
          "female",
          "male",
          "female",
          "male",
          "male",
          "male",
          "female",
          "female",
          "male",
          "female",
          "female",
          "male",
          "female",
          "male",
          "female",
          "female",
          "female",
          "female",
          "female",
          "female",
          "male",
          "male",
          "female",
          "male",
          "male",
          "female",
          "male",
          "male",
          "female",
          "male",
          "male",
          "female",
          "male",
          "male",
          "female",
          "female",
          "female",
          "female",
          "female",
          "male",
          "female",
          "female",
          "female",
          "male",
          "female",
          "female",
          "male",
          "female",
          "female",
          "female",
          "male",
          "male",
          "male",
          "female",
          "male",
          "male",
          "male",
          "female",
          "female",
          "female",
          "female",
          "female",
          "female",
          "female",
          "male",
          "female",
          "male",
          "male",
          "male",
          "male",
          "male",
          "female",
          "female",
          "female",
          "female",
          "female",
          "male",
          "female",
          "male",
          "female",
          "male",
          "female",
          "male",
          "male",
          "male",
          "male",
          "female",
          "female",
          "female",
          "male",
          "female",
          "male",
          "female",
          "male",
          "male",
          "male",
          "female",
          "male",
          "male",
          "female",
          "male",
          "female",
          "male",
          "female",
          "female",
          "male",
          "female",
          "male",
          "male",
          "female",
          "female",
          "male",
          "male",
          "male",
          "male",
          "female",
          "female",
          "female",
          "male",
          "male",
          "female",
          "female",
          "female",
          "female",
          "female",
          "female",
          "female",
          "female",
          "female",
          "female",
          "female",
          "female",
          "female",
          "male",
          "male",
          "male",
          "female",
          "female",
          "female",
          "male",
          "female",
          "female",
          "female",
          "female",
          "male",
          "male",
          "male",
          "female",
          "female",
          "female",
          "female",
          "male",
          "female",
          "male",
          "female",
          "female",
          "female",
          "female",
          "male",
          "male",
          "male",
          "female",
          "male",
          "male",
          "male",
          "female",
          "male",
          "male",
          "male",
          "male",
          "female",
          "male",
          "male",
          "female",
          "female",
          "male",
          "male",
          "female",
          "female",
          "male",
          "female",
          "male",
          "female",
          "female",
          "female",
          "male",
          "female",
          "female",
          "female",
          "female",
          "female",
          "male",
          "female",
          "female",
          "female",
          "female",
          "female",
          "male",
          "male",
          "female",
          "male",
          "male",
          "male",
          "female",
          "female",
          "male",
          "female",
          "female",
          "female",
          "male",
          "male",
          "female",
          "male",
          "female",
          "female",
          "female",
          "female",
          "female",
          "female",
          "male",
          "male",
          "female",
          "male",
          "male",
          "female",
          "male",
          "female",
          "male",
          "male",
          "male",
          "male",
          "female",
          "female",
          "female",
          "female",
          "female",
          "female",
          "female",
          "female",
          "female",
          "male",
          "female",
          "female",
          "male",
          "female",
          "female",
          "male",
          "male",
          "male",
          "male",
          "female",
          "male",
          "female",
          "female",
          "male",
          "female",
          "female",
          "male",
          "female",
          "female",
          "male",
          "female",
          "male",
          "female",
          "male",
          "male",
          "male",
          "female",
          "male",
          "female",
          "male",
          "female",
          "male",
          "female",
          "male",
          "female",
          "male",
          "male",
          "female",
          "male",
          "male",
          "male",
          "female",
          "female",
          "female",
          "male",
          "male",
          "male",
          "male",
          "female",
          "male",
          "male",
          "male",
          "male",
          "female",
          "male",
          "female",
          "male",
          "male",
          "female",
          "male",
          "female",
          "female",
          "male",
          "female",
          "male",
          "female",
          "female",
          "male",
          "female",
          "male",
          "male",
          "male",
          "female",
          "female",
          "male",
          "female",
          "female",
          "female",
          "female",
          "male",
          "female",
          "female",
          "female",
          "female",
          "male",
          "female",
          "female",
          "male",
          "female",
          "female",
          "female",
          "male",
          "male",
          "female",
          "female",
          "male",
          "female",
          "male",
          "female",
          "male",
          "male",
          "female",
          "female",
          "female",
          "male",
          "female",
          "female",
          "male",
          "male",
          "male",
          "male",
          "female",
          "male",
          "female",
          "male",
          "female",
          "male",
          "female",
          "female",
          "female",
          "female",
          "male",
          "female",
          "female",
          "male",
          "female",
          "female",
          "female",
          "male",
          "female",
          "female",
          "male",
          "female",
          "male",
          "female",
          "male",
          "female",
          "male",
          "female",
          "female",
          "male",
          "female",
          "male",
          "female",
          "male",
          "male",
          "male",
          "female",
          "male",
          "male",
          "female",
          "female",
          "male",
          "male",
          "female",
          "male",
          "female",
          "male",
          "male",
          "female",
          "female",
          "male",
          "female",
          "male",
          "male",
          "male",
          "male",
          "male",
          "male",
          "male",
          "female",
          "male",
          "male",
          "female",
          "male",
          "male",
          "male",
          "female",
          "female",
          "male",
          "female",
          "female",
          "male",
          "female",
          "female",
          "female",
          "male",
          "female",
          "male",
          "female",
          "female",
          "female",
          "male",
          "female",
          "female",
          "female",
          "male",
          "female",
          "male",
          "female",
          "female",
          "female",
          "female",
          "male",
          "male",
          "female",
          "female",
          "male",
          "male",
          "female",
          "female",
          "female",
          "female",
          "female",
          "male",
          "female",
          "female",
          "male",
          "male",
          "female",
          "male",
          "female",
          "male",
          "male",
          "male",
          "female",
          "male",
          "female",
          "male",
          "male",
          "male",
          "male",
          "male",
          "male",
          "male",
          "female",
          "male",
          "male",
          "male",
          "female",
          "male",
          "male",
          "female",
          "female",
          "male",
          "female",
          "male",
          "female",
          "male",
          "female",
          "female",
          "male",
          "female",
          "male",
          "male",
          "female",
          "female",
          "male",
          "female",
          "female",
          "female",
          "female",
          "male",
          "female",
          "male",
          "male",
          "female",
          "female",
          "female",
          "male",
          "female",
          "female",
          "female",
          "female",
          "male",
          "male",
          "male",
          "female",
          "male",
          "male",
          "female",
          "female",
          "male",
          "female",
          "male",
          "female",
          "female",
          "male",
          "female",
          "female",
          "female",
          "male",
          "female",
          "male",
          "female",
          "female",
          "female"
         ],
         "xaxis": "x",
         "yaxis": "y"
        },
        {
         "alignmentgroup": "True",
         "bingroup": "x",
         "hovertemplate": "passed_in_writing=Fale<br>gender=%{x}<br>count=%{y}<extra></extra>",
         "legendgroup": "Fale",
         "marker": {
          "color": "#EF553B",
          "pattern": {
           "shape": ""
          }
         },
         "name": "Fale",
         "offsetgroup": "Fale",
         "orientation": "v",
         "showlegend": true,
         "type": "histogram",
         "x": [
          "female",
          "female",
          "male",
          "female",
          "male",
          "male",
          "female",
          "female",
          "female",
          "male",
          "female",
          "female",
          "male",
          "female"
         ],
         "xaxis": "x",
         "yaxis": "y"
        }
       ],
       "layout": {
        "barmode": "relative",
        "legend": {
         "title": {
          "text": "passed_in_writing"
         },
         "tracegroupgap": 0
        },
        "margin": {
         "t": 60
        },
        "template": {
         "data": {
          "bar": [
           {
            "error_x": {
             "color": "#2a3f5f"
            },
            "error_y": {
             "color": "#2a3f5f"
            },
            "marker": {
             "line": {
              "color": "#E5ECF6",
              "width": 0.5
             },
             "pattern": {
              "fillmode": "overlay",
              "size": 10,
              "solidity": 0.2
             }
            },
            "type": "bar"
           }
          ],
          "barpolar": [
           {
            "marker": {
             "line": {
              "color": "#E5ECF6",
              "width": 0.5
             },
             "pattern": {
              "fillmode": "overlay",
              "size": 10,
              "solidity": 0.2
             }
            },
            "type": "barpolar"
           }
          ],
          "carpet": [
           {
            "aaxis": {
             "endlinecolor": "#2a3f5f",
             "gridcolor": "white",
             "linecolor": "white",
             "minorgridcolor": "white",
             "startlinecolor": "#2a3f5f"
            },
            "baxis": {
             "endlinecolor": "#2a3f5f",
             "gridcolor": "white",
             "linecolor": "white",
             "minorgridcolor": "white",
             "startlinecolor": "#2a3f5f"
            },
            "type": "carpet"
           }
          ],
          "choropleth": [
           {
            "colorbar": {
             "outlinewidth": 0,
             "ticks": ""
            },
            "type": "choropleth"
           }
          ],
          "contour": [
           {
            "colorbar": {
             "outlinewidth": 0,
             "ticks": ""
            },
            "colorscale": [
             [
              0,
              "#0d0887"
             ],
             [
              0.1111111111111111,
              "#46039f"
             ],
             [
              0.2222222222222222,
              "#7201a8"
             ],
             [
              0.3333333333333333,
              "#9c179e"
             ],
             [
              0.4444444444444444,
              "#bd3786"
             ],
             [
              0.5555555555555556,
              "#d8576b"
             ],
             [
              0.6666666666666666,
              "#ed7953"
             ],
             [
              0.7777777777777778,
              "#fb9f3a"
             ],
             [
              0.8888888888888888,
              "#fdca26"
             ],
             [
              1,
              "#f0f921"
             ]
            ],
            "type": "contour"
           }
          ],
          "contourcarpet": [
           {
            "colorbar": {
             "outlinewidth": 0,
             "ticks": ""
            },
            "type": "contourcarpet"
           }
          ],
          "heatmap": [
           {
            "colorbar": {
             "outlinewidth": 0,
             "ticks": ""
            },
            "colorscale": [
             [
              0,
              "#0d0887"
             ],
             [
              0.1111111111111111,
              "#46039f"
             ],
             [
              0.2222222222222222,
              "#7201a8"
             ],
             [
              0.3333333333333333,
              "#9c179e"
             ],
             [
              0.4444444444444444,
              "#bd3786"
             ],
             [
              0.5555555555555556,
              "#d8576b"
             ],
             [
              0.6666666666666666,
              "#ed7953"
             ],
             [
              0.7777777777777778,
              "#fb9f3a"
             ],
             [
              0.8888888888888888,
              "#fdca26"
             ],
             [
              1,
              "#f0f921"
             ]
            ],
            "type": "heatmap"
           }
          ],
          "heatmapgl": [
           {
            "colorbar": {
             "outlinewidth": 0,
             "ticks": ""
            },
            "colorscale": [
             [
              0,
              "#0d0887"
             ],
             [
              0.1111111111111111,
              "#46039f"
             ],
             [
              0.2222222222222222,
              "#7201a8"
             ],
             [
              0.3333333333333333,
              "#9c179e"
             ],
             [
              0.4444444444444444,
              "#bd3786"
             ],
             [
              0.5555555555555556,
              "#d8576b"
             ],
             [
              0.6666666666666666,
              "#ed7953"
             ],
             [
              0.7777777777777778,
              "#fb9f3a"
             ],
             [
              0.8888888888888888,
              "#fdca26"
             ],
             [
              1,
              "#f0f921"
             ]
            ],
            "type": "heatmapgl"
           }
          ],
          "histogram": [
           {
            "marker": {
             "pattern": {
              "fillmode": "overlay",
              "size": 10,
              "solidity": 0.2
             }
            },
            "type": "histogram"
           }
          ],
          "histogram2d": [
           {
            "colorbar": {
             "outlinewidth": 0,
             "ticks": ""
            },
            "colorscale": [
             [
              0,
              "#0d0887"
             ],
             [
              0.1111111111111111,
              "#46039f"
             ],
             [
              0.2222222222222222,
              "#7201a8"
             ],
             [
              0.3333333333333333,
              "#9c179e"
             ],
             [
              0.4444444444444444,
              "#bd3786"
             ],
             [
              0.5555555555555556,
              "#d8576b"
             ],
             [
              0.6666666666666666,
              "#ed7953"
             ],
             [
              0.7777777777777778,
              "#fb9f3a"
             ],
             [
              0.8888888888888888,
              "#fdca26"
             ],
             [
              1,
              "#f0f921"
             ]
            ],
            "type": "histogram2d"
           }
          ],
          "histogram2dcontour": [
           {
            "colorbar": {
             "outlinewidth": 0,
             "ticks": ""
            },
            "colorscale": [
             [
              0,
              "#0d0887"
             ],
             [
              0.1111111111111111,
              "#46039f"
             ],
             [
              0.2222222222222222,
              "#7201a8"
             ],
             [
              0.3333333333333333,
              "#9c179e"
             ],
             [
              0.4444444444444444,
              "#bd3786"
             ],
             [
              0.5555555555555556,
              "#d8576b"
             ],
             [
              0.6666666666666666,
              "#ed7953"
             ],
             [
              0.7777777777777778,
              "#fb9f3a"
             ],
             [
              0.8888888888888888,
              "#fdca26"
             ],
             [
              1,
              "#f0f921"
             ]
            ],
            "type": "histogram2dcontour"
           }
          ],
          "mesh3d": [
           {
            "colorbar": {
             "outlinewidth": 0,
             "ticks": ""
            },
            "type": "mesh3d"
           }
          ],
          "parcoords": [
           {
            "line": {
             "colorbar": {
              "outlinewidth": 0,
              "ticks": ""
             }
            },
            "type": "parcoords"
           }
          ],
          "pie": [
           {
            "automargin": true,
            "type": "pie"
           }
          ],
          "scatter": [
           {
            "marker": {
             "colorbar": {
              "outlinewidth": 0,
              "ticks": ""
             }
            },
            "type": "scatter"
           }
          ],
          "scatter3d": [
           {
            "line": {
             "colorbar": {
              "outlinewidth": 0,
              "ticks": ""
             }
            },
            "marker": {
             "colorbar": {
              "outlinewidth": 0,
              "ticks": ""
             }
            },
            "type": "scatter3d"
           }
          ],
          "scattercarpet": [
           {
            "marker": {
             "colorbar": {
              "outlinewidth": 0,
              "ticks": ""
             }
            },
            "type": "scattercarpet"
           }
          ],
          "scattergeo": [
           {
            "marker": {
             "colorbar": {
              "outlinewidth": 0,
              "ticks": ""
             }
            },
            "type": "scattergeo"
           }
          ],
          "scattergl": [
           {
            "marker": {
             "colorbar": {
              "outlinewidth": 0,
              "ticks": ""
             }
            },
            "type": "scattergl"
           }
          ],
          "scattermapbox": [
           {
            "marker": {
             "colorbar": {
              "outlinewidth": 0,
              "ticks": ""
             }
            },
            "type": "scattermapbox"
           }
          ],
          "scatterpolar": [
           {
            "marker": {
             "colorbar": {
              "outlinewidth": 0,
              "ticks": ""
             }
            },
            "type": "scatterpolar"
           }
          ],
          "scatterpolargl": [
           {
            "marker": {
             "colorbar": {
              "outlinewidth": 0,
              "ticks": ""
             }
            },
            "type": "scatterpolargl"
           }
          ],
          "scatterternary": [
           {
            "marker": {
             "colorbar": {
              "outlinewidth": 0,
              "ticks": ""
             }
            },
            "type": "scatterternary"
           }
          ],
          "surface": [
           {
            "colorbar": {
             "outlinewidth": 0,
             "ticks": ""
            },
            "colorscale": [
             [
              0,
              "#0d0887"
             ],
             [
              0.1111111111111111,
              "#46039f"
             ],
             [
              0.2222222222222222,
              "#7201a8"
             ],
             [
              0.3333333333333333,
              "#9c179e"
             ],
             [
              0.4444444444444444,
              "#bd3786"
             ],
             [
              0.5555555555555556,
              "#d8576b"
             ],
             [
              0.6666666666666666,
              "#ed7953"
             ],
             [
              0.7777777777777778,
              "#fb9f3a"
             ],
             [
              0.8888888888888888,
              "#fdca26"
             ],
             [
              1,
              "#f0f921"
             ]
            ],
            "type": "surface"
           }
          ],
          "table": [
           {
            "cells": {
             "fill": {
              "color": "#EBF0F8"
             },
             "line": {
              "color": "white"
             }
            },
            "header": {
             "fill": {
              "color": "#C8D4E3"
             },
             "line": {
              "color": "white"
             }
            },
            "type": "table"
           }
          ]
         },
         "layout": {
          "annotationdefaults": {
           "arrowcolor": "#2a3f5f",
           "arrowhead": 0,
           "arrowwidth": 1
          },
          "autotypenumbers": "strict",
          "coloraxis": {
           "colorbar": {
            "outlinewidth": 0,
            "ticks": ""
           }
          },
          "colorscale": {
           "diverging": [
            [
             0,
             "#8e0152"
            ],
            [
             0.1,
             "#c51b7d"
            ],
            [
             0.2,
             "#de77ae"
            ],
            [
             0.3,
             "#f1b6da"
            ],
            [
             0.4,
             "#fde0ef"
            ],
            [
             0.5,
             "#f7f7f7"
            ],
            [
             0.6,
             "#e6f5d0"
            ],
            [
             0.7,
             "#b8e186"
            ],
            [
             0.8,
             "#7fbc41"
            ],
            [
             0.9,
             "#4d9221"
            ],
            [
             1,
             "#276419"
            ]
           ],
           "sequential": [
            [
             0,
             "#0d0887"
            ],
            [
             0.1111111111111111,
             "#46039f"
            ],
            [
             0.2222222222222222,
             "#7201a8"
            ],
            [
             0.3333333333333333,
             "#9c179e"
            ],
            [
             0.4444444444444444,
             "#bd3786"
            ],
            [
             0.5555555555555556,
             "#d8576b"
            ],
            [
             0.6666666666666666,
             "#ed7953"
            ],
            [
             0.7777777777777778,
             "#fb9f3a"
            ],
            [
             0.8888888888888888,
             "#fdca26"
            ],
            [
             1,
             "#f0f921"
            ]
           ],
           "sequentialminus": [
            [
             0,
             "#0d0887"
            ],
            [
             0.1111111111111111,
             "#46039f"
            ],
            [
             0.2222222222222222,
             "#7201a8"
            ],
            [
             0.3333333333333333,
             "#9c179e"
            ],
            [
             0.4444444444444444,
             "#bd3786"
            ],
            [
             0.5555555555555556,
             "#d8576b"
            ],
            [
             0.6666666666666666,
             "#ed7953"
            ],
            [
             0.7777777777777778,
             "#fb9f3a"
            ],
            [
             0.8888888888888888,
             "#fdca26"
            ],
            [
             1,
             "#f0f921"
            ]
           ]
          },
          "colorway": [
           "#636efa",
           "#EF553B",
           "#00cc96",
           "#ab63fa",
           "#FFA15A",
           "#19d3f3",
           "#FF6692",
           "#B6E880",
           "#FF97FF",
           "#FECB52"
          ],
          "font": {
           "color": "#2a3f5f"
          },
          "geo": {
           "bgcolor": "white",
           "lakecolor": "white",
           "landcolor": "#E5ECF6",
           "showlakes": true,
           "showland": true,
           "subunitcolor": "white"
          },
          "hoverlabel": {
           "align": "left"
          },
          "hovermode": "closest",
          "mapbox": {
           "style": "light"
          },
          "paper_bgcolor": "white",
          "plot_bgcolor": "#E5ECF6",
          "polar": {
           "angularaxis": {
            "gridcolor": "white",
            "linecolor": "white",
            "ticks": ""
           },
           "bgcolor": "#E5ECF6",
           "radialaxis": {
            "gridcolor": "white",
            "linecolor": "white",
            "ticks": ""
           }
          },
          "scene": {
           "xaxis": {
            "backgroundcolor": "#E5ECF6",
            "gridcolor": "white",
            "gridwidth": 2,
            "linecolor": "white",
            "showbackground": true,
            "ticks": "",
            "zerolinecolor": "white"
           },
           "yaxis": {
            "backgroundcolor": "#E5ECF6",
            "gridcolor": "white",
            "gridwidth": 2,
            "linecolor": "white",
            "showbackground": true,
            "ticks": "",
            "zerolinecolor": "white"
           },
           "zaxis": {
            "backgroundcolor": "#E5ECF6",
            "gridcolor": "white",
            "gridwidth": 2,
            "linecolor": "white",
            "showbackground": true,
            "ticks": "",
            "zerolinecolor": "white"
           }
          },
          "shapedefaults": {
           "line": {
            "color": "#2a3f5f"
           }
          },
          "ternary": {
           "aaxis": {
            "gridcolor": "white",
            "linecolor": "white",
            "ticks": ""
           },
           "baxis": {
            "gridcolor": "white",
            "linecolor": "white",
            "ticks": ""
           },
           "bgcolor": "#E5ECF6",
           "caxis": {
            "gridcolor": "white",
            "linecolor": "white",
            "ticks": ""
           }
          },
          "title": {
           "x": 0.05
          },
          "xaxis": {
           "automargin": true,
           "gridcolor": "white",
           "linecolor": "white",
           "ticks": "",
           "title": {
            "standoff": 15
           },
           "zerolinecolor": "white",
           "zerolinewidth": 2
          },
          "yaxis": {
           "automargin": true,
           "gridcolor": "white",
           "linecolor": "white",
           "ticks": "",
           "title": {
            "standoff": 15
           },
           "zerolinecolor": "white",
           "zerolinewidth": 2
          }
         }
        },
        "xaxis": {
         "anchor": "y",
         "domain": [
          0,
          1
         ],
         "title": {
          "text": "gender"
         }
        },
        "yaxis": {
         "anchor": "x",
         "domain": [
          0,
          1
         ],
         "title": {
          "text": "count"
         }
        }
       }
      },
      "text/html": [
       "<div>                            <div id=\"c426196b-3a72-40ad-b2a3-013f5b515e27\" class=\"plotly-graph-div\" style=\"height:525px; width:100%;\"></div>            <script type=\"text/javascript\">                require([\"plotly\"], function(Plotly) {                    window.PLOTLYENV=window.PLOTLYENV || {};                                    if (document.getElementById(\"c426196b-3a72-40ad-b2a3-013f5b515e27\")) {                    Plotly.newPlot(                        \"c426196b-3a72-40ad-b2a3-013f5b515e27\",                        [{\"alignmentgroup\":\"True\",\"bingroup\":\"x\",\"hovertemplate\":\"passed_in_writing=Pass<br>gender=%{x}<br>count=%{y}<extra></extra>\",\"legendgroup\":\"Pass\",\"marker\":{\"color\":\"#636efa\",\"pattern\":{\"shape\":\"\"}},\"name\":\"Pass\",\"offsetgroup\":\"Pass\",\"orientation\":\"v\",\"showlegend\":true,\"x\":[\"female\",\"female\",\"female\",\"male\",\"male\",\"female\",\"female\",\"male\",\"male\",\"female\",\"male\",\"male\",\"female\",\"male\",\"female\",\"female\",\"male\",\"male\",\"female\",\"male\",\"female\",\"male\",\"female\",\"male\",\"male\",\"male\",\"female\",\"male\",\"female\",\"female\",\"female\",\"female\",\"male\",\"male\",\"male\",\"female\",\"female\",\"female\",\"male\",\"male\",\"female\",\"female\",\"male\",\"female\",\"male\",\"female\",\"female\",\"female\",\"male\",\"male\",\"male\",\"male\",\"male\",\"female\",\"female\",\"female\",\"male\",\"male\",\"male\",\"male\",\"male\",\"female\",\"female\",\"male\",\"male\",\"female\",\"male\",\"female\",\"female\",\"male\",\"female\",\"male\",\"male\",\"male\",\"male\",\"female\",\"female\",\"female\",\"male\",\"male\",\"male\",\"male\",\"female\",\"female\",\"female\",\"female\",\"female\",\"female\",\"male\",\"male\",\"male\",\"female\",\"male\",\"male\",\"female\",\"female\",\"female\",\"male\",\"male\",\"female\",\"male\",\"male\",\"female\",\"female\",\"male\",\"female\",\"female\",\"female\",\"male\",\"male\",\"female\",\"female\",\"male\",\"female\",\"female\",\"female\",\"female\",\"female\",\"male\",\"female\",\"male\",\"male\",\"female\",\"male\",\"male\",\"male\",\"female\",\"male\",\"male\",\"male\",\"female\",\"male\",\"male\",\"male\",\"male\",\"female\",\"male\",\"female\",\"female\",\"female\",\"male\",\"male\",\"male\",\"male\",\"female\",\"male\",\"male\",\"male\",\"female\",\"male\",\"male\",\"female\",\"female\",\"male\",\"female\",\"male\",\"male\",\"female\",\"male\",\"male\",\"female\",\"female\",\"male\",\"female\",\"female\",\"female\",\"male\",\"male\",\"female\",\"female\",\"female\",\"female\",\"female\",\"female\",\"female\",\"female\",\"male\",\"female\",\"female\",\"female\",\"male\",\"male\",\"male\",\"male\",\"male\",\"female\",\"female\",\"male\",\"female\",\"male\",\"female\",\"male\",\"male\",\"male\",\"female\",\"female\",\"female\",\"female\",\"male\",\"female\",\"male\",\"male\",\"male\",\"male\",\"female\",\"female\",\"male\",\"female\",\"male\",\"male\",\"male\",\"female\",\"female\",\"male\",\"male\",\"female\",\"male\",\"female\",\"male\",\"female\",\"female\",\"female\",\"male\",\"male\",\"female\",\"male\",\"male\",\"female\",\"male\",\"male\",\"male\",\"male\",\"female\",\"male\",\"male\",\"male\",\"female\",\"female\",\"male\",\"male\",\"male\",\"male\",\"female\",\"female\",\"male\",\"male\",\"female\",\"female\",\"male\",\"male\",\"female\",\"female\",\"male\",\"female\",\"female\",\"female\",\"male\",\"female\",\"female\",\"male\",\"male\",\"female\",\"female\",\"female\",\"female\",\"male\",\"male\",\"female\",\"female\",\"male\",\"male\",\"female\",\"female\",\"female\",\"male\",\"male\",\"male\",\"female\",\"female\",\"female\",\"male\",\"male\",\"female\",\"male\",\"male\",\"male\",\"male\",\"male\",\"female\",\"male\",\"male\",\"male\",\"male\",\"male\",\"male\",\"male\",\"male\",\"female\",\"male\",\"female\",\"male\",\"male\",\"male\",\"female\",\"female\",\"female\",\"male\",\"male\",\"female\",\"female\",\"male\",\"female\",\"male\",\"male\",\"female\",\"female\",\"female\",\"female\",\"female\",\"female\",\"female\",\"male\",\"male\",\"female\",\"male\",\"male\",\"male\",\"male\",\"female\",\"female\",\"male\",\"male\",\"female\",\"male\",\"female\",\"female\",\"male\",\"male\",\"female\",\"male\",\"female\",\"male\",\"male\",\"female\",\"male\",\"female\",\"female\",\"female\",\"female\",\"male\",\"female\",\"male\",\"female\",\"female\",\"male\",\"female\",\"male\",\"male\",\"male\",\"male\",\"female\",\"female\",\"male\",\"female\",\"male\",\"female\",\"female\",\"male\",\"female\",\"female\",\"female\",\"male\",\"female\",\"male\",\"male\",\"female\",\"female\",\"female\",\"female\",\"female\",\"female\",\"male\",\"male\",\"female\",\"male\",\"male\",\"female\",\"male\",\"female\",\"female\",\"male\",\"male\",\"female\",\"male\",\"female\",\"female\",\"female\",\"female\",\"male\",\"female\",\"female\",\"male\",\"female\",\"male\",\"male\",\"male\",\"female\",\"male\",\"male\",\"male\",\"male\",\"male\",\"female\",\"female\",\"female\",\"female\",\"male\",\"female\",\"male\",\"male\",\"male\",\"male\",\"male\",\"female\",\"male\",\"female\",\"male\",\"male\",\"male\",\"male\",\"male\",\"male\",\"female\",\"female\",\"female\",\"female\",\"male\",\"female\",\"male\",\"male\",\"male\",\"male\",\"female\",\"female\",\"female\",\"male\",\"female\",\"male\",\"female\",\"male\",\"female\",\"male\",\"male\",\"male\",\"female\",\"female\",\"male\",\"female\",\"female\",\"male\",\"female\",\"male\",\"female\",\"female\",\"female\",\"female\",\"female\",\"female\",\"male\",\"male\",\"female\",\"male\",\"male\",\"female\",\"male\",\"male\",\"female\",\"male\",\"male\",\"female\",\"male\",\"male\",\"female\",\"female\",\"female\",\"female\",\"female\",\"male\",\"female\",\"female\",\"female\",\"male\",\"female\",\"female\",\"male\",\"female\",\"female\",\"female\",\"male\",\"male\",\"male\",\"female\",\"male\",\"male\",\"male\",\"female\",\"female\",\"female\",\"female\",\"female\",\"female\",\"female\",\"male\",\"female\",\"male\",\"male\",\"male\",\"male\",\"male\",\"female\",\"female\",\"female\",\"female\",\"female\",\"male\",\"female\",\"male\",\"female\",\"male\",\"female\",\"male\",\"male\",\"male\",\"male\",\"female\",\"female\",\"female\",\"male\",\"female\",\"male\",\"female\",\"male\",\"male\",\"male\",\"female\",\"male\",\"male\",\"female\",\"male\",\"female\",\"male\",\"female\",\"female\",\"male\",\"female\",\"male\",\"male\",\"female\",\"female\",\"male\",\"male\",\"male\",\"male\",\"female\",\"female\",\"female\",\"male\",\"male\",\"female\",\"female\",\"female\",\"female\",\"female\",\"female\",\"female\",\"female\",\"female\",\"female\",\"female\",\"female\",\"female\",\"male\",\"male\",\"male\",\"female\",\"female\",\"female\",\"male\",\"female\",\"female\",\"female\",\"female\",\"male\",\"male\",\"male\",\"female\",\"female\",\"female\",\"female\",\"male\",\"female\",\"male\",\"female\",\"female\",\"female\",\"female\",\"male\",\"male\",\"male\",\"female\",\"male\",\"male\",\"male\",\"female\",\"male\",\"male\",\"male\",\"male\",\"female\",\"male\",\"male\",\"female\",\"female\",\"male\",\"male\",\"female\",\"female\",\"male\",\"female\",\"male\",\"female\",\"female\",\"female\",\"male\",\"female\",\"female\",\"female\",\"female\",\"female\",\"male\",\"female\",\"female\",\"female\",\"female\",\"female\",\"male\",\"male\",\"female\",\"male\",\"male\",\"male\",\"female\",\"female\",\"male\",\"female\",\"female\",\"female\",\"male\",\"male\",\"female\",\"male\",\"female\",\"female\",\"female\",\"female\",\"female\",\"female\",\"male\",\"male\",\"female\",\"male\",\"male\",\"female\",\"male\",\"female\",\"male\",\"male\",\"male\",\"male\",\"female\",\"female\",\"female\",\"female\",\"female\",\"female\",\"female\",\"female\",\"female\",\"male\",\"female\",\"female\",\"male\",\"female\",\"female\",\"male\",\"male\",\"male\",\"male\",\"female\",\"male\",\"female\",\"female\",\"male\",\"female\",\"female\",\"male\",\"female\",\"female\",\"male\",\"female\",\"male\",\"female\",\"male\",\"male\",\"male\",\"female\",\"male\",\"female\",\"male\",\"female\",\"male\",\"female\",\"male\",\"female\",\"male\",\"male\",\"female\",\"male\",\"male\",\"male\",\"female\",\"female\",\"female\",\"male\",\"male\",\"male\",\"male\",\"female\",\"male\",\"male\",\"male\",\"male\",\"female\",\"male\",\"female\",\"male\",\"male\",\"female\",\"male\",\"female\",\"female\",\"male\",\"female\",\"male\",\"female\",\"female\",\"male\",\"female\",\"male\",\"male\",\"male\",\"female\",\"female\",\"male\",\"female\",\"female\",\"female\",\"female\",\"male\",\"female\",\"female\",\"female\",\"female\",\"male\",\"female\",\"female\",\"male\",\"female\",\"female\",\"female\",\"male\",\"male\",\"female\",\"female\",\"male\",\"female\",\"male\",\"female\",\"male\",\"male\",\"female\",\"female\",\"female\",\"male\",\"female\",\"female\",\"male\",\"male\",\"male\",\"male\",\"female\",\"male\",\"female\",\"male\",\"female\",\"male\",\"female\",\"female\",\"female\",\"female\",\"male\",\"female\",\"female\",\"male\",\"female\",\"female\",\"female\",\"male\",\"female\",\"female\",\"male\",\"female\",\"male\",\"female\",\"male\",\"female\",\"male\",\"female\",\"female\",\"male\",\"female\",\"male\",\"female\",\"male\",\"male\",\"male\",\"female\",\"male\",\"male\",\"female\",\"female\",\"male\",\"male\",\"female\",\"male\",\"female\",\"male\",\"male\",\"female\",\"female\",\"male\",\"female\",\"male\",\"male\",\"male\",\"male\",\"male\",\"male\",\"male\",\"female\",\"male\",\"male\",\"female\",\"male\",\"male\",\"male\",\"female\",\"female\",\"male\",\"female\",\"female\",\"male\",\"female\",\"female\",\"female\",\"male\",\"female\",\"male\",\"female\",\"female\",\"female\",\"male\",\"female\",\"female\",\"female\",\"male\",\"female\",\"male\",\"female\",\"female\",\"female\",\"female\",\"male\",\"male\",\"female\",\"female\",\"male\",\"male\",\"female\",\"female\",\"female\",\"female\",\"female\",\"male\",\"female\",\"female\",\"male\",\"male\",\"female\",\"male\",\"female\",\"male\",\"male\",\"male\",\"female\",\"male\",\"female\",\"male\",\"male\",\"male\",\"male\",\"male\",\"male\",\"male\",\"female\",\"male\",\"male\",\"male\",\"female\",\"male\",\"male\",\"female\",\"female\",\"male\",\"female\",\"male\",\"female\",\"male\",\"female\",\"female\",\"male\",\"female\",\"male\",\"male\",\"female\",\"female\",\"male\",\"female\",\"female\",\"female\",\"female\",\"male\",\"female\",\"male\",\"male\",\"female\",\"female\",\"female\",\"male\",\"female\",\"female\",\"female\",\"female\",\"male\",\"male\",\"male\",\"female\",\"male\",\"male\",\"female\",\"female\",\"male\",\"female\",\"male\",\"female\",\"female\",\"male\",\"female\",\"female\",\"female\",\"male\",\"female\",\"male\",\"female\",\"female\",\"female\"],\"xaxis\":\"x\",\"yaxis\":\"y\",\"type\":\"histogram\"},{\"alignmentgroup\":\"True\",\"bingroup\":\"x\",\"hovertemplate\":\"passed_in_writing=Fale<br>gender=%{x}<br>count=%{y}<extra></extra>\",\"legendgroup\":\"Fale\",\"marker\":{\"color\":\"#EF553B\",\"pattern\":{\"shape\":\"\"}},\"name\":\"Fale\",\"offsetgroup\":\"Fale\",\"orientation\":\"v\",\"showlegend\":true,\"x\":[\"female\",\"female\",\"male\",\"female\",\"male\",\"male\",\"female\",\"female\",\"female\",\"male\",\"female\",\"female\",\"male\",\"female\"],\"xaxis\":\"x\",\"yaxis\":\"y\",\"type\":\"histogram\"}],                        {\"template\":{\"data\":{\"bar\":[{\"error_x\":{\"color\":\"#2a3f5f\"},\"error_y\":{\"color\":\"#2a3f5f\"},\"marker\":{\"line\":{\"color\":\"#E5ECF6\",\"width\":0.5},\"pattern\":{\"fillmode\":\"overlay\",\"size\":10,\"solidity\":0.2}},\"type\":\"bar\"}],\"barpolar\":[{\"marker\":{\"line\":{\"color\":\"#E5ECF6\",\"width\":0.5},\"pattern\":{\"fillmode\":\"overlay\",\"size\":10,\"solidity\":0.2}},\"type\":\"barpolar\"}],\"carpet\":[{\"aaxis\":{\"endlinecolor\":\"#2a3f5f\",\"gridcolor\":\"white\",\"linecolor\":\"white\",\"minorgridcolor\":\"white\",\"startlinecolor\":\"#2a3f5f\"},\"baxis\":{\"endlinecolor\":\"#2a3f5f\",\"gridcolor\":\"white\",\"linecolor\":\"white\",\"minorgridcolor\":\"white\",\"startlinecolor\":\"#2a3f5f\"},\"type\":\"carpet\"}],\"choropleth\":[{\"colorbar\":{\"outlinewidth\":0,\"ticks\":\"\"},\"type\":\"choropleth\"}],\"contour\":[{\"colorbar\":{\"outlinewidth\":0,\"ticks\":\"\"},\"colorscale\":[[0.0,\"#0d0887\"],[0.1111111111111111,\"#46039f\"],[0.2222222222222222,\"#7201a8\"],[0.3333333333333333,\"#9c179e\"],[0.4444444444444444,\"#bd3786\"],[0.5555555555555556,\"#d8576b\"],[0.6666666666666666,\"#ed7953\"],[0.7777777777777778,\"#fb9f3a\"],[0.8888888888888888,\"#fdca26\"],[1.0,\"#f0f921\"]],\"type\":\"contour\"}],\"contourcarpet\":[{\"colorbar\":{\"outlinewidth\":0,\"ticks\":\"\"},\"type\":\"contourcarpet\"}],\"heatmap\":[{\"colorbar\":{\"outlinewidth\":0,\"ticks\":\"\"},\"colorscale\":[[0.0,\"#0d0887\"],[0.1111111111111111,\"#46039f\"],[0.2222222222222222,\"#7201a8\"],[0.3333333333333333,\"#9c179e\"],[0.4444444444444444,\"#bd3786\"],[0.5555555555555556,\"#d8576b\"],[0.6666666666666666,\"#ed7953\"],[0.7777777777777778,\"#fb9f3a\"],[0.8888888888888888,\"#fdca26\"],[1.0,\"#f0f921\"]],\"type\":\"heatmap\"}],\"heatmapgl\":[{\"colorbar\":{\"outlinewidth\":0,\"ticks\":\"\"},\"colorscale\":[[0.0,\"#0d0887\"],[0.1111111111111111,\"#46039f\"],[0.2222222222222222,\"#7201a8\"],[0.3333333333333333,\"#9c179e\"],[0.4444444444444444,\"#bd3786\"],[0.5555555555555556,\"#d8576b\"],[0.6666666666666666,\"#ed7953\"],[0.7777777777777778,\"#fb9f3a\"],[0.8888888888888888,\"#fdca26\"],[1.0,\"#f0f921\"]],\"type\":\"heatmapgl\"}],\"histogram\":[{\"marker\":{\"pattern\":{\"fillmode\":\"overlay\",\"size\":10,\"solidity\":0.2}},\"type\":\"histogram\"}],\"histogram2d\":[{\"colorbar\":{\"outlinewidth\":0,\"ticks\":\"\"},\"colorscale\":[[0.0,\"#0d0887\"],[0.1111111111111111,\"#46039f\"],[0.2222222222222222,\"#7201a8\"],[0.3333333333333333,\"#9c179e\"],[0.4444444444444444,\"#bd3786\"],[0.5555555555555556,\"#d8576b\"],[0.6666666666666666,\"#ed7953\"],[0.7777777777777778,\"#fb9f3a\"],[0.8888888888888888,\"#fdca26\"],[1.0,\"#f0f921\"]],\"type\":\"histogram2d\"}],\"histogram2dcontour\":[{\"colorbar\":{\"outlinewidth\":0,\"ticks\":\"\"},\"colorscale\":[[0.0,\"#0d0887\"],[0.1111111111111111,\"#46039f\"],[0.2222222222222222,\"#7201a8\"],[0.3333333333333333,\"#9c179e\"],[0.4444444444444444,\"#bd3786\"],[0.5555555555555556,\"#d8576b\"],[0.6666666666666666,\"#ed7953\"],[0.7777777777777778,\"#fb9f3a\"],[0.8888888888888888,\"#fdca26\"],[1.0,\"#f0f921\"]],\"type\":\"histogram2dcontour\"}],\"mesh3d\":[{\"colorbar\":{\"outlinewidth\":0,\"ticks\":\"\"},\"type\":\"mesh3d\"}],\"parcoords\":[{\"line\":{\"colorbar\":{\"outlinewidth\":0,\"ticks\":\"\"}},\"type\":\"parcoords\"}],\"pie\":[{\"automargin\":true,\"type\":\"pie\"}],\"scatter\":[{\"marker\":{\"colorbar\":{\"outlinewidth\":0,\"ticks\":\"\"}},\"type\":\"scatter\"}],\"scatter3d\":[{\"line\":{\"colorbar\":{\"outlinewidth\":0,\"ticks\":\"\"}},\"marker\":{\"colorbar\":{\"outlinewidth\":0,\"ticks\":\"\"}},\"type\":\"scatter3d\"}],\"scattercarpet\":[{\"marker\":{\"colorbar\":{\"outlinewidth\":0,\"ticks\":\"\"}},\"type\":\"scattercarpet\"}],\"scattergeo\":[{\"marker\":{\"colorbar\":{\"outlinewidth\":0,\"ticks\":\"\"}},\"type\":\"scattergeo\"}],\"scattergl\":[{\"marker\":{\"colorbar\":{\"outlinewidth\":0,\"ticks\":\"\"}},\"type\":\"scattergl\"}],\"scattermapbox\":[{\"marker\":{\"colorbar\":{\"outlinewidth\":0,\"ticks\":\"\"}},\"type\":\"scattermapbox\"}],\"scatterpolar\":[{\"marker\":{\"colorbar\":{\"outlinewidth\":0,\"ticks\":\"\"}},\"type\":\"scatterpolar\"}],\"scatterpolargl\":[{\"marker\":{\"colorbar\":{\"outlinewidth\":0,\"ticks\":\"\"}},\"type\":\"scatterpolargl\"}],\"scatterternary\":[{\"marker\":{\"colorbar\":{\"outlinewidth\":0,\"ticks\":\"\"}},\"type\":\"scatterternary\"}],\"surface\":[{\"colorbar\":{\"outlinewidth\":0,\"ticks\":\"\"},\"colorscale\":[[0.0,\"#0d0887\"],[0.1111111111111111,\"#46039f\"],[0.2222222222222222,\"#7201a8\"],[0.3333333333333333,\"#9c179e\"],[0.4444444444444444,\"#bd3786\"],[0.5555555555555556,\"#d8576b\"],[0.6666666666666666,\"#ed7953\"],[0.7777777777777778,\"#fb9f3a\"],[0.8888888888888888,\"#fdca26\"],[1.0,\"#f0f921\"]],\"type\":\"surface\"}],\"table\":[{\"cells\":{\"fill\":{\"color\":\"#EBF0F8\"},\"line\":{\"color\":\"white\"}},\"header\":{\"fill\":{\"color\":\"#C8D4E3\"},\"line\":{\"color\":\"white\"}},\"type\":\"table\"}]},\"layout\":{\"annotationdefaults\":{\"arrowcolor\":\"#2a3f5f\",\"arrowhead\":0,\"arrowwidth\":1},\"autotypenumbers\":\"strict\",\"coloraxis\":{\"colorbar\":{\"outlinewidth\":0,\"ticks\":\"\"}},\"colorscale\":{\"diverging\":[[0,\"#8e0152\"],[0.1,\"#c51b7d\"],[0.2,\"#de77ae\"],[0.3,\"#f1b6da\"],[0.4,\"#fde0ef\"],[0.5,\"#f7f7f7\"],[0.6,\"#e6f5d0\"],[0.7,\"#b8e186\"],[0.8,\"#7fbc41\"],[0.9,\"#4d9221\"],[1,\"#276419\"]],\"sequential\":[[0.0,\"#0d0887\"],[0.1111111111111111,\"#46039f\"],[0.2222222222222222,\"#7201a8\"],[0.3333333333333333,\"#9c179e\"],[0.4444444444444444,\"#bd3786\"],[0.5555555555555556,\"#d8576b\"],[0.6666666666666666,\"#ed7953\"],[0.7777777777777778,\"#fb9f3a\"],[0.8888888888888888,\"#fdca26\"],[1.0,\"#f0f921\"]],\"sequentialminus\":[[0.0,\"#0d0887\"],[0.1111111111111111,\"#46039f\"],[0.2222222222222222,\"#7201a8\"],[0.3333333333333333,\"#9c179e\"],[0.4444444444444444,\"#bd3786\"],[0.5555555555555556,\"#d8576b\"],[0.6666666666666666,\"#ed7953\"],[0.7777777777777778,\"#fb9f3a\"],[0.8888888888888888,\"#fdca26\"],[1.0,\"#f0f921\"]]},\"colorway\":[\"#636efa\",\"#EF553B\",\"#00cc96\",\"#ab63fa\",\"#FFA15A\",\"#19d3f3\",\"#FF6692\",\"#B6E880\",\"#FF97FF\",\"#FECB52\"],\"font\":{\"color\":\"#2a3f5f\"},\"geo\":{\"bgcolor\":\"white\",\"lakecolor\":\"white\",\"landcolor\":\"#E5ECF6\",\"showlakes\":true,\"showland\":true,\"subunitcolor\":\"white\"},\"hoverlabel\":{\"align\":\"left\"},\"hovermode\":\"closest\",\"mapbox\":{\"style\":\"light\"},\"paper_bgcolor\":\"white\",\"plot_bgcolor\":\"#E5ECF6\",\"polar\":{\"angularaxis\":{\"gridcolor\":\"white\",\"linecolor\":\"white\",\"ticks\":\"\"},\"bgcolor\":\"#E5ECF6\",\"radialaxis\":{\"gridcolor\":\"white\",\"linecolor\":\"white\",\"ticks\":\"\"}},\"scene\":{\"xaxis\":{\"backgroundcolor\":\"#E5ECF6\",\"gridcolor\":\"white\",\"gridwidth\":2,\"linecolor\":\"white\",\"showbackground\":true,\"ticks\":\"\",\"zerolinecolor\":\"white\"},\"yaxis\":{\"backgroundcolor\":\"#E5ECF6\",\"gridcolor\":\"white\",\"gridwidth\":2,\"linecolor\":\"white\",\"showbackground\":true,\"ticks\":\"\",\"zerolinecolor\":\"white\"},\"zaxis\":{\"backgroundcolor\":\"#E5ECF6\",\"gridcolor\":\"white\",\"gridwidth\":2,\"linecolor\":\"white\",\"showbackground\":true,\"ticks\":\"\",\"zerolinecolor\":\"white\"}},\"shapedefaults\":{\"line\":{\"color\":\"#2a3f5f\"}},\"ternary\":{\"aaxis\":{\"gridcolor\":\"white\",\"linecolor\":\"white\",\"ticks\":\"\"},\"baxis\":{\"gridcolor\":\"white\",\"linecolor\":\"white\",\"ticks\":\"\"},\"bgcolor\":\"#E5ECF6\",\"caxis\":{\"gridcolor\":\"white\",\"linecolor\":\"white\",\"ticks\":\"\"}},\"title\":{\"x\":0.05},\"xaxis\":{\"automargin\":true,\"gridcolor\":\"white\",\"linecolor\":\"white\",\"ticks\":\"\",\"title\":{\"standoff\":15},\"zerolinecolor\":\"white\",\"zerolinewidth\":2},\"yaxis\":{\"automargin\":true,\"gridcolor\":\"white\",\"linecolor\":\"white\",\"ticks\":\"\",\"title\":{\"standoff\":15},\"zerolinecolor\":\"white\",\"zerolinewidth\":2}}},\"xaxis\":{\"anchor\":\"y\",\"domain\":[0.0,1.0],\"title\":{\"text\":\"gender\"}},\"yaxis\":{\"anchor\":\"x\",\"domain\":[0.0,1.0],\"title\":{\"text\":\"count\"}},\"legend\":{\"title\":{\"text\":\"passed_in_writing\"},\"tracegroupgap\":0},\"margin\":{\"t\":60},\"barmode\":\"relative\"},                        {\"responsive\": true}                    ).then(function(){\n",
       "                            \n",
       "var gd = document.getElementById('c426196b-3a72-40ad-b2a3-013f5b515e27');\n",
       "var x = new MutationObserver(function (mutations, observer) {{\n",
       "        var display = window.getComputedStyle(gd).display;\n",
       "        if (!display || display === 'none') {{\n",
       "            console.log([gd, 'removed!']);\n",
       "            Plotly.purge(gd);\n",
       "            observer.disconnect();\n",
       "        }}\n",
       "}});\n",
       "\n",
       "// Listen for the removal of the full notebook cells\n",
       "var notebookContainer = gd.closest('#notebook-container');\n",
       "if (notebookContainer) {{\n",
       "    x.observe(notebookContainer, {childList: true});\n",
       "}}\n",
       "\n",
       "// Listen for the clearing of the current output cell\n",
       "var outputEl = gd.closest('.output');\n",
       "if (outputEl) {{\n",
       "    x.observe(outputEl, {childList: true});\n",
       "}}\n",
       "\n",
       "                        })                };                });            </script>        </div>"
      ]
     },
     "metadata": {},
     "output_type": "display_data"
    }
   ],
   "source": [
    "passing_marks = 33\n",
    "dataset[\"passed_in_writing\"] = np.where(dataset[\"writing score\"]> passing_marks, 'Pass', \"Fale\")\n",
    "px.histogram(dataset, x=\"gender\", color=\"passed_in_writing\")"
   ]
  },
  {
   "cell_type": "code",
   "execution_count": 35,
   "id": "4c131ea7",
   "metadata": {},
   "outputs": [
    {
     "data": {
      "application/vnd.plotly.v1+json": {
       "config": {
        "plotlyServerURL": "https://plot.ly"
       },
       "data": [
        {
         "alignmentgroup": "True",
         "bingroup": "x",
         "hovertemplate": "passed_in_writing=Pass<br>test preparation course=%{x}<br>count=%{y}<extra></extra>",
         "legendgroup": "Pass",
         "marker": {
          "color": "#636efa",
          "pattern": {
           "shape": ""
          }
         },
         "name": "Pass",
         "offsetgroup": "Pass",
         "orientation": "v",
         "showlegend": true,
         "type": "histogram",
         "x": [
          "none",
          "completed",
          "none",
          "none",
          "none",
          "none",
          "completed",
          "none",
          "completed",
          "none",
          "none",
          "none",
          "none",
          "completed",
          "none",
          "none",
          "none",
          "completed",
          "none",
          "none",
          "completed",
          "none",
          "none",
          "completed",
          "none",
          "none",
          "none",
          "none",
          "none",
          "none",
          "none",
          "none",
          "none",
          "none",
          "completed",
          "none",
          "none",
          "completed",
          "none",
          "none",
          "none",
          "none",
          "completed",
          "none",
          "none",
          "completed",
          "none",
          "completed",
          "completed",
          "none",
          "completed",
          "none",
          "none",
          "completed",
          "none",
          "completed",
          "none",
          "completed",
          "completed",
          "none",
          "none",
          "none",
          "none",
          "none",
          "none",
          "none",
          "none",
          "none",
          "completed",
          "completed",
          "none",
          "none",
          "none",
          "none",
          "completed",
          "completed",
          "none",
          "none",
          "none",
          "completed",
          "none",
          "none",
          "none",
          "none",
          "none",
          "none",
          "none",
          "none",
          "none",
          "none",
          "completed",
          "none",
          "completed",
          "completed",
          "completed",
          "none",
          "none",
          "none",
          "completed",
          "none",
          "completed",
          "completed",
          "none",
          "none",
          "completed",
          "none",
          "none",
          "completed",
          "none",
          "none",
          "none",
          "completed",
          "none",
          "none",
          "none",
          "none",
          "none",
          "completed",
          "completed",
          "completed",
          "none",
          "none",
          "none",
          "none",
          "completed",
          "none",
          "none",
          "none",
          "completed",
          "completed",
          "completed",
          "completed",
          "none",
          "completed",
          "none",
          "none",
          "completed",
          "none",
          "none",
          "completed",
          "none",
          "none",
          "none",
          "none",
          "completed",
          "completed",
          "completed",
          "none",
          "completed",
          "none",
          "none",
          "completed",
          "completed",
          "none",
          "completed",
          "none",
          "completed",
          "completed",
          "none",
          "none",
          "none",
          "completed",
          "completed",
          "completed",
          "completed",
          "completed",
          "completed",
          "none",
          "none",
          "none",
          "completed",
          "completed",
          "completed",
          "completed",
          "completed",
          "completed",
          "completed",
          "none",
          "none",
          "none",
          "completed",
          "completed",
          "none",
          "completed",
          "none",
          "none",
          "none",
          "completed",
          "none",
          "completed",
          "completed",
          "none",
          "completed",
          "none",
          "none",
          "none",
          "completed",
          "none",
          "none",
          "none",
          "none",
          "completed",
          "none",
          "completed",
          "none",
          "none",
          "completed",
          "none",
          "completed",
          "completed",
          "completed",
          "completed",
          "none",
          "none",
          "completed",
          "completed",
          "none",
          "none",
          "none",
          "completed",
          "none",
          "none",
          "none",
          "none",
          "completed",
          "none",
          "none",
          "none",
          "none",
          "completed",
          "none",
          "none",
          "completed",
          "none",
          "none",
          "completed",
          "none",
          "none",
          "none",
          "none",
          "none",
          "none",
          "completed",
          "none",
          "none",
          "completed",
          "none",
          "completed",
          "none",
          "none",
          "none",
          "none",
          "completed",
          "none",
          "completed",
          "completed",
          "completed",
          "none",
          "none",
          "none",
          "none",
          "none",
          "none",
          "completed",
          "none",
          "none",
          "none",
          "none",
          "none",
          "completed",
          "none",
          "completed",
          "completed",
          "none",
          "none",
          "none",
          "none",
          "none",
          "completed",
          "none",
          "completed",
          "completed",
          "none",
          "none",
          "completed",
          "none",
          "none",
          "completed",
          "none",
          "completed",
          "none",
          "completed",
          "completed",
          "completed",
          "none",
          "completed",
          "none",
          "completed",
          "none",
          "completed",
          "none",
          "completed",
          "none",
          "none",
          "none",
          "none",
          "none",
          "completed",
          "completed",
          "completed",
          "none",
          "completed",
          "none",
          "none",
          "none",
          "completed",
          "none",
          "none",
          "none",
          "none",
          "none",
          "none",
          "completed",
          "none",
          "none",
          "none",
          "completed",
          "none",
          "none",
          "none",
          "completed",
          "none",
          "completed",
          "none",
          "none",
          "completed",
          "completed",
          "none",
          "none",
          "none",
          "completed",
          "none",
          "none",
          "none",
          "none",
          "completed",
          "none",
          "none",
          "none",
          "none",
          "completed",
          "none",
          "none",
          "none",
          "completed",
          "none",
          "none",
          "completed",
          "completed",
          "none",
          "none",
          "none",
          "none",
          "completed",
          "none",
          "completed",
          "none",
          "none",
          "none",
          "completed",
          "none",
          "none",
          "none",
          "completed",
          "none",
          "none",
          "none",
          "none",
          "none",
          "none",
          "none",
          "none",
          "completed",
          "none",
          "none",
          "completed",
          "completed",
          "none",
          "none",
          "none",
          "none",
          "none",
          "completed",
          "none",
          "none",
          "completed",
          "none",
          "none",
          "completed",
          "none",
          "completed",
          "completed",
          "completed",
          "completed",
          "none",
          "completed",
          "completed",
          "none",
          "completed",
          "none",
          "none",
          "completed",
          "completed",
          "completed",
          "completed",
          "completed",
          "none",
          "none",
          "none",
          "none",
          "none",
          "none",
          "none",
          "none",
          "none",
          "none",
          "none",
          "completed",
          "none",
          "none",
          "none",
          "completed",
          "completed",
          "none",
          "none",
          "none",
          "none",
          "completed",
          "none",
          "completed",
          "none",
          "none",
          "completed",
          "none",
          "none",
          "none",
          "none",
          "none",
          "none",
          "none",
          "none",
          "completed",
          "none",
          "none",
          "none",
          "none",
          "completed",
          "none",
          "none",
          "completed",
          "completed",
          "none",
          "completed",
          "none",
          "completed",
          "none",
          "completed",
          "completed",
          "completed",
          "none",
          "none",
          "none",
          "completed",
          "none",
          "none",
          "none",
          "none",
          "none",
          "none",
          "none",
          "completed",
          "completed",
          "none",
          "none",
          "none",
          "none",
          "none",
          "completed",
          "none",
          "completed",
          "none",
          "none",
          "none",
          "completed",
          "none",
          "completed",
          "none",
          "none",
          "none",
          "none",
          "none",
          "none",
          "none",
          "none",
          "none",
          "completed",
          "completed",
          "completed",
          "none",
          "completed",
          "completed",
          "completed",
          "none",
          "none",
          "none",
          "none",
          "completed",
          "none",
          "completed",
          "none",
          "none",
          "none",
          "completed",
          "none",
          "completed",
          "completed",
          "completed",
          "completed",
          "completed",
          "none",
          "completed",
          "completed",
          "completed",
          "completed",
          "none",
          "none",
          "none",
          "completed",
          "completed",
          "completed",
          "none",
          "none",
          "none",
          "completed",
          "none",
          "none",
          "none",
          "completed",
          "none",
          "none",
          "none",
          "completed",
          "none",
          "completed",
          "completed",
          "none",
          "none",
          "completed",
          "completed",
          "none",
          "none",
          "completed",
          "none",
          "none",
          "completed",
          "none",
          "completed",
          "completed",
          "none",
          "completed",
          "none",
          "none",
          "none",
          "none",
          "completed",
          "none",
          "none",
          "none",
          "none",
          "none",
          "none",
          "none",
          "none",
          "none",
          "none",
          "completed",
          "completed",
          "none",
          "none",
          "none",
          "none",
          "none",
          "none",
          "completed",
          "none",
          "none",
          "none",
          "none",
          "none",
          "completed",
          "none",
          "completed",
          "none",
          "none",
          "none",
          "none",
          "none",
          "none",
          "completed",
          "none",
          "none",
          "completed",
          "completed",
          "none",
          "completed",
          "completed",
          "none",
          "none",
          "completed",
          "none",
          "none",
          "completed",
          "none",
          "none",
          "none",
          "completed",
          "completed",
          "none",
          "none",
          "none",
          "completed",
          "none",
          "completed",
          "none",
          "completed",
          "none",
          "none",
          "none",
          "completed",
          "completed",
          "completed",
          "completed",
          "completed",
          "none",
          "none",
          "none",
          "none",
          "none",
          "none",
          "none",
          "none",
          "none",
          "none",
          "none",
          "completed",
          "completed",
          "none",
          "none",
          "completed",
          "none",
          "none",
          "none",
          "completed",
          "completed",
          "completed",
          "completed",
          "completed",
          "none",
          "none",
          "none",
          "none",
          "none",
          "completed",
          "completed",
          "completed",
          "completed",
          "none",
          "none",
          "none",
          "none",
          "none",
          "completed",
          "none",
          "none",
          "none",
          "completed",
          "none",
          "completed",
          "none",
          "completed",
          "none",
          "completed",
          "none",
          "completed",
          "none",
          "none",
          "none",
          "none",
          "completed",
          "completed",
          "completed",
          "none",
          "none",
          "completed",
          "completed",
          "completed",
          "completed",
          "none",
          "completed",
          "none",
          "completed",
          "completed",
          "none",
          "none",
          "completed",
          "completed",
          "completed",
          "none",
          "none",
          "completed",
          "none",
          "completed",
          "none",
          "none",
          "none",
          "none",
          "completed",
          "none",
          "none",
          "none",
          "none",
          "none",
          "completed",
          "none",
          "none",
          "none",
          "none",
          "none",
          "completed",
          "completed",
          "none",
          "completed",
          "completed",
          "none",
          "none",
          "none",
          "completed",
          "completed",
          "completed",
          "none",
          "none",
          "completed",
          "none",
          "none",
          "none",
          "completed",
          "completed",
          "none",
          "none",
          "none",
          "none",
          "completed",
          "none",
          "none",
          "none",
          "none",
          "none",
          "completed",
          "completed",
          "none",
          "none",
          "completed",
          "completed",
          "completed",
          "completed",
          "none",
          "none",
          "none",
          "none",
          "none",
          "none",
          "completed",
          "none",
          "completed",
          "none",
          "none",
          "none",
          "none",
          "completed",
          "completed",
          "none",
          "none",
          "none",
          "none",
          "none",
          "none",
          "none",
          "none",
          "none",
          "none",
          "completed",
          "completed",
          "none",
          "completed",
          "none",
          "completed",
          "none",
          "none",
          "completed",
          "none",
          "completed",
          "none",
          "none",
          "none",
          "completed",
          "none",
          "completed",
          "none",
          "none",
          "completed",
          "none",
          "completed",
          "none",
          "completed",
          "none",
          "completed",
          "completed",
          "none",
          "none",
          "none",
          "completed",
          "completed",
          "completed",
          "none",
          "completed",
          "none",
          "none",
          "none",
          "none",
          "none",
          "none",
          "none",
          "none",
          "none",
          "none",
          "none",
          "completed",
          "none",
          "none",
          "none",
          "completed",
          "completed",
          "none",
          "completed",
          "none",
          "none",
          "completed",
          "none",
          "none",
          "completed",
          "completed",
          "none",
          "none",
          "none",
          "none",
          "none",
          "none",
          "none",
          "completed",
          "completed",
          "none",
          "none",
          "none",
          "completed",
          "completed",
          "none",
          "none",
          "none",
          "completed",
          "none",
          "none",
          "completed",
          "none",
          "none",
          "completed",
          "completed",
          "completed",
          "none",
          "none",
          "completed",
          "completed",
          "none",
          "none",
          "none",
          "completed",
          "none",
          "completed",
          "none",
          "none",
          "completed",
          "completed",
          "none",
          "none",
          "completed",
          "none",
          "completed",
          "completed",
          "none",
          "none",
          "none",
          "none",
          "none",
          "completed",
          "none",
          "completed",
          "completed",
          "none",
          "completed",
          "none",
          "completed",
          "completed",
          "completed",
          "none",
          "none",
          "none",
          "completed",
          "completed",
          "completed",
          "none",
          "none",
          "completed",
          "none",
          "none",
          "none",
          "none",
          "completed",
          "completed",
          "none",
          "completed",
          "none",
          "completed",
          "none",
          "none",
          "none",
          "none",
          "none",
          "none",
          "none",
          "none",
          "none",
          "completed",
          "none",
          "none",
          "completed",
          "none",
          "none",
          "none",
          "none",
          "completed",
          "completed",
          "none",
          "none",
          "completed",
          "completed",
          "none",
          "completed",
          "none",
          "none",
          "completed",
          "completed",
          "none",
          "none",
          "none",
          "completed",
          "none",
          "completed",
          "completed",
          "completed",
          "none",
          "none",
          "none",
          "completed",
          "none",
          "completed",
          "completed",
          "none"
         ],
         "xaxis": "x",
         "yaxis": "y"
        },
        {
         "alignmentgroup": "True",
         "bingroup": "x",
         "hovertemplate": "passed_in_writing=Fale<br>test preparation course=%{x}<br>count=%{y}<extra></extra>",
         "legendgroup": "Fale",
         "marker": {
          "color": "#EF553B",
          "pattern": {
           "shape": ""
          }
         },
         "name": "Fale",
         "offsetgroup": "Fale",
         "orientation": "v",
         "showlegend": true,
         "type": "histogram",
         "x": [
          "none",
          "none",
          "none",
          "none",
          "none",
          "none",
          "none",
          "none",
          "none",
          "none",
          "none",
          "none",
          "none",
          "none"
         ],
         "xaxis": "x",
         "yaxis": "y"
        }
       ],
       "layout": {
        "barmode": "relative",
        "legend": {
         "title": {
          "text": "passed_in_writing"
         },
         "tracegroupgap": 0
        },
        "margin": {
         "t": 60
        },
        "template": {
         "data": {
          "bar": [
           {
            "error_x": {
             "color": "#2a3f5f"
            },
            "error_y": {
             "color": "#2a3f5f"
            },
            "marker": {
             "line": {
              "color": "#E5ECF6",
              "width": 0.5
             },
             "pattern": {
              "fillmode": "overlay",
              "size": 10,
              "solidity": 0.2
             }
            },
            "type": "bar"
           }
          ],
          "barpolar": [
           {
            "marker": {
             "line": {
              "color": "#E5ECF6",
              "width": 0.5
             },
             "pattern": {
              "fillmode": "overlay",
              "size": 10,
              "solidity": 0.2
             }
            },
            "type": "barpolar"
           }
          ],
          "carpet": [
           {
            "aaxis": {
             "endlinecolor": "#2a3f5f",
             "gridcolor": "white",
             "linecolor": "white",
             "minorgridcolor": "white",
             "startlinecolor": "#2a3f5f"
            },
            "baxis": {
             "endlinecolor": "#2a3f5f",
             "gridcolor": "white",
             "linecolor": "white",
             "minorgridcolor": "white",
             "startlinecolor": "#2a3f5f"
            },
            "type": "carpet"
           }
          ],
          "choropleth": [
           {
            "colorbar": {
             "outlinewidth": 0,
             "ticks": ""
            },
            "type": "choropleth"
           }
          ],
          "contour": [
           {
            "colorbar": {
             "outlinewidth": 0,
             "ticks": ""
            },
            "colorscale": [
             [
              0,
              "#0d0887"
             ],
             [
              0.1111111111111111,
              "#46039f"
             ],
             [
              0.2222222222222222,
              "#7201a8"
             ],
             [
              0.3333333333333333,
              "#9c179e"
             ],
             [
              0.4444444444444444,
              "#bd3786"
             ],
             [
              0.5555555555555556,
              "#d8576b"
             ],
             [
              0.6666666666666666,
              "#ed7953"
             ],
             [
              0.7777777777777778,
              "#fb9f3a"
             ],
             [
              0.8888888888888888,
              "#fdca26"
             ],
             [
              1,
              "#f0f921"
             ]
            ],
            "type": "contour"
           }
          ],
          "contourcarpet": [
           {
            "colorbar": {
             "outlinewidth": 0,
             "ticks": ""
            },
            "type": "contourcarpet"
           }
          ],
          "heatmap": [
           {
            "colorbar": {
             "outlinewidth": 0,
             "ticks": ""
            },
            "colorscale": [
             [
              0,
              "#0d0887"
             ],
             [
              0.1111111111111111,
              "#46039f"
             ],
             [
              0.2222222222222222,
              "#7201a8"
             ],
             [
              0.3333333333333333,
              "#9c179e"
             ],
             [
              0.4444444444444444,
              "#bd3786"
             ],
             [
              0.5555555555555556,
              "#d8576b"
             ],
             [
              0.6666666666666666,
              "#ed7953"
             ],
             [
              0.7777777777777778,
              "#fb9f3a"
             ],
             [
              0.8888888888888888,
              "#fdca26"
             ],
             [
              1,
              "#f0f921"
             ]
            ],
            "type": "heatmap"
           }
          ],
          "heatmapgl": [
           {
            "colorbar": {
             "outlinewidth": 0,
             "ticks": ""
            },
            "colorscale": [
             [
              0,
              "#0d0887"
             ],
             [
              0.1111111111111111,
              "#46039f"
             ],
             [
              0.2222222222222222,
              "#7201a8"
             ],
             [
              0.3333333333333333,
              "#9c179e"
             ],
             [
              0.4444444444444444,
              "#bd3786"
             ],
             [
              0.5555555555555556,
              "#d8576b"
             ],
             [
              0.6666666666666666,
              "#ed7953"
             ],
             [
              0.7777777777777778,
              "#fb9f3a"
             ],
             [
              0.8888888888888888,
              "#fdca26"
             ],
             [
              1,
              "#f0f921"
             ]
            ],
            "type": "heatmapgl"
           }
          ],
          "histogram": [
           {
            "marker": {
             "pattern": {
              "fillmode": "overlay",
              "size": 10,
              "solidity": 0.2
             }
            },
            "type": "histogram"
           }
          ],
          "histogram2d": [
           {
            "colorbar": {
             "outlinewidth": 0,
             "ticks": ""
            },
            "colorscale": [
             [
              0,
              "#0d0887"
             ],
             [
              0.1111111111111111,
              "#46039f"
             ],
             [
              0.2222222222222222,
              "#7201a8"
             ],
             [
              0.3333333333333333,
              "#9c179e"
             ],
             [
              0.4444444444444444,
              "#bd3786"
             ],
             [
              0.5555555555555556,
              "#d8576b"
             ],
             [
              0.6666666666666666,
              "#ed7953"
             ],
             [
              0.7777777777777778,
              "#fb9f3a"
             ],
             [
              0.8888888888888888,
              "#fdca26"
             ],
             [
              1,
              "#f0f921"
             ]
            ],
            "type": "histogram2d"
           }
          ],
          "histogram2dcontour": [
           {
            "colorbar": {
             "outlinewidth": 0,
             "ticks": ""
            },
            "colorscale": [
             [
              0,
              "#0d0887"
             ],
             [
              0.1111111111111111,
              "#46039f"
             ],
             [
              0.2222222222222222,
              "#7201a8"
             ],
             [
              0.3333333333333333,
              "#9c179e"
             ],
             [
              0.4444444444444444,
              "#bd3786"
             ],
             [
              0.5555555555555556,
              "#d8576b"
             ],
             [
              0.6666666666666666,
              "#ed7953"
             ],
             [
              0.7777777777777778,
              "#fb9f3a"
             ],
             [
              0.8888888888888888,
              "#fdca26"
             ],
             [
              1,
              "#f0f921"
             ]
            ],
            "type": "histogram2dcontour"
           }
          ],
          "mesh3d": [
           {
            "colorbar": {
             "outlinewidth": 0,
             "ticks": ""
            },
            "type": "mesh3d"
           }
          ],
          "parcoords": [
           {
            "line": {
             "colorbar": {
              "outlinewidth": 0,
              "ticks": ""
             }
            },
            "type": "parcoords"
           }
          ],
          "pie": [
           {
            "automargin": true,
            "type": "pie"
           }
          ],
          "scatter": [
           {
            "marker": {
             "colorbar": {
              "outlinewidth": 0,
              "ticks": ""
             }
            },
            "type": "scatter"
           }
          ],
          "scatter3d": [
           {
            "line": {
             "colorbar": {
              "outlinewidth": 0,
              "ticks": ""
             }
            },
            "marker": {
             "colorbar": {
              "outlinewidth": 0,
              "ticks": ""
             }
            },
            "type": "scatter3d"
           }
          ],
          "scattercarpet": [
           {
            "marker": {
             "colorbar": {
              "outlinewidth": 0,
              "ticks": ""
             }
            },
            "type": "scattercarpet"
           }
          ],
          "scattergeo": [
           {
            "marker": {
             "colorbar": {
              "outlinewidth": 0,
              "ticks": ""
             }
            },
            "type": "scattergeo"
           }
          ],
          "scattergl": [
           {
            "marker": {
             "colorbar": {
              "outlinewidth": 0,
              "ticks": ""
             }
            },
            "type": "scattergl"
           }
          ],
          "scattermapbox": [
           {
            "marker": {
             "colorbar": {
              "outlinewidth": 0,
              "ticks": ""
             }
            },
            "type": "scattermapbox"
           }
          ],
          "scatterpolar": [
           {
            "marker": {
             "colorbar": {
              "outlinewidth": 0,
              "ticks": ""
             }
            },
            "type": "scatterpolar"
           }
          ],
          "scatterpolargl": [
           {
            "marker": {
             "colorbar": {
              "outlinewidth": 0,
              "ticks": ""
             }
            },
            "type": "scatterpolargl"
           }
          ],
          "scatterternary": [
           {
            "marker": {
             "colorbar": {
              "outlinewidth": 0,
              "ticks": ""
             }
            },
            "type": "scatterternary"
           }
          ],
          "surface": [
           {
            "colorbar": {
             "outlinewidth": 0,
             "ticks": ""
            },
            "colorscale": [
             [
              0,
              "#0d0887"
             ],
             [
              0.1111111111111111,
              "#46039f"
             ],
             [
              0.2222222222222222,
              "#7201a8"
             ],
             [
              0.3333333333333333,
              "#9c179e"
             ],
             [
              0.4444444444444444,
              "#bd3786"
             ],
             [
              0.5555555555555556,
              "#d8576b"
             ],
             [
              0.6666666666666666,
              "#ed7953"
             ],
             [
              0.7777777777777778,
              "#fb9f3a"
             ],
             [
              0.8888888888888888,
              "#fdca26"
             ],
             [
              1,
              "#f0f921"
             ]
            ],
            "type": "surface"
           }
          ],
          "table": [
           {
            "cells": {
             "fill": {
              "color": "#EBF0F8"
             },
             "line": {
              "color": "white"
             }
            },
            "header": {
             "fill": {
              "color": "#C8D4E3"
             },
             "line": {
              "color": "white"
             }
            },
            "type": "table"
           }
          ]
         },
         "layout": {
          "annotationdefaults": {
           "arrowcolor": "#2a3f5f",
           "arrowhead": 0,
           "arrowwidth": 1
          },
          "autotypenumbers": "strict",
          "coloraxis": {
           "colorbar": {
            "outlinewidth": 0,
            "ticks": ""
           }
          },
          "colorscale": {
           "diverging": [
            [
             0,
             "#8e0152"
            ],
            [
             0.1,
             "#c51b7d"
            ],
            [
             0.2,
             "#de77ae"
            ],
            [
             0.3,
             "#f1b6da"
            ],
            [
             0.4,
             "#fde0ef"
            ],
            [
             0.5,
             "#f7f7f7"
            ],
            [
             0.6,
             "#e6f5d0"
            ],
            [
             0.7,
             "#b8e186"
            ],
            [
             0.8,
             "#7fbc41"
            ],
            [
             0.9,
             "#4d9221"
            ],
            [
             1,
             "#276419"
            ]
           ],
           "sequential": [
            [
             0,
             "#0d0887"
            ],
            [
             0.1111111111111111,
             "#46039f"
            ],
            [
             0.2222222222222222,
             "#7201a8"
            ],
            [
             0.3333333333333333,
             "#9c179e"
            ],
            [
             0.4444444444444444,
             "#bd3786"
            ],
            [
             0.5555555555555556,
             "#d8576b"
            ],
            [
             0.6666666666666666,
             "#ed7953"
            ],
            [
             0.7777777777777778,
             "#fb9f3a"
            ],
            [
             0.8888888888888888,
             "#fdca26"
            ],
            [
             1,
             "#f0f921"
            ]
           ],
           "sequentialminus": [
            [
             0,
             "#0d0887"
            ],
            [
             0.1111111111111111,
             "#46039f"
            ],
            [
             0.2222222222222222,
             "#7201a8"
            ],
            [
             0.3333333333333333,
             "#9c179e"
            ],
            [
             0.4444444444444444,
             "#bd3786"
            ],
            [
             0.5555555555555556,
             "#d8576b"
            ],
            [
             0.6666666666666666,
             "#ed7953"
            ],
            [
             0.7777777777777778,
             "#fb9f3a"
            ],
            [
             0.8888888888888888,
             "#fdca26"
            ],
            [
             1,
             "#f0f921"
            ]
           ]
          },
          "colorway": [
           "#636efa",
           "#EF553B",
           "#00cc96",
           "#ab63fa",
           "#FFA15A",
           "#19d3f3",
           "#FF6692",
           "#B6E880",
           "#FF97FF",
           "#FECB52"
          ],
          "font": {
           "color": "#2a3f5f"
          },
          "geo": {
           "bgcolor": "white",
           "lakecolor": "white",
           "landcolor": "#E5ECF6",
           "showlakes": true,
           "showland": true,
           "subunitcolor": "white"
          },
          "hoverlabel": {
           "align": "left"
          },
          "hovermode": "closest",
          "mapbox": {
           "style": "light"
          },
          "paper_bgcolor": "white",
          "plot_bgcolor": "#E5ECF6",
          "polar": {
           "angularaxis": {
            "gridcolor": "white",
            "linecolor": "white",
            "ticks": ""
           },
           "bgcolor": "#E5ECF6",
           "radialaxis": {
            "gridcolor": "white",
            "linecolor": "white",
            "ticks": ""
           }
          },
          "scene": {
           "xaxis": {
            "backgroundcolor": "#E5ECF6",
            "gridcolor": "white",
            "gridwidth": 2,
            "linecolor": "white",
            "showbackground": true,
            "ticks": "",
            "zerolinecolor": "white"
           },
           "yaxis": {
            "backgroundcolor": "#E5ECF6",
            "gridcolor": "white",
            "gridwidth": 2,
            "linecolor": "white",
            "showbackground": true,
            "ticks": "",
            "zerolinecolor": "white"
           },
           "zaxis": {
            "backgroundcolor": "#E5ECF6",
            "gridcolor": "white",
            "gridwidth": 2,
            "linecolor": "white",
            "showbackground": true,
            "ticks": "",
            "zerolinecolor": "white"
           }
          },
          "shapedefaults": {
           "line": {
            "color": "#2a3f5f"
           }
          },
          "ternary": {
           "aaxis": {
            "gridcolor": "white",
            "linecolor": "white",
            "ticks": ""
           },
           "baxis": {
            "gridcolor": "white",
            "linecolor": "white",
            "ticks": ""
           },
           "bgcolor": "#E5ECF6",
           "caxis": {
            "gridcolor": "white",
            "linecolor": "white",
            "ticks": ""
           }
          },
          "title": {
           "x": 0.05
          },
          "xaxis": {
           "automargin": true,
           "gridcolor": "white",
           "linecolor": "white",
           "ticks": "",
           "title": {
            "standoff": 15
           },
           "zerolinecolor": "white",
           "zerolinewidth": 2
          },
          "yaxis": {
           "automargin": true,
           "gridcolor": "white",
           "linecolor": "white",
           "ticks": "",
           "title": {
            "standoff": 15
           },
           "zerolinecolor": "white",
           "zerolinewidth": 2
          }
         }
        },
        "xaxis": {
         "anchor": "y",
         "domain": [
          0,
          1
         ],
         "title": {
          "text": "test preparation course"
         }
        },
        "yaxis": {
         "anchor": "x",
         "domain": [
          0,
          1
         ],
         "title": {
          "text": "count"
         }
        }
       }
      },
      "text/html": [
       "<div>                            <div id=\"db81fd73-e45d-4701-97a5-3d6ae324e050\" class=\"plotly-graph-div\" style=\"height:525px; width:100%;\"></div>            <script type=\"text/javascript\">                require([\"plotly\"], function(Plotly) {                    window.PLOTLYENV=window.PLOTLYENV || {};                                    if (document.getElementById(\"db81fd73-e45d-4701-97a5-3d6ae324e050\")) {                    Plotly.newPlot(                        \"db81fd73-e45d-4701-97a5-3d6ae324e050\",                        [{\"alignmentgroup\":\"True\",\"bingroup\":\"x\",\"hovertemplate\":\"passed_in_writing=Pass<br>test preparation course=%{x}<br>count=%{y}<extra></extra>\",\"legendgroup\":\"Pass\",\"marker\":{\"color\":\"#636efa\",\"pattern\":{\"shape\":\"\"}},\"name\":\"Pass\",\"offsetgroup\":\"Pass\",\"orientation\":\"v\",\"showlegend\":true,\"x\":[\"none\",\"completed\",\"none\",\"none\",\"none\",\"none\",\"completed\",\"none\",\"completed\",\"none\",\"none\",\"none\",\"none\",\"completed\",\"none\",\"none\",\"none\",\"completed\",\"none\",\"none\",\"completed\",\"none\",\"none\",\"completed\",\"none\",\"none\",\"none\",\"none\",\"none\",\"none\",\"none\",\"none\",\"none\",\"none\",\"completed\",\"none\",\"none\",\"completed\",\"none\",\"none\",\"none\",\"none\",\"completed\",\"none\",\"none\",\"completed\",\"none\",\"completed\",\"completed\",\"none\",\"completed\",\"none\",\"none\",\"completed\",\"none\",\"completed\",\"none\",\"completed\",\"completed\",\"none\",\"none\",\"none\",\"none\",\"none\",\"none\",\"none\",\"none\",\"none\",\"completed\",\"completed\",\"none\",\"none\",\"none\",\"none\",\"completed\",\"completed\",\"none\",\"none\",\"none\",\"completed\",\"none\",\"none\",\"none\",\"none\",\"none\",\"none\",\"none\",\"none\",\"none\",\"none\",\"completed\",\"none\",\"completed\",\"completed\",\"completed\",\"none\",\"none\",\"none\",\"completed\",\"none\",\"completed\",\"completed\",\"none\",\"none\",\"completed\",\"none\",\"none\",\"completed\",\"none\",\"none\",\"none\",\"completed\",\"none\",\"none\",\"none\",\"none\",\"none\",\"completed\",\"completed\",\"completed\",\"none\",\"none\",\"none\",\"none\",\"completed\",\"none\",\"none\",\"none\",\"completed\",\"completed\",\"completed\",\"completed\",\"none\",\"completed\",\"none\",\"none\",\"completed\",\"none\",\"none\",\"completed\",\"none\",\"none\",\"none\",\"none\",\"completed\",\"completed\",\"completed\",\"none\",\"completed\",\"none\",\"none\",\"completed\",\"completed\",\"none\",\"completed\",\"none\",\"completed\",\"completed\",\"none\",\"none\",\"none\",\"completed\",\"completed\",\"completed\",\"completed\",\"completed\",\"completed\",\"none\",\"none\",\"none\",\"completed\",\"completed\",\"completed\",\"completed\",\"completed\",\"completed\",\"completed\",\"none\",\"none\",\"none\",\"completed\",\"completed\",\"none\",\"completed\",\"none\",\"none\",\"none\",\"completed\",\"none\",\"completed\",\"completed\",\"none\",\"completed\",\"none\",\"none\",\"none\",\"completed\",\"none\",\"none\",\"none\",\"none\",\"completed\",\"none\",\"completed\",\"none\",\"none\",\"completed\",\"none\",\"completed\",\"completed\",\"completed\",\"completed\",\"none\",\"none\",\"completed\",\"completed\",\"none\",\"none\",\"none\",\"completed\",\"none\",\"none\",\"none\",\"none\",\"completed\",\"none\",\"none\",\"none\",\"none\",\"completed\",\"none\",\"none\",\"completed\",\"none\",\"none\",\"completed\",\"none\",\"none\",\"none\",\"none\",\"none\",\"none\",\"completed\",\"none\",\"none\",\"completed\",\"none\",\"completed\",\"none\",\"none\",\"none\",\"none\",\"completed\",\"none\",\"completed\",\"completed\",\"completed\",\"none\",\"none\",\"none\",\"none\",\"none\",\"none\",\"completed\",\"none\",\"none\",\"none\",\"none\",\"none\",\"completed\",\"none\",\"completed\",\"completed\",\"none\",\"none\",\"none\",\"none\",\"none\",\"completed\",\"none\",\"completed\",\"completed\",\"none\",\"none\",\"completed\",\"none\",\"none\",\"completed\",\"none\",\"completed\",\"none\",\"completed\",\"completed\",\"completed\",\"none\",\"completed\",\"none\",\"completed\",\"none\",\"completed\",\"none\",\"completed\",\"none\",\"none\",\"none\",\"none\",\"none\",\"completed\",\"completed\",\"completed\",\"none\",\"completed\",\"none\",\"none\",\"none\",\"completed\",\"none\",\"none\",\"none\",\"none\",\"none\",\"none\",\"completed\",\"none\",\"none\",\"none\",\"completed\",\"none\",\"none\",\"none\",\"completed\",\"none\",\"completed\",\"none\",\"none\",\"completed\",\"completed\",\"none\",\"none\",\"none\",\"completed\",\"none\",\"none\",\"none\",\"none\",\"completed\",\"none\",\"none\",\"none\",\"none\",\"completed\",\"none\",\"none\",\"none\",\"completed\",\"none\",\"none\",\"completed\",\"completed\",\"none\",\"none\",\"none\",\"none\",\"completed\",\"none\",\"completed\",\"none\",\"none\",\"none\",\"completed\",\"none\",\"none\",\"none\",\"completed\",\"none\",\"none\",\"none\",\"none\",\"none\",\"none\",\"none\",\"none\",\"completed\",\"none\",\"none\",\"completed\",\"completed\",\"none\",\"none\",\"none\",\"none\",\"none\",\"completed\",\"none\",\"none\",\"completed\",\"none\",\"none\",\"completed\",\"none\",\"completed\",\"completed\",\"completed\",\"completed\",\"none\",\"completed\",\"completed\",\"none\",\"completed\",\"none\",\"none\",\"completed\",\"completed\",\"completed\",\"completed\",\"completed\",\"none\",\"none\",\"none\",\"none\",\"none\",\"none\",\"none\",\"none\",\"none\",\"none\",\"none\",\"completed\",\"none\",\"none\",\"none\",\"completed\",\"completed\",\"none\",\"none\",\"none\",\"none\",\"completed\",\"none\",\"completed\",\"none\",\"none\",\"completed\",\"none\",\"none\",\"none\",\"none\",\"none\",\"none\",\"none\",\"none\",\"completed\",\"none\",\"none\",\"none\",\"none\",\"completed\",\"none\",\"none\",\"completed\",\"completed\",\"none\",\"completed\",\"none\",\"completed\",\"none\",\"completed\",\"completed\",\"completed\",\"none\",\"none\",\"none\",\"completed\",\"none\",\"none\",\"none\",\"none\",\"none\",\"none\",\"none\",\"completed\",\"completed\",\"none\",\"none\",\"none\",\"none\",\"none\",\"completed\",\"none\",\"completed\",\"none\",\"none\",\"none\",\"completed\",\"none\",\"completed\",\"none\",\"none\",\"none\",\"none\",\"none\",\"none\",\"none\",\"none\",\"none\",\"completed\",\"completed\",\"completed\",\"none\",\"completed\",\"completed\",\"completed\",\"none\",\"none\",\"none\",\"none\",\"completed\",\"none\",\"completed\",\"none\",\"none\",\"none\",\"completed\",\"none\",\"completed\",\"completed\",\"completed\",\"completed\",\"completed\",\"none\",\"completed\",\"completed\",\"completed\",\"completed\",\"none\",\"none\",\"none\",\"completed\",\"completed\",\"completed\",\"none\",\"none\",\"none\",\"completed\",\"none\",\"none\",\"none\",\"completed\",\"none\",\"none\",\"none\",\"completed\",\"none\",\"completed\",\"completed\",\"none\",\"none\",\"completed\",\"completed\",\"none\",\"none\",\"completed\",\"none\",\"none\",\"completed\",\"none\",\"completed\",\"completed\",\"none\",\"completed\",\"none\",\"none\",\"none\",\"none\",\"completed\",\"none\",\"none\",\"none\",\"none\",\"none\",\"none\",\"none\",\"none\",\"none\",\"none\",\"completed\",\"completed\",\"none\",\"none\",\"none\",\"none\",\"none\",\"none\",\"completed\",\"none\",\"none\",\"none\",\"none\",\"none\",\"completed\",\"none\",\"completed\",\"none\",\"none\",\"none\",\"none\",\"none\",\"none\",\"completed\",\"none\",\"none\",\"completed\",\"completed\",\"none\",\"completed\",\"completed\",\"none\",\"none\",\"completed\",\"none\",\"none\",\"completed\",\"none\",\"none\",\"none\",\"completed\",\"completed\",\"none\",\"none\",\"none\",\"completed\",\"none\",\"completed\",\"none\",\"completed\",\"none\",\"none\",\"none\",\"completed\",\"completed\",\"completed\",\"completed\",\"completed\",\"none\",\"none\",\"none\",\"none\",\"none\",\"none\",\"none\",\"none\",\"none\",\"none\",\"none\",\"completed\",\"completed\",\"none\",\"none\",\"completed\",\"none\",\"none\",\"none\",\"completed\",\"completed\",\"completed\",\"completed\",\"completed\",\"none\",\"none\",\"none\",\"none\",\"none\",\"completed\",\"completed\",\"completed\",\"completed\",\"none\",\"none\",\"none\",\"none\",\"none\",\"completed\",\"none\",\"none\",\"none\",\"completed\",\"none\",\"completed\",\"none\",\"completed\",\"none\",\"completed\",\"none\",\"completed\",\"none\",\"none\",\"none\",\"none\",\"completed\",\"completed\",\"completed\",\"none\",\"none\",\"completed\",\"completed\",\"completed\",\"completed\",\"none\",\"completed\",\"none\",\"completed\",\"completed\",\"none\",\"none\",\"completed\",\"completed\",\"completed\",\"none\",\"none\",\"completed\",\"none\",\"completed\",\"none\",\"none\",\"none\",\"none\",\"completed\",\"none\",\"none\",\"none\",\"none\",\"none\",\"completed\",\"none\",\"none\",\"none\",\"none\",\"none\",\"completed\",\"completed\",\"none\",\"completed\",\"completed\",\"none\",\"none\",\"none\",\"completed\",\"completed\",\"completed\",\"none\",\"none\",\"completed\",\"none\",\"none\",\"none\",\"completed\",\"completed\",\"none\",\"none\",\"none\",\"none\",\"completed\",\"none\",\"none\",\"none\",\"none\",\"none\",\"completed\",\"completed\",\"none\",\"none\",\"completed\",\"completed\",\"completed\",\"completed\",\"none\",\"none\",\"none\",\"none\",\"none\",\"none\",\"completed\",\"none\",\"completed\",\"none\",\"none\",\"none\",\"none\",\"completed\",\"completed\",\"none\",\"none\",\"none\",\"none\",\"none\",\"none\",\"none\",\"none\",\"none\",\"none\",\"completed\",\"completed\",\"none\",\"completed\",\"none\",\"completed\",\"none\",\"none\",\"completed\",\"none\",\"completed\",\"none\",\"none\",\"none\",\"completed\",\"none\",\"completed\",\"none\",\"none\",\"completed\",\"none\",\"completed\",\"none\",\"completed\",\"none\",\"completed\",\"completed\",\"none\",\"none\",\"none\",\"completed\",\"completed\",\"completed\",\"none\",\"completed\",\"none\",\"none\",\"none\",\"none\",\"none\",\"none\",\"none\",\"none\",\"none\",\"none\",\"none\",\"completed\",\"none\",\"none\",\"none\",\"completed\",\"completed\",\"none\",\"completed\",\"none\",\"none\",\"completed\",\"none\",\"none\",\"completed\",\"completed\",\"none\",\"none\",\"none\",\"none\",\"none\",\"none\",\"none\",\"completed\",\"completed\",\"none\",\"none\",\"none\",\"completed\",\"completed\",\"none\",\"none\",\"none\",\"completed\",\"none\",\"none\",\"completed\",\"none\",\"none\",\"completed\",\"completed\",\"completed\",\"none\",\"none\",\"completed\",\"completed\",\"none\",\"none\",\"none\",\"completed\",\"none\",\"completed\",\"none\",\"none\",\"completed\",\"completed\",\"none\",\"none\",\"completed\",\"none\",\"completed\",\"completed\",\"none\",\"none\",\"none\",\"none\",\"none\",\"completed\",\"none\",\"completed\",\"completed\",\"none\",\"completed\",\"none\",\"completed\",\"completed\",\"completed\",\"none\",\"none\",\"none\",\"completed\",\"completed\",\"completed\",\"none\",\"none\",\"completed\",\"none\",\"none\",\"none\",\"none\",\"completed\",\"completed\",\"none\",\"completed\",\"none\",\"completed\",\"none\",\"none\",\"none\",\"none\",\"none\",\"none\",\"none\",\"none\",\"none\",\"completed\",\"none\",\"none\",\"completed\",\"none\",\"none\",\"none\",\"none\",\"completed\",\"completed\",\"none\",\"none\",\"completed\",\"completed\",\"none\",\"completed\",\"none\",\"none\",\"completed\",\"completed\",\"none\",\"none\",\"none\",\"completed\",\"none\",\"completed\",\"completed\",\"completed\",\"none\",\"none\",\"none\",\"completed\",\"none\",\"completed\",\"completed\",\"none\"],\"xaxis\":\"x\",\"yaxis\":\"y\",\"type\":\"histogram\"},{\"alignmentgroup\":\"True\",\"bingroup\":\"x\",\"hovertemplate\":\"passed_in_writing=Fale<br>test preparation course=%{x}<br>count=%{y}<extra></extra>\",\"legendgroup\":\"Fale\",\"marker\":{\"color\":\"#EF553B\",\"pattern\":{\"shape\":\"\"}},\"name\":\"Fale\",\"offsetgroup\":\"Fale\",\"orientation\":\"v\",\"showlegend\":true,\"x\":[\"none\",\"none\",\"none\",\"none\",\"none\",\"none\",\"none\",\"none\",\"none\",\"none\",\"none\",\"none\",\"none\",\"none\"],\"xaxis\":\"x\",\"yaxis\":\"y\",\"type\":\"histogram\"}],                        {\"template\":{\"data\":{\"bar\":[{\"error_x\":{\"color\":\"#2a3f5f\"},\"error_y\":{\"color\":\"#2a3f5f\"},\"marker\":{\"line\":{\"color\":\"#E5ECF6\",\"width\":0.5},\"pattern\":{\"fillmode\":\"overlay\",\"size\":10,\"solidity\":0.2}},\"type\":\"bar\"}],\"barpolar\":[{\"marker\":{\"line\":{\"color\":\"#E5ECF6\",\"width\":0.5},\"pattern\":{\"fillmode\":\"overlay\",\"size\":10,\"solidity\":0.2}},\"type\":\"barpolar\"}],\"carpet\":[{\"aaxis\":{\"endlinecolor\":\"#2a3f5f\",\"gridcolor\":\"white\",\"linecolor\":\"white\",\"minorgridcolor\":\"white\",\"startlinecolor\":\"#2a3f5f\"},\"baxis\":{\"endlinecolor\":\"#2a3f5f\",\"gridcolor\":\"white\",\"linecolor\":\"white\",\"minorgridcolor\":\"white\",\"startlinecolor\":\"#2a3f5f\"},\"type\":\"carpet\"}],\"choropleth\":[{\"colorbar\":{\"outlinewidth\":0,\"ticks\":\"\"},\"type\":\"choropleth\"}],\"contour\":[{\"colorbar\":{\"outlinewidth\":0,\"ticks\":\"\"},\"colorscale\":[[0.0,\"#0d0887\"],[0.1111111111111111,\"#46039f\"],[0.2222222222222222,\"#7201a8\"],[0.3333333333333333,\"#9c179e\"],[0.4444444444444444,\"#bd3786\"],[0.5555555555555556,\"#d8576b\"],[0.6666666666666666,\"#ed7953\"],[0.7777777777777778,\"#fb9f3a\"],[0.8888888888888888,\"#fdca26\"],[1.0,\"#f0f921\"]],\"type\":\"contour\"}],\"contourcarpet\":[{\"colorbar\":{\"outlinewidth\":0,\"ticks\":\"\"},\"type\":\"contourcarpet\"}],\"heatmap\":[{\"colorbar\":{\"outlinewidth\":0,\"ticks\":\"\"},\"colorscale\":[[0.0,\"#0d0887\"],[0.1111111111111111,\"#46039f\"],[0.2222222222222222,\"#7201a8\"],[0.3333333333333333,\"#9c179e\"],[0.4444444444444444,\"#bd3786\"],[0.5555555555555556,\"#d8576b\"],[0.6666666666666666,\"#ed7953\"],[0.7777777777777778,\"#fb9f3a\"],[0.8888888888888888,\"#fdca26\"],[1.0,\"#f0f921\"]],\"type\":\"heatmap\"}],\"heatmapgl\":[{\"colorbar\":{\"outlinewidth\":0,\"ticks\":\"\"},\"colorscale\":[[0.0,\"#0d0887\"],[0.1111111111111111,\"#46039f\"],[0.2222222222222222,\"#7201a8\"],[0.3333333333333333,\"#9c179e\"],[0.4444444444444444,\"#bd3786\"],[0.5555555555555556,\"#d8576b\"],[0.6666666666666666,\"#ed7953\"],[0.7777777777777778,\"#fb9f3a\"],[0.8888888888888888,\"#fdca26\"],[1.0,\"#f0f921\"]],\"type\":\"heatmapgl\"}],\"histogram\":[{\"marker\":{\"pattern\":{\"fillmode\":\"overlay\",\"size\":10,\"solidity\":0.2}},\"type\":\"histogram\"}],\"histogram2d\":[{\"colorbar\":{\"outlinewidth\":0,\"ticks\":\"\"},\"colorscale\":[[0.0,\"#0d0887\"],[0.1111111111111111,\"#46039f\"],[0.2222222222222222,\"#7201a8\"],[0.3333333333333333,\"#9c179e\"],[0.4444444444444444,\"#bd3786\"],[0.5555555555555556,\"#d8576b\"],[0.6666666666666666,\"#ed7953\"],[0.7777777777777778,\"#fb9f3a\"],[0.8888888888888888,\"#fdca26\"],[1.0,\"#f0f921\"]],\"type\":\"histogram2d\"}],\"histogram2dcontour\":[{\"colorbar\":{\"outlinewidth\":0,\"ticks\":\"\"},\"colorscale\":[[0.0,\"#0d0887\"],[0.1111111111111111,\"#46039f\"],[0.2222222222222222,\"#7201a8\"],[0.3333333333333333,\"#9c179e\"],[0.4444444444444444,\"#bd3786\"],[0.5555555555555556,\"#d8576b\"],[0.6666666666666666,\"#ed7953\"],[0.7777777777777778,\"#fb9f3a\"],[0.8888888888888888,\"#fdca26\"],[1.0,\"#f0f921\"]],\"type\":\"histogram2dcontour\"}],\"mesh3d\":[{\"colorbar\":{\"outlinewidth\":0,\"ticks\":\"\"},\"type\":\"mesh3d\"}],\"parcoords\":[{\"line\":{\"colorbar\":{\"outlinewidth\":0,\"ticks\":\"\"}},\"type\":\"parcoords\"}],\"pie\":[{\"automargin\":true,\"type\":\"pie\"}],\"scatter\":[{\"marker\":{\"colorbar\":{\"outlinewidth\":0,\"ticks\":\"\"}},\"type\":\"scatter\"}],\"scatter3d\":[{\"line\":{\"colorbar\":{\"outlinewidth\":0,\"ticks\":\"\"}},\"marker\":{\"colorbar\":{\"outlinewidth\":0,\"ticks\":\"\"}},\"type\":\"scatter3d\"}],\"scattercarpet\":[{\"marker\":{\"colorbar\":{\"outlinewidth\":0,\"ticks\":\"\"}},\"type\":\"scattercarpet\"}],\"scattergeo\":[{\"marker\":{\"colorbar\":{\"outlinewidth\":0,\"ticks\":\"\"}},\"type\":\"scattergeo\"}],\"scattergl\":[{\"marker\":{\"colorbar\":{\"outlinewidth\":0,\"ticks\":\"\"}},\"type\":\"scattergl\"}],\"scattermapbox\":[{\"marker\":{\"colorbar\":{\"outlinewidth\":0,\"ticks\":\"\"}},\"type\":\"scattermapbox\"}],\"scatterpolar\":[{\"marker\":{\"colorbar\":{\"outlinewidth\":0,\"ticks\":\"\"}},\"type\":\"scatterpolar\"}],\"scatterpolargl\":[{\"marker\":{\"colorbar\":{\"outlinewidth\":0,\"ticks\":\"\"}},\"type\":\"scatterpolargl\"}],\"scatterternary\":[{\"marker\":{\"colorbar\":{\"outlinewidth\":0,\"ticks\":\"\"}},\"type\":\"scatterternary\"}],\"surface\":[{\"colorbar\":{\"outlinewidth\":0,\"ticks\":\"\"},\"colorscale\":[[0.0,\"#0d0887\"],[0.1111111111111111,\"#46039f\"],[0.2222222222222222,\"#7201a8\"],[0.3333333333333333,\"#9c179e\"],[0.4444444444444444,\"#bd3786\"],[0.5555555555555556,\"#d8576b\"],[0.6666666666666666,\"#ed7953\"],[0.7777777777777778,\"#fb9f3a\"],[0.8888888888888888,\"#fdca26\"],[1.0,\"#f0f921\"]],\"type\":\"surface\"}],\"table\":[{\"cells\":{\"fill\":{\"color\":\"#EBF0F8\"},\"line\":{\"color\":\"white\"}},\"header\":{\"fill\":{\"color\":\"#C8D4E3\"},\"line\":{\"color\":\"white\"}},\"type\":\"table\"}]},\"layout\":{\"annotationdefaults\":{\"arrowcolor\":\"#2a3f5f\",\"arrowhead\":0,\"arrowwidth\":1},\"autotypenumbers\":\"strict\",\"coloraxis\":{\"colorbar\":{\"outlinewidth\":0,\"ticks\":\"\"}},\"colorscale\":{\"diverging\":[[0,\"#8e0152\"],[0.1,\"#c51b7d\"],[0.2,\"#de77ae\"],[0.3,\"#f1b6da\"],[0.4,\"#fde0ef\"],[0.5,\"#f7f7f7\"],[0.6,\"#e6f5d0\"],[0.7,\"#b8e186\"],[0.8,\"#7fbc41\"],[0.9,\"#4d9221\"],[1,\"#276419\"]],\"sequential\":[[0.0,\"#0d0887\"],[0.1111111111111111,\"#46039f\"],[0.2222222222222222,\"#7201a8\"],[0.3333333333333333,\"#9c179e\"],[0.4444444444444444,\"#bd3786\"],[0.5555555555555556,\"#d8576b\"],[0.6666666666666666,\"#ed7953\"],[0.7777777777777778,\"#fb9f3a\"],[0.8888888888888888,\"#fdca26\"],[1.0,\"#f0f921\"]],\"sequentialminus\":[[0.0,\"#0d0887\"],[0.1111111111111111,\"#46039f\"],[0.2222222222222222,\"#7201a8\"],[0.3333333333333333,\"#9c179e\"],[0.4444444444444444,\"#bd3786\"],[0.5555555555555556,\"#d8576b\"],[0.6666666666666666,\"#ed7953\"],[0.7777777777777778,\"#fb9f3a\"],[0.8888888888888888,\"#fdca26\"],[1.0,\"#f0f921\"]]},\"colorway\":[\"#636efa\",\"#EF553B\",\"#00cc96\",\"#ab63fa\",\"#FFA15A\",\"#19d3f3\",\"#FF6692\",\"#B6E880\",\"#FF97FF\",\"#FECB52\"],\"font\":{\"color\":\"#2a3f5f\"},\"geo\":{\"bgcolor\":\"white\",\"lakecolor\":\"white\",\"landcolor\":\"#E5ECF6\",\"showlakes\":true,\"showland\":true,\"subunitcolor\":\"white\"},\"hoverlabel\":{\"align\":\"left\"},\"hovermode\":\"closest\",\"mapbox\":{\"style\":\"light\"},\"paper_bgcolor\":\"white\",\"plot_bgcolor\":\"#E5ECF6\",\"polar\":{\"angularaxis\":{\"gridcolor\":\"white\",\"linecolor\":\"white\",\"ticks\":\"\"},\"bgcolor\":\"#E5ECF6\",\"radialaxis\":{\"gridcolor\":\"white\",\"linecolor\":\"white\",\"ticks\":\"\"}},\"scene\":{\"xaxis\":{\"backgroundcolor\":\"#E5ECF6\",\"gridcolor\":\"white\",\"gridwidth\":2,\"linecolor\":\"white\",\"showbackground\":true,\"ticks\":\"\",\"zerolinecolor\":\"white\"},\"yaxis\":{\"backgroundcolor\":\"#E5ECF6\",\"gridcolor\":\"white\",\"gridwidth\":2,\"linecolor\":\"white\",\"showbackground\":true,\"ticks\":\"\",\"zerolinecolor\":\"white\"},\"zaxis\":{\"backgroundcolor\":\"#E5ECF6\",\"gridcolor\":\"white\",\"gridwidth\":2,\"linecolor\":\"white\",\"showbackground\":true,\"ticks\":\"\",\"zerolinecolor\":\"white\"}},\"shapedefaults\":{\"line\":{\"color\":\"#2a3f5f\"}},\"ternary\":{\"aaxis\":{\"gridcolor\":\"white\",\"linecolor\":\"white\",\"ticks\":\"\"},\"baxis\":{\"gridcolor\":\"white\",\"linecolor\":\"white\",\"ticks\":\"\"},\"bgcolor\":\"#E5ECF6\",\"caxis\":{\"gridcolor\":\"white\",\"linecolor\":\"white\",\"ticks\":\"\"}},\"title\":{\"x\":0.05},\"xaxis\":{\"automargin\":true,\"gridcolor\":\"white\",\"linecolor\":\"white\",\"ticks\":\"\",\"title\":{\"standoff\":15},\"zerolinecolor\":\"white\",\"zerolinewidth\":2},\"yaxis\":{\"automargin\":true,\"gridcolor\":\"white\",\"linecolor\":\"white\",\"ticks\":\"\",\"title\":{\"standoff\":15},\"zerolinecolor\":\"white\",\"zerolinewidth\":2}}},\"xaxis\":{\"anchor\":\"y\",\"domain\":[0.0,1.0],\"title\":{\"text\":\"test preparation course\"}},\"yaxis\":{\"anchor\":\"x\",\"domain\":[0.0,1.0],\"title\":{\"text\":\"count\"}},\"legend\":{\"title\":{\"text\":\"passed_in_writing\"},\"tracegroupgap\":0},\"margin\":{\"t\":60},\"barmode\":\"relative\"},                        {\"responsive\": true}                    ).then(function(){\n",
       "                            \n",
       "var gd = document.getElementById('db81fd73-e45d-4701-97a5-3d6ae324e050');\n",
       "var x = new MutationObserver(function (mutations, observer) {{\n",
       "        var display = window.getComputedStyle(gd).display;\n",
       "        if (!display || display === 'none') {{\n",
       "            console.log([gd, 'removed!']);\n",
       "            Plotly.purge(gd);\n",
       "            observer.disconnect();\n",
       "        }}\n",
       "}});\n",
       "\n",
       "// Listen for the removal of the full notebook cells\n",
       "var notebookContainer = gd.closest('#notebook-container');\n",
       "if (notebookContainer) {{\n",
       "    x.observe(notebookContainer, {childList: true});\n",
       "}}\n",
       "\n",
       "// Listen for the clearing of the current output cell\n",
       "var outputEl = gd.closest('.output');\n",
       "if (outputEl) {{\n",
       "    x.observe(outputEl, {childList: true});\n",
       "}}\n",
       "\n",
       "                        })                };                });            </script>        </div>"
      ]
     },
     "metadata": {},
     "output_type": "display_data"
    }
   ],
   "source": [
    "px.histogram(dataset, x=\"test preparation course\", color=\"passed_in_writing\")"
   ]
  },
  {
   "cell_type": "markdown",
   "id": "c81f1adf",
   "metadata": {},
   "source": [
    "So we say that almost all the students have passed the writing exam. Although all the students those have completed the preparation passed the exam"
   ]
  },
  {
   "cell_type": "code",
   "execution_count": 42,
   "id": "06293242",
   "metadata": {},
   "outputs": [],
   "source": [
    "dataset[\"Result\"] = np.where(dataset[\"Percentage\"]> passing_marks, 'Pass', \"Fale\")"
   ]
  },
  {
   "cell_type": "code",
   "execution_count": 51,
   "id": "90b66e4e",
   "metadata": {},
   "outputs": [
    {
     "data": {
      "text/plain": [
       "Pass    985\n",
       "Fale     15\n",
       "Name: Result, dtype: int64"
      ]
     },
     "execution_count": 51,
     "metadata": {},
     "output_type": "execute_result"
    }
   ],
   "source": [
    "dataset[\"Result\"].value_counts()"
   ]
  },
  {
   "cell_type": "code",
   "execution_count": 57,
   "id": "b409912c",
   "metadata": {},
   "outputs": [
    {
     "data": {
      "application/vnd.plotly.v1+json": {
       "config": {
        "plotlyServerURL": "https://plot.ly"
       },
       "data": [
        {
         "alignmentgroup": "True",
         "bingroup": "x",
         "hovertemplate": "gender=female<br>Result=%{x}<br>count=%{y}<extra></extra>",
         "legendgroup": "female",
         "marker": {
          "color": "#636efa",
          "pattern": {
           "shape": ""
          }
         },
         "name": "female",
         "offsetgroup": "female",
         "orientation": "v",
         "showlegend": true,
         "type": "histogram",
         "x": [
          "Pass",
          "Pass",
          "Pass",
          "Pass",
          "Pass",
          "Pass",
          "Pass",
          "Pass",
          "Pass",
          "Fale",
          "Pass",
          "Pass",
          "Pass",
          "Pass",
          "Pass",
          "Pass",
          "Pass",
          "Pass",
          "Pass",
          "Pass",
          "Pass",
          "Pass",
          "Pass",
          "Pass",
          "Pass",
          "Pass",
          "Pass",
          "Pass",
          "Pass",
          "Pass",
          "Fale",
          "Pass",
          "Pass",
          "Pass",
          "Pass",
          "Pass",
          "Pass",
          "Pass",
          "Pass",
          "Pass",
          "Pass",
          "Pass",
          "Pass",
          "Pass",
          "Pass",
          "Pass",
          "Pass",
          "Pass",
          "Pass",
          "Pass",
          "Pass",
          "Pass",
          "Pass",
          "Pass",
          "Pass",
          "Pass",
          "Pass",
          "Pass",
          "Pass",
          "Pass",
          "Pass",
          "Pass",
          "Pass",
          "Pass",
          "Pass",
          "Pass",
          "Pass",
          "Pass",
          "Pass",
          "Pass",
          "Pass",
          "Fale",
          "Pass",
          "Pass",
          "Pass",
          "Pass",
          "Pass",
          "Pass",
          "Pass",
          "Pass",
          "Pass",
          "Pass",
          "Pass",
          "Pass",
          "Pass",
          "Pass",
          "Pass",
          "Pass",
          "Pass",
          "Pass",
          "Pass",
          "Pass",
          "Pass",
          "Pass",
          "Pass",
          "Pass",
          "Pass",
          "Pass",
          "Pass",
          "Pass",
          "Pass",
          "Pass",
          "Pass",
          "Pass",
          "Pass",
          "Pass",
          "Pass",
          "Pass",
          "Pass",
          "Pass",
          "Pass",
          "Pass",
          "Pass",
          "Pass",
          "Pass",
          "Pass",
          "Pass",
          "Pass",
          "Pass",
          "Pass",
          "Pass",
          "Pass",
          "Pass",
          "Pass",
          "Pass",
          "Pass",
          "Pass",
          "Pass",
          "Pass",
          "Pass",
          "Pass",
          "Pass",
          "Pass",
          "Pass",
          "Pass",
          "Pass",
          "Pass",
          "Pass",
          "Pass",
          "Pass",
          "Pass",
          "Pass",
          "Pass",
          "Pass",
          "Pass",
          "Pass",
          "Pass",
          "Pass",
          "Pass",
          "Pass",
          "Pass",
          "Pass",
          "Pass",
          "Pass",
          "Pass",
          "Pass",
          "Pass",
          "Pass",
          "Pass",
          "Pass",
          "Pass",
          "Fale",
          "Pass",
          "Pass",
          "Pass",
          "Pass",
          "Pass",
          "Pass",
          "Pass",
          "Pass",
          "Pass",
          "Pass",
          "Pass",
          "Pass",
          "Pass",
          "Pass",
          "Fale",
          "Pass",
          "Pass",
          "Pass",
          "Pass",
          "Pass",
          "Pass",
          "Pass",
          "Pass",
          "Pass",
          "Pass",
          "Pass",
          "Pass",
          "Pass",
          "Pass",
          "Pass",
          "Pass",
          "Pass",
          "Pass",
          "Pass",
          "Pass",
          "Pass",
          "Pass",
          "Pass",
          "Pass",
          "Pass",
          "Pass",
          "Pass",
          "Pass",
          "Pass",
          "Pass",
          "Pass",
          "Pass",
          "Pass",
          "Pass",
          "Pass",
          "Pass",
          "Pass",
          "Pass",
          "Pass",
          "Pass",
          "Pass",
          "Pass",
          "Pass",
          "Pass",
          "Pass",
          "Pass",
          "Pass",
          "Pass",
          "Pass",
          "Fale",
          "Pass",
          "Pass",
          "Pass",
          "Pass",
          "Pass",
          "Pass",
          "Pass",
          "Pass",
          "Pass",
          "Pass",
          "Pass",
          "Pass",
          "Pass",
          "Pass",
          "Pass",
          "Pass",
          "Pass",
          "Pass",
          "Pass",
          "Pass",
          "Pass",
          "Pass",
          "Pass",
          "Pass",
          "Pass",
          "Pass",
          "Pass",
          "Pass",
          "Pass",
          "Pass",
          "Pass",
          "Pass",
          "Pass",
          "Pass",
          "Pass",
          "Pass",
          "Pass",
          "Pass",
          "Pass",
          "Pass",
          "Pass",
          "Pass",
          "Pass",
          "Pass",
          "Pass",
          "Pass",
          "Pass",
          "Pass",
          "Pass",
          "Pass",
          "Pass",
          "Pass",
          "Pass",
          "Pass",
          "Pass",
          "Pass",
          "Pass",
          "Pass",
          "Pass",
          "Pass",
          "Pass",
          "Pass",
          "Pass",
          "Pass",
          "Pass",
          "Pass",
          "Pass",
          "Pass",
          "Pass",
          "Pass",
          "Pass",
          "Pass",
          "Pass",
          "Pass",
          "Pass",
          "Pass",
          "Pass",
          "Fale",
          "Pass",
          "Pass",
          "Pass",
          "Pass",
          "Pass",
          "Pass",
          "Pass",
          "Pass",
          "Pass",
          "Pass",
          "Pass",
          "Pass",
          "Pass",
          "Pass",
          "Pass",
          "Pass",
          "Pass",
          "Pass",
          "Pass",
          "Pass",
          "Pass",
          "Pass",
          "Pass",
          "Pass",
          "Pass",
          "Pass",
          "Pass",
          "Pass",
          "Pass",
          "Pass",
          "Pass",
          "Pass",
          "Pass",
          "Pass",
          "Pass",
          "Pass",
          "Pass",
          "Pass",
          "Pass",
          "Pass",
          "Pass",
          "Pass",
          "Pass",
          "Pass",
          "Pass",
          "Pass",
          "Pass",
          "Pass",
          "Pass",
          "Pass",
          "Pass",
          "Pass",
          "Pass",
          "Pass",
          "Pass",
          "Pass",
          "Pass",
          "Pass",
          "Pass",
          "Pass",
          "Pass",
          "Pass",
          "Pass",
          "Pass",
          "Pass",
          "Pass",
          "Pass",
          "Pass",
          "Pass",
          "Pass",
          "Pass",
          "Pass",
          "Pass",
          "Pass",
          "Pass",
          "Pass",
          "Pass",
          "Pass",
          "Pass",
          "Pass",
          "Pass",
          "Pass",
          "Pass",
          "Pass",
          "Pass",
          "Pass",
          "Pass",
          "Pass",
          "Pass",
          "Pass",
          "Pass",
          "Pass",
          "Pass",
          "Pass",
          "Pass",
          "Pass",
          "Pass",
          "Pass",
          "Pass",
          "Pass",
          "Fale",
          "Pass",
          "Pass",
          "Pass",
          "Pass",
          "Pass",
          "Pass",
          "Pass",
          "Pass",
          "Pass",
          "Pass",
          "Pass",
          "Pass",
          "Pass",
          "Pass",
          "Pass",
          "Pass",
          "Pass",
          "Pass",
          "Pass",
          "Pass",
          "Pass",
          "Pass",
          "Pass",
          "Pass",
          "Pass",
          "Pass",
          "Pass",
          "Pass",
          "Pass",
          "Pass",
          "Pass",
          "Pass",
          "Pass",
          "Pass",
          "Pass",
          "Pass",
          "Pass",
          "Pass",
          "Pass",
          "Pass",
          "Pass",
          "Pass",
          "Pass",
          "Pass",
          "Pass",
          "Pass",
          "Pass",
          "Pass",
          "Pass",
          "Pass",
          "Pass",
          "Pass",
          "Pass",
          "Pass",
          "Pass",
          "Pass",
          "Pass",
          "Pass",
          "Pass",
          "Pass",
          "Pass",
          "Pass",
          "Pass",
          "Pass",
          "Pass",
          "Pass",
          "Pass",
          "Pass",
          "Pass",
          "Pass",
          "Pass",
          "Pass",
          "Pass",
          "Pass",
          "Pass",
          "Pass",
          "Pass",
          "Pass",
          "Pass",
          "Pass",
          "Pass",
          "Pass",
          "Pass",
          "Pass",
          "Pass",
          "Pass",
          "Pass",
          "Pass",
          "Pass",
          "Pass",
          "Pass",
          "Pass",
          "Pass",
          "Pass",
          "Pass",
          "Pass",
          "Pass",
          "Pass",
          "Pass",
          "Fale",
          "Pass",
          "Pass",
          "Pass",
          "Pass",
          "Pass",
          "Pass",
          "Pass",
          "Pass",
          "Pass",
          "Pass",
          "Pass",
          "Pass"
         ],
         "xaxis": "x",
         "yaxis": "y"
        },
        {
         "alignmentgroup": "True",
         "bingroup": "x",
         "hovertemplate": "gender=male<br>Result=%{x}<br>count=%{y}<extra></extra>",
         "legendgroup": "male",
         "marker": {
          "color": "#EF553B",
          "pattern": {
           "shape": ""
          }
         },
         "name": "male",
         "offsetgroup": "male",
         "orientation": "v",
         "showlegend": true,
         "type": "histogram",
         "x": [
          "Pass",
          "Pass",
          "Pass",
          "Pass",
          "Pass",
          "Pass",
          "Pass",
          "Pass",
          "Pass",
          "Pass",
          "Pass",
          "Pass",
          "Pass",
          "Pass",
          "Pass",
          "Pass",
          "Pass",
          "Pass",
          "Pass",
          "Pass",
          "Pass",
          "Pass",
          "Pass",
          "Pass",
          "Pass",
          "Pass",
          "Pass",
          "Pass",
          "Pass",
          "Pass",
          "Pass",
          "Pass",
          "Pass",
          "Pass",
          "Pass",
          "Pass",
          "Pass",
          "Pass",
          "Pass",
          "Fale",
          "Pass",
          "Pass",
          "Pass",
          "Pass",
          "Pass",
          "Fale",
          "Pass",
          "Pass",
          "Pass",
          "Pass",
          "Pass",
          "Pass",
          "Pass",
          "Pass",
          "Pass",
          "Pass",
          "Pass",
          "Pass",
          "Pass",
          "Pass",
          "Pass",
          "Pass",
          "Pass",
          "Pass",
          "Pass",
          "Pass",
          "Pass",
          "Pass",
          "Pass",
          "Pass",
          "Pass",
          "Pass",
          "Pass",
          "Pass",
          "Pass",
          "Pass",
          "Pass",
          "Pass",
          "Pass",
          "Pass",
          "Pass",
          "Pass",
          "Pass",
          "Pass",
          "Pass",
          "Pass",
          "Pass",
          "Pass",
          "Pass",
          "Pass",
          "Pass",
          "Pass",
          "Pass",
          "Pass",
          "Pass",
          "Pass",
          "Pass",
          "Pass",
          "Pass",
          "Pass",
          "Pass",
          "Pass",
          "Pass",
          "Pass",
          "Pass",
          "Pass",
          "Fale",
          "Pass",
          "Pass",
          "Pass",
          "Pass",
          "Pass",
          "Pass",
          "Pass",
          "Pass",
          "Pass",
          "Pass",
          "Pass",
          "Pass",
          "Pass",
          "Pass",
          "Pass",
          "Pass",
          "Pass",
          "Pass",
          "Pass",
          "Pass",
          "Pass",
          "Pass",
          "Pass",
          "Pass",
          "Pass",
          "Pass",
          "Pass",
          "Pass",
          "Pass",
          "Pass",
          "Pass",
          "Pass",
          "Pass",
          "Pass",
          "Pass",
          "Pass",
          "Pass",
          "Pass",
          "Pass",
          "Pass",
          "Pass",
          "Pass",
          "Pass",
          "Pass",
          "Pass",
          "Pass",
          "Pass",
          "Pass",
          "Pass",
          "Pass",
          "Pass",
          "Pass",
          "Pass",
          "Pass",
          "Pass",
          "Pass",
          "Pass",
          "Pass",
          "Pass",
          "Pass",
          "Pass",
          "Pass",
          "Fale",
          "Pass",
          "Pass",
          "Pass",
          "Pass",
          "Pass",
          "Pass",
          "Pass",
          "Pass",
          "Pass",
          "Pass",
          "Pass",
          "Pass",
          "Pass",
          "Pass",
          "Pass",
          "Pass",
          "Pass",
          "Pass",
          "Pass",
          "Pass",
          "Pass",
          "Pass",
          "Pass",
          "Pass",
          "Pass",
          "Pass",
          "Pass",
          "Pass",
          "Pass",
          "Pass",
          "Pass",
          "Pass",
          "Pass",
          "Pass",
          "Pass",
          "Pass",
          "Pass",
          "Pass",
          "Pass",
          "Pass",
          "Pass",
          "Pass",
          "Pass",
          "Pass",
          "Pass",
          "Pass",
          "Pass",
          "Pass",
          "Pass",
          "Pass",
          "Pass",
          "Pass",
          "Pass",
          "Pass",
          "Pass",
          "Pass",
          "Pass",
          "Pass",
          "Pass",
          "Pass",
          "Pass",
          "Pass",
          "Pass",
          "Pass",
          "Pass",
          "Pass",
          "Pass",
          "Pass",
          "Pass",
          "Pass",
          "Pass",
          "Pass",
          "Pass",
          "Pass",
          "Pass",
          "Pass",
          "Pass",
          "Pass",
          "Pass",
          "Pass",
          "Pass",
          "Pass",
          "Pass",
          "Pass",
          "Pass",
          "Pass",
          "Pass",
          "Pass",
          "Pass",
          "Pass",
          "Pass",
          "Pass",
          "Pass",
          "Pass",
          "Pass",
          "Pass",
          "Pass",
          "Pass",
          "Pass",
          "Pass",
          "Pass",
          "Pass",
          "Pass",
          "Pass",
          "Pass",
          "Pass",
          "Pass",
          "Pass",
          "Pass",
          "Pass",
          "Pass",
          "Pass",
          "Pass",
          "Pass",
          "Pass",
          "Pass",
          "Pass",
          "Pass",
          "Pass",
          "Pass",
          "Pass",
          "Pass",
          "Pass",
          "Pass",
          "Pass",
          "Fale",
          "Pass",
          "Pass",
          "Pass",
          "Pass",
          "Pass",
          "Pass",
          "Pass",
          "Pass",
          "Pass",
          "Pass",
          "Pass",
          "Pass",
          "Pass",
          "Pass",
          "Pass",
          "Pass",
          "Pass",
          "Pass",
          "Pass",
          "Pass",
          "Pass",
          "Pass",
          "Pass",
          "Pass",
          "Pass",
          "Pass",
          "Pass",
          "Pass",
          "Pass",
          "Pass",
          "Pass",
          "Pass",
          "Pass",
          "Pass",
          "Pass",
          "Pass",
          "Pass",
          "Pass",
          "Pass",
          "Pass",
          "Pass",
          "Pass",
          "Pass",
          "Pass",
          "Pass",
          "Pass",
          "Pass",
          "Pass",
          "Pass",
          "Pass",
          "Pass",
          "Pass",
          "Pass",
          "Pass",
          "Pass",
          "Pass",
          "Pass",
          "Pass",
          "Pass",
          "Pass",
          "Pass",
          "Pass",
          "Pass",
          "Pass",
          "Pass",
          "Pass",
          "Pass",
          "Pass",
          "Pass",
          "Pass",
          "Pass",
          "Pass",
          "Pass",
          "Pass",
          "Pass",
          "Pass",
          "Pass",
          "Pass",
          "Pass",
          "Pass",
          "Pass",
          "Pass",
          "Pass",
          "Pass",
          "Pass",
          "Pass",
          "Pass",
          "Pass",
          "Pass",
          "Pass",
          "Pass",
          "Pass",
          "Pass",
          "Pass",
          "Pass",
          "Pass",
          "Pass",
          "Pass",
          "Pass",
          "Pass",
          "Pass",
          "Pass",
          "Pass",
          "Pass",
          "Pass",
          "Pass",
          "Pass",
          "Pass",
          "Pass",
          "Pass",
          "Pass",
          "Pass",
          "Pass",
          "Pass",
          "Pass",
          "Pass",
          "Pass",
          "Pass",
          "Pass",
          "Pass",
          "Pass",
          "Pass",
          "Pass",
          "Pass",
          "Pass",
          "Pass",
          "Pass",
          "Pass",
          "Pass",
          "Pass",
          "Pass",
          "Pass",
          "Pass",
          "Pass",
          "Pass",
          "Pass",
          "Pass",
          "Pass",
          "Fale",
          "Pass",
          "Pass",
          "Pass",
          "Pass",
          "Pass",
          "Pass",
          "Pass",
          "Pass",
          "Pass",
          "Pass",
          "Pass",
          "Pass",
          "Pass",
          "Pass",
          "Pass",
          "Pass",
          "Pass",
          "Pass",
          "Pass",
          "Pass",
          "Pass",
          "Pass",
          "Pass",
          "Pass",
          "Pass",
          "Pass",
          "Pass",
          "Pass",
          "Pass",
          "Pass",
          "Pass",
          "Pass",
          "Pass",
          "Pass",
          "Pass",
          "Pass",
          "Pass",
          "Pass",
          "Pass",
          "Pass",
          "Pass",
          "Pass",
          "Pass",
          "Pass",
          "Pass",
          "Pass",
          "Pass"
         ],
         "xaxis": "x",
         "yaxis": "y"
        }
       ],
       "layout": {
        "barmode": "relative",
        "legend": {
         "title": {
          "text": "gender"
         },
         "tracegroupgap": 0
        },
        "margin": {
         "t": 60
        },
        "template": {
         "data": {
          "bar": [
           {
            "error_x": {
             "color": "#2a3f5f"
            },
            "error_y": {
             "color": "#2a3f5f"
            },
            "marker": {
             "line": {
              "color": "#E5ECF6",
              "width": 0.5
             },
             "pattern": {
              "fillmode": "overlay",
              "size": 10,
              "solidity": 0.2
             }
            },
            "type": "bar"
           }
          ],
          "barpolar": [
           {
            "marker": {
             "line": {
              "color": "#E5ECF6",
              "width": 0.5
             },
             "pattern": {
              "fillmode": "overlay",
              "size": 10,
              "solidity": 0.2
             }
            },
            "type": "barpolar"
           }
          ],
          "carpet": [
           {
            "aaxis": {
             "endlinecolor": "#2a3f5f",
             "gridcolor": "white",
             "linecolor": "white",
             "minorgridcolor": "white",
             "startlinecolor": "#2a3f5f"
            },
            "baxis": {
             "endlinecolor": "#2a3f5f",
             "gridcolor": "white",
             "linecolor": "white",
             "minorgridcolor": "white",
             "startlinecolor": "#2a3f5f"
            },
            "type": "carpet"
           }
          ],
          "choropleth": [
           {
            "colorbar": {
             "outlinewidth": 0,
             "ticks": ""
            },
            "type": "choropleth"
           }
          ],
          "contour": [
           {
            "colorbar": {
             "outlinewidth": 0,
             "ticks": ""
            },
            "colorscale": [
             [
              0,
              "#0d0887"
             ],
             [
              0.1111111111111111,
              "#46039f"
             ],
             [
              0.2222222222222222,
              "#7201a8"
             ],
             [
              0.3333333333333333,
              "#9c179e"
             ],
             [
              0.4444444444444444,
              "#bd3786"
             ],
             [
              0.5555555555555556,
              "#d8576b"
             ],
             [
              0.6666666666666666,
              "#ed7953"
             ],
             [
              0.7777777777777778,
              "#fb9f3a"
             ],
             [
              0.8888888888888888,
              "#fdca26"
             ],
             [
              1,
              "#f0f921"
             ]
            ],
            "type": "contour"
           }
          ],
          "contourcarpet": [
           {
            "colorbar": {
             "outlinewidth": 0,
             "ticks": ""
            },
            "type": "contourcarpet"
           }
          ],
          "heatmap": [
           {
            "colorbar": {
             "outlinewidth": 0,
             "ticks": ""
            },
            "colorscale": [
             [
              0,
              "#0d0887"
             ],
             [
              0.1111111111111111,
              "#46039f"
             ],
             [
              0.2222222222222222,
              "#7201a8"
             ],
             [
              0.3333333333333333,
              "#9c179e"
             ],
             [
              0.4444444444444444,
              "#bd3786"
             ],
             [
              0.5555555555555556,
              "#d8576b"
             ],
             [
              0.6666666666666666,
              "#ed7953"
             ],
             [
              0.7777777777777778,
              "#fb9f3a"
             ],
             [
              0.8888888888888888,
              "#fdca26"
             ],
             [
              1,
              "#f0f921"
             ]
            ],
            "type": "heatmap"
           }
          ],
          "heatmapgl": [
           {
            "colorbar": {
             "outlinewidth": 0,
             "ticks": ""
            },
            "colorscale": [
             [
              0,
              "#0d0887"
             ],
             [
              0.1111111111111111,
              "#46039f"
             ],
             [
              0.2222222222222222,
              "#7201a8"
             ],
             [
              0.3333333333333333,
              "#9c179e"
             ],
             [
              0.4444444444444444,
              "#bd3786"
             ],
             [
              0.5555555555555556,
              "#d8576b"
             ],
             [
              0.6666666666666666,
              "#ed7953"
             ],
             [
              0.7777777777777778,
              "#fb9f3a"
             ],
             [
              0.8888888888888888,
              "#fdca26"
             ],
             [
              1,
              "#f0f921"
             ]
            ],
            "type": "heatmapgl"
           }
          ],
          "histogram": [
           {
            "marker": {
             "pattern": {
              "fillmode": "overlay",
              "size": 10,
              "solidity": 0.2
             }
            },
            "type": "histogram"
           }
          ],
          "histogram2d": [
           {
            "colorbar": {
             "outlinewidth": 0,
             "ticks": ""
            },
            "colorscale": [
             [
              0,
              "#0d0887"
             ],
             [
              0.1111111111111111,
              "#46039f"
             ],
             [
              0.2222222222222222,
              "#7201a8"
             ],
             [
              0.3333333333333333,
              "#9c179e"
             ],
             [
              0.4444444444444444,
              "#bd3786"
             ],
             [
              0.5555555555555556,
              "#d8576b"
             ],
             [
              0.6666666666666666,
              "#ed7953"
             ],
             [
              0.7777777777777778,
              "#fb9f3a"
             ],
             [
              0.8888888888888888,
              "#fdca26"
             ],
             [
              1,
              "#f0f921"
             ]
            ],
            "type": "histogram2d"
           }
          ],
          "histogram2dcontour": [
           {
            "colorbar": {
             "outlinewidth": 0,
             "ticks": ""
            },
            "colorscale": [
             [
              0,
              "#0d0887"
             ],
             [
              0.1111111111111111,
              "#46039f"
             ],
             [
              0.2222222222222222,
              "#7201a8"
             ],
             [
              0.3333333333333333,
              "#9c179e"
             ],
             [
              0.4444444444444444,
              "#bd3786"
             ],
             [
              0.5555555555555556,
              "#d8576b"
             ],
             [
              0.6666666666666666,
              "#ed7953"
             ],
             [
              0.7777777777777778,
              "#fb9f3a"
             ],
             [
              0.8888888888888888,
              "#fdca26"
             ],
             [
              1,
              "#f0f921"
             ]
            ],
            "type": "histogram2dcontour"
           }
          ],
          "mesh3d": [
           {
            "colorbar": {
             "outlinewidth": 0,
             "ticks": ""
            },
            "type": "mesh3d"
           }
          ],
          "parcoords": [
           {
            "line": {
             "colorbar": {
              "outlinewidth": 0,
              "ticks": ""
             }
            },
            "type": "parcoords"
           }
          ],
          "pie": [
           {
            "automargin": true,
            "type": "pie"
           }
          ],
          "scatter": [
           {
            "marker": {
             "colorbar": {
              "outlinewidth": 0,
              "ticks": ""
             }
            },
            "type": "scatter"
           }
          ],
          "scatter3d": [
           {
            "line": {
             "colorbar": {
              "outlinewidth": 0,
              "ticks": ""
             }
            },
            "marker": {
             "colorbar": {
              "outlinewidth": 0,
              "ticks": ""
             }
            },
            "type": "scatter3d"
           }
          ],
          "scattercarpet": [
           {
            "marker": {
             "colorbar": {
              "outlinewidth": 0,
              "ticks": ""
             }
            },
            "type": "scattercarpet"
           }
          ],
          "scattergeo": [
           {
            "marker": {
             "colorbar": {
              "outlinewidth": 0,
              "ticks": ""
             }
            },
            "type": "scattergeo"
           }
          ],
          "scattergl": [
           {
            "marker": {
             "colorbar": {
              "outlinewidth": 0,
              "ticks": ""
             }
            },
            "type": "scattergl"
           }
          ],
          "scattermapbox": [
           {
            "marker": {
             "colorbar": {
              "outlinewidth": 0,
              "ticks": ""
             }
            },
            "type": "scattermapbox"
           }
          ],
          "scatterpolar": [
           {
            "marker": {
             "colorbar": {
              "outlinewidth": 0,
              "ticks": ""
             }
            },
            "type": "scatterpolar"
           }
          ],
          "scatterpolargl": [
           {
            "marker": {
             "colorbar": {
              "outlinewidth": 0,
              "ticks": ""
             }
            },
            "type": "scatterpolargl"
           }
          ],
          "scatterternary": [
           {
            "marker": {
             "colorbar": {
              "outlinewidth": 0,
              "ticks": ""
             }
            },
            "type": "scatterternary"
           }
          ],
          "surface": [
           {
            "colorbar": {
             "outlinewidth": 0,
             "ticks": ""
            },
            "colorscale": [
             [
              0,
              "#0d0887"
             ],
             [
              0.1111111111111111,
              "#46039f"
             ],
             [
              0.2222222222222222,
              "#7201a8"
             ],
             [
              0.3333333333333333,
              "#9c179e"
             ],
             [
              0.4444444444444444,
              "#bd3786"
             ],
             [
              0.5555555555555556,
              "#d8576b"
             ],
             [
              0.6666666666666666,
              "#ed7953"
             ],
             [
              0.7777777777777778,
              "#fb9f3a"
             ],
             [
              0.8888888888888888,
              "#fdca26"
             ],
             [
              1,
              "#f0f921"
             ]
            ],
            "type": "surface"
           }
          ],
          "table": [
           {
            "cells": {
             "fill": {
              "color": "#EBF0F8"
             },
             "line": {
              "color": "white"
             }
            },
            "header": {
             "fill": {
              "color": "#C8D4E3"
             },
             "line": {
              "color": "white"
             }
            },
            "type": "table"
           }
          ]
         },
         "layout": {
          "annotationdefaults": {
           "arrowcolor": "#2a3f5f",
           "arrowhead": 0,
           "arrowwidth": 1
          },
          "autotypenumbers": "strict",
          "coloraxis": {
           "colorbar": {
            "outlinewidth": 0,
            "ticks": ""
           }
          },
          "colorscale": {
           "diverging": [
            [
             0,
             "#8e0152"
            ],
            [
             0.1,
             "#c51b7d"
            ],
            [
             0.2,
             "#de77ae"
            ],
            [
             0.3,
             "#f1b6da"
            ],
            [
             0.4,
             "#fde0ef"
            ],
            [
             0.5,
             "#f7f7f7"
            ],
            [
             0.6,
             "#e6f5d0"
            ],
            [
             0.7,
             "#b8e186"
            ],
            [
             0.8,
             "#7fbc41"
            ],
            [
             0.9,
             "#4d9221"
            ],
            [
             1,
             "#276419"
            ]
           ],
           "sequential": [
            [
             0,
             "#0d0887"
            ],
            [
             0.1111111111111111,
             "#46039f"
            ],
            [
             0.2222222222222222,
             "#7201a8"
            ],
            [
             0.3333333333333333,
             "#9c179e"
            ],
            [
             0.4444444444444444,
             "#bd3786"
            ],
            [
             0.5555555555555556,
             "#d8576b"
            ],
            [
             0.6666666666666666,
             "#ed7953"
            ],
            [
             0.7777777777777778,
             "#fb9f3a"
            ],
            [
             0.8888888888888888,
             "#fdca26"
            ],
            [
             1,
             "#f0f921"
            ]
           ],
           "sequentialminus": [
            [
             0,
             "#0d0887"
            ],
            [
             0.1111111111111111,
             "#46039f"
            ],
            [
             0.2222222222222222,
             "#7201a8"
            ],
            [
             0.3333333333333333,
             "#9c179e"
            ],
            [
             0.4444444444444444,
             "#bd3786"
            ],
            [
             0.5555555555555556,
             "#d8576b"
            ],
            [
             0.6666666666666666,
             "#ed7953"
            ],
            [
             0.7777777777777778,
             "#fb9f3a"
            ],
            [
             0.8888888888888888,
             "#fdca26"
            ],
            [
             1,
             "#f0f921"
            ]
           ]
          },
          "colorway": [
           "#636efa",
           "#EF553B",
           "#00cc96",
           "#ab63fa",
           "#FFA15A",
           "#19d3f3",
           "#FF6692",
           "#B6E880",
           "#FF97FF",
           "#FECB52"
          ],
          "font": {
           "color": "#2a3f5f"
          },
          "geo": {
           "bgcolor": "white",
           "lakecolor": "white",
           "landcolor": "#E5ECF6",
           "showlakes": true,
           "showland": true,
           "subunitcolor": "white"
          },
          "hoverlabel": {
           "align": "left"
          },
          "hovermode": "closest",
          "mapbox": {
           "style": "light"
          },
          "paper_bgcolor": "white",
          "plot_bgcolor": "#E5ECF6",
          "polar": {
           "angularaxis": {
            "gridcolor": "white",
            "linecolor": "white",
            "ticks": ""
           },
           "bgcolor": "#E5ECF6",
           "radialaxis": {
            "gridcolor": "white",
            "linecolor": "white",
            "ticks": ""
           }
          },
          "scene": {
           "xaxis": {
            "backgroundcolor": "#E5ECF6",
            "gridcolor": "white",
            "gridwidth": 2,
            "linecolor": "white",
            "showbackground": true,
            "ticks": "",
            "zerolinecolor": "white"
           },
           "yaxis": {
            "backgroundcolor": "#E5ECF6",
            "gridcolor": "white",
            "gridwidth": 2,
            "linecolor": "white",
            "showbackground": true,
            "ticks": "",
            "zerolinecolor": "white"
           },
           "zaxis": {
            "backgroundcolor": "#E5ECF6",
            "gridcolor": "white",
            "gridwidth": 2,
            "linecolor": "white",
            "showbackground": true,
            "ticks": "",
            "zerolinecolor": "white"
           }
          },
          "shapedefaults": {
           "line": {
            "color": "#2a3f5f"
           }
          },
          "ternary": {
           "aaxis": {
            "gridcolor": "white",
            "linecolor": "white",
            "ticks": ""
           },
           "baxis": {
            "gridcolor": "white",
            "linecolor": "white",
            "ticks": ""
           },
           "bgcolor": "#E5ECF6",
           "caxis": {
            "gridcolor": "white",
            "linecolor": "white",
            "ticks": ""
           }
          },
          "title": {
           "x": 0.05
          },
          "xaxis": {
           "automargin": true,
           "gridcolor": "white",
           "linecolor": "white",
           "ticks": "",
           "title": {
            "standoff": 15
           },
           "zerolinecolor": "white",
           "zerolinewidth": 2
          },
          "yaxis": {
           "automargin": true,
           "gridcolor": "white",
           "linecolor": "white",
           "ticks": "",
           "title": {
            "standoff": 15
           },
           "zerolinecolor": "white",
           "zerolinewidth": 2
          }
         }
        },
        "xaxis": {
         "anchor": "y",
         "domain": [
          0,
          1
         ],
         "title": {
          "text": "Result"
         }
        },
        "yaxis": {
         "anchor": "x",
         "domain": [
          0,
          1
         ],
         "title": {
          "text": "count"
         }
        }
       }
      },
      "text/html": [
       "<div>                            <div id=\"4ebeafeb-0360-41fa-8c7b-db5ad7b99cbc\" class=\"plotly-graph-div\" style=\"height:525px; width:100%;\"></div>            <script type=\"text/javascript\">                require([\"plotly\"], function(Plotly) {                    window.PLOTLYENV=window.PLOTLYENV || {};                                    if (document.getElementById(\"4ebeafeb-0360-41fa-8c7b-db5ad7b99cbc\")) {                    Plotly.newPlot(                        \"4ebeafeb-0360-41fa-8c7b-db5ad7b99cbc\",                        [{\"alignmentgroup\":\"True\",\"bingroup\":\"x\",\"hovertemplate\":\"gender=female<br>Result=%{x}<br>count=%{y}<extra></extra>\",\"legendgroup\":\"female\",\"marker\":{\"color\":\"#636efa\",\"pattern\":{\"shape\":\"\"}},\"name\":\"female\",\"offsetgroup\":\"female\",\"orientation\":\"v\",\"showlegend\":true,\"x\":[\"Pass\",\"Pass\",\"Pass\",\"Pass\",\"Pass\",\"Pass\",\"Pass\",\"Pass\",\"Pass\",\"Fale\",\"Pass\",\"Pass\",\"Pass\",\"Pass\",\"Pass\",\"Pass\",\"Pass\",\"Pass\",\"Pass\",\"Pass\",\"Pass\",\"Pass\",\"Pass\",\"Pass\",\"Pass\",\"Pass\",\"Pass\",\"Pass\",\"Pass\",\"Pass\",\"Fale\",\"Pass\",\"Pass\",\"Pass\",\"Pass\",\"Pass\",\"Pass\",\"Pass\",\"Pass\",\"Pass\",\"Pass\",\"Pass\",\"Pass\",\"Pass\",\"Pass\",\"Pass\",\"Pass\",\"Pass\",\"Pass\",\"Pass\",\"Pass\",\"Pass\",\"Pass\",\"Pass\",\"Pass\",\"Pass\",\"Pass\",\"Pass\",\"Pass\",\"Pass\",\"Pass\",\"Pass\",\"Pass\",\"Pass\",\"Pass\",\"Pass\",\"Pass\",\"Pass\",\"Pass\",\"Pass\",\"Pass\",\"Fale\",\"Pass\",\"Pass\",\"Pass\",\"Pass\",\"Pass\",\"Pass\",\"Pass\",\"Pass\",\"Pass\",\"Pass\",\"Pass\",\"Pass\",\"Pass\",\"Pass\",\"Pass\",\"Pass\",\"Pass\",\"Pass\",\"Pass\",\"Pass\",\"Pass\",\"Pass\",\"Pass\",\"Pass\",\"Pass\",\"Pass\",\"Pass\",\"Pass\",\"Pass\",\"Pass\",\"Pass\",\"Pass\",\"Pass\",\"Pass\",\"Pass\",\"Pass\",\"Pass\",\"Pass\",\"Pass\",\"Pass\",\"Pass\",\"Pass\",\"Pass\",\"Pass\",\"Pass\",\"Pass\",\"Pass\",\"Pass\",\"Pass\",\"Pass\",\"Pass\",\"Pass\",\"Pass\",\"Pass\",\"Pass\",\"Pass\",\"Pass\",\"Pass\",\"Pass\",\"Pass\",\"Pass\",\"Pass\",\"Pass\",\"Pass\",\"Pass\",\"Pass\",\"Pass\",\"Pass\",\"Pass\",\"Pass\",\"Pass\",\"Pass\",\"Pass\",\"Pass\",\"Pass\",\"Pass\",\"Pass\",\"Pass\",\"Pass\",\"Pass\",\"Pass\",\"Pass\",\"Pass\",\"Pass\",\"Pass\",\"Pass\",\"Pass\",\"Pass\",\"Pass\",\"Fale\",\"Pass\",\"Pass\",\"Pass\",\"Pass\",\"Pass\",\"Pass\",\"Pass\",\"Pass\",\"Pass\",\"Pass\",\"Pass\",\"Pass\",\"Pass\",\"Pass\",\"Fale\",\"Pass\",\"Pass\",\"Pass\",\"Pass\",\"Pass\",\"Pass\",\"Pass\",\"Pass\",\"Pass\",\"Pass\",\"Pass\",\"Pass\",\"Pass\",\"Pass\",\"Pass\",\"Pass\",\"Pass\",\"Pass\",\"Pass\",\"Pass\",\"Pass\",\"Pass\",\"Pass\",\"Pass\",\"Pass\",\"Pass\",\"Pass\",\"Pass\",\"Pass\",\"Pass\",\"Pass\",\"Pass\",\"Pass\",\"Pass\",\"Pass\",\"Pass\",\"Pass\",\"Pass\",\"Pass\",\"Pass\",\"Pass\",\"Pass\",\"Pass\",\"Pass\",\"Pass\",\"Pass\",\"Pass\",\"Pass\",\"Pass\",\"Fale\",\"Pass\",\"Pass\",\"Pass\",\"Pass\",\"Pass\",\"Pass\",\"Pass\",\"Pass\",\"Pass\",\"Pass\",\"Pass\",\"Pass\",\"Pass\",\"Pass\",\"Pass\",\"Pass\",\"Pass\",\"Pass\",\"Pass\",\"Pass\",\"Pass\",\"Pass\",\"Pass\",\"Pass\",\"Pass\",\"Pass\",\"Pass\",\"Pass\",\"Pass\",\"Pass\",\"Pass\",\"Pass\",\"Pass\",\"Pass\",\"Pass\",\"Pass\",\"Pass\",\"Pass\",\"Pass\",\"Pass\",\"Pass\",\"Pass\",\"Pass\",\"Pass\",\"Pass\",\"Pass\",\"Pass\",\"Pass\",\"Pass\",\"Pass\",\"Pass\",\"Pass\",\"Pass\",\"Pass\",\"Pass\",\"Pass\",\"Pass\",\"Pass\",\"Pass\",\"Pass\",\"Pass\",\"Pass\",\"Pass\",\"Pass\",\"Pass\",\"Pass\",\"Pass\",\"Pass\",\"Pass\",\"Pass\",\"Pass\",\"Pass\",\"Pass\",\"Pass\",\"Pass\",\"Pass\",\"Pass\",\"Fale\",\"Pass\",\"Pass\",\"Pass\",\"Pass\",\"Pass\",\"Pass\",\"Pass\",\"Pass\",\"Pass\",\"Pass\",\"Pass\",\"Pass\",\"Pass\",\"Pass\",\"Pass\",\"Pass\",\"Pass\",\"Pass\",\"Pass\",\"Pass\",\"Pass\",\"Pass\",\"Pass\",\"Pass\",\"Pass\",\"Pass\",\"Pass\",\"Pass\",\"Pass\",\"Pass\",\"Pass\",\"Pass\",\"Pass\",\"Pass\",\"Pass\",\"Pass\",\"Pass\",\"Pass\",\"Pass\",\"Pass\",\"Pass\",\"Pass\",\"Pass\",\"Pass\",\"Pass\",\"Pass\",\"Pass\",\"Pass\",\"Pass\",\"Pass\",\"Pass\",\"Pass\",\"Pass\",\"Pass\",\"Pass\",\"Pass\",\"Pass\",\"Pass\",\"Pass\",\"Pass\",\"Pass\",\"Pass\",\"Pass\",\"Pass\",\"Pass\",\"Pass\",\"Pass\",\"Pass\",\"Pass\",\"Pass\",\"Pass\",\"Pass\",\"Pass\",\"Pass\",\"Pass\",\"Pass\",\"Pass\",\"Pass\",\"Pass\",\"Pass\",\"Pass\",\"Pass\",\"Pass\",\"Pass\",\"Pass\",\"Pass\",\"Pass\",\"Pass\",\"Pass\",\"Pass\",\"Pass\",\"Pass\",\"Pass\",\"Pass\",\"Pass\",\"Pass\",\"Pass\",\"Pass\",\"Pass\",\"Pass\",\"Fale\",\"Pass\",\"Pass\",\"Pass\",\"Pass\",\"Pass\",\"Pass\",\"Pass\",\"Pass\",\"Pass\",\"Pass\",\"Pass\",\"Pass\",\"Pass\",\"Pass\",\"Pass\",\"Pass\",\"Pass\",\"Pass\",\"Pass\",\"Pass\",\"Pass\",\"Pass\",\"Pass\",\"Pass\",\"Pass\",\"Pass\",\"Pass\",\"Pass\",\"Pass\",\"Pass\",\"Pass\",\"Pass\",\"Pass\",\"Pass\",\"Pass\",\"Pass\",\"Pass\",\"Pass\",\"Pass\",\"Pass\",\"Pass\",\"Pass\",\"Pass\",\"Pass\",\"Pass\",\"Pass\",\"Pass\",\"Pass\",\"Pass\",\"Pass\",\"Pass\",\"Pass\",\"Pass\",\"Pass\",\"Pass\",\"Pass\",\"Pass\",\"Pass\",\"Pass\",\"Pass\",\"Pass\",\"Pass\",\"Pass\",\"Pass\",\"Pass\",\"Pass\",\"Pass\",\"Pass\",\"Pass\",\"Pass\",\"Pass\",\"Pass\",\"Pass\",\"Pass\",\"Pass\",\"Pass\",\"Pass\",\"Pass\",\"Pass\",\"Pass\",\"Pass\",\"Pass\",\"Pass\",\"Pass\",\"Pass\",\"Pass\",\"Pass\",\"Pass\",\"Pass\",\"Pass\",\"Pass\",\"Pass\",\"Pass\",\"Pass\",\"Pass\",\"Pass\",\"Pass\",\"Pass\",\"Pass\",\"Fale\",\"Pass\",\"Pass\",\"Pass\",\"Pass\",\"Pass\",\"Pass\",\"Pass\",\"Pass\",\"Pass\",\"Pass\",\"Pass\",\"Pass\"],\"xaxis\":\"x\",\"yaxis\":\"y\",\"type\":\"histogram\"},{\"alignmentgroup\":\"True\",\"bingroup\":\"x\",\"hovertemplate\":\"gender=male<br>Result=%{x}<br>count=%{y}<extra></extra>\",\"legendgroup\":\"male\",\"marker\":{\"color\":\"#EF553B\",\"pattern\":{\"shape\":\"\"}},\"name\":\"male\",\"offsetgroup\":\"male\",\"orientation\":\"v\",\"showlegend\":true,\"x\":[\"Pass\",\"Pass\",\"Pass\",\"Pass\",\"Pass\",\"Pass\",\"Pass\",\"Pass\",\"Pass\",\"Pass\",\"Pass\",\"Pass\",\"Pass\",\"Pass\",\"Pass\",\"Pass\",\"Pass\",\"Pass\",\"Pass\",\"Pass\",\"Pass\",\"Pass\",\"Pass\",\"Pass\",\"Pass\",\"Pass\",\"Pass\",\"Pass\",\"Pass\",\"Pass\",\"Pass\",\"Pass\",\"Pass\",\"Pass\",\"Pass\",\"Pass\",\"Pass\",\"Pass\",\"Pass\",\"Fale\",\"Pass\",\"Pass\",\"Pass\",\"Pass\",\"Pass\",\"Fale\",\"Pass\",\"Pass\",\"Pass\",\"Pass\",\"Pass\",\"Pass\",\"Pass\",\"Pass\",\"Pass\",\"Pass\",\"Pass\",\"Pass\",\"Pass\",\"Pass\",\"Pass\",\"Pass\",\"Pass\",\"Pass\",\"Pass\",\"Pass\",\"Pass\",\"Pass\",\"Pass\",\"Pass\",\"Pass\",\"Pass\",\"Pass\",\"Pass\",\"Pass\",\"Pass\",\"Pass\",\"Pass\",\"Pass\",\"Pass\",\"Pass\",\"Pass\",\"Pass\",\"Pass\",\"Pass\",\"Pass\",\"Pass\",\"Pass\",\"Pass\",\"Pass\",\"Pass\",\"Pass\",\"Pass\",\"Pass\",\"Pass\",\"Pass\",\"Pass\",\"Pass\",\"Pass\",\"Pass\",\"Pass\",\"Pass\",\"Pass\",\"Pass\",\"Pass\",\"Pass\",\"Fale\",\"Pass\",\"Pass\",\"Pass\",\"Pass\",\"Pass\",\"Pass\",\"Pass\",\"Pass\",\"Pass\",\"Pass\",\"Pass\",\"Pass\",\"Pass\",\"Pass\",\"Pass\",\"Pass\",\"Pass\",\"Pass\",\"Pass\",\"Pass\",\"Pass\",\"Pass\",\"Pass\",\"Pass\",\"Pass\",\"Pass\",\"Pass\",\"Pass\",\"Pass\",\"Pass\",\"Pass\",\"Pass\",\"Pass\",\"Pass\",\"Pass\",\"Pass\",\"Pass\",\"Pass\",\"Pass\",\"Pass\",\"Pass\",\"Pass\",\"Pass\",\"Pass\",\"Pass\",\"Pass\",\"Pass\",\"Pass\",\"Pass\",\"Pass\",\"Pass\",\"Pass\",\"Pass\",\"Pass\",\"Pass\",\"Pass\",\"Pass\",\"Pass\",\"Pass\",\"Pass\",\"Pass\",\"Pass\",\"Fale\",\"Pass\",\"Pass\",\"Pass\",\"Pass\",\"Pass\",\"Pass\",\"Pass\",\"Pass\",\"Pass\",\"Pass\",\"Pass\",\"Pass\",\"Pass\",\"Pass\",\"Pass\",\"Pass\",\"Pass\",\"Pass\",\"Pass\",\"Pass\",\"Pass\",\"Pass\",\"Pass\",\"Pass\",\"Pass\",\"Pass\",\"Pass\",\"Pass\",\"Pass\",\"Pass\",\"Pass\",\"Pass\",\"Pass\",\"Pass\",\"Pass\",\"Pass\",\"Pass\",\"Pass\",\"Pass\",\"Pass\",\"Pass\",\"Pass\",\"Pass\",\"Pass\",\"Pass\",\"Pass\",\"Pass\",\"Pass\",\"Pass\",\"Pass\",\"Pass\",\"Pass\",\"Pass\",\"Pass\",\"Pass\",\"Pass\",\"Pass\",\"Pass\",\"Pass\",\"Pass\",\"Pass\",\"Pass\",\"Pass\",\"Pass\",\"Pass\",\"Pass\",\"Pass\",\"Pass\",\"Pass\",\"Pass\",\"Pass\",\"Pass\",\"Pass\",\"Pass\",\"Pass\",\"Pass\",\"Pass\",\"Pass\",\"Pass\",\"Pass\",\"Pass\",\"Pass\",\"Pass\",\"Pass\",\"Pass\",\"Pass\",\"Pass\",\"Pass\",\"Pass\",\"Pass\",\"Pass\",\"Pass\",\"Pass\",\"Pass\",\"Pass\",\"Pass\",\"Pass\",\"Pass\",\"Pass\",\"Pass\",\"Pass\",\"Pass\",\"Pass\",\"Pass\",\"Pass\",\"Pass\",\"Pass\",\"Pass\",\"Pass\",\"Pass\",\"Pass\",\"Pass\",\"Pass\",\"Pass\",\"Pass\",\"Pass\",\"Pass\",\"Pass\",\"Pass\",\"Pass\",\"Pass\",\"Pass\",\"Pass\",\"Pass\",\"Pass\",\"Fale\",\"Pass\",\"Pass\",\"Pass\",\"Pass\",\"Pass\",\"Pass\",\"Pass\",\"Pass\",\"Pass\",\"Pass\",\"Pass\",\"Pass\",\"Pass\",\"Pass\",\"Pass\",\"Pass\",\"Pass\",\"Pass\",\"Pass\",\"Pass\",\"Pass\",\"Pass\",\"Pass\",\"Pass\",\"Pass\",\"Pass\",\"Pass\",\"Pass\",\"Pass\",\"Pass\",\"Pass\",\"Pass\",\"Pass\",\"Pass\",\"Pass\",\"Pass\",\"Pass\",\"Pass\",\"Pass\",\"Pass\",\"Pass\",\"Pass\",\"Pass\",\"Pass\",\"Pass\",\"Pass\",\"Pass\",\"Pass\",\"Pass\",\"Pass\",\"Pass\",\"Pass\",\"Pass\",\"Pass\",\"Pass\",\"Pass\",\"Pass\",\"Pass\",\"Pass\",\"Pass\",\"Pass\",\"Pass\",\"Pass\",\"Pass\",\"Pass\",\"Pass\",\"Pass\",\"Pass\",\"Pass\",\"Pass\",\"Pass\",\"Pass\",\"Pass\",\"Pass\",\"Pass\",\"Pass\",\"Pass\",\"Pass\",\"Pass\",\"Pass\",\"Pass\",\"Pass\",\"Pass\",\"Pass\",\"Pass\",\"Pass\",\"Pass\",\"Pass\",\"Pass\",\"Pass\",\"Pass\",\"Pass\",\"Pass\",\"Pass\",\"Pass\",\"Pass\",\"Pass\",\"Pass\",\"Pass\",\"Pass\",\"Pass\",\"Pass\",\"Pass\",\"Pass\",\"Pass\",\"Pass\",\"Pass\",\"Pass\",\"Pass\",\"Pass\",\"Pass\",\"Pass\",\"Pass\",\"Pass\",\"Pass\",\"Pass\",\"Pass\",\"Pass\",\"Pass\",\"Pass\",\"Pass\",\"Pass\",\"Pass\",\"Pass\",\"Pass\",\"Pass\",\"Pass\",\"Pass\",\"Pass\",\"Pass\",\"Pass\",\"Pass\",\"Pass\",\"Pass\",\"Pass\",\"Pass\",\"Pass\",\"Pass\",\"Fale\",\"Pass\",\"Pass\",\"Pass\",\"Pass\",\"Pass\",\"Pass\",\"Pass\",\"Pass\",\"Pass\",\"Pass\",\"Pass\",\"Pass\",\"Pass\",\"Pass\",\"Pass\",\"Pass\",\"Pass\",\"Pass\",\"Pass\",\"Pass\",\"Pass\",\"Pass\",\"Pass\",\"Pass\",\"Pass\",\"Pass\",\"Pass\",\"Pass\",\"Pass\",\"Pass\",\"Pass\",\"Pass\",\"Pass\",\"Pass\",\"Pass\",\"Pass\",\"Pass\",\"Pass\",\"Pass\",\"Pass\",\"Pass\",\"Pass\",\"Pass\",\"Pass\",\"Pass\",\"Pass\",\"Pass\"],\"xaxis\":\"x\",\"yaxis\":\"y\",\"type\":\"histogram\"}],                        {\"template\":{\"data\":{\"bar\":[{\"error_x\":{\"color\":\"#2a3f5f\"},\"error_y\":{\"color\":\"#2a3f5f\"},\"marker\":{\"line\":{\"color\":\"#E5ECF6\",\"width\":0.5},\"pattern\":{\"fillmode\":\"overlay\",\"size\":10,\"solidity\":0.2}},\"type\":\"bar\"}],\"barpolar\":[{\"marker\":{\"line\":{\"color\":\"#E5ECF6\",\"width\":0.5},\"pattern\":{\"fillmode\":\"overlay\",\"size\":10,\"solidity\":0.2}},\"type\":\"barpolar\"}],\"carpet\":[{\"aaxis\":{\"endlinecolor\":\"#2a3f5f\",\"gridcolor\":\"white\",\"linecolor\":\"white\",\"minorgridcolor\":\"white\",\"startlinecolor\":\"#2a3f5f\"},\"baxis\":{\"endlinecolor\":\"#2a3f5f\",\"gridcolor\":\"white\",\"linecolor\":\"white\",\"minorgridcolor\":\"white\",\"startlinecolor\":\"#2a3f5f\"},\"type\":\"carpet\"}],\"choropleth\":[{\"colorbar\":{\"outlinewidth\":0,\"ticks\":\"\"},\"type\":\"choropleth\"}],\"contour\":[{\"colorbar\":{\"outlinewidth\":0,\"ticks\":\"\"},\"colorscale\":[[0.0,\"#0d0887\"],[0.1111111111111111,\"#46039f\"],[0.2222222222222222,\"#7201a8\"],[0.3333333333333333,\"#9c179e\"],[0.4444444444444444,\"#bd3786\"],[0.5555555555555556,\"#d8576b\"],[0.6666666666666666,\"#ed7953\"],[0.7777777777777778,\"#fb9f3a\"],[0.8888888888888888,\"#fdca26\"],[1.0,\"#f0f921\"]],\"type\":\"contour\"}],\"contourcarpet\":[{\"colorbar\":{\"outlinewidth\":0,\"ticks\":\"\"},\"type\":\"contourcarpet\"}],\"heatmap\":[{\"colorbar\":{\"outlinewidth\":0,\"ticks\":\"\"},\"colorscale\":[[0.0,\"#0d0887\"],[0.1111111111111111,\"#46039f\"],[0.2222222222222222,\"#7201a8\"],[0.3333333333333333,\"#9c179e\"],[0.4444444444444444,\"#bd3786\"],[0.5555555555555556,\"#d8576b\"],[0.6666666666666666,\"#ed7953\"],[0.7777777777777778,\"#fb9f3a\"],[0.8888888888888888,\"#fdca26\"],[1.0,\"#f0f921\"]],\"type\":\"heatmap\"}],\"heatmapgl\":[{\"colorbar\":{\"outlinewidth\":0,\"ticks\":\"\"},\"colorscale\":[[0.0,\"#0d0887\"],[0.1111111111111111,\"#46039f\"],[0.2222222222222222,\"#7201a8\"],[0.3333333333333333,\"#9c179e\"],[0.4444444444444444,\"#bd3786\"],[0.5555555555555556,\"#d8576b\"],[0.6666666666666666,\"#ed7953\"],[0.7777777777777778,\"#fb9f3a\"],[0.8888888888888888,\"#fdca26\"],[1.0,\"#f0f921\"]],\"type\":\"heatmapgl\"}],\"histogram\":[{\"marker\":{\"pattern\":{\"fillmode\":\"overlay\",\"size\":10,\"solidity\":0.2}},\"type\":\"histogram\"}],\"histogram2d\":[{\"colorbar\":{\"outlinewidth\":0,\"ticks\":\"\"},\"colorscale\":[[0.0,\"#0d0887\"],[0.1111111111111111,\"#46039f\"],[0.2222222222222222,\"#7201a8\"],[0.3333333333333333,\"#9c179e\"],[0.4444444444444444,\"#bd3786\"],[0.5555555555555556,\"#d8576b\"],[0.6666666666666666,\"#ed7953\"],[0.7777777777777778,\"#fb9f3a\"],[0.8888888888888888,\"#fdca26\"],[1.0,\"#f0f921\"]],\"type\":\"histogram2d\"}],\"histogram2dcontour\":[{\"colorbar\":{\"outlinewidth\":0,\"ticks\":\"\"},\"colorscale\":[[0.0,\"#0d0887\"],[0.1111111111111111,\"#46039f\"],[0.2222222222222222,\"#7201a8\"],[0.3333333333333333,\"#9c179e\"],[0.4444444444444444,\"#bd3786\"],[0.5555555555555556,\"#d8576b\"],[0.6666666666666666,\"#ed7953\"],[0.7777777777777778,\"#fb9f3a\"],[0.8888888888888888,\"#fdca26\"],[1.0,\"#f0f921\"]],\"type\":\"histogram2dcontour\"}],\"mesh3d\":[{\"colorbar\":{\"outlinewidth\":0,\"ticks\":\"\"},\"type\":\"mesh3d\"}],\"parcoords\":[{\"line\":{\"colorbar\":{\"outlinewidth\":0,\"ticks\":\"\"}},\"type\":\"parcoords\"}],\"pie\":[{\"automargin\":true,\"type\":\"pie\"}],\"scatter\":[{\"marker\":{\"colorbar\":{\"outlinewidth\":0,\"ticks\":\"\"}},\"type\":\"scatter\"}],\"scatter3d\":[{\"line\":{\"colorbar\":{\"outlinewidth\":0,\"ticks\":\"\"}},\"marker\":{\"colorbar\":{\"outlinewidth\":0,\"ticks\":\"\"}},\"type\":\"scatter3d\"}],\"scattercarpet\":[{\"marker\":{\"colorbar\":{\"outlinewidth\":0,\"ticks\":\"\"}},\"type\":\"scattercarpet\"}],\"scattergeo\":[{\"marker\":{\"colorbar\":{\"outlinewidth\":0,\"ticks\":\"\"}},\"type\":\"scattergeo\"}],\"scattergl\":[{\"marker\":{\"colorbar\":{\"outlinewidth\":0,\"ticks\":\"\"}},\"type\":\"scattergl\"}],\"scattermapbox\":[{\"marker\":{\"colorbar\":{\"outlinewidth\":0,\"ticks\":\"\"}},\"type\":\"scattermapbox\"}],\"scatterpolar\":[{\"marker\":{\"colorbar\":{\"outlinewidth\":0,\"ticks\":\"\"}},\"type\":\"scatterpolar\"}],\"scatterpolargl\":[{\"marker\":{\"colorbar\":{\"outlinewidth\":0,\"ticks\":\"\"}},\"type\":\"scatterpolargl\"}],\"scatterternary\":[{\"marker\":{\"colorbar\":{\"outlinewidth\":0,\"ticks\":\"\"}},\"type\":\"scatterternary\"}],\"surface\":[{\"colorbar\":{\"outlinewidth\":0,\"ticks\":\"\"},\"colorscale\":[[0.0,\"#0d0887\"],[0.1111111111111111,\"#46039f\"],[0.2222222222222222,\"#7201a8\"],[0.3333333333333333,\"#9c179e\"],[0.4444444444444444,\"#bd3786\"],[0.5555555555555556,\"#d8576b\"],[0.6666666666666666,\"#ed7953\"],[0.7777777777777778,\"#fb9f3a\"],[0.8888888888888888,\"#fdca26\"],[1.0,\"#f0f921\"]],\"type\":\"surface\"}],\"table\":[{\"cells\":{\"fill\":{\"color\":\"#EBF0F8\"},\"line\":{\"color\":\"white\"}},\"header\":{\"fill\":{\"color\":\"#C8D4E3\"},\"line\":{\"color\":\"white\"}},\"type\":\"table\"}]},\"layout\":{\"annotationdefaults\":{\"arrowcolor\":\"#2a3f5f\",\"arrowhead\":0,\"arrowwidth\":1},\"autotypenumbers\":\"strict\",\"coloraxis\":{\"colorbar\":{\"outlinewidth\":0,\"ticks\":\"\"}},\"colorscale\":{\"diverging\":[[0,\"#8e0152\"],[0.1,\"#c51b7d\"],[0.2,\"#de77ae\"],[0.3,\"#f1b6da\"],[0.4,\"#fde0ef\"],[0.5,\"#f7f7f7\"],[0.6,\"#e6f5d0\"],[0.7,\"#b8e186\"],[0.8,\"#7fbc41\"],[0.9,\"#4d9221\"],[1,\"#276419\"]],\"sequential\":[[0.0,\"#0d0887\"],[0.1111111111111111,\"#46039f\"],[0.2222222222222222,\"#7201a8\"],[0.3333333333333333,\"#9c179e\"],[0.4444444444444444,\"#bd3786\"],[0.5555555555555556,\"#d8576b\"],[0.6666666666666666,\"#ed7953\"],[0.7777777777777778,\"#fb9f3a\"],[0.8888888888888888,\"#fdca26\"],[1.0,\"#f0f921\"]],\"sequentialminus\":[[0.0,\"#0d0887\"],[0.1111111111111111,\"#46039f\"],[0.2222222222222222,\"#7201a8\"],[0.3333333333333333,\"#9c179e\"],[0.4444444444444444,\"#bd3786\"],[0.5555555555555556,\"#d8576b\"],[0.6666666666666666,\"#ed7953\"],[0.7777777777777778,\"#fb9f3a\"],[0.8888888888888888,\"#fdca26\"],[1.0,\"#f0f921\"]]},\"colorway\":[\"#636efa\",\"#EF553B\",\"#00cc96\",\"#ab63fa\",\"#FFA15A\",\"#19d3f3\",\"#FF6692\",\"#B6E880\",\"#FF97FF\",\"#FECB52\"],\"font\":{\"color\":\"#2a3f5f\"},\"geo\":{\"bgcolor\":\"white\",\"lakecolor\":\"white\",\"landcolor\":\"#E5ECF6\",\"showlakes\":true,\"showland\":true,\"subunitcolor\":\"white\"},\"hoverlabel\":{\"align\":\"left\"},\"hovermode\":\"closest\",\"mapbox\":{\"style\":\"light\"},\"paper_bgcolor\":\"white\",\"plot_bgcolor\":\"#E5ECF6\",\"polar\":{\"angularaxis\":{\"gridcolor\":\"white\",\"linecolor\":\"white\",\"ticks\":\"\"},\"bgcolor\":\"#E5ECF6\",\"radialaxis\":{\"gridcolor\":\"white\",\"linecolor\":\"white\",\"ticks\":\"\"}},\"scene\":{\"xaxis\":{\"backgroundcolor\":\"#E5ECF6\",\"gridcolor\":\"white\",\"gridwidth\":2,\"linecolor\":\"white\",\"showbackground\":true,\"ticks\":\"\",\"zerolinecolor\":\"white\"},\"yaxis\":{\"backgroundcolor\":\"#E5ECF6\",\"gridcolor\":\"white\",\"gridwidth\":2,\"linecolor\":\"white\",\"showbackground\":true,\"ticks\":\"\",\"zerolinecolor\":\"white\"},\"zaxis\":{\"backgroundcolor\":\"#E5ECF6\",\"gridcolor\":\"white\",\"gridwidth\":2,\"linecolor\":\"white\",\"showbackground\":true,\"ticks\":\"\",\"zerolinecolor\":\"white\"}},\"shapedefaults\":{\"line\":{\"color\":\"#2a3f5f\"}},\"ternary\":{\"aaxis\":{\"gridcolor\":\"white\",\"linecolor\":\"white\",\"ticks\":\"\"},\"baxis\":{\"gridcolor\":\"white\",\"linecolor\":\"white\",\"ticks\":\"\"},\"bgcolor\":\"#E5ECF6\",\"caxis\":{\"gridcolor\":\"white\",\"linecolor\":\"white\",\"ticks\":\"\"}},\"title\":{\"x\":0.05},\"xaxis\":{\"automargin\":true,\"gridcolor\":\"white\",\"linecolor\":\"white\",\"ticks\":\"\",\"title\":{\"standoff\":15},\"zerolinecolor\":\"white\",\"zerolinewidth\":2},\"yaxis\":{\"automargin\":true,\"gridcolor\":\"white\",\"linecolor\":\"white\",\"ticks\":\"\",\"title\":{\"standoff\":15},\"zerolinecolor\":\"white\",\"zerolinewidth\":2}}},\"xaxis\":{\"anchor\":\"y\",\"domain\":[0.0,1.0],\"title\":{\"text\":\"Result\"}},\"yaxis\":{\"anchor\":\"x\",\"domain\":[0.0,1.0],\"title\":{\"text\":\"count\"}},\"legend\":{\"title\":{\"text\":\"gender\"},\"tracegroupgap\":0},\"margin\":{\"t\":60},\"barmode\":\"relative\"},                        {\"responsive\": true}                    ).then(function(){\n",
       "                            \n",
       "var gd = document.getElementById('4ebeafeb-0360-41fa-8c7b-db5ad7b99cbc');\n",
       "var x = new MutationObserver(function (mutations, observer) {{\n",
       "        var display = window.getComputedStyle(gd).display;\n",
       "        if (!display || display === 'none') {{\n",
       "            console.log([gd, 'removed!']);\n",
       "            Plotly.purge(gd);\n",
       "            observer.disconnect();\n",
       "        }}\n",
       "}});\n",
       "\n",
       "// Listen for the removal of the full notebook cells\n",
       "var notebookContainer = gd.closest('#notebook-container');\n",
       "if (notebookContainer) {{\n",
       "    x.observe(notebookContainer, {childList: true});\n",
       "}}\n",
       "\n",
       "// Listen for the clearing of the current output cell\n",
       "var outputEl = gd.closest('.output');\n",
       "if (outputEl) {{\n",
       "    x.observe(outputEl, {childList: true});\n",
       "}}\n",
       "\n",
       "                        })                };                });            </script>        </div>"
      ]
     },
     "metadata": {},
     "output_type": "display_data"
    }
   ],
   "source": [
    "px.histogram(dataset, x=\"Result\", color=\"gender\")"
   ]
  },
  {
   "cell_type": "code",
   "execution_count": 43,
   "id": "8f7c2e2a",
   "metadata": {},
   "outputs": [
    {
     "data": {
      "text/plain": [
       "Index(['gender', 'race/ethnicity', 'parental level of education', 'lunch',\n",
       "       'test preparation course', 'math score', 'reading score',\n",
       "       'writing score', 'Percentage', 'passed_in_maths', 'passed_in_writing',\n",
       "       'Result'],\n",
       "      dtype='object')"
      ]
     },
     "execution_count": 43,
     "metadata": {},
     "output_type": "execute_result"
    }
   ],
   "source": [
    "dataset.columns"
   ]
  },
  {
   "cell_type": "code",
   "execution_count": 44,
   "id": "2800cfad",
   "metadata": {},
   "outputs": [
    {
     "data": {
      "application/vnd.plotly.v1+json": {
       "config": {
        "plotlyServerURL": "https://plot.ly"
       },
       "data": [
        {
         "branchvalues": "total",
         "customdata": [
          [
           23.299999999999997
          ],
          [
           25.088611111111113
          ],
          [
           29.7
          ],
          [
           27.972890484739676
          ],
          [
           30.87305194805195
          ],
          [
           30.663784665579122
          ],
          [
           9
          ],
          [
           31.7
          ],
          [
           31
          ],
          [
           26
          ],
          [
           67.24252487979425
          ],
          [
           70.05690078585462
          ],
          [
           63.662233705013136
          ],
          [
           64.31357894736843
          ],
          [
           69.7754806011884
          ],
          [
           63.66736512356421
          ],
          [
           70.58132041621815
          ],
          [
           73.33979527448642
          ],
          [
           66.30663888888888
          ],
          [
           77.86489977728286
          ],
          [
           68.13152525080768
          ],
          [
           68.56157004021445
          ],
          [
           71.71001201145708
          ],
          [
           75.73743983614952
          ],
          [
           65.43360492946988
          ],
          [
           70.86983836535529
          ],
          [
           71.40733344884345
          ],
          [
           66.54683043816436
          ],
          [
           72.09732168850073
          ],
          [
           72.91904518503372
          ],
          [
           65.98028925323979
          ],
          [
           78.60296207857184
          ],
          [
           72.3292803865062
          ],
          [
           71.63683002882861
          ],
          [
           77.00628856687234
          ],
          [
           78.66659072536196
          ],
          [
           71.76277124183008
          ],
          [
           82.045914335388
          ],
          [
           74.17102670623143
          ],
          [
           74.71492683724351
          ],
          [
           67.24252487979425
          ],
          [
           70.05690078585462
          ],
          [
           63.662233705013136
          ],
          [
           64.31357894736843
          ],
          [
           68.84812023636209
          ],
          [
           63.66736512356421
          ],
          [
           70.58132041621815
          ],
          [
           73.33979527448642
          ],
          [
           65.30132113821138
          ],
          [
           77.86489977728286
          ],
          [
           67.65236136182361
          ],
          [
           67.63611691022963
          ],
          [
           71.71001201145708
          ],
          [
           75.73743983614952
          ],
          [
           64.89990473802958
          ],
          [
           70.86983836535529
          ],
          [
           70.87349150368708
          ],
          [
           66.3794674594455
          ],
          [
           71.72792280843454
          ],
          [
           72.91904518503372
          ],
          [
           65.98028925323979
          ],
          [
           78.60296207857184
          ],
          [
           72.3292803865062
          ],
          [
           71.26960121268657
          ],
          [
           77.00628856687234
          ],
          [
           78.66659072536196
          ],
          [
           71.76277124183008
          ],
          [
           82.045914335388
          ],
          [
           74.17102670623143
          ],
          [
           73.7010886096214
          ],
          [
           72.24088098367663
          ],
          [
           74.6093775405606
          ],
          [
           65.97836345259752
          ],
          [
           76.0672009580397
          ],
          [
           71.20735896607431
          ],
          [
           68.53294232732952
          ]
         ],
         "domain": {
          "x": [
           0,
           1
          ],
          "y": [
           0,
           1
          ]
         },
         "hovertemplate": "labels=%{label}<br>Percentage_sum=%{value}<br>parent=%{parent}<br>id=%{id}<br>Percentage=%{color}<extra></extra>",
         "ids": [
          "some college/group A/Fale",
          "high school/group B/Fale",
          "some college/group B/Fale",
          "some high school/group B/Fale",
          "high school/group C/Fale",
          "some college/group C/Fale",
          "some high school/group C/Fale",
          "associate's degree/group D/Fale",
          "some high school/group D/Fale",
          "some high school/group E/Fale",
          "associate's degree/group A/Pass",
          "bachelor's degree/group A/Pass",
          "high school/group A/Pass",
          "master's degree/group A/Pass",
          "some college/group A/Pass",
          "some high school/group A/Pass",
          "associate's degree/group B/Pass",
          "bachelor's degree/group B/Pass",
          "high school/group B/Pass",
          "master's degree/group B/Pass",
          "some college/group B/Pass",
          "some high school/group B/Pass",
          "associate's degree/group C/Pass",
          "bachelor's degree/group C/Pass",
          "high school/group C/Pass",
          "master's degree/group C/Pass",
          "some college/group C/Pass",
          "some high school/group C/Pass",
          "associate's degree/group D/Pass",
          "bachelor's degree/group D/Pass",
          "high school/group D/Pass",
          "master's degree/group D/Pass",
          "some college/group D/Pass",
          "some high school/group D/Pass",
          "associate's degree/group E/Pass",
          "bachelor's degree/group E/Pass",
          "high school/group E/Pass",
          "master's degree/group E/Pass",
          "some college/group E/Pass",
          "some high school/group E/Pass",
          "associate's degree/group A",
          "bachelor's degree/group A",
          "high school/group A",
          "master's degree/group A",
          "some college/group A",
          "some high school/group A",
          "associate's degree/group B",
          "bachelor's degree/group B",
          "high school/group B",
          "master's degree/group B",
          "some college/group B",
          "some high school/group B",
          "associate's degree/group C",
          "bachelor's degree/group C",
          "high school/group C",
          "master's degree/group C",
          "some college/group C",
          "some high school/group C",
          "associate's degree/group D",
          "bachelor's degree/group D",
          "high school/group D",
          "master's degree/group D",
          "some college/group D",
          "some high school/group D",
          "associate's degree/group E",
          "bachelor's degree/group E",
          "high school/group E",
          "master's degree/group E",
          "some college/group E",
          "some high school/group E",
          "associate's degree",
          "bachelor's degree",
          "high school",
          "master's degree",
          "some college",
          "some high school"
         ],
         "labels": [
          "Fale",
          "Fale",
          "Fale",
          "Fale",
          "Fale",
          "Fale",
          "Fale",
          "Fale",
          "Fale",
          "Fale",
          "Pass",
          "Pass",
          "Pass",
          "Pass",
          "Pass",
          "Pass",
          "Pass",
          "Pass",
          "Pass",
          "Pass",
          "Pass",
          "Pass",
          "Pass",
          "Pass",
          "Pass",
          "Pass",
          "Pass",
          "Pass",
          "Pass",
          "Pass",
          "Pass",
          "Pass",
          "Pass",
          "Pass",
          "Pass",
          "Pass",
          "Pass",
          "Pass",
          "Pass",
          "Pass",
          "group A",
          "group A",
          "group A",
          "group A",
          "group A",
          "group A",
          "group B",
          "group B",
          "group B",
          "group B",
          "group B",
          "group B",
          "group C",
          "group C",
          "group C",
          "group C",
          "group C",
          "group C",
          "group D",
          "group D",
          "group D",
          "group D",
          "group D",
          "group D",
          "group E",
          "group E",
          "group E",
          "group E",
          "group E",
          "group E",
          "associate's degree",
          "bachelor's degree",
          "high school",
          "master's degree",
          "some college",
          "some high school"
         ],
         "marker": {
          "coloraxis": "coloraxis",
          "colors": [
           23.299999999999997,
           25.088611111111113,
           29.7,
           27.972890484739676,
           30.87305194805195,
           30.663784665579122,
           9,
           31.7,
           31,
           26,
           67.24252487979425,
           70.05690078585462,
           63.662233705013136,
           64.31357894736843,
           69.7754806011884,
           63.66736512356421,
           70.58132041621815,
           73.33979527448642,
           66.30663888888888,
           77.86489977728286,
           68.13152525080768,
           68.56157004021445,
           71.71001201145708,
           75.73743983614952,
           65.43360492946988,
           70.86983836535529,
           71.40733344884345,
           66.54683043816436,
           72.09732168850073,
           72.91904518503372,
           65.98028925323979,
           78.60296207857184,
           72.3292803865062,
           71.63683002882861,
           77.00628856687234,
           78.66659072536196,
           71.76277124183008,
           82.045914335388,
           74.17102670623143,
           74.71492683724351,
           67.24252487979425,
           70.05690078585462,
           63.662233705013136,
           64.31357894736843,
           68.84812023636209,
           63.66736512356421,
           70.58132041621815,
           73.33979527448642,
           65.30132113821138,
           77.86489977728286,
           67.65236136182361,
           67.63611691022963,
           71.71001201145708,
           75.73743983614952,
           64.89990473802958,
           70.86983836535529,
           70.87349150368708,
           66.3794674594455,
           71.72792280843454,
           72.91904518503372,
           65.98028925323979,
           78.60296207857184,
           72.3292803865062,
           71.26960121268657,
           77.00628856687234,
           78.66659072536196,
           71.76277124183008,
           82.045914335388,
           74.17102670623143,
           73.7010886096214,
           72.24088098367663,
           74.6093775405606,
           65.97836345259752,
           76.0672009580397,
           71.20735896607431,
           68.53294232732952
          ]
         },
         "name": "",
         "parents": [
          "some college/group A",
          "high school/group B",
          "some college/group B",
          "some high school/group B",
          "high school/group C",
          "some college/group C",
          "some high school/group C",
          "associate's degree/group D",
          "some high school/group D",
          "some high school/group E",
          "associate's degree/group A",
          "bachelor's degree/group A",
          "high school/group A",
          "master's degree/group A",
          "some college/group A",
          "some high school/group A",
          "associate's degree/group B",
          "bachelor's degree/group B",
          "high school/group B",
          "master's degree/group B",
          "some college/group B",
          "some high school/group B",
          "associate's degree/group C",
          "bachelor's degree/group C",
          "high school/group C",
          "master's degree/group C",
          "some college/group C",
          "some high school/group C",
          "associate's degree/group D",
          "bachelor's degree/group D",
          "high school/group D",
          "master's degree/group D",
          "some college/group D",
          "some high school/group D",
          "associate's degree/group E",
          "bachelor's degree/group E",
          "high school/group E",
          "master's degree/group E",
          "some college/group E",
          "some high school/group E",
          "associate's degree",
          "bachelor's degree",
          "high school",
          "master's degree",
          "some college",
          "some high school",
          "associate's degree",
          "bachelor's degree",
          "high school",
          "master's degree",
          "some college",
          "some high school",
          "associate's degree",
          "bachelor's degree",
          "high school",
          "master's degree",
          "some college",
          "some high school",
          "associate's degree",
          "bachelor's degree",
          "high school",
          "master's degree",
          "some college",
          "some high school",
          "associate's degree",
          "bachelor's degree",
          "high school",
          "master's degree",
          "some college",
          "some high school",
          "",
          "",
          "",
          "",
          "",
          ""
         ],
         "type": "sunburst",
         "values": [
          23.3,
          72,
          29.7,
          55.7,
          61.599999999999994,
          61.3,
          9,
          31.7,
          31,
          26,
          894.3,
          814.4,
          1103.1,
          190,
          1144.4,
          1436.5,
          2787,
          1426.3,
          2880,
          449,
          2352.4,
          2387.2,
          5411.5,
          2929.5,
          3927.4,
          1311.6,
          4617.2,
          3085.6,
          3435,
          1956.4,
          2793.4,
          1758.9,
          4719.2,
          3399.4,
          2884.6,
          1360.7,
          1530,
          632.7,
          2527.5,
          1223.3,
          894.3,
          814.4,
          1103.1,
          190,
          1167.7,
          1436.5,
          2787,
          1426.3,
          2952,
          449,
          2382.1,
          2442.9,
          5411.5,
          2929.5,
          3989,
          1311.6,
          4678.5,
          3094.6,
          3466.7,
          1956.4,
          2793.4,
          1758.9,
          4719.2,
          3430.4,
          2884.6,
          1360.7,
          1530,
          632.7,
          2527.5,
          1249.3,
          15444.1,
          8487.3,
          12367.5,
          4342.2,
          15475,
          11653.7
         ]
        }
       ],
       "layout": {
        "coloraxis": {
         "colorbar": {
          "title": {
           "text": "Percentage"
          }
         },
         "colorscale": [
          [
           0,
           "#0d0887"
          ],
          [
           0.1111111111111111,
           "#46039f"
          ],
          [
           0.2222222222222222,
           "#7201a8"
          ],
          [
           0.3333333333333333,
           "#9c179e"
          ],
          [
           0.4444444444444444,
           "#bd3786"
          ],
          [
           0.5555555555555556,
           "#d8576b"
          ],
          [
           0.6666666666666666,
           "#ed7953"
          ],
          [
           0.7777777777777778,
           "#fb9f3a"
          ],
          [
           0.8888888888888888,
           "#fdca26"
          ],
          [
           1,
           "#f0f921"
          ]
         ]
        },
        "legend": {
         "tracegroupgap": 0
        },
        "margin": {
         "t": 60
        },
        "template": {
         "data": {
          "bar": [
           {
            "error_x": {
             "color": "#2a3f5f"
            },
            "error_y": {
             "color": "#2a3f5f"
            },
            "marker": {
             "line": {
              "color": "#E5ECF6",
              "width": 0.5
             },
             "pattern": {
              "fillmode": "overlay",
              "size": 10,
              "solidity": 0.2
             }
            },
            "type": "bar"
           }
          ],
          "barpolar": [
           {
            "marker": {
             "line": {
              "color": "#E5ECF6",
              "width": 0.5
             },
             "pattern": {
              "fillmode": "overlay",
              "size": 10,
              "solidity": 0.2
             }
            },
            "type": "barpolar"
           }
          ],
          "carpet": [
           {
            "aaxis": {
             "endlinecolor": "#2a3f5f",
             "gridcolor": "white",
             "linecolor": "white",
             "minorgridcolor": "white",
             "startlinecolor": "#2a3f5f"
            },
            "baxis": {
             "endlinecolor": "#2a3f5f",
             "gridcolor": "white",
             "linecolor": "white",
             "minorgridcolor": "white",
             "startlinecolor": "#2a3f5f"
            },
            "type": "carpet"
           }
          ],
          "choropleth": [
           {
            "colorbar": {
             "outlinewidth": 0,
             "ticks": ""
            },
            "type": "choropleth"
           }
          ],
          "contour": [
           {
            "colorbar": {
             "outlinewidth": 0,
             "ticks": ""
            },
            "colorscale": [
             [
              0,
              "#0d0887"
             ],
             [
              0.1111111111111111,
              "#46039f"
             ],
             [
              0.2222222222222222,
              "#7201a8"
             ],
             [
              0.3333333333333333,
              "#9c179e"
             ],
             [
              0.4444444444444444,
              "#bd3786"
             ],
             [
              0.5555555555555556,
              "#d8576b"
             ],
             [
              0.6666666666666666,
              "#ed7953"
             ],
             [
              0.7777777777777778,
              "#fb9f3a"
             ],
             [
              0.8888888888888888,
              "#fdca26"
             ],
             [
              1,
              "#f0f921"
             ]
            ],
            "type": "contour"
           }
          ],
          "contourcarpet": [
           {
            "colorbar": {
             "outlinewidth": 0,
             "ticks": ""
            },
            "type": "contourcarpet"
           }
          ],
          "heatmap": [
           {
            "colorbar": {
             "outlinewidth": 0,
             "ticks": ""
            },
            "colorscale": [
             [
              0,
              "#0d0887"
             ],
             [
              0.1111111111111111,
              "#46039f"
             ],
             [
              0.2222222222222222,
              "#7201a8"
             ],
             [
              0.3333333333333333,
              "#9c179e"
             ],
             [
              0.4444444444444444,
              "#bd3786"
             ],
             [
              0.5555555555555556,
              "#d8576b"
             ],
             [
              0.6666666666666666,
              "#ed7953"
             ],
             [
              0.7777777777777778,
              "#fb9f3a"
             ],
             [
              0.8888888888888888,
              "#fdca26"
             ],
             [
              1,
              "#f0f921"
             ]
            ],
            "type": "heatmap"
           }
          ],
          "heatmapgl": [
           {
            "colorbar": {
             "outlinewidth": 0,
             "ticks": ""
            },
            "colorscale": [
             [
              0,
              "#0d0887"
             ],
             [
              0.1111111111111111,
              "#46039f"
             ],
             [
              0.2222222222222222,
              "#7201a8"
             ],
             [
              0.3333333333333333,
              "#9c179e"
             ],
             [
              0.4444444444444444,
              "#bd3786"
             ],
             [
              0.5555555555555556,
              "#d8576b"
             ],
             [
              0.6666666666666666,
              "#ed7953"
             ],
             [
              0.7777777777777778,
              "#fb9f3a"
             ],
             [
              0.8888888888888888,
              "#fdca26"
             ],
             [
              1,
              "#f0f921"
             ]
            ],
            "type": "heatmapgl"
           }
          ],
          "histogram": [
           {
            "marker": {
             "pattern": {
              "fillmode": "overlay",
              "size": 10,
              "solidity": 0.2
             }
            },
            "type": "histogram"
           }
          ],
          "histogram2d": [
           {
            "colorbar": {
             "outlinewidth": 0,
             "ticks": ""
            },
            "colorscale": [
             [
              0,
              "#0d0887"
             ],
             [
              0.1111111111111111,
              "#46039f"
             ],
             [
              0.2222222222222222,
              "#7201a8"
             ],
             [
              0.3333333333333333,
              "#9c179e"
             ],
             [
              0.4444444444444444,
              "#bd3786"
             ],
             [
              0.5555555555555556,
              "#d8576b"
             ],
             [
              0.6666666666666666,
              "#ed7953"
             ],
             [
              0.7777777777777778,
              "#fb9f3a"
             ],
             [
              0.8888888888888888,
              "#fdca26"
             ],
             [
              1,
              "#f0f921"
             ]
            ],
            "type": "histogram2d"
           }
          ],
          "histogram2dcontour": [
           {
            "colorbar": {
             "outlinewidth": 0,
             "ticks": ""
            },
            "colorscale": [
             [
              0,
              "#0d0887"
             ],
             [
              0.1111111111111111,
              "#46039f"
             ],
             [
              0.2222222222222222,
              "#7201a8"
             ],
             [
              0.3333333333333333,
              "#9c179e"
             ],
             [
              0.4444444444444444,
              "#bd3786"
             ],
             [
              0.5555555555555556,
              "#d8576b"
             ],
             [
              0.6666666666666666,
              "#ed7953"
             ],
             [
              0.7777777777777778,
              "#fb9f3a"
             ],
             [
              0.8888888888888888,
              "#fdca26"
             ],
             [
              1,
              "#f0f921"
             ]
            ],
            "type": "histogram2dcontour"
           }
          ],
          "mesh3d": [
           {
            "colorbar": {
             "outlinewidth": 0,
             "ticks": ""
            },
            "type": "mesh3d"
           }
          ],
          "parcoords": [
           {
            "line": {
             "colorbar": {
              "outlinewidth": 0,
              "ticks": ""
             }
            },
            "type": "parcoords"
           }
          ],
          "pie": [
           {
            "automargin": true,
            "type": "pie"
           }
          ],
          "scatter": [
           {
            "marker": {
             "colorbar": {
              "outlinewidth": 0,
              "ticks": ""
             }
            },
            "type": "scatter"
           }
          ],
          "scatter3d": [
           {
            "line": {
             "colorbar": {
              "outlinewidth": 0,
              "ticks": ""
             }
            },
            "marker": {
             "colorbar": {
              "outlinewidth": 0,
              "ticks": ""
             }
            },
            "type": "scatter3d"
           }
          ],
          "scattercarpet": [
           {
            "marker": {
             "colorbar": {
              "outlinewidth": 0,
              "ticks": ""
             }
            },
            "type": "scattercarpet"
           }
          ],
          "scattergeo": [
           {
            "marker": {
             "colorbar": {
              "outlinewidth": 0,
              "ticks": ""
             }
            },
            "type": "scattergeo"
           }
          ],
          "scattergl": [
           {
            "marker": {
             "colorbar": {
              "outlinewidth": 0,
              "ticks": ""
             }
            },
            "type": "scattergl"
           }
          ],
          "scattermapbox": [
           {
            "marker": {
             "colorbar": {
              "outlinewidth": 0,
              "ticks": ""
             }
            },
            "type": "scattermapbox"
           }
          ],
          "scatterpolar": [
           {
            "marker": {
             "colorbar": {
              "outlinewidth": 0,
              "ticks": ""
             }
            },
            "type": "scatterpolar"
           }
          ],
          "scatterpolargl": [
           {
            "marker": {
             "colorbar": {
              "outlinewidth": 0,
              "ticks": ""
             }
            },
            "type": "scatterpolargl"
           }
          ],
          "scatterternary": [
           {
            "marker": {
             "colorbar": {
              "outlinewidth": 0,
              "ticks": ""
             }
            },
            "type": "scatterternary"
           }
          ],
          "surface": [
           {
            "colorbar": {
             "outlinewidth": 0,
             "ticks": ""
            },
            "colorscale": [
             [
              0,
              "#0d0887"
             ],
             [
              0.1111111111111111,
              "#46039f"
             ],
             [
              0.2222222222222222,
              "#7201a8"
             ],
             [
              0.3333333333333333,
              "#9c179e"
             ],
             [
              0.4444444444444444,
              "#bd3786"
             ],
             [
              0.5555555555555556,
              "#d8576b"
             ],
             [
              0.6666666666666666,
              "#ed7953"
             ],
             [
              0.7777777777777778,
              "#fb9f3a"
             ],
             [
              0.8888888888888888,
              "#fdca26"
             ],
             [
              1,
              "#f0f921"
             ]
            ],
            "type": "surface"
           }
          ],
          "table": [
           {
            "cells": {
             "fill": {
              "color": "#EBF0F8"
             },
             "line": {
              "color": "white"
             }
            },
            "header": {
             "fill": {
              "color": "#C8D4E3"
             },
             "line": {
              "color": "white"
             }
            },
            "type": "table"
           }
          ]
         },
         "layout": {
          "annotationdefaults": {
           "arrowcolor": "#2a3f5f",
           "arrowhead": 0,
           "arrowwidth": 1
          },
          "autotypenumbers": "strict",
          "coloraxis": {
           "colorbar": {
            "outlinewidth": 0,
            "ticks": ""
           }
          },
          "colorscale": {
           "diverging": [
            [
             0,
             "#8e0152"
            ],
            [
             0.1,
             "#c51b7d"
            ],
            [
             0.2,
             "#de77ae"
            ],
            [
             0.3,
             "#f1b6da"
            ],
            [
             0.4,
             "#fde0ef"
            ],
            [
             0.5,
             "#f7f7f7"
            ],
            [
             0.6,
             "#e6f5d0"
            ],
            [
             0.7,
             "#b8e186"
            ],
            [
             0.8,
             "#7fbc41"
            ],
            [
             0.9,
             "#4d9221"
            ],
            [
             1,
             "#276419"
            ]
           ],
           "sequential": [
            [
             0,
             "#0d0887"
            ],
            [
             0.1111111111111111,
             "#46039f"
            ],
            [
             0.2222222222222222,
             "#7201a8"
            ],
            [
             0.3333333333333333,
             "#9c179e"
            ],
            [
             0.4444444444444444,
             "#bd3786"
            ],
            [
             0.5555555555555556,
             "#d8576b"
            ],
            [
             0.6666666666666666,
             "#ed7953"
            ],
            [
             0.7777777777777778,
             "#fb9f3a"
            ],
            [
             0.8888888888888888,
             "#fdca26"
            ],
            [
             1,
             "#f0f921"
            ]
           ],
           "sequentialminus": [
            [
             0,
             "#0d0887"
            ],
            [
             0.1111111111111111,
             "#46039f"
            ],
            [
             0.2222222222222222,
             "#7201a8"
            ],
            [
             0.3333333333333333,
             "#9c179e"
            ],
            [
             0.4444444444444444,
             "#bd3786"
            ],
            [
             0.5555555555555556,
             "#d8576b"
            ],
            [
             0.6666666666666666,
             "#ed7953"
            ],
            [
             0.7777777777777778,
             "#fb9f3a"
            ],
            [
             0.8888888888888888,
             "#fdca26"
            ],
            [
             1,
             "#f0f921"
            ]
           ]
          },
          "colorway": [
           "#636efa",
           "#EF553B",
           "#00cc96",
           "#ab63fa",
           "#FFA15A",
           "#19d3f3",
           "#FF6692",
           "#B6E880",
           "#FF97FF",
           "#FECB52"
          ],
          "font": {
           "color": "#2a3f5f"
          },
          "geo": {
           "bgcolor": "white",
           "lakecolor": "white",
           "landcolor": "#E5ECF6",
           "showlakes": true,
           "showland": true,
           "subunitcolor": "white"
          },
          "hoverlabel": {
           "align": "left"
          },
          "hovermode": "closest",
          "mapbox": {
           "style": "light"
          },
          "paper_bgcolor": "white",
          "plot_bgcolor": "#E5ECF6",
          "polar": {
           "angularaxis": {
            "gridcolor": "white",
            "linecolor": "white",
            "ticks": ""
           },
           "bgcolor": "#E5ECF6",
           "radialaxis": {
            "gridcolor": "white",
            "linecolor": "white",
            "ticks": ""
           }
          },
          "scene": {
           "xaxis": {
            "backgroundcolor": "#E5ECF6",
            "gridcolor": "white",
            "gridwidth": 2,
            "linecolor": "white",
            "showbackground": true,
            "ticks": "",
            "zerolinecolor": "white"
           },
           "yaxis": {
            "backgroundcolor": "#E5ECF6",
            "gridcolor": "white",
            "gridwidth": 2,
            "linecolor": "white",
            "showbackground": true,
            "ticks": "",
            "zerolinecolor": "white"
           },
           "zaxis": {
            "backgroundcolor": "#E5ECF6",
            "gridcolor": "white",
            "gridwidth": 2,
            "linecolor": "white",
            "showbackground": true,
            "ticks": "",
            "zerolinecolor": "white"
           }
          },
          "shapedefaults": {
           "line": {
            "color": "#2a3f5f"
           }
          },
          "ternary": {
           "aaxis": {
            "gridcolor": "white",
            "linecolor": "white",
            "ticks": ""
           },
           "baxis": {
            "gridcolor": "white",
            "linecolor": "white",
            "ticks": ""
           },
           "bgcolor": "#E5ECF6",
           "caxis": {
            "gridcolor": "white",
            "linecolor": "white",
            "ticks": ""
           }
          },
          "title": {
           "x": 0.05
          },
          "xaxis": {
           "automargin": true,
           "gridcolor": "white",
           "linecolor": "white",
           "ticks": "",
           "title": {
            "standoff": 15
           },
           "zerolinecolor": "white",
           "zerolinewidth": 2
          },
          "yaxis": {
           "automargin": true,
           "gridcolor": "white",
           "linecolor": "white",
           "ticks": "",
           "title": {
            "standoff": 15
           },
           "zerolinecolor": "white",
           "zerolinewidth": 2
          }
         }
        }
       }
      },
      "text/html": [
       "<div>                            <div id=\"aa57c26b-ec4c-4c21-9c91-39ca77763fec\" class=\"plotly-graph-div\" style=\"height:525px; width:100%;\"></div>            <script type=\"text/javascript\">                require([\"plotly\"], function(Plotly) {                    window.PLOTLYENV=window.PLOTLYENV || {};                                    if (document.getElementById(\"aa57c26b-ec4c-4c21-9c91-39ca77763fec\")) {                    Plotly.newPlot(                        \"aa57c26b-ec4c-4c21-9c91-39ca77763fec\",                        [{\"branchvalues\":\"total\",\"customdata\":[[23.299999999999997],[25.088611111111113],[29.7],[27.972890484739676],[30.87305194805195],[30.663784665579122],[9.0],[31.7],[31.0],[26.0],[67.24252487979425],[70.05690078585462],[63.662233705013136],[64.31357894736843],[69.7754806011884],[63.66736512356421],[70.58132041621815],[73.33979527448642],[66.30663888888888],[77.86489977728286],[68.13152525080768],[68.56157004021445],[71.71001201145708],[75.73743983614952],[65.43360492946988],[70.86983836535529],[71.40733344884345],[66.54683043816436],[72.09732168850073],[72.91904518503372],[65.98028925323979],[78.60296207857184],[72.3292803865062],[71.63683002882861],[77.00628856687234],[78.66659072536196],[71.76277124183008],[82.045914335388],[74.17102670623143],[74.71492683724351],[67.24252487979425],[70.05690078585462],[63.662233705013136],[64.31357894736843],[68.84812023636209],[63.66736512356421],[70.58132041621815],[73.33979527448642],[65.30132113821138],[77.86489977728286],[67.65236136182361],[67.63611691022963],[71.71001201145708],[75.73743983614952],[64.89990473802958],[70.86983836535529],[70.87349150368708],[66.3794674594455],[71.72792280843454],[72.91904518503372],[65.98028925323979],[78.60296207857184],[72.3292803865062],[71.26960121268657],[77.00628856687234],[78.66659072536196],[71.76277124183008],[82.045914335388],[74.17102670623143],[73.7010886096214],[72.24088098367663],[74.6093775405606],[65.97836345259752],[76.0672009580397],[71.20735896607431],[68.53294232732952]],\"domain\":{\"x\":[0.0,1.0],\"y\":[0.0,1.0]},\"hovertemplate\":\"labels=%{label}<br>Percentage_sum=%{value}<br>parent=%{parent}<br>id=%{id}<br>Percentage=%{color}<extra></extra>\",\"ids\":[\"some college/group A/Fale\",\"high school/group B/Fale\",\"some college/group B/Fale\",\"some high school/group B/Fale\",\"high school/group C/Fale\",\"some college/group C/Fale\",\"some high school/group C/Fale\",\"associate's degree/group D/Fale\",\"some high school/group D/Fale\",\"some high school/group E/Fale\",\"associate's degree/group A/Pass\",\"bachelor's degree/group A/Pass\",\"high school/group A/Pass\",\"master's degree/group A/Pass\",\"some college/group A/Pass\",\"some high school/group A/Pass\",\"associate's degree/group B/Pass\",\"bachelor's degree/group B/Pass\",\"high school/group B/Pass\",\"master's degree/group B/Pass\",\"some college/group B/Pass\",\"some high school/group B/Pass\",\"associate's degree/group C/Pass\",\"bachelor's degree/group C/Pass\",\"high school/group C/Pass\",\"master's degree/group C/Pass\",\"some college/group C/Pass\",\"some high school/group C/Pass\",\"associate's degree/group D/Pass\",\"bachelor's degree/group D/Pass\",\"high school/group D/Pass\",\"master's degree/group D/Pass\",\"some college/group D/Pass\",\"some high school/group D/Pass\",\"associate's degree/group E/Pass\",\"bachelor's degree/group E/Pass\",\"high school/group E/Pass\",\"master's degree/group E/Pass\",\"some college/group E/Pass\",\"some high school/group E/Pass\",\"associate's degree/group A\",\"bachelor's degree/group A\",\"high school/group A\",\"master's degree/group A\",\"some college/group A\",\"some high school/group A\",\"associate's degree/group B\",\"bachelor's degree/group B\",\"high school/group B\",\"master's degree/group B\",\"some college/group B\",\"some high school/group B\",\"associate's degree/group C\",\"bachelor's degree/group C\",\"high school/group C\",\"master's degree/group C\",\"some college/group C\",\"some high school/group C\",\"associate's degree/group D\",\"bachelor's degree/group D\",\"high school/group D\",\"master's degree/group D\",\"some college/group D\",\"some high school/group D\",\"associate's degree/group E\",\"bachelor's degree/group E\",\"high school/group E\",\"master's degree/group E\",\"some college/group E\",\"some high school/group E\",\"associate's degree\",\"bachelor's degree\",\"high school\",\"master's degree\",\"some college\",\"some high school\"],\"labels\":[\"Fale\",\"Fale\",\"Fale\",\"Fale\",\"Fale\",\"Fale\",\"Fale\",\"Fale\",\"Fale\",\"Fale\",\"Pass\",\"Pass\",\"Pass\",\"Pass\",\"Pass\",\"Pass\",\"Pass\",\"Pass\",\"Pass\",\"Pass\",\"Pass\",\"Pass\",\"Pass\",\"Pass\",\"Pass\",\"Pass\",\"Pass\",\"Pass\",\"Pass\",\"Pass\",\"Pass\",\"Pass\",\"Pass\",\"Pass\",\"Pass\",\"Pass\",\"Pass\",\"Pass\",\"Pass\",\"Pass\",\"group A\",\"group A\",\"group A\",\"group A\",\"group A\",\"group A\",\"group B\",\"group B\",\"group B\",\"group B\",\"group B\",\"group B\",\"group C\",\"group C\",\"group C\",\"group C\",\"group C\",\"group C\",\"group D\",\"group D\",\"group D\",\"group D\",\"group D\",\"group D\",\"group E\",\"group E\",\"group E\",\"group E\",\"group E\",\"group E\",\"associate's degree\",\"bachelor's degree\",\"high school\",\"master's degree\",\"some college\",\"some high school\"],\"marker\":{\"coloraxis\":\"coloraxis\",\"colors\":[23.299999999999997,25.088611111111113,29.7,27.972890484739676,30.87305194805195,30.663784665579122,9.0,31.7,31.0,26.0,67.24252487979425,70.05690078585462,63.662233705013136,64.31357894736843,69.7754806011884,63.66736512356421,70.58132041621815,73.33979527448642,66.30663888888888,77.86489977728286,68.13152525080768,68.56157004021445,71.71001201145708,75.73743983614952,65.43360492946988,70.86983836535529,71.40733344884345,66.54683043816436,72.09732168850073,72.91904518503372,65.98028925323979,78.60296207857184,72.3292803865062,71.63683002882861,77.00628856687234,78.66659072536196,71.76277124183008,82.045914335388,74.17102670623143,74.71492683724351,67.24252487979425,70.05690078585462,63.662233705013136,64.31357894736843,68.84812023636209,63.66736512356421,70.58132041621815,73.33979527448642,65.30132113821138,77.86489977728286,67.65236136182361,67.63611691022963,71.71001201145708,75.73743983614952,64.89990473802958,70.86983836535529,70.87349150368708,66.3794674594455,71.72792280843454,72.91904518503372,65.98028925323979,78.60296207857184,72.3292803865062,71.26960121268657,77.00628856687234,78.66659072536196,71.76277124183008,82.045914335388,74.17102670623143,73.7010886096214,72.24088098367663,74.6093775405606,65.97836345259752,76.0672009580397,71.20735896607431,68.53294232732952]},\"name\":\"\",\"parents\":[\"some college/group A\",\"high school/group B\",\"some college/group B\",\"some high school/group B\",\"high school/group C\",\"some college/group C\",\"some high school/group C\",\"associate's degree/group D\",\"some high school/group D\",\"some high school/group E\",\"associate's degree/group A\",\"bachelor's degree/group A\",\"high school/group A\",\"master's degree/group A\",\"some college/group A\",\"some high school/group A\",\"associate's degree/group B\",\"bachelor's degree/group B\",\"high school/group B\",\"master's degree/group B\",\"some college/group B\",\"some high school/group B\",\"associate's degree/group C\",\"bachelor's degree/group C\",\"high school/group C\",\"master's degree/group C\",\"some college/group C\",\"some high school/group C\",\"associate's degree/group D\",\"bachelor's degree/group D\",\"high school/group D\",\"master's degree/group D\",\"some college/group D\",\"some high school/group D\",\"associate's degree/group E\",\"bachelor's degree/group E\",\"high school/group E\",\"master's degree/group E\",\"some college/group E\",\"some high school/group E\",\"associate's degree\",\"bachelor's degree\",\"high school\",\"master's degree\",\"some college\",\"some high school\",\"associate's degree\",\"bachelor's degree\",\"high school\",\"master's degree\",\"some college\",\"some high school\",\"associate's degree\",\"bachelor's degree\",\"high school\",\"master's degree\",\"some college\",\"some high school\",\"associate's degree\",\"bachelor's degree\",\"high school\",\"master's degree\",\"some college\",\"some high school\",\"associate's degree\",\"bachelor's degree\",\"high school\",\"master's degree\",\"some college\",\"some high school\",\"\",\"\",\"\",\"\",\"\",\"\"],\"values\":[23.3,72.0,29.7,55.7,61.599999999999994,61.3,9.0,31.7,31.0,26.0,894.3,814.4,1103.1,190.0,1144.4,1436.5,2787.0,1426.3,2880.0,449.0,2352.4,2387.2,5411.5,2929.5,3927.4,1311.6,4617.2,3085.6,3435.0,1956.4,2793.4,1758.9,4719.2,3399.4,2884.6,1360.7,1530.0,632.7,2527.5,1223.3,894.3,814.4,1103.1,190.0,1167.7,1436.5,2787.0,1426.3,2952.0,449.0,2382.1,2442.9,5411.5,2929.5,3989.0,1311.6,4678.5,3094.6,3466.7,1956.4,2793.4,1758.9,4719.2,3430.4,2884.6,1360.7,1530.0,632.7,2527.5,1249.3,15444.1,8487.3,12367.5,4342.2,15475.0,11653.7],\"type\":\"sunburst\"}],                        {\"template\":{\"data\":{\"bar\":[{\"error_x\":{\"color\":\"#2a3f5f\"},\"error_y\":{\"color\":\"#2a3f5f\"},\"marker\":{\"line\":{\"color\":\"#E5ECF6\",\"width\":0.5},\"pattern\":{\"fillmode\":\"overlay\",\"size\":10,\"solidity\":0.2}},\"type\":\"bar\"}],\"barpolar\":[{\"marker\":{\"line\":{\"color\":\"#E5ECF6\",\"width\":0.5},\"pattern\":{\"fillmode\":\"overlay\",\"size\":10,\"solidity\":0.2}},\"type\":\"barpolar\"}],\"carpet\":[{\"aaxis\":{\"endlinecolor\":\"#2a3f5f\",\"gridcolor\":\"white\",\"linecolor\":\"white\",\"minorgridcolor\":\"white\",\"startlinecolor\":\"#2a3f5f\"},\"baxis\":{\"endlinecolor\":\"#2a3f5f\",\"gridcolor\":\"white\",\"linecolor\":\"white\",\"minorgridcolor\":\"white\",\"startlinecolor\":\"#2a3f5f\"},\"type\":\"carpet\"}],\"choropleth\":[{\"colorbar\":{\"outlinewidth\":0,\"ticks\":\"\"},\"type\":\"choropleth\"}],\"contour\":[{\"colorbar\":{\"outlinewidth\":0,\"ticks\":\"\"},\"colorscale\":[[0.0,\"#0d0887\"],[0.1111111111111111,\"#46039f\"],[0.2222222222222222,\"#7201a8\"],[0.3333333333333333,\"#9c179e\"],[0.4444444444444444,\"#bd3786\"],[0.5555555555555556,\"#d8576b\"],[0.6666666666666666,\"#ed7953\"],[0.7777777777777778,\"#fb9f3a\"],[0.8888888888888888,\"#fdca26\"],[1.0,\"#f0f921\"]],\"type\":\"contour\"}],\"contourcarpet\":[{\"colorbar\":{\"outlinewidth\":0,\"ticks\":\"\"},\"type\":\"contourcarpet\"}],\"heatmap\":[{\"colorbar\":{\"outlinewidth\":0,\"ticks\":\"\"},\"colorscale\":[[0.0,\"#0d0887\"],[0.1111111111111111,\"#46039f\"],[0.2222222222222222,\"#7201a8\"],[0.3333333333333333,\"#9c179e\"],[0.4444444444444444,\"#bd3786\"],[0.5555555555555556,\"#d8576b\"],[0.6666666666666666,\"#ed7953\"],[0.7777777777777778,\"#fb9f3a\"],[0.8888888888888888,\"#fdca26\"],[1.0,\"#f0f921\"]],\"type\":\"heatmap\"}],\"heatmapgl\":[{\"colorbar\":{\"outlinewidth\":0,\"ticks\":\"\"},\"colorscale\":[[0.0,\"#0d0887\"],[0.1111111111111111,\"#46039f\"],[0.2222222222222222,\"#7201a8\"],[0.3333333333333333,\"#9c179e\"],[0.4444444444444444,\"#bd3786\"],[0.5555555555555556,\"#d8576b\"],[0.6666666666666666,\"#ed7953\"],[0.7777777777777778,\"#fb9f3a\"],[0.8888888888888888,\"#fdca26\"],[1.0,\"#f0f921\"]],\"type\":\"heatmapgl\"}],\"histogram\":[{\"marker\":{\"pattern\":{\"fillmode\":\"overlay\",\"size\":10,\"solidity\":0.2}},\"type\":\"histogram\"}],\"histogram2d\":[{\"colorbar\":{\"outlinewidth\":0,\"ticks\":\"\"},\"colorscale\":[[0.0,\"#0d0887\"],[0.1111111111111111,\"#46039f\"],[0.2222222222222222,\"#7201a8\"],[0.3333333333333333,\"#9c179e\"],[0.4444444444444444,\"#bd3786\"],[0.5555555555555556,\"#d8576b\"],[0.6666666666666666,\"#ed7953\"],[0.7777777777777778,\"#fb9f3a\"],[0.8888888888888888,\"#fdca26\"],[1.0,\"#f0f921\"]],\"type\":\"histogram2d\"}],\"histogram2dcontour\":[{\"colorbar\":{\"outlinewidth\":0,\"ticks\":\"\"},\"colorscale\":[[0.0,\"#0d0887\"],[0.1111111111111111,\"#46039f\"],[0.2222222222222222,\"#7201a8\"],[0.3333333333333333,\"#9c179e\"],[0.4444444444444444,\"#bd3786\"],[0.5555555555555556,\"#d8576b\"],[0.6666666666666666,\"#ed7953\"],[0.7777777777777778,\"#fb9f3a\"],[0.8888888888888888,\"#fdca26\"],[1.0,\"#f0f921\"]],\"type\":\"histogram2dcontour\"}],\"mesh3d\":[{\"colorbar\":{\"outlinewidth\":0,\"ticks\":\"\"},\"type\":\"mesh3d\"}],\"parcoords\":[{\"line\":{\"colorbar\":{\"outlinewidth\":0,\"ticks\":\"\"}},\"type\":\"parcoords\"}],\"pie\":[{\"automargin\":true,\"type\":\"pie\"}],\"scatter\":[{\"marker\":{\"colorbar\":{\"outlinewidth\":0,\"ticks\":\"\"}},\"type\":\"scatter\"}],\"scatter3d\":[{\"line\":{\"colorbar\":{\"outlinewidth\":0,\"ticks\":\"\"}},\"marker\":{\"colorbar\":{\"outlinewidth\":0,\"ticks\":\"\"}},\"type\":\"scatter3d\"}],\"scattercarpet\":[{\"marker\":{\"colorbar\":{\"outlinewidth\":0,\"ticks\":\"\"}},\"type\":\"scattercarpet\"}],\"scattergeo\":[{\"marker\":{\"colorbar\":{\"outlinewidth\":0,\"ticks\":\"\"}},\"type\":\"scattergeo\"}],\"scattergl\":[{\"marker\":{\"colorbar\":{\"outlinewidth\":0,\"ticks\":\"\"}},\"type\":\"scattergl\"}],\"scattermapbox\":[{\"marker\":{\"colorbar\":{\"outlinewidth\":0,\"ticks\":\"\"}},\"type\":\"scattermapbox\"}],\"scatterpolar\":[{\"marker\":{\"colorbar\":{\"outlinewidth\":0,\"ticks\":\"\"}},\"type\":\"scatterpolar\"}],\"scatterpolargl\":[{\"marker\":{\"colorbar\":{\"outlinewidth\":0,\"ticks\":\"\"}},\"type\":\"scatterpolargl\"}],\"scatterternary\":[{\"marker\":{\"colorbar\":{\"outlinewidth\":0,\"ticks\":\"\"}},\"type\":\"scatterternary\"}],\"surface\":[{\"colorbar\":{\"outlinewidth\":0,\"ticks\":\"\"},\"colorscale\":[[0.0,\"#0d0887\"],[0.1111111111111111,\"#46039f\"],[0.2222222222222222,\"#7201a8\"],[0.3333333333333333,\"#9c179e\"],[0.4444444444444444,\"#bd3786\"],[0.5555555555555556,\"#d8576b\"],[0.6666666666666666,\"#ed7953\"],[0.7777777777777778,\"#fb9f3a\"],[0.8888888888888888,\"#fdca26\"],[1.0,\"#f0f921\"]],\"type\":\"surface\"}],\"table\":[{\"cells\":{\"fill\":{\"color\":\"#EBF0F8\"},\"line\":{\"color\":\"white\"}},\"header\":{\"fill\":{\"color\":\"#C8D4E3\"},\"line\":{\"color\":\"white\"}},\"type\":\"table\"}]},\"layout\":{\"annotationdefaults\":{\"arrowcolor\":\"#2a3f5f\",\"arrowhead\":0,\"arrowwidth\":1},\"autotypenumbers\":\"strict\",\"coloraxis\":{\"colorbar\":{\"outlinewidth\":0,\"ticks\":\"\"}},\"colorscale\":{\"diverging\":[[0,\"#8e0152\"],[0.1,\"#c51b7d\"],[0.2,\"#de77ae\"],[0.3,\"#f1b6da\"],[0.4,\"#fde0ef\"],[0.5,\"#f7f7f7\"],[0.6,\"#e6f5d0\"],[0.7,\"#b8e186\"],[0.8,\"#7fbc41\"],[0.9,\"#4d9221\"],[1,\"#276419\"]],\"sequential\":[[0.0,\"#0d0887\"],[0.1111111111111111,\"#46039f\"],[0.2222222222222222,\"#7201a8\"],[0.3333333333333333,\"#9c179e\"],[0.4444444444444444,\"#bd3786\"],[0.5555555555555556,\"#d8576b\"],[0.6666666666666666,\"#ed7953\"],[0.7777777777777778,\"#fb9f3a\"],[0.8888888888888888,\"#fdca26\"],[1.0,\"#f0f921\"]],\"sequentialminus\":[[0.0,\"#0d0887\"],[0.1111111111111111,\"#46039f\"],[0.2222222222222222,\"#7201a8\"],[0.3333333333333333,\"#9c179e\"],[0.4444444444444444,\"#bd3786\"],[0.5555555555555556,\"#d8576b\"],[0.6666666666666666,\"#ed7953\"],[0.7777777777777778,\"#fb9f3a\"],[0.8888888888888888,\"#fdca26\"],[1.0,\"#f0f921\"]]},\"colorway\":[\"#636efa\",\"#EF553B\",\"#00cc96\",\"#ab63fa\",\"#FFA15A\",\"#19d3f3\",\"#FF6692\",\"#B6E880\",\"#FF97FF\",\"#FECB52\"],\"font\":{\"color\":\"#2a3f5f\"},\"geo\":{\"bgcolor\":\"white\",\"lakecolor\":\"white\",\"landcolor\":\"#E5ECF6\",\"showlakes\":true,\"showland\":true,\"subunitcolor\":\"white\"},\"hoverlabel\":{\"align\":\"left\"},\"hovermode\":\"closest\",\"mapbox\":{\"style\":\"light\"},\"paper_bgcolor\":\"white\",\"plot_bgcolor\":\"#E5ECF6\",\"polar\":{\"angularaxis\":{\"gridcolor\":\"white\",\"linecolor\":\"white\",\"ticks\":\"\"},\"bgcolor\":\"#E5ECF6\",\"radialaxis\":{\"gridcolor\":\"white\",\"linecolor\":\"white\",\"ticks\":\"\"}},\"scene\":{\"xaxis\":{\"backgroundcolor\":\"#E5ECF6\",\"gridcolor\":\"white\",\"gridwidth\":2,\"linecolor\":\"white\",\"showbackground\":true,\"ticks\":\"\",\"zerolinecolor\":\"white\"},\"yaxis\":{\"backgroundcolor\":\"#E5ECF6\",\"gridcolor\":\"white\",\"gridwidth\":2,\"linecolor\":\"white\",\"showbackground\":true,\"ticks\":\"\",\"zerolinecolor\":\"white\"},\"zaxis\":{\"backgroundcolor\":\"#E5ECF6\",\"gridcolor\":\"white\",\"gridwidth\":2,\"linecolor\":\"white\",\"showbackground\":true,\"ticks\":\"\",\"zerolinecolor\":\"white\"}},\"shapedefaults\":{\"line\":{\"color\":\"#2a3f5f\"}},\"ternary\":{\"aaxis\":{\"gridcolor\":\"white\",\"linecolor\":\"white\",\"ticks\":\"\"},\"baxis\":{\"gridcolor\":\"white\",\"linecolor\":\"white\",\"ticks\":\"\"},\"bgcolor\":\"#E5ECF6\",\"caxis\":{\"gridcolor\":\"white\",\"linecolor\":\"white\",\"ticks\":\"\"}},\"title\":{\"x\":0.05},\"xaxis\":{\"automargin\":true,\"gridcolor\":\"white\",\"linecolor\":\"white\",\"ticks\":\"\",\"title\":{\"standoff\":15},\"zerolinecolor\":\"white\",\"zerolinewidth\":2},\"yaxis\":{\"automargin\":true,\"gridcolor\":\"white\",\"linecolor\":\"white\",\"ticks\":\"\",\"title\":{\"standoff\":15},\"zerolinecolor\":\"white\",\"zerolinewidth\":2}}},\"coloraxis\":{\"colorbar\":{\"title\":{\"text\":\"Percentage\"}},\"colorscale\":[[0.0,\"#0d0887\"],[0.1111111111111111,\"#46039f\"],[0.2222222222222222,\"#7201a8\"],[0.3333333333333333,\"#9c179e\"],[0.4444444444444444,\"#bd3786\"],[0.5555555555555556,\"#d8576b\"],[0.6666666666666666,\"#ed7953\"],[0.7777777777777778,\"#fb9f3a\"],[0.8888888888888888,\"#fdca26\"],[1.0,\"#f0f921\"]]},\"legend\":{\"tracegroupgap\":0},\"margin\":{\"t\":60}},                        {\"responsive\": true}                    ).then(function(){\n",
       "                            \n",
       "var gd = document.getElementById('aa57c26b-ec4c-4c21-9c91-39ca77763fec');\n",
       "var x = new MutationObserver(function (mutations, observer) {{\n",
       "        var display = window.getComputedStyle(gd).display;\n",
       "        if (!display || display === 'none') {{\n",
       "            console.log([gd, 'removed!']);\n",
       "            Plotly.purge(gd);\n",
       "            observer.disconnect();\n",
       "        }}\n",
       "}});\n",
       "\n",
       "// Listen for the removal of the full notebook cells\n",
       "var notebookContainer = gd.closest('#notebook-container');\n",
       "if (notebookContainer) {{\n",
       "    x.observe(notebookContainer, {childList: true});\n",
       "}}\n",
       "\n",
       "// Listen for the clearing of the current output cell\n",
       "var outputEl = gd.closest('.output');\n",
       "if (outputEl) {{\n",
       "    x.observe(outputEl, {childList: true});\n",
       "}}\n",
       "\n",
       "                        })                };                });            </script>        </div>"
      ]
     },
     "metadata": {},
     "output_type": "display_data"
    }
   ],
   "source": [
    "fig = px.sunburst(dataset, path=['parental level of education', 'race/ethnicity',\"Result\"], values='Percentage', color=\"Percentage\")\n",
    "fig.show()"
   ]
  },
  {
   "cell_type": "markdown",
   "id": "0da790af",
   "metadata": {},
   "source": [
    "So from above figure we can tell everything about my dataset "
   ]
  },
  {
   "cell_type": "markdown",
   "id": "debc3a4d",
   "metadata": {},
   "source": [
    "Now I want to see if there is any kind of relation between parental level of education and result of student"
   ]
  },
  {
   "cell_type": "code",
   "execution_count": 46,
   "id": "3644855a",
   "metadata": {},
   "outputs": [],
   "source": [
    "df = pd.DataFrame()\n",
    "df[\"parent_edu\"] = dataset[\"parental level of education\"]\n",
    "df[\"result\"] = dataset[\"Result\"]"
   ]
  },
  {
   "cell_type": "code",
   "execution_count": 47,
   "id": "ecdcf2bb",
   "metadata": {},
   "outputs": [
    {
     "data": {
      "text/html": [
       "<div>\n",
       "<style scoped>\n",
       "    .dataframe tbody tr th:only-of-type {\n",
       "        vertical-align: middle;\n",
       "    }\n",
       "\n",
       "    .dataframe tbody tr th {\n",
       "        vertical-align: top;\n",
       "    }\n",
       "\n",
       "    .dataframe thead th {\n",
       "        text-align: right;\n",
       "    }\n",
       "</style>\n",
       "<table border=\"1\" class=\"dataframe\">\n",
       "  <thead>\n",
       "    <tr style=\"text-align: right;\">\n",
       "      <th></th>\n",
       "      <th>parent_edu</th>\n",
       "      <th>result</th>\n",
       "    </tr>\n",
       "  </thead>\n",
       "  <tbody>\n",
       "    <tr>\n",
       "      <th>0</th>\n",
       "      <td>bachelor's degree</td>\n",
       "      <td>Pass</td>\n",
       "    </tr>\n",
       "    <tr>\n",
       "      <th>1</th>\n",
       "      <td>some college</td>\n",
       "      <td>Pass</td>\n",
       "    </tr>\n",
       "    <tr>\n",
       "      <th>2</th>\n",
       "      <td>master's degree</td>\n",
       "      <td>Pass</td>\n",
       "    </tr>\n",
       "    <tr>\n",
       "      <th>3</th>\n",
       "      <td>associate's degree</td>\n",
       "      <td>Pass</td>\n",
       "    </tr>\n",
       "    <tr>\n",
       "      <th>4</th>\n",
       "      <td>some college</td>\n",
       "      <td>Pass</td>\n",
       "    </tr>\n",
       "    <tr>\n",
       "      <th>...</th>\n",
       "      <td>...</td>\n",
       "      <td>...</td>\n",
       "    </tr>\n",
       "    <tr>\n",
       "      <th>995</th>\n",
       "      <td>master's degree</td>\n",
       "      <td>Pass</td>\n",
       "    </tr>\n",
       "    <tr>\n",
       "      <th>996</th>\n",
       "      <td>high school</td>\n",
       "      <td>Pass</td>\n",
       "    </tr>\n",
       "    <tr>\n",
       "      <th>997</th>\n",
       "      <td>high school</td>\n",
       "      <td>Pass</td>\n",
       "    </tr>\n",
       "    <tr>\n",
       "      <th>998</th>\n",
       "      <td>some college</td>\n",
       "      <td>Pass</td>\n",
       "    </tr>\n",
       "    <tr>\n",
       "      <th>999</th>\n",
       "      <td>some college</td>\n",
       "      <td>Pass</td>\n",
       "    </tr>\n",
       "  </tbody>\n",
       "</table>\n",
       "<p>1000 rows × 2 columns</p>\n",
       "</div>"
      ],
      "text/plain": [
       "             parent_edu result\n",
       "0     bachelor's degree   Pass\n",
       "1          some college   Pass\n",
       "2       master's degree   Pass\n",
       "3    associate's degree   Pass\n",
       "4          some college   Pass\n",
       "..                  ...    ...\n",
       "995     master's degree   Pass\n",
       "996         high school   Pass\n",
       "997         high school   Pass\n",
       "998        some college   Pass\n",
       "999        some college   Pass\n",
       "\n",
       "[1000 rows x 2 columns]"
      ]
     },
     "execution_count": 47,
     "metadata": {},
     "output_type": "execute_result"
    }
   ],
   "source": [
    "df"
   ]
  },
  {
   "cell_type": "code",
   "execution_count": 48,
   "id": "a723f6c1",
   "metadata": {},
   "outputs": [
    {
     "data": {
      "application/vnd.plotly.v1+json": {
       "config": {
        "plotlyServerURL": "https://plot.ly"
       },
       "data": [
        {
         "alignmentgroup": "True",
         "bingroup": "x",
         "hovertemplate": "result=Pass<br>parent_edu=%{x}<br>count=%{y}<extra></extra>",
         "legendgroup": "Pass",
         "marker": {
          "color": "#636efa",
          "pattern": {
           "shape": ""
          }
         },
         "name": "Pass",
         "offsetgroup": "Pass",
         "orientation": "v",
         "showlegend": true,
         "type": "histogram",
         "x": [
          "bachelor's degree",
          "some college",
          "master's degree",
          "associate's degree",
          "some college",
          "associate's degree",
          "some college",
          "some college",
          "high school",
          "high school",
          "associate's degree",
          "associate's degree",
          "high school",
          "some college",
          "master's degree",
          "some high school",
          "high school",
          "master's degree",
          "associate's degree",
          "high school",
          "some college",
          "some college",
          "some high school",
          "bachelor's degree",
          "master's degree",
          "some college",
          "bachelor's degree",
          "high school",
          "master's degree",
          "some college",
          "some college",
          "master's degree",
          "some college",
          "some college",
          "associate's degree",
          "associate's degree",
          "some high school",
          "associate's degree",
          "associate's degree",
          "associate's degree",
          "associate's degree",
          "associate's degree",
          "some college",
          "associate's degree",
          "associate's degree",
          "associate's degree",
          "high school",
          "associate's degree",
          "high school",
          "some college",
          "associate's degree",
          "some college",
          "high school",
          "some high school",
          "high school",
          "associate's degree",
          "associate's degree",
          "some college",
          "bachelor's degree",
          "some high school",
          "associate's degree",
          "associate's degree",
          "some high school",
          "some high school",
          "some high school",
          "some college",
          "associate's degree",
          "associate's degree",
          "some college",
          "some college",
          "associate's degree",
          "some high school",
          "some high school",
          "associate's degree",
          "bachelor's degree",
          "some high school",
          "master's degree",
          "associate's degree",
          "high school",
          "some college",
          "associate's degree",
          "high school",
          "some college",
          "some college",
          "associate's degree",
          "some college",
          "some high school",
          "bachelor's degree",
          "high school",
          "associate's degree",
          "some college",
          "associate's degree",
          "some high school",
          "some college",
          "some college",
          "bachelor's degree",
          "some college",
          "bachelor's degree",
          "associate's degree",
          "high school",
          "some college",
          "some college",
          "master's degree",
          "associate's degree",
          "associate's degree",
          "some high school",
          "associate's degree",
          "high school",
          "associate's degree",
          "some college",
          "bachelor's degree",
          "high school",
          "bachelor's degree",
          "bachelor's degree",
          "some high school",
          "some college",
          "bachelor's degree",
          "associate's degree",
          "some college",
          "high school",
          "some college",
          "high school",
          "some high school",
          "some college",
          "master's degree",
          "bachelor's degree",
          "master's degree",
          "some high school",
          "some college",
          "some college",
          "bachelor's degree",
          "bachelor's degree",
          "some high school",
          "high school",
          "associate's degree",
          "some college",
          "some high school",
          "some college",
          "some college",
          "high school",
          "some college",
          "some high school",
          "associate's degree",
          "bachelor's degree",
          "associate's degree",
          "some high school",
          "bachelor's degree",
          "associate's degree",
          "bachelor's degree",
          "some high school",
          "some college",
          "high school",
          "some college",
          "associate's degree",
          "associate's degree",
          "associate's degree",
          "some college",
          "master's degree",
          "high school",
          "master's degree",
          "bachelor's degree",
          "high school",
          "master's degree",
          "high school",
          "some college",
          "high school",
          "some high school",
          "some college",
          "associate's degree",
          "bachelor's degree",
          "master's degree",
          "high school",
          "associate's degree",
          "master's degree",
          "some high school",
          "master's degree",
          "some college",
          "high school",
          "associate's degree",
          "some high school",
          "associate's degree",
          "high school",
          "some high school",
          "some high school",
          "bachelor's degree",
          "associate's degree",
          "some college",
          "some high school",
          "some college",
          "master's degree",
          "associate's degree",
          "some high school",
          "high school",
          "some college",
          "bachelor's degree",
          "associate's degree",
          "some college",
          "associate's degree",
          "associate's degree",
          "some college",
          "some high school",
          "bachelor's degree",
          "high school",
          "some college",
          "some college",
          "some high school",
          "high school",
          "associate's degree",
          "high school",
          "some high school",
          "associate's degree",
          "high school",
          "high school",
          "some high school",
          "high school",
          "associate's degree",
          "some high school",
          "some high school",
          "associate's degree",
          "master's degree",
          "some college",
          "high school",
          "some high school",
          "some college",
          "some college",
          "associate's degree",
          "bachelor's degree",
          "some high school",
          "bachelor's degree",
          "associate's degree",
          "bachelor's degree",
          "some high school",
          "some college",
          "associate's degree",
          "high school",
          "bachelor's degree",
          "high school",
          "some college",
          "some high school",
          "associate's degree",
          "associate's degree",
          "high school",
          "high school",
          "high school",
          "some high school",
          "some college",
          "some high school",
          "master's degree",
          "high school",
          "some college",
          "associate's degree",
          "associate's degree",
          "some college",
          "master's degree",
          "some high school",
          "some college",
          "some high school",
          "high school",
          "high school",
          "some high school",
          "bachelor's degree",
          "high school",
          "associate's degree",
          "some college",
          "bachelor's degree",
          "some college",
          "associate's degree",
          "some college",
          "some college",
          "bachelor's degree",
          "some high school",
          "high school",
          "some high school",
          "bachelor's degree",
          "high school",
          "high school",
          "bachelor's degree",
          "some college",
          "some high school",
          "associate's degree",
          "associate's degree",
          "some high school",
          "bachelor's degree",
          "some high school",
          "associate's degree",
          "some high school",
          "some high school",
          "bachelor's degree",
          "high school",
          "associate's degree",
          "some high school",
          "associate's degree",
          "high school",
          "associate's degree",
          "some college",
          "some high school",
          "associate's degree",
          "associate's degree",
          "associate's degree",
          "some college",
          "some college",
          "some high school",
          "associate's degree",
          "high school",
          "associate's degree",
          "bachelor's degree",
          "bachelor's degree",
          "associate's degree",
          "bachelor's degree",
          "high school",
          "master's degree",
          "associate's degree",
          "bachelor's degree",
          "associate's degree",
          "high school",
          "high school",
          "some college",
          "some high school",
          "high school",
          "some college",
          "some college",
          "associate's degree",
          "some high school",
          "high school",
          "associate's degree",
          "associate's degree",
          "associate's degree",
          "bachelor's degree",
          "some college",
          "some high school",
          "associate's degree",
          "some high school",
          "high school",
          "high school",
          "high school",
          "associate's degree",
          "some college",
          "high school",
          "some college",
          "bachelor's degree",
          "high school",
          "associate's degree",
          "bachelor's degree",
          "some college",
          "some college",
          "associate's degree",
          "some college",
          "bachelor's degree",
          "associate's degree",
          "some college",
          "some college",
          "some college",
          "high school",
          "some high school",
          "some college",
          "some college",
          "bachelor's degree",
          "high school",
          "bachelor's degree",
          "some high school",
          "some high school",
          "some college",
          "some college",
          "some high school",
          "some college",
          "bachelor's degree",
          "associate's degree",
          "some high school",
          "master's degree",
          "some high school",
          "bachelor's degree",
          "associate's degree",
          "associate's degree",
          "master's degree",
          "some high school",
          "some high school",
          "some college",
          "bachelor's degree",
          "associate's degree",
          "high school",
          "master's degree",
          "some high school",
          "some college",
          "some college",
          "associate's degree",
          "some high school",
          "high school",
          "high school",
          "associate's degree",
          "some high school",
          "some high school",
          "some high school",
          "some college",
          "some college",
          "high school",
          "high school",
          "some high school",
          "associate's degree",
          "associate's degree",
          "high school",
          "associate's degree",
          "master's degree",
          "some college",
          "associate's degree",
          "some high school",
          "bachelor's degree",
          "high school",
          "bachelor's degree",
          "associate's degree",
          "some college",
          "high school",
          "associate's degree",
          "high school",
          "master's degree",
          "some high school",
          "some college",
          "some college",
          "bachelor's degree",
          "some high school",
          "some high school",
          "some high school",
          "associate's degree",
          "high school",
          "high school",
          "some high school",
          "some high school",
          "some college",
          "associate's degree",
          "associate's degree",
          "high school",
          "some high school",
          "some college",
          "high school",
          "some high school",
          "associate's degree",
          "some high school",
          "some high school",
          "some college",
          "high school",
          "high school",
          "associate's degree",
          "some college",
          "some college",
          "associate's degree",
          "some college",
          "associate's degree",
          "bachelor's degree",
          "bachelor's degree",
          "associate's degree",
          "bachelor's degree",
          "high school",
          "bachelor's degree",
          "some college",
          "some college",
          "some college",
          "bachelor's degree",
          "some college",
          "high school",
          "high school",
          "some college",
          "associate's degree",
          "high school",
          "associate's degree",
          "some high school",
          "associate's degree",
          "bachelor's degree",
          "bachelor's degree",
          "associate's degree",
          "master's degree",
          "associate's degree",
          "high school",
          "associate's degree",
          "some college",
          "high school",
          "associate's degree",
          "high school",
          "some college",
          "associate's degree",
          "some high school",
          "associate's degree",
          "associate's degree",
          "associate's degree",
          "some college",
          "bachelor's degree",
          "high school",
          "high school",
          "some college",
          "some college",
          "some high school",
          "some college",
          "master's degree",
          "associate's degree",
          "some college",
          "associate's degree",
          "master's degree",
          "some high school",
          "high school",
          "bachelor's degree",
          "master's degree",
          "bachelor's degree",
          "some college",
          "some high school",
          "some high school",
          "some high school",
          "master's degree",
          "some high school",
          "some college",
          "some college",
          "some high school",
          "high school",
          "some college",
          "associate's degree",
          "bachelor's degree",
          "master's degree",
          "high school",
          "some college",
          "some high school",
          "high school",
          "bachelor's degree",
          "associate's degree",
          "associate's degree",
          "some high school",
          "associate's degree",
          "associate's degree",
          "high school",
          "bachelor's degree",
          "associate's degree",
          "high school",
          "bachelor's degree",
          "associate's degree",
          "high school",
          "associate's degree",
          "associate's degree",
          "associate's degree",
          "master's degree",
          "some high school",
          "some high school",
          "high school",
          "high school",
          "master's degree",
          "some high school",
          "bachelor's degree",
          "associate's degree",
          "some college",
          "associate's degree",
          "some college",
          "associate's degree",
          "master's degree",
          "associate's degree",
          "some high school",
          "some college",
          "some college",
          "bachelor's degree",
          "some college",
          "bachelor's degree",
          "associate's degree",
          "bachelor's degree",
          "master's degree",
          "high school",
          "bachelor's degree",
          "some college",
          "bachelor's degree",
          "some college",
          "high school",
          "high school",
          "associate's degree",
          "some college",
          "high school",
          "some college",
          "master's degree",
          "some high school",
          "some high school",
          "bachelor's degree",
          "associate's degree",
          "some college",
          "associate's degree",
          "high school",
          "bachelor's degree",
          "some college",
          "some high school",
          "some college",
          "some high school",
          "bachelor's degree",
          "high school",
          "bachelor's degree",
          "bachelor's degree",
          "some high school",
          "high school",
          "some high school",
          "master's degree",
          "some college",
          "high school",
          "master's degree",
          "some high school",
          "associate's degree",
          "master's degree",
          "some college",
          "associate's degree",
          "some college",
          "some college",
          "bachelor's degree",
          "associate's degree",
          "associate's degree",
          "high school",
          "bachelor's degree",
          "bachelor's degree",
          "master's degree",
          "associate's degree",
          "high school",
          "bachelor's degree",
          "high school",
          "some college",
          "bachelor's degree",
          "some college",
          "associate's degree",
          "associate's degree",
          "some college",
          "some high school",
          "some college",
          "high school",
          "bachelor's degree",
          "high school",
          "some high school",
          "high school",
          "high school",
          "some high school",
          "some college",
          "associate's degree",
          "high school",
          "associate's degree",
          "some high school",
          "high school",
          "high school",
          "bachelor's degree",
          "associate's degree",
          "high school",
          "high school",
          "some college",
          "some high school",
          "high school",
          "some college",
          "associate's degree",
          "some high school",
          "some college",
          "associate's degree",
          "some high school",
          "associate's degree",
          "associate's degree",
          "some college",
          "some high school",
          "some college",
          "high school",
          "associate's degree",
          "some high school",
          "some college",
          "bachelor's degree",
          "some college",
          "associate's degree",
          "high school",
          "associate's degree",
          "some college",
          "associate's degree",
          "high school",
          "some college",
          "some college",
          "some high school",
          "associate's degree",
          "some college",
          "high school",
          "high school",
          "high school",
          "some high school",
          "some college",
          "master's degree",
          "some college",
          "associate's degree",
          "high school",
          "some college",
          "associate's degree",
          "associate's degree",
          "bachelor's degree",
          "associate's degree",
          "some high school",
          "some college",
          "associate's degree",
          "bachelor's degree",
          "associate's degree",
          "high school",
          "bachelor's degree",
          "some high school",
          "bachelor's degree",
          "some college",
          "some high school",
          "bachelor's degree",
          "high school",
          "some college",
          "high school",
          "associate's degree",
          "some college",
          "some high school",
          "some college",
          "master's degree",
          "some high school",
          "associate's degree",
          "associate's degree",
          "associate's degree",
          "high school",
          "associate's degree",
          "some college",
          "some high school",
          "some high school",
          "high school",
          "some college",
          "some college",
          "associate's degree",
          "some high school",
          "high school",
          "some college",
          "associate's degree",
          "some high school",
          "some college",
          "some high school",
          "some college",
          "master's degree",
          "associate's degree",
          "some college",
          "associate's degree",
          "high school",
          "bachelor's degree",
          "associate's degree",
          "high school",
          "associate's degree",
          "some college",
          "associate's degree",
          "high school",
          "some college",
          "bachelor's degree",
          "some college",
          "some high school",
          "some college",
          "master's degree",
          "some high school",
          "associate's degree",
          "associate's degree",
          "some college",
          "bachelor's degree",
          "some college",
          "some college",
          "high school",
          "some high school",
          "some high school",
          "high school",
          "some college",
          "high school",
          "high school",
          "high school",
          "some high school",
          "some college",
          "high school",
          "bachelor's degree",
          "some high school",
          "bachelor's degree",
          "some college",
          "some high school",
          "high school",
          "some college",
          "some college",
          "associate's degree",
          "associate's degree",
          "master's degree",
          "high school",
          "associate's degree",
          "bachelor's degree",
          "some high school",
          "some high school",
          "associate's degree",
          "master's degree",
          "high school",
          "some college",
          "high school",
          "some high school",
          "high school",
          "associate's degree",
          "high school",
          "associate's degree",
          "some college",
          "associate's degree",
          "some high school",
          "some high school",
          "associate's degree",
          "some college",
          "some college",
          "some college",
          "some college",
          "high school",
          "high school",
          "bachelor's degree",
          "some high school",
          "high school",
          "master's degree",
          "some high school",
          "high school",
          "some high school",
          "bachelor's degree",
          "bachelor's degree",
          "high school",
          "some high school",
          "some high school",
          "bachelor's degree",
          "some college",
          "high school",
          "some high school",
          "high school",
          "associate's degree",
          "some high school",
          "some high school",
          "some high school",
          "some college",
          "bachelor's degree",
          "bachelor's degree",
          "high school",
          "some college",
          "high school",
          "high school",
          "high school",
          "associate's degree",
          "associate's degree",
          "high school",
          "some high school",
          "high school",
          "some college",
          "some high school",
          "master's degree",
          "master's degree",
          "high school",
          "high school",
          "associate's degree",
          "master's degree",
          "high school",
          "some college",
          "some high school",
          "some high school",
          "bachelor's degree",
          "some college",
          "bachelor's degree",
          "high school",
          "associate's degree",
          "associate's degree",
          "master's degree",
          "bachelor's degree",
          "some college",
          "associate's degree",
          "some college",
          "high school",
          "associate's degree",
          "associate's degree",
          "associate's degree",
          "high school",
          "some college",
          "associate's degree",
          "associate's degree",
          "bachelor's degree",
          "some college",
          "some college",
          "some high school",
          "some high school",
          "associate's degree",
          "bachelor's degree",
          "bachelor's degree",
          "high school",
          "bachelor's degree",
          "associate's degree",
          "associate's degree",
          "associate's degree",
          "high school",
          "some college",
          "high school",
          "some college",
          "associate's degree",
          "master's degree",
          "some high school",
          "associate's degree",
          "some high school",
          "some high school",
          "associate's degree",
          "some high school",
          "master's degree",
          "master's degree",
          "high school",
          "bachelor's degree",
          "some high school",
          "some college",
          "high school",
          "some college",
          "bachelor's degree",
          "bachelor's degree",
          "bachelor's degree",
          "some college",
          "bachelor's degree",
          "bachelor's degree",
          "associate's degree",
          "some college",
          "bachelor's degree",
          "high school",
          "associate's degree",
          "some college",
          "high school",
          "high school",
          "high school",
          "associate's degree",
          "high school",
          "some high school",
          "associate's degree",
          "high school",
          "associate's degree",
          "some high school",
          "some college",
          "some college",
          "associate's degree",
          "bachelor's degree",
          "associate's degree",
          "some college",
          "associate's degree",
          "high school",
          "some college",
          "some high school",
          "master's degree",
          "master's degree",
          "high school",
          "some high school",
          "high school",
          "associate's degree",
          "high school",
          "some college",
          "some high school",
          "high school",
          "high school",
          "some college",
          "some high school",
          "high school",
          "some college",
          "associate's degree",
          "some college",
          "master's degree",
          "high school",
          "high school",
          "some college",
          "some high school",
          "associate's degree",
          "some high school",
          "some college",
          "some college",
          "some high school",
          "some college",
          "associate's degree",
          "bachelor's degree",
          "bachelor's degree",
          "some high school",
          "high school",
          "some college",
          "some college",
          "some college",
          "some college",
          "associate's degree",
          "high school",
          "associate's degree",
          "some high school",
          "some high school",
          "some college",
          "some high school",
          "high school",
          "associate's degree",
          "some high school",
          "some high school",
          "some college",
          "high school",
          "some high school",
          "associate's degree",
          "bachelor's degree",
          "high school",
          "master's degree",
          "high school",
          "high school",
          "some college",
          "some college"
         ],
         "xaxis": "x",
         "yaxis": "y"
        },
        {
         "alignmentgroup": "True",
         "bingroup": "x",
         "hovertemplate": "result=Fale<br>parent_edu=%{x}<br>count=%{y}<extra></extra>",
         "legendgroup": "Fale",
         "marker": {
          "color": "#EF553B",
          "pattern": {
           "shape": ""
          }
         },
         "name": "Fale",
         "offsetgroup": "Fale",
         "orientation": "v",
         "showlegend": true,
         "type": "histogram",
         "x": [
          "some high school",
          "some high school",
          "some high school",
          "high school",
          "some college",
          "some college",
          "some college",
          "some high school",
          "some high school",
          "associate's degree",
          "high school",
          "high school",
          "some college",
          "high school",
          "high school"
         ],
         "xaxis": "x",
         "yaxis": "y"
        }
       ],
       "layout": {
        "barmode": "relative",
        "legend": {
         "title": {
          "text": "result"
         },
         "tracegroupgap": 0
        },
        "margin": {
         "t": 60
        },
        "template": {
         "data": {
          "bar": [
           {
            "error_x": {
             "color": "#2a3f5f"
            },
            "error_y": {
             "color": "#2a3f5f"
            },
            "marker": {
             "line": {
              "color": "#E5ECF6",
              "width": 0.5
             },
             "pattern": {
              "fillmode": "overlay",
              "size": 10,
              "solidity": 0.2
             }
            },
            "type": "bar"
           }
          ],
          "barpolar": [
           {
            "marker": {
             "line": {
              "color": "#E5ECF6",
              "width": 0.5
             },
             "pattern": {
              "fillmode": "overlay",
              "size": 10,
              "solidity": 0.2
             }
            },
            "type": "barpolar"
           }
          ],
          "carpet": [
           {
            "aaxis": {
             "endlinecolor": "#2a3f5f",
             "gridcolor": "white",
             "linecolor": "white",
             "minorgridcolor": "white",
             "startlinecolor": "#2a3f5f"
            },
            "baxis": {
             "endlinecolor": "#2a3f5f",
             "gridcolor": "white",
             "linecolor": "white",
             "minorgridcolor": "white",
             "startlinecolor": "#2a3f5f"
            },
            "type": "carpet"
           }
          ],
          "choropleth": [
           {
            "colorbar": {
             "outlinewidth": 0,
             "ticks": ""
            },
            "type": "choropleth"
           }
          ],
          "contour": [
           {
            "colorbar": {
             "outlinewidth": 0,
             "ticks": ""
            },
            "colorscale": [
             [
              0,
              "#0d0887"
             ],
             [
              0.1111111111111111,
              "#46039f"
             ],
             [
              0.2222222222222222,
              "#7201a8"
             ],
             [
              0.3333333333333333,
              "#9c179e"
             ],
             [
              0.4444444444444444,
              "#bd3786"
             ],
             [
              0.5555555555555556,
              "#d8576b"
             ],
             [
              0.6666666666666666,
              "#ed7953"
             ],
             [
              0.7777777777777778,
              "#fb9f3a"
             ],
             [
              0.8888888888888888,
              "#fdca26"
             ],
             [
              1,
              "#f0f921"
             ]
            ],
            "type": "contour"
           }
          ],
          "contourcarpet": [
           {
            "colorbar": {
             "outlinewidth": 0,
             "ticks": ""
            },
            "type": "contourcarpet"
           }
          ],
          "heatmap": [
           {
            "colorbar": {
             "outlinewidth": 0,
             "ticks": ""
            },
            "colorscale": [
             [
              0,
              "#0d0887"
             ],
             [
              0.1111111111111111,
              "#46039f"
             ],
             [
              0.2222222222222222,
              "#7201a8"
             ],
             [
              0.3333333333333333,
              "#9c179e"
             ],
             [
              0.4444444444444444,
              "#bd3786"
             ],
             [
              0.5555555555555556,
              "#d8576b"
             ],
             [
              0.6666666666666666,
              "#ed7953"
             ],
             [
              0.7777777777777778,
              "#fb9f3a"
             ],
             [
              0.8888888888888888,
              "#fdca26"
             ],
             [
              1,
              "#f0f921"
             ]
            ],
            "type": "heatmap"
           }
          ],
          "heatmapgl": [
           {
            "colorbar": {
             "outlinewidth": 0,
             "ticks": ""
            },
            "colorscale": [
             [
              0,
              "#0d0887"
             ],
             [
              0.1111111111111111,
              "#46039f"
             ],
             [
              0.2222222222222222,
              "#7201a8"
             ],
             [
              0.3333333333333333,
              "#9c179e"
             ],
             [
              0.4444444444444444,
              "#bd3786"
             ],
             [
              0.5555555555555556,
              "#d8576b"
             ],
             [
              0.6666666666666666,
              "#ed7953"
             ],
             [
              0.7777777777777778,
              "#fb9f3a"
             ],
             [
              0.8888888888888888,
              "#fdca26"
             ],
             [
              1,
              "#f0f921"
             ]
            ],
            "type": "heatmapgl"
           }
          ],
          "histogram": [
           {
            "marker": {
             "pattern": {
              "fillmode": "overlay",
              "size": 10,
              "solidity": 0.2
             }
            },
            "type": "histogram"
           }
          ],
          "histogram2d": [
           {
            "colorbar": {
             "outlinewidth": 0,
             "ticks": ""
            },
            "colorscale": [
             [
              0,
              "#0d0887"
             ],
             [
              0.1111111111111111,
              "#46039f"
             ],
             [
              0.2222222222222222,
              "#7201a8"
             ],
             [
              0.3333333333333333,
              "#9c179e"
             ],
             [
              0.4444444444444444,
              "#bd3786"
             ],
             [
              0.5555555555555556,
              "#d8576b"
             ],
             [
              0.6666666666666666,
              "#ed7953"
             ],
             [
              0.7777777777777778,
              "#fb9f3a"
             ],
             [
              0.8888888888888888,
              "#fdca26"
             ],
             [
              1,
              "#f0f921"
             ]
            ],
            "type": "histogram2d"
           }
          ],
          "histogram2dcontour": [
           {
            "colorbar": {
             "outlinewidth": 0,
             "ticks": ""
            },
            "colorscale": [
             [
              0,
              "#0d0887"
             ],
             [
              0.1111111111111111,
              "#46039f"
             ],
             [
              0.2222222222222222,
              "#7201a8"
             ],
             [
              0.3333333333333333,
              "#9c179e"
             ],
             [
              0.4444444444444444,
              "#bd3786"
             ],
             [
              0.5555555555555556,
              "#d8576b"
             ],
             [
              0.6666666666666666,
              "#ed7953"
             ],
             [
              0.7777777777777778,
              "#fb9f3a"
             ],
             [
              0.8888888888888888,
              "#fdca26"
             ],
             [
              1,
              "#f0f921"
             ]
            ],
            "type": "histogram2dcontour"
           }
          ],
          "mesh3d": [
           {
            "colorbar": {
             "outlinewidth": 0,
             "ticks": ""
            },
            "type": "mesh3d"
           }
          ],
          "parcoords": [
           {
            "line": {
             "colorbar": {
              "outlinewidth": 0,
              "ticks": ""
             }
            },
            "type": "parcoords"
           }
          ],
          "pie": [
           {
            "automargin": true,
            "type": "pie"
           }
          ],
          "scatter": [
           {
            "marker": {
             "colorbar": {
              "outlinewidth": 0,
              "ticks": ""
             }
            },
            "type": "scatter"
           }
          ],
          "scatter3d": [
           {
            "line": {
             "colorbar": {
              "outlinewidth": 0,
              "ticks": ""
             }
            },
            "marker": {
             "colorbar": {
              "outlinewidth": 0,
              "ticks": ""
             }
            },
            "type": "scatter3d"
           }
          ],
          "scattercarpet": [
           {
            "marker": {
             "colorbar": {
              "outlinewidth": 0,
              "ticks": ""
             }
            },
            "type": "scattercarpet"
           }
          ],
          "scattergeo": [
           {
            "marker": {
             "colorbar": {
              "outlinewidth": 0,
              "ticks": ""
             }
            },
            "type": "scattergeo"
           }
          ],
          "scattergl": [
           {
            "marker": {
             "colorbar": {
              "outlinewidth": 0,
              "ticks": ""
             }
            },
            "type": "scattergl"
           }
          ],
          "scattermapbox": [
           {
            "marker": {
             "colorbar": {
              "outlinewidth": 0,
              "ticks": ""
             }
            },
            "type": "scattermapbox"
           }
          ],
          "scatterpolar": [
           {
            "marker": {
             "colorbar": {
              "outlinewidth": 0,
              "ticks": ""
             }
            },
            "type": "scatterpolar"
           }
          ],
          "scatterpolargl": [
           {
            "marker": {
             "colorbar": {
              "outlinewidth": 0,
              "ticks": ""
             }
            },
            "type": "scatterpolargl"
           }
          ],
          "scatterternary": [
           {
            "marker": {
             "colorbar": {
              "outlinewidth": 0,
              "ticks": ""
             }
            },
            "type": "scatterternary"
           }
          ],
          "surface": [
           {
            "colorbar": {
             "outlinewidth": 0,
             "ticks": ""
            },
            "colorscale": [
             [
              0,
              "#0d0887"
             ],
             [
              0.1111111111111111,
              "#46039f"
             ],
             [
              0.2222222222222222,
              "#7201a8"
             ],
             [
              0.3333333333333333,
              "#9c179e"
             ],
             [
              0.4444444444444444,
              "#bd3786"
             ],
             [
              0.5555555555555556,
              "#d8576b"
             ],
             [
              0.6666666666666666,
              "#ed7953"
             ],
             [
              0.7777777777777778,
              "#fb9f3a"
             ],
             [
              0.8888888888888888,
              "#fdca26"
             ],
             [
              1,
              "#f0f921"
             ]
            ],
            "type": "surface"
           }
          ],
          "table": [
           {
            "cells": {
             "fill": {
              "color": "#EBF0F8"
             },
             "line": {
              "color": "white"
             }
            },
            "header": {
             "fill": {
              "color": "#C8D4E3"
             },
             "line": {
              "color": "white"
             }
            },
            "type": "table"
           }
          ]
         },
         "layout": {
          "annotationdefaults": {
           "arrowcolor": "#2a3f5f",
           "arrowhead": 0,
           "arrowwidth": 1
          },
          "autotypenumbers": "strict",
          "coloraxis": {
           "colorbar": {
            "outlinewidth": 0,
            "ticks": ""
           }
          },
          "colorscale": {
           "diverging": [
            [
             0,
             "#8e0152"
            ],
            [
             0.1,
             "#c51b7d"
            ],
            [
             0.2,
             "#de77ae"
            ],
            [
             0.3,
             "#f1b6da"
            ],
            [
             0.4,
             "#fde0ef"
            ],
            [
             0.5,
             "#f7f7f7"
            ],
            [
             0.6,
             "#e6f5d0"
            ],
            [
             0.7,
             "#b8e186"
            ],
            [
             0.8,
             "#7fbc41"
            ],
            [
             0.9,
             "#4d9221"
            ],
            [
             1,
             "#276419"
            ]
           ],
           "sequential": [
            [
             0,
             "#0d0887"
            ],
            [
             0.1111111111111111,
             "#46039f"
            ],
            [
             0.2222222222222222,
             "#7201a8"
            ],
            [
             0.3333333333333333,
             "#9c179e"
            ],
            [
             0.4444444444444444,
             "#bd3786"
            ],
            [
             0.5555555555555556,
             "#d8576b"
            ],
            [
             0.6666666666666666,
             "#ed7953"
            ],
            [
             0.7777777777777778,
             "#fb9f3a"
            ],
            [
             0.8888888888888888,
             "#fdca26"
            ],
            [
             1,
             "#f0f921"
            ]
           ],
           "sequentialminus": [
            [
             0,
             "#0d0887"
            ],
            [
             0.1111111111111111,
             "#46039f"
            ],
            [
             0.2222222222222222,
             "#7201a8"
            ],
            [
             0.3333333333333333,
             "#9c179e"
            ],
            [
             0.4444444444444444,
             "#bd3786"
            ],
            [
             0.5555555555555556,
             "#d8576b"
            ],
            [
             0.6666666666666666,
             "#ed7953"
            ],
            [
             0.7777777777777778,
             "#fb9f3a"
            ],
            [
             0.8888888888888888,
             "#fdca26"
            ],
            [
             1,
             "#f0f921"
            ]
           ]
          },
          "colorway": [
           "#636efa",
           "#EF553B",
           "#00cc96",
           "#ab63fa",
           "#FFA15A",
           "#19d3f3",
           "#FF6692",
           "#B6E880",
           "#FF97FF",
           "#FECB52"
          ],
          "font": {
           "color": "#2a3f5f"
          },
          "geo": {
           "bgcolor": "white",
           "lakecolor": "white",
           "landcolor": "#E5ECF6",
           "showlakes": true,
           "showland": true,
           "subunitcolor": "white"
          },
          "hoverlabel": {
           "align": "left"
          },
          "hovermode": "closest",
          "mapbox": {
           "style": "light"
          },
          "paper_bgcolor": "white",
          "plot_bgcolor": "#E5ECF6",
          "polar": {
           "angularaxis": {
            "gridcolor": "white",
            "linecolor": "white",
            "ticks": ""
           },
           "bgcolor": "#E5ECF6",
           "radialaxis": {
            "gridcolor": "white",
            "linecolor": "white",
            "ticks": ""
           }
          },
          "scene": {
           "xaxis": {
            "backgroundcolor": "#E5ECF6",
            "gridcolor": "white",
            "gridwidth": 2,
            "linecolor": "white",
            "showbackground": true,
            "ticks": "",
            "zerolinecolor": "white"
           },
           "yaxis": {
            "backgroundcolor": "#E5ECF6",
            "gridcolor": "white",
            "gridwidth": 2,
            "linecolor": "white",
            "showbackground": true,
            "ticks": "",
            "zerolinecolor": "white"
           },
           "zaxis": {
            "backgroundcolor": "#E5ECF6",
            "gridcolor": "white",
            "gridwidth": 2,
            "linecolor": "white",
            "showbackground": true,
            "ticks": "",
            "zerolinecolor": "white"
           }
          },
          "shapedefaults": {
           "line": {
            "color": "#2a3f5f"
           }
          },
          "ternary": {
           "aaxis": {
            "gridcolor": "white",
            "linecolor": "white",
            "ticks": ""
           },
           "baxis": {
            "gridcolor": "white",
            "linecolor": "white",
            "ticks": ""
           },
           "bgcolor": "#E5ECF6",
           "caxis": {
            "gridcolor": "white",
            "linecolor": "white",
            "ticks": ""
           }
          },
          "title": {
           "x": 0.05
          },
          "xaxis": {
           "automargin": true,
           "gridcolor": "white",
           "linecolor": "white",
           "ticks": "",
           "title": {
            "standoff": 15
           },
           "zerolinecolor": "white",
           "zerolinewidth": 2
          },
          "yaxis": {
           "automargin": true,
           "gridcolor": "white",
           "linecolor": "white",
           "ticks": "",
           "title": {
            "standoff": 15
           },
           "zerolinecolor": "white",
           "zerolinewidth": 2
          }
         }
        },
        "xaxis": {
         "anchor": "y",
         "domain": [
          0,
          1
         ],
         "title": {
          "text": "parent_edu"
         }
        },
        "yaxis": {
         "anchor": "x",
         "domain": [
          0,
          1
         ],
         "title": {
          "text": "count"
         }
        }
       }
      },
      "text/html": [
       "<div>                            <div id=\"3662b56d-9e1a-41c4-b9c7-f98a68f9cf9e\" class=\"plotly-graph-div\" style=\"height:525px; width:100%;\"></div>            <script type=\"text/javascript\">                require([\"plotly\"], function(Plotly) {                    window.PLOTLYENV=window.PLOTLYENV || {};                                    if (document.getElementById(\"3662b56d-9e1a-41c4-b9c7-f98a68f9cf9e\")) {                    Plotly.newPlot(                        \"3662b56d-9e1a-41c4-b9c7-f98a68f9cf9e\",                        [{\"alignmentgroup\":\"True\",\"bingroup\":\"x\",\"hovertemplate\":\"result=Pass<br>parent_edu=%{x}<br>count=%{y}<extra></extra>\",\"legendgroup\":\"Pass\",\"marker\":{\"color\":\"#636efa\",\"pattern\":{\"shape\":\"\"}},\"name\":\"Pass\",\"offsetgroup\":\"Pass\",\"orientation\":\"v\",\"showlegend\":true,\"x\":[\"bachelor's degree\",\"some college\",\"master's degree\",\"associate's degree\",\"some college\",\"associate's degree\",\"some college\",\"some college\",\"high school\",\"high school\",\"associate's degree\",\"associate's degree\",\"high school\",\"some college\",\"master's degree\",\"some high school\",\"high school\",\"master's degree\",\"associate's degree\",\"high school\",\"some college\",\"some college\",\"some high school\",\"bachelor's degree\",\"master's degree\",\"some college\",\"bachelor's degree\",\"high school\",\"master's degree\",\"some college\",\"some college\",\"master's degree\",\"some college\",\"some college\",\"associate's degree\",\"associate's degree\",\"some high school\",\"associate's degree\",\"associate's degree\",\"associate's degree\",\"associate's degree\",\"associate's degree\",\"some college\",\"associate's degree\",\"associate's degree\",\"associate's degree\",\"high school\",\"associate's degree\",\"high school\",\"some college\",\"associate's degree\",\"some college\",\"high school\",\"some high school\",\"high school\",\"associate's degree\",\"associate's degree\",\"some college\",\"bachelor's degree\",\"some high school\",\"associate's degree\",\"associate's degree\",\"some high school\",\"some high school\",\"some high school\",\"some college\",\"associate's degree\",\"associate's degree\",\"some college\",\"some college\",\"associate's degree\",\"some high school\",\"some high school\",\"associate's degree\",\"bachelor's degree\",\"some high school\",\"master's degree\",\"associate's degree\",\"high school\",\"some college\",\"associate's degree\",\"high school\",\"some college\",\"some college\",\"associate's degree\",\"some college\",\"some high school\",\"bachelor's degree\",\"high school\",\"associate's degree\",\"some college\",\"associate's degree\",\"some high school\",\"some college\",\"some college\",\"bachelor's degree\",\"some college\",\"bachelor's degree\",\"associate's degree\",\"high school\",\"some college\",\"some college\",\"master's degree\",\"associate's degree\",\"associate's degree\",\"some high school\",\"associate's degree\",\"high school\",\"associate's degree\",\"some college\",\"bachelor's degree\",\"high school\",\"bachelor's degree\",\"bachelor's degree\",\"some high school\",\"some college\",\"bachelor's degree\",\"associate's degree\",\"some college\",\"high school\",\"some college\",\"high school\",\"some high school\",\"some college\",\"master's degree\",\"bachelor's degree\",\"master's degree\",\"some high school\",\"some college\",\"some college\",\"bachelor's degree\",\"bachelor's degree\",\"some high school\",\"high school\",\"associate's degree\",\"some college\",\"some high school\",\"some college\",\"some college\",\"high school\",\"some college\",\"some high school\",\"associate's degree\",\"bachelor's degree\",\"associate's degree\",\"some high school\",\"bachelor's degree\",\"associate's degree\",\"bachelor's degree\",\"some high school\",\"some college\",\"high school\",\"some college\",\"associate's degree\",\"associate's degree\",\"associate's degree\",\"some college\",\"master's degree\",\"high school\",\"master's degree\",\"bachelor's degree\",\"high school\",\"master's degree\",\"high school\",\"some college\",\"high school\",\"some high school\",\"some college\",\"associate's degree\",\"bachelor's degree\",\"master's degree\",\"high school\",\"associate's degree\",\"master's degree\",\"some high school\",\"master's degree\",\"some college\",\"high school\",\"associate's degree\",\"some high school\",\"associate's degree\",\"high school\",\"some high school\",\"some high school\",\"bachelor's degree\",\"associate's degree\",\"some college\",\"some high school\",\"some college\",\"master's degree\",\"associate's degree\",\"some high school\",\"high school\",\"some college\",\"bachelor's degree\",\"associate's degree\",\"some college\",\"associate's degree\",\"associate's degree\",\"some college\",\"some high school\",\"bachelor's degree\",\"high school\",\"some college\",\"some college\",\"some high school\",\"high school\",\"associate's degree\",\"high school\",\"some high school\",\"associate's degree\",\"high school\",\"high school\",\"some high school\",\"high school\",\"associate's degree\",\"some high school\",\"some high school\",\"associate's degree\",\"master's degree\",\"some college\",\"high school\",\"some high school\",\"some college\",\"some college\",\"associate's degree\",\"bachelor's degree\",\"some high school\",\"bachelor's degree\",\"associate's degree\",\"bachelor's degree\",\"some high school\",\"some college\",\"associate's degree\",\"high school\",\"bachelor's degree\",\"high school\",\"some college\",\"some high school\",\"associate's degree\",\"associate's degree\",\"high school\",\"high school\",\"high school\",\"some high school\",\"some college\",\"some high school\",\"master's degree\",\"high school\",\"some college\",\"associate's degree\",\"associate's degree\",\"some college\",\"master's degree\",\"some high school\",\"some college\",\"some high school\",\"high school\",\"high school\",\"some high school\",\"bachelor's degree\",\"high school\",\"associate's degree\",\"some college\",\"bachelor's degree\",\"some college\",\"associate's degree\",\"some college\",\"some college\",\"bachelor's degree\",\"some high school\",\"high school\",\"some high school\",\"bachelor's degree\",\"high school\",\"high school\",\"bachelor's degree\",\"some college\",\"some high school\",\"associate's degree\",\"associate's degree\",\"some high school\",\"bachelor's degree\",\"some high school\",\"associate's degree\",\"some high school\",\"some high school\",\"bachelor's degree\",\"high school\",\"associate's degree\",\"some high school\",\"associate's degree\",\"high school\",\"associate's degree\",\"some college\",\"some high school\",\"associate's degree\",\"associate's degree\",\"associate's degree\",\"some college\",\"some college\",\"some high school\",\"associate's degree\",\"high school\",\"associate's degree\",\"bachelor's degree\",\"bachelor's degree\",\"associate's degree\",\"bachelor's degree\",\"high school\",\"master's degree\",\"associate's degree\",\"bachelor's degree\",\"associate's degree\",\"high school\",\"high school\",\"some college\",\"some high school\",\"high school\",\"some college\",\"some college\",\"associate's degree\",\"some high school\",\"high school\",\"associate's degree\",\"associate's degree\",\"associate's degree\",\"bachelor's degree\",\"some college\",\"some high school\",\"associate's degree\",\"some high school\",\"high school\",\"high school\",\"high school\",\"associate's degree\",\"some college\",\"high school\",\"some college\",\"bachelor's degree\",\"high school\",\"associate's degree\",\"bachelor's degree\",\"some college\",\"some college\",\"associate's degree\",\"some college\",\"bachelor's degree\",\"associate's degree\",\"some college\",\"some college\",\"some college\",\"high school\",\"some high school\",\"some college\",\"some college\",\"bachelor's degree\",\"high school\",\"bachelor's degree\",\"some high school\",\"some high school\",\"some college\",\"some college\",\"some high school\",\"some college\",\"bachelor's degree\",\"associate's degree\",\"some high school\",\"master's degree\",\"some high school\",\"bachelor's degree\",\"associate's degree\",\"associate's degree\",\"master's degree\",\"some high school\",\"some high school\",\"some college\",\"bachelor's degree\",\"associate's degree\",\"high school\",\"master's degree\",\"some high school\",\"some college\",\"some college\",\"associate's degree\",\"some high school\",\"high school\",\"high school\",\"associate's degree\",\"some high school\",\"some high school\",\"some high school\",\"some college\",\"some college\",\"high school\",\"high school\",\"some high school\",\"associate's degree\",\"associate's degree\",\"high school\",\"associate's degree\",\"master's degree\",\"some college\",\"associate's degree\",\"some high school\",\"bachelor's degree\",\"high school\",\"bachelor's degree\",\"associate's degree\",\"some college\",\"high school\",\"associate's degree\",\"high school\",\"master's degree\",\"some high school\",\"some college\",\"some college\",\"bachelor's degree\",\"some high school\",\"some high school\",\"some high school\",\"associate's degree\",\"high school\",\"high school\",\"some high school\",\"some high school\",\"some college\",\"associate's degree\",\"associate's degree\",\"high school\",\"some high school\",\"some college\",\"high school\",\"some high school\",\"associate's degree\",\"some high school\",\"some high school\",\"some college\",\"high school\",\"high school\",\"associate's degree\",\"some college\",\"some college\",\"associate's degree\",\"some college\",\"associate's degree\",\"bachelor's degree\",\"bachelor's degree\",\"associate's degree\",\"bachelor's degree\",\"high school\",\"bachelor's degree\",\"some college\",\"some college\",\"some college\",\"bachelor's degree\",\"some college\",\"high school\",\"high school\",\"some college\",\"associate's degree\",\"high school\",\"associate's degree\",\"some high school\",\"associate's degree\",\"bachelor's degree\",\"bachelor's degree\",\"associate's degree\",\"master's degree\",\"associate's degree\",\"high school\",\"associate's degree\",\"some college\",\"high school\",\"associate's degree\",\"high school\",\"some college\",\"associate's degree\",\"some high school\",\"associate's degree\",\"associate's degree\",\"associate's degree\",\"some college\",\"bachelor's degree\",\"high school\",\"high school\",\"some college\",\"some college\",\"some high school\",\"some college\",\"master's degree\",\"associate's degree\",\"some college\",\"associate's degree\",\"master's degree\",\"some high school\",\"high school\",\"bachelor's degree\",\"master's degree\",\"bachelor's degree\",\"some college\",\"some high school\",\"some high school\",\"some high school\",\"master's degree\",\"some high school\",\"some college\",\"some college\",\"some high school\",\"high school\",\"some college\",\"associate's degree\",\"bachelor's degree\",\"master's degree\",\"high school\",\"some college\",\"some high school\",\"high school\",\"bachelor's degree\",\"associate's degree\",\"associate's degree\",\"some high school\",\"associate's degree\",\"associate's degree\",\"high school\",\"bachelor's degree\",\"associate's degree\",\"high school\",\"bachelor's degree\",\"associate's degree\",\"high school\",\"associate's degree\",\"associate's degree\",\"associate's degree\",\"master's degree\",\"some high school\",\"some high school\",\"high school\",\"high school\",\"master's degree\",\"some high school\",\"bachelor's degree\",\"associate's degree\",\"some college\",\"associate's degree\",\"some college\",\"associate's degree\",\"master's degree\",\"associate's degree\",\"some high school\",\"some college\",\"some college\",\"bachelor's degree\",\"some college\",\"bachelor's degree\",\"associate's degree\",\"bachelor's degree\",\"master's degree\",\"high school\",\"bachelor's degree\",\"some college\",\"bachelor's degree\",\"some college\",\"high school\",\"high school\",\"associate's degree\",\"some college\",\"high school\",\"some college\",\"master's degree\",\"some high school\",\"some high school\",\"bachelor's degree\",\"associate's degree\",\"some college\",\"associate's degree\",\"high school\",\"bachelor's degree\",\"some college\",\"some high school\",\"some college\",\"some high school\",\"bachelor's degree\",\"high school\",\"bachelor's degree\",\"bachelor's degree\",\"some high school\",\"high school\",\"some high school\",\"master's degree\",\"some college\",\"high school\",\"master's degree\",\"some high school\",\"associate's degree\",\"master's degree\",\"some college\",\"associate's degree\",\"some college\",\"some college\",\"bachelor's degree\",\"associate's degree\",\"associate's degree\",\"high school\",\"bachelor's degree\",\"bachelor's degree\",\"master's degree\",\"associate's degree\",\"high school\",\"bachelor's degree\",\"high school\",\"some college\",\"bachelor's degree\",\"some college\",\"associate's degree\",\"associate's degree\",\"some college\",\"some high school\",\"some college\",\"high school\",\"bachelor's degree\",\"high school\",\"some high school\",\"high school\",\"high school\",\"some high school\",\"some college\",\"associate's degree\",\"high school\",\"associate's degree\",\"some high school\",\"high school\",\"high school\",\"bachelor's degree\",\"associate's degree\",\"high school\",\"high school\",\"some college\",\"some high school\",\"high school\",\"some college\",\"associate's degree\",\"some high school\",\"some college\",\"associate's degree\",\"some high school\",\"associate's degree\",\"associate's degree\",\"some college\",\"some high school\",\"some college\",\"high school\",\"associate's degree\",\"some high school\",\"some college\",\"bachelor's degree\",\"some college\",\"associate's degree\",\"high school\",\"associate's degree\",\"some college\",\"associate's degree\",\"high school\",\"some college\",\"some college\",\"some high school\",\"associate's degree\",\"some college\",\"high school\",\"high school\",\"high school\",\"some high school\",\"some college\",\"master's degree\",\"some college\",\"associate's degree\",\"high school\",\"some college\",\"associate's degree\",\"associate's degree\",\"bachelor's degree\",\"associate's degree\",\"some high school\",\"some college\",\"associate's degree\",\"bachelor's degree\",\"associate's degree\",\"high school\",\"bachelor's degree\",\"some high school\",\"bachelor's degree\",\"some college\",\"some high school\",\"bachelor's degree\",\"high school\",\"some college\",\"high school\",\"associate's degree\",\"some college\",\"some high school\",\"some college\",\"master's degree\",\"some high school\",\"associate's degree\",\"associate's degree\",\"associate's degree\",\"high school\",\"associate's degree\",\"some college\",\"some high school\",\"some high school\",\"high school\",\"some college\",\"some college\",\"associate's degree\",\"some high school\",\"high school\",\"some college\",\"associate's degree\",\"some high school\",\"some college\",\"some high school\",\"some college\",\"master's degree\",\"associate's degree\",\"some college\",\"associate's degree\",\"high school\",\"bachelor's degree\",\"associate's degree\",\"high school\",\"associate's degree\",\"some college\",\"associate's degree\",\"high school\",\"some college\",\"bachelor's degree\",\"some college\",\"some high school\",\"some college\",\"master's degree\",\"some high school\",\"associate's degree\",\"associate's degree\",\"some college\",\"bachelor's degree\",\"some college\",\"some college\",\"high school\",\"some high school\",\"some high school\",\"high school\",\"some college\",\"high school\",\"high school\",\"high school\",\"some high school\",\"some college\",\"high school\",\"bachelor's degree\",\"some high school\",\"bachelor's degree\",\"some college\",\"some high school\",\"high school\",\"some college\",\"some college\",\"associate's degree\",\"associate's degree\",\"master's degree\",\"high school\",\"associate's degree\",\"bachelor's degree\",\"some high school\",\"some high school\",\"associate's degree\",\"master's degree\",\"high school\",\"some college\",\"high school\",\"some high school\",\"high school\",\"associate's degree\",\"high school\",\"associate's degree\",\"some college\",\"associate's degree\",\"some high school\",\"some high school\",\"associate's degree\",\"some college\",\"some college\",\"some college\",\"some college\",\"high school\",\"high school\",\"bachelor's degree\",\"some high school\",\"high school\",\"master's degree\",\"some high school\",\"high school\",\"some high school\",\"bachelor's degree\",\"bachelor's degree\",\"high school\",\"some high school\",\"some high school\",\"bachelor's degree\",\"some college\",\"high school\",\"some high school\",\"high school\",\"associate's degree\",\"some high school\",\"some high school\",\"some high school\",\"some college\",\"bachelor's degree\",\"bachelor's degree\",\"high school\",\"some college\",\"high school\",\"high school\",\"high school\",\"associate's degree\",\"associate's degree\",\"high school\",\"some high school\",\"high school\",\"some college\",\"some high school\",\"master's degree\",\"master's degree\",\"high school\",\"high school\",\"associate's degree\",\"master's degree\",\"high school\",\"some college\",\"some high school\",\"some high school\",\"bachelor's degree\",\"some college\",\"bachelor's degree\",\"high school\",\"associate's degree\",\"associate's degree\",\"master's degree\",\"bachelor's degree\",\"some college\",\"associate's degree\",\"some college\",\"high school\",\"associate's degree\",\"associate's degree\",\"associate's degree\",\"high school\",\"some college\",\"associate's degree\",\"associate's degree\",\"bachelor's degree\",\"some college\",\"some college\",\"some high school\",\"some high school\",\"associate's degree\",\"bachelor's degree\",\"bachelor's degree\",\"high school\",\"bachelor's degree\",\"associate's degree\",\"associate's degree\",\"associate's degree\",\"high school\",\"some college\",\"high school\",\"some college\",\"associate's degree\",\"master's degree\",\"some high school\",\"associate's degree\",\"some high school\",\"some high school\",\"associate's degree\",\"some high school\",\"master's degree\",\"master's degree\",\"high school\",\"bachelor's degree\",\"some high school\",\"some college\",\"high school\",\"some college\",\"bachelor's degree\",\"bachelor's degree\",\"bachelor's degree\",\"some college\",\"bachelor's degree\",\"bachelor's degree\",\"associate's degree\",\"some college\",\"bachelor's degree\",\"high school\",\"associate's degree\",\"some college\",\"high school\",\"high school\",\"high school\",\"associate's degree\",\"high school\",\"some high school\",\"associate's degree\",\"high school\",\"associate's degree\",\"some high school\",\"some college\",\"some college\",\"associate's degree\",\"bachelor's degree\",\"associate's degree\",\"some college\",\"associate's degree\",\"high school\",\"some college\",\"some high school\",\"master's degree\",\"master's degree\",\"high school\",\"some high school\",\"high school\",\"associate's degree\",\"high school\",\"some college\",\"some high school\",\"high school\",\"high school\",\"some college\",\"some high school\",\"high school\",\"some college\",\"associate's degree\",\"some college\",\"master's degree\",\"high school\",\"high school\",\"some college\",\"some high school\",\"associate's degree\",\"some high school\",\"some college\",\"some college\",\"some high school\",\"some college\",\"associate's degree\",\"bachelor's degree\",\"bachelor's degree\",\"some high school\",\"high school\",\"some college\",\"some college\",\"some college\",\"some college\",\"associate's degree\",\"high school\",\"associate's degree\",\"some high school\",\"some high school\",\"some college\",\"some high school\",\"high school\",\"associate's degree\",\"some high school\",\"some high school\",\"some college\",\"high school\",\"some high school\",\"associate's degree\",\"bachelor's degree\",\"high school\",\"master's degree\",\"high school\",\"high school\",\"some college\",\"some college\"],\"xaxis\":\"x\",\"yaxis\":\"y\",\"type\":\"histogram\"},{\"alignmentgroup\":\"True\",\"bingroup\":\"x\",\"hovertemplate\":\"result=Fale<br>parent_edu=%{x}<br>count=%{y}<extra></extra>\",\"legendgroup\":\"Fale\",\"marker\":{\"color\":\"#EF553B\",\"pattern\":{\"shape\":\"\"}},\"name\":\"Fale\",\"offsetgroup\":\"Fale\",\"orientation\":\"v\",\"showlegend\":true,\"x\":[\"some high school\",\"some high school\",\"some high school\",\"high school\",\"some college\",\"some college\",\"some college\",\"some high school\",\"some high school\",\"associate's degree\",\"high school\",\"high school\",\"some college\",\"high school\",\"high school\"],\"xaxis\":\"x\",\"yaxis\":\"y\",\"type\":\"histogram\"}],                        {\"template\":{\"data\":{\"bar\":[{\"error_x\":{\"color\":\"#2a3f5f\"},\"error_y\":{\"color\":\"#2a3f5f\"},\"marker\":{\"line\":{\"color\":\"#E5ECF6\",\"width\":0.5},\"pattern\":{\"fillmode\":\"overlay\",\"size\":10,\"solidity\":0.2}},\"type\":\"bar\"}],\"barpolar\":[{\"marker\":{\"line\":{\"color\":\"#E5ECF6\",\"width\":0.5},\"pattern\":{\"fillmode\":\"overlay\",\"size\":10,\"solidity\":0.2}},\"type\":\"barpolar\"}],\"carpet\":[{\"aaxis\":{\"endlinecolor\":\"#2a3f5f\",\"gridcolor\":\"white\",\"linecolor\":\"white\",\"minorgridcolor\":\"white\",\"startlinecolor\":\"#2a3f5f\"},\"baxis\":{\"endlinecolor\":\"#2a3f5f\",\"gridcolor\":\"white\",\"linecolor\":\"white\",\"minorgridcolor\":\"white\",\"startlinecolor\":\"#2a3f5f\"},\"type\":\"carpet\"}],\"choropleth\":[{\"colorbar\":{\"outlinewidth\":0,\"ticks\":\"\"},\"type\":\"choropleth\"}],\"contour\":[{\"colorbar\":{\"outlinewidth\":0,\"ticks\":\"\"},\"colorscale\":[[0.0,\"#0d0887\"],[0.1111111111111111,\"#46039f\"],[0.2222222222222222,\"#7201a8\"],[0.3333333333333333,\"#9c179e\"],[0.4444444444444444,\"#bd3786\"],[0.5555555555555556,\"#d8576b\"],[0.6666666666666666,\"#ed7953\"],[0.7777777777777778,\"#fb9f3a\"],[0.8888888888888888,\"#fdca26\"],[1.0,\"#f0f921\"]],\"type\":\"contour\"}],\"contourcarpet\":[{\"colorbar\":{\"outlinewidth\":0,\"ticks\":\"\"},\"type\":\"contourcarpet\"}],\"heatmap\":[{\"colorbar\":{\"outlinewidth\":0,\"ticks\":\"\"},\"colorscale\":[[0.0,\"#0d0887\"],[0.1111111111111111,\"#46039f\"],[0.2222222222222222,\"#7201a8\"],[0.3333333333333333,\"#9c179e\"],[0.4444444444444444,\"#bd3786\"],[0.5555555555555556,\"#d8576b\"],[0.6666666666666666,\"#ed7953\"],[0.7777777777777778,\"#fb9f3a\"],[0.8888888888888888,\"#fdca26\"],[1.0,\"#f0f921\"]],\"type\":\"heatmap\"}],\"heatmapgl\":[{\"colorbar\":{\"outlinewidth\":0,\"ticks\":\"\"},\"colorscale\":[[0.0,\"#0d0887\"],[0.1111111111111111,\"#46039f\"],[0.2222222222222222,\"#7201a8\"],[0.3333333333333333,\"#9c179e\"],[0.4444444444444444,\"#bd3786\"],[0.5555555555555556,\"#d8576b\"],[0.6666666666666666,\"#ed7953\"],[0.7777777777777778,\"#fb9f3a\"],[0.8888888888888888,\"#fdca26\"],[1.0,\"#f0f921\"]],\"type\":\"heatmapgl\"}],\"histogram\":[{\"marker\":{\"pattern\":{\"fillmode\":\"overlay\",\"size\":10,\"solidity\":0.2}},\"type\":\"histogram\"}],\"histogram2d\":[{\"colorbar\":{\"outlinewidth\":0,\"ticks\":\"\"},\"colorscale\":[[0.0,\"#0d0887\"],[0.1111111111111111,\"#46039f\"],[0.2222222222222222,\"#7201a8\"],[0.3333333333333333,\"#9c179e\"],[0.4444444444444444,\"#bd3786\"],[0.5555555555555556,\"#d8576b\"],[0.6666666666666666,\"#ed7953\"],[0.7777777777777778,\"#fb9f3a\"],[0.8888888888888888,\"#fdca26\"],[1.0,\"#f0f921\"]],\"type\":\"histogram2d\"}],\"histogram2dcontour\":[{\"colorbar\":{\"outlinewidth\":0,\"ticks\":\"\"},\"colorscale\":[[0.0,\"#0d0887\"],[0.1111111111111111,\"#46039f\"],[0.2222222222222222,\"#7201a8\"],[0.3333333333333333,\"#9c179e\"],[0.4444444444444444,\"#bd3786\"],[0.5555555555555556,\"#d8576b\"],[0.6666666666666666,\"#ed7953\"],[0.7777777777777778,\"#fb9f3a\"],[0.8888888888888888,\"#fdca26\"],[1.0,\"#f0f921\"]],\"type\":\"histogram2dcontour\"}],\"mesh3d\":[{\"colorbar\":{\"outlinewidth\":0,\"ticks\":\"\"},\"type\":\"mesh3d\"}],\"parcoords\":[{\"line\":{\"colorbar\":{\"outlinewidth\":0,\"ticks\":\"\"}},\"type\":\"parcoords\"}],\"pie\":[{\"automargin\":true,\"type\":\"pie\"}],\"scatter\":[{\"marker\":{\"colorbar\":{\"outlinewidth\":0,\"ticks\":\"\"}},\"type\":\"scatter\"}],\"scatter3d\":[{\"line\":{\"colorbar\":{\"outlinewidth\":0,\"ticks\":\"\"}},\"marker\":{\"colorbar\":{\"outlinewidth\":0,\"ticks\":\"\"}},\"type\":\"scatter3d\"}],\"scattercarpet\":[{\"marker\":{\"colorbar\":{\"outlinewidth\":0,\"ticks\":\"\"}},\"type\":\"scattercarpet\"}],\"scattergeo\":[{\"marker\":{\"colorbar\":{\"outlinewidth\":0,\"ticks\":\"\"}},\"type\":\"scattergeo\"}],\"scattergl\":[{\"marker\":{\"colorbar\":{\"outlinewidth\":0,\"ticks\":\"\"}},\"type\":\"scattergl\"}],\"scattermapbox\":[{\"marker\":{\"colorbar\":{\"outlinewidth\":0,\"ticks\":\"\"}},\"type\":\"scattermapbox\"}],\"scatterpolar\":[{\"marker\":{\"colorbar\":{\"outlinewidth\":0,\"ticks\":\"\"}},\"type\":\"scatterpolar\"}],\"scatterpolargl\":[{\"marker\":{\"colorbar\":{\"outlinewidth\":0,\"ticks\":\"\"}},\"type\":\"scatterpolargl\"}],\"scatterternary\":[{\"marker\":{\"colorbar\":{\"outlinewidth\":0,\"ticks\":\"\"}},\"type\":\"scatterternary\"}],\"surface\":[{\"colorbar\":{\"outlinewidth\":0,\"ticks\":\"\"},\"colorscale\":[[0.0,\"#0d0887\"],[0.1111111111111111,\"#46039f\"],[0.2222222222222222,\"#7201a8\"],[0.3333333333333333,\"#9c179e\"],[0.4444444444444444,\"#bd3786\"],[0.5555555555555556,\"#d8576b\"],[0.6666666666666666,\"#ed7953\"],[0.7777777777777778,\"#fb9f3a\"],[0.8888888888888888,\"#fdca26\"],[1.0,\"#f0f921\"]],\"type\":\"surface\"}],\"table\":[{\"cells\":{\"fill\":{\"color\":\"#EBF0F8\"},\"line\":{\"color\":\"white\"}},\"header\":{\"fill\":{\"color\":\"#C8D4E3\"},\"line\":{\"color\":\"white\"}},\"type\":\"table\"}]},\"layout\":{\"annotationdefaults\":{\"arrowcolor\":\"#2a3f5f\",\"arrowhead\":0,\"arrowwidth\":1},\"autotypenumbers\":\"strict\",\"coloraxis\":{\"colorbar\":{\"outlinewidth\":0,\"ticks\":\"\"}},\"colorscale\":{\"diverging\":[[0,\"#8e0152\"],[0.1,\"#c51b7d\"],[0.2,\"#de77ae\"],[0.3,\"#f1b6da\"],[0.4,\"#fde0ef\"],[0.5,\"#f7f7f7\"],[0.6,\"#e6f5d0\"],[0.7,\"#b8e186\"],[0.8,\"#7fbc41\"],[0.9,\"#4d9221\"],[1,\"#276419\"]],\"sequential\":[[0.0,\"#0d0887\"],[0.1111111111111111,\"#46039f\"],[0.2222222222222222,\"#7201a8\"],[0.3333333333333333,\"#9c179e\"],[0.4444444444444444,\"#bd3786\"],[0.5555555555555556,\"#d8576b\"],[0.6666666666666666,\"#ed7953\"],[0.7777777777777778,\"#fb9f3a\"],[0.8888888888888888,\"#fdca26\"],[1.0,\"#f0f921\"]],\"sequentialminus\":[[0.0,\"#0d0887\"],[0.1111111111111111,\"#46039f\"],[0.2222222222222222,\"#7201a8\"],[0.3333333333333333,\"#9c179e\"],[0.4444444444444444,\"#bd3786\"],[0.5555555555555556,\"#d8576b\"],[0.6666666666666666,\"#ed7953\"],[0.7777777777777778,\"#fb9f3a\"],[0.8888888888888888,\"#fdca26\"],[1.0,\"#f0f921\"]]},\"colorway\":[\"#636efa\",\"#EF553B\",\"#00cc96\",\"#ab63fa\",\"#FFA15A\",\"#19d3f3\",\"#FF6692\",\"#B6E880\",\"#FF97FF\",\"#FECB52\"],\"font\":{\"color\":\"#2a3f5f\"},\"geo\":{\"bgcolor\":\"white\",\"lakecolor\":\"white\",\"landcolor\":\"#E5ECF6\",\"showlakes\":true,\"showland\":true,\"subunitcolor\":\"white\"},\"hoverlabel\":{\"align\":\"left\"},\"hovermode\":\"closest\",\"mapbox\":{\"style\":\"light\"},\"paper_bgcolor\":\"white\",\"plot_bgcolor\":\"#E5ECF6\",\"polar\":{\"angularaxis\":{\"gridcolor\":\"white\",\"linecolor\":\"white\",\"ticks\":\"\"},\"bgcolor\":\"#E5ECF6\",\"radialaxis\":{\"gridcolor\":\"white\",\"linecolor\":\"white\",\"ticks\":\"\"}},\"scene\":{\"xaxis\":{\"backgroundcolor\":\"#E5ECF6\",\"gridcolor\":\"white\",\"gridwidth\":2,\"linecolor\":\"white\",\"showbackground\":true,\"ticks\":\"\",\"zerolinecolor\":\"white\"},\"yaxis\":{\"backgroundcolor\":\"#E5ECF6\",\"gridcolor\":\"white\",\"gridwidth\":2,\"linecolor\":\"white\",\"showbackground\":true,\"ticks\":\"\",\"zerolinecolor\":\"white\"},\"zaxis\":{\"backgroundcolor\":\"#E5ECF6\",\"gridcolor\":\"white\",\"gridwidth\":2,\"linecolor\":\"white\",\"showbackground\":true,\"ticks\":\"\",\"zerolinecolor\":\"white\"}},\"shapedefaults\":{\"line\":{\"color\":\"#2a3f5f\"}},\"ternary\":{\"aaxis\":{\"gridcolor\":\"white\",\"linecolor\":\"white\",\"ticks\":\"\"},\"baxis\":{\"gridcolor\":\"white\",\"linecolor\":\"white\",\"ticks\":\"\"},\"bgcolor\":\"#E5ECF6\",\"caxis\":{\"gridcolor\":\"white\",\"linecolor\":\"white\",\"ticks\":\"\"}},\"title\":{\"x\":0.05},\"xaxis\":{\"automargin\":true,\"gridcolor\":\"white\",\"linecolor\":\"white\",\"ticks\":\"\",\"title\":{\"standoff\":15},\"zerolinecolor\":\"white\",\"zerolinewidth\":2},\"yaxis\":{\"automargin\":true,\"gridcolor\":\"white\",\"linecolor\":\"white\",\"ticks\":\"\",\"title\":{\"standoff\":15},\"zerolinecolor\":\"white\",\"zerolinewidth\":2}}},\"xaxis\":{\"anchor\":\"y\",\"domain\":[0.0,1.0],\"title\":{\"text\":\"parent_edu\"}},\"yaxis\":{\"anchor\":\"x\",\"domain\":[0.0,1.0],\"title\":{\"text\":\"count\"}},\"legend\":{\"title\":{\"text\":\"result\"},\"tracegroupgap\":0},\"margin\":{\"t\":60},\"barmode\":\"relative\"},                        {\"responsive\": true}                    ).then(function(){\n",
       "                            \n",
       "var gd = document.getElementById('3662b56d-9e1a-41c4-b9c7-f98a68f9cf9e');\n",
       "var x = new MutationObserver(function (mutations, observer) {{\n",
       "        var display = window.getComputedStyle(gd).display;\n",
       "        if (!display || display === 'none') {{\n",
       "            console.log([gd, 'removed!']);\n",
       "            Plotly.purge(gd);\n",
       "            observer.disconnect();\n",
       "        }}\n",
       "}});\n",
       "\n",
       "// Listen for the removal of the full notebook cells\n",
       "var notebookContainer = gd.closest('#notebook-container');\n",
       "if (notebookContainer) {{\n",
       "    x.observe(notebookContainer, {childList: true});\n",
       "}}\n",
       "\n",
       "// Listen for the clearing of the current output cell\n",
       "var outputEl = gd.closest('.output');\n",
       "if (outputEl) {{\n",
       "    x.observe(outputEl, {childList: true});\n",
       "}}\n",
       "\n",
       "                        })                };                });            </script>        </div>"
      ]
     },
     "metadata": {},
     "output_type": "display_data"
    }
   ],
   "source": [
    "px.histogram(df, x=\"parent_edu\", color='result')"
   ]
  },
  {
   "cell_type": "markdown",
   "id": "25097c42",
   "metadata": {},
   "source": [
    "from above histogram we can say that:\n",
    "\n",
    "0.5% of students failed with parents having some high school degree \n",
    "0.5% of students failed with parents having high school degree \n",
    "0.4% of students failed with parents having some collage degree \n",
    "1 student failed with parents having associate's degree"
   ]
  },
  {
   "cell_type": "markdown",
   "id": "04604a94",
   "metadata": {},
   "source": [
    "Lets see if those students those were failed had studied or not !"
   ]
  },
  {
   "cell_type": "code",
   "execution_count": 54,
   "id": "40f29305",
   "metadata": {},
   "outputs": [],
   "source": [
    "failed_df = pd.DataFrame(dataset.iloc[np.where(dataset[\"Result\"]==\"Fale\")])"
   ]
  },
  {
   "cell_type": "code",
   "execution_count": 55,
   "id": "51b990b0",
   "metadata": {},
   "outputs": [
    {
     "data": {
      "text/html": [
       "<div>\n",
       "<style scoped>\n",
       "    .dataframe tbody tr th:only-of-type {\n",
       "        vertical-align: middle;\n",
       "    }\n",
       "\n",
       "    .dataframe tbody tr th {\n",
       "        vertical-align: top;\n",
       "    }\n",
       "\n",
       "    .dataframe thead th {\n",
       "        text-align: right;\n",
       "    }\n",
       "</style>\n",
       "<table border=\"1\" class=\"dataframe\">\n",
       "  <thead>\n",
       "    <tr style=\"text-align: right;\">\n",
       "      <th></th>\n",
       "      <th>gender</th>\n",
       "      <th>race/ethnicity</th>\n",
       "      <th>parental level of education</th>\n",
       "      <th>lunch</th>\n",
       "      <th>test preparation course</th>\n",
       "      <th>math score</th>\n",
       "      <th>reading score</th>\n",
       "      <th>writing score</th>\n",
       "      <th>Percentage</th>\n",
       "      <th>passed_in_maths</th>\n",
       "      <th>passed_in_writing</th>\n",
       "      <th>Result</th>\n",
       "    </tr>\n",
       "  </thead>\n",
       "  <tbody>\n",
       "    <tr>\n",
       "      <th>17</th>\n",
       "      <td>female</td>\n",
       "      <td>group B</td>\n",
       "      <td>some high school</td>\n",
       "      <td>free/reduced</td>\n",
       "      <td>none</td>\n",
       "      <td>18</td>\n",
       "      <td>32</td>\n",
       "      <td>28</td>\n",
       "      <td>26.0</td>\n",
       "      <td>Fale</td>\n",
       "      <td>Fale</td>\n",
       "      <td>Fale</td>\n",
       "    </tr>\n",
       "    <tr>\n",
       "      <th>59</th>\n",
       "      <td>female</td>\n",
       "      <td>group C</td>\n",
       "      <td>some high school</td>\n",
       "      <td>free/reduced</td>\n",
       "      <td>none</td>\n",
       "      <td>0</td>\n",
       "      <td>17</td>\n",
       "      <td>10</td>\n",
       "      <td>9.0</td>\n",
       "      <td>Fale</td>\n",
       "      <td>Fale</td>\n",
       "      <td>Fale</td>\n",
       "    </tr>\n",
       "    <tr>\n",
       "      <th>76</th>\n",
       "      <td>male</td>\n",
       "      <td>group E</td>\n",
       "      <td>some high school</td>\n",
       "      <td>standard</td>\n",
       "      <td>none</td>\n",
       "      <td>30</td>\n",
       "      <td>26</td>\n",
       "      <td>22</td>\n",
       "      <td>26.0</td>\n",
       "      <td>Fale</td>\n",
       "      <td>Fale</td>\n",
       "      <td>Fale</td>\n",
       "    </tr>\n",
       "    <tr>\n",
       "      <th>91</th>\n",
       "      <td>male</td>\n",
       "      <td>group C</td>\n",
       "      <td>high school</td>\n",
       "      <td>free/reduced</td>\n",
       "      <td>none</td>\n",
       "      <td>27</td>\n",
       "      <td>34</td>\n",
       "      <td>36</td>\n",
       "      <td>32.3</td>\n",
       "      <td>Fale</td>\n",
       "      <td>Pass</td>\n",
       "      <td>Fale</td>\n",
       "    </tr>\n",
       "    <tr>\n",
       "      <th>145</th>\n",
       "      <td>female</td>\n",
       "      <td>group C</td>\n",
       "      <td>some college</td>\n",
       "      <td>free/reduced</td>\n",
       "      <td>none</td>\n",
       "      <td>22</td>\n",
       "      <td>39</td>\n",
       "      <td>33</td>\n",
       "      <td>31.3</td>\n",
       "      <td>Fale</td>\n",
       "      <td>Fale</td>\n",
       "      <td>Fale</td>\n",
       "    </tr>\n",
       "    <tr>\n",
       "      <th>211</th>\n",
       "      <td>male</td>\n",
       "      <td>group C</td>\n",
       "      <td>some college</td>\n",
       "      <td>free/reduced</td>\n",
       "      <td>none</td>\n",
       "      <td>35</td>\n",
       "      <td>28</td>\n",
       "      <td>27</td>\n",
       "      <td>30.0</td>\n",
       "      <td>Pass</td>\n",
       "      <td>Fale</td>\n",
       "      <td>Fale</td>\n",
       "    </tr>\n",
       "    <tr>\n",
       "      <th>327</th>\n",
       "      <td>male</td>\n",
       "      <td>group A</td>\n",
       "      <td>some college</td>\n",
       "      <td>free/reduced</td>\n",
       "      <td>none</td>\n",
       "      <td>28</td>\n",
       "      <td>23</td>\n",
       "      <td>19</td>\n",
       "      <td>23.3</td>\n",
       "      <td>Fale</td>\n",
       "      <td>Fale</td>\n",
       "      <td>Fale</td>\n",
       "    </tr>\n",
       "    <tr>\n",
       "      <th>338</th>\n",
       "      <td>female</td>\n",
       "      <td>group B</td>\n",
       "      <td>some high school</td>\n",
       "      <td>free/reduced</td>\n",
       "      <td>none</td>\n",
       "      <td>24</td>\n",
       "      <td>38</td>\n",
       "      <td>27</td>\n",
       "      <td>29.7</td>\n",
       "      <td>Fale</td>\n",
       "      <td>Fale</td>\n",
       "      <td>Fale</td>\n",
       "    </tr>\n",
       "    <tr>\n",
       "      <th>363</th>\n",
       "      <td>female</td>\n",
       "      <td>group D</td>\n",
       "      <td>some high school</td>\n",
       "      <td>free/reduced</td>\n",
       "      <td>none</td>\n",
       "      <td>27</td>\n",
       "      <td>34</td>\n",
       "      <td>32</td>\n",
       "      <td>31.0</td>\n",
       "      <td>Fale</td>\n",
       "      <td>Fale</td>\n",
       "      <td>Fale</td>\n",
       "    </tr>\n",
       "    <tr>\n",
       "      <th>466</th>\n",
       "      <td>female</td>\n",
       "      <td>group D</td>\n",
       "      <td>associate's degree</td>\n",
       "      <td>free/reduced</td>\n",
       "      <td>none</td>\n",
       "      <td>26</td>\n",
       "      <td>31</td>\n",
       "      <td>38</td>\n",
       "      <td>31.7</td>\n",
       "      <td>Fale</td>\n",
       "      <td>Pass</td>\n",
       "      <td>Fale</td>\n",
       "    </tr>\n",
       "    <tr>\n",
       "      <th>596</th>\n",
       "      <td>male</td>\n",
       "      <td>group B</td>\n",
       "      <td>high school</td>\n",
       "      <td>free/reduced</td>\n",
       "      <td>none</td>\n",
       "      <td>30</td>\n",
       "      <td>24</td>\n",
       "      <td>15</td>\n",
       "      <td>23.0</td>\n",
       "      <td>Fale</td>\n",
       "      <td>Fale</td>\n",
       "      <td>Fale</td>\n",
       "    </tr>\n",
       "    <tr>\n",
       "      <th>601</th>\n",
       "      <td>female</td>\n",
       "      <td>group C</td>\n",
       "      <td>high school</td>\n",
       "      <td>standard</td>\n",
       "      <td>none</td>\n",
       "      <td>29</td>\n",
       "      <td>29</td>\n",
       "      <td>30</td>\n",
       "      <td>29.3</td>\n",
       "      <td>Fale</td>\n",
       "      <td>Fale</td>\n",
       "      <td>Fale</td>\n",
       "    </tr>\n",
       "    <tr>\n",
       "      <th>787</th>\n",
       "      <td>female</td>\n",
       "      <td>group B</td>\n",
       "      <td>some college</td>\n",
       "      <td>standard</td>\n",
       "      <td>none</td>\n",
       "      <td>19</td>\n",
       "      <td>38</td>\n",
       "      <td>32</td>\n",
       "      <td>29.7</td>\n",
       "      <td>Fale</td>\n",
       "      <td>Fale</td>\n",
       "      <td>Fale</td>\n",
       "    </tr>\n",
       "    <tr>\n",
       "      <th>896</th>\n",
       "      <td>male</td>\n",
       "      <td>group B</td>\n",
       "      <td>high school</td>\n",
       "      <td>free/reduced</td>\n",
       "      <td>none</td>\n",
       "      <td>36</td>\n",
       "      <td>29</td>\n",
       "      <td>27</td>\n",
       "      <td>30.7</td>\n",
       "      <td>Pass</td>\n",
       "      <td>Fale</td>\n",
       "      <td>Fale</td>\n",
       "    </tr>\n",
       "    <tr>\n",
       "      <th>980</th>\n",
       "      <td>female</td>\n",
       "      <td>group B</td>\n",
       "      <td>high school</td>\n",
       "      <td>free/reduced</td>\n",
       "      <td>none</td>\n",
       "      <td>8</td>\n",
       "      <td>24</td>\n",
       "      <td>23</td>\n",
       "      <td>18.3</td>\n",
       "      <td>Fale</td>\n",
       "      <td>Fale</td>\n",
       "      <td>Fale</td>\n",
       "    </tr>\n",
       "  </tbody>\n",
       "</table>\n",
       "</div>"
      ],
      "text/plain": [
       "     gender race/ethnicity parental level of education         lunch  \\\n",
       "17   female        group B            some high school  free/reduced   \n",
       "59   female        group C            some high school  free/reduced   \n",
       "76     male        group E            some high school      standard   \n",
       "91     male        group C                 high school  free/reduced   \n",
       "145  female        group C                some college  free/reduced   \n",
       "211    male        group C                some college  free/reduced   \n",
       "327    male        group A                some college  free/reduced   \n",
       "338  female        group B            some high school  free/reduced   \n",
       "363  female        group D            some high school  free/reduced   \n",
       "466  female        group D          associate's degree  free/reduced   \n",
       "596    male        group B                 high school  free/reduced   \n",
       "601  female        group C                 high school      standard   \n",
       "787  female        group B                some college      standard   \n",
       "896    male        group B                 high school  free/reduced   \n",
       "980  female        group B                 high school  free/reduced   \n",
       "\n",
       "    test preparation course  math score  reading score  writing score  \\\n",
       "17                     none          18             32             28   \n",
       "59                     none           0             17             10   \n",
       "76                     none          30             26             22   \n",
       "91                     none          27             34             36   \n",
       "145                    none          22             39             33   \n",
       "211                    none          35             28             27   \n",
       "327                    none          28             23             19   \n",
       "338                    none          24             38             27   \n",
       "363                    none          27             34             32   \n",
       "466                    none          26             31             38   \n",
       "596                    none          30             24             15   \n",
       "601                    none          29             29             30   \n",
       "787                    none          19             38             32   \n",
       "896                    none          36             29             27   \n",
       "980                    none           8             24             23   \n",
       "\n",
       "     Percentage passed_in_maths passed_in_writing Result  \n",
       "17         26.0            Fale              Fale   Fale  \n",
       "59          9.0            Fale              Fale   Fale  \n",
       "76         26.0            Fale              Fale   Fale  \n",
       "91         32.3            Fale              Pass   Fale  \n",
       "145        31.3            Fale              Fale   Fale  \n",
       "211        30.0            Pass              Fale   Fale  \n",
       "327        23.3            Fale              Fale   Fale  \n",
       "338        29.7            Fale              Fale   Fale  \n",
       "363        31.0            Fale              Fale   Fale  \n",
       "466        31.7            Fale              Pass   Fale  \n",
       "596        23.0            Fale              Fale   Fale  \n",
       "601        29.3            Fale              Fale   Fale  \n",
       "787        29.7            Fale              Fale   Fale  \n",
       "896        30.7            Pass              Fale   Fale  \n",
       "980        18.3            Fale              Fale   Fale  "
      ]
     },
     "execution_count": 55,
     "metadata": {},
     "output_type": "execute_result"
    }
   ],
   "source": [
    "failed_df"
   ]
  },
  {
   "cell_type": "code",
   "execution_count": 56,
   "id": "cee560ee",
   "metadata": {},
   "outputs": [
    {
     "data": {
      "application/vnd.plotly.v1+json": {
       "config": {
        "plotlyServerURL": "https://plot.ly"
       },
       "data": [
        {
         "alignmentgroup": "True",
         "bingroup": "x",
         "hovertemplate": "test preparation course=none<br>parental level of education=%{x}<br>count=%{y}<extra></extra>",
         "legendgroup": "none",
         "marker": {
          "color": "#636efa",
          "pattern": {
           "shape": ""
          }
         },
         "name": "none",
         "offsetgroup": "none",
         "orientation": "v",
         "showlegend": true,
         "type": "histogram",
         "x": [
          "some high school",
          "some high school",
          "some high school",
          "high school",
          "some college",
          "some college",
          "some college",
          "some high school",
          "some high school",
          "associate's degree",
          "high school",
          "high school",
          "some college",
          "high school",
          "high school"
         ],
         "xaxis": "x",
         "yaxis": "y"
        }
       ],
       "layout": {
        "barmode": "relative",
        "legend": {
         "title": {
          "text": "test preparation course"
         },
         "tracegroupgap": 0
        },
        "margin": {
         "t": 60
        },
        "template": {
         "data": {
          "bar": [
           {
            "error_x": {
             "color": "#2a3f5f"
            },
            "error_y": {
             "color": "#2a3f5f"
            },
            "marker": {
             "line": {
              "color": "#E5ECF6",
              "width": 0.5
             },
             "pattern": {
              "fillmode": "overlay",
              "size": 10,
              "solidity": 0.2
             }
            },
            "type": "bar"
           }
          ],
          "barpolar": [
           {
            "marker": {
             "line": {
              "color": "#E5ECF6",
              "width": 0.5
             },
             "pattern": {
              "fillmode": "overlay",
              "size": 10,
              "solidity": 0.2
             }
            },
            "type": "barpolar"
           }
          ],
          "carpet": [
           {
            "aaxis": {
             "endlinecolor": "#2a3f5f",
             "gridcolor": "white",
             "linecolor": "white",
             "minorgridcolor": "white",
             "startlinecolor": "#2a3f5f"
            },
            "baxis": {
             "endlinecolor": "#2a3f5f",
             "gridcolor": "white",
             "linecolor": "white",
             "minorgridcolor": "white",
             "startlinecolor": "#2a3f5f"
            },
            "type": "carpet"
           }
          ],
          "choropleth": [
           {
            "colorbar": {
             "outlinewidth": 0,
             "ticks": ""
            },
            "type": "choropleth"
           }
          ],
          "contour": [
           {
            "colorbar": {
             "outlinewidth": 0,
             "ticks": ""
            },
            "colorscale": [
             [
              0,
              "#0d0887"
             ],
             [
              0.1111111111111111,
              "#46039f"
             ],
             [
              0.2222222222222222,
              "#7201a8"
             ],
             [
              0.3333333333333333,
              "#9c179e"
             ],
             [
              0.4444444444444444,
              "#bd3786"
             ],
             [
              0.5555555555555556,
              "#d8576b"
             ],
             [
              0.6666666666666666,
              "#ed7953"
             ],
             [
              0.7777777777777778,
              "#fb9f3a"
             ],
             [
              0.8888888888888888,
              "#fdca26"
             ],
             [
              1,
              "#f0f921"
             ]
            ],
            "type": "contour"
           }
          ],
          "contourcarpet": [
           {
            "colorbar": {
             "outlinewidth": 0,
             "ticks": ""
            },
            "type": "contourcarpet"
           }
          ],
          "heatmap": [
           {
            "colorbar": {
             "outlinewidth": 0,
             "ticks": ""
            },
            "colorscale": [
             [
              0,
              "#0d0887"
             ],
             [
              0.1111111111111111,
              "#46039f"
             ],
             [
              0.2222222222222222,
              "#7201a8"
             ],
             [
              0.3333333333333333,
              "#9c179e"
             ],
             [
              0.4444444444444444,
              "#bd3786"
             ],
             [
              0.5555555555555556,
              "#d8576b"
             ],
             [
              0.6666666666666666,
              "#ed7953"
             ],
             [
              0.7777777777777778,
              "#fb9f3a"
             ],
             [
              0.8888888888888888,
              "#fdca26"
             ],
             [
              1,
              "#f0f921"
             ]
            ],
            "type": "heatmap"
           }
          ],
          "heatmapgl": [
           {
            "colorbar": {
             "outlinewidth": 0,
             "ticks": ""
            },
            "colorscale": [
             [
              0,
              "#0d0887"
             ],
             [
              0.1111111111111111,
              "#46039f"
             ],
             [
              0.2222222222222222,
              "#7201a8"
             ],
             [
              0.3333333333333333,
              "#9c179e"
             ],
             [
              0.4444444444444444,
              "#bd3786"
             ],
             [
              0.5555555555555556,
              "#d8576b"
             ],
             [
              0.6666666666666666,
              "#ed7953"
             ],
             [
              0.7777777777777778,
              "#fb9f3a"
             ],
             [
              0.8888888888888888,
              "#fdca26"
             ],
             [
              1,
              "#f0f921"
             ]
            ],
            "type": "heatmapgl"
           }
          ],
          "histogram": [
           {
            "marker": {
             "pattern": {
              "fillmode": "overlay",
              "size": 10,
              "solidity": 0.2
             }
            },
            "type": "histogram"
           }
          ],
          "histogram2d": [
           {
            "colorbar": {
             "outlinewidth": 0,
             "ticks": ""
            },
            "colorscale": [
             [
              0,
              "#0d0887"
             ],
             [
              0.1111111111111111,
              "#46039f"
             ],
             [
              0.2222222222222222,
              "#7201a8"
             ],
             [
              0.3333333333333333,
              "#9c179e"
             ],
             [
              0.4444444444444444,
              "#bd3786"
             ],
             [
              0.5555555555555556,
              "#d8576b"
             ],
             [
              0.6666666666666666,
              "#ed7953"
             ],
             [
              0.7777777777777778,
              "#fb9f3a"
             ],
             [
              0.8888888888888888,
              "#fdca26"
             ],
             [
              1,
              "#f0f921"
             ]
            ],
            "type": "histogram2d"
           }
          ],
          "histogram2dcontour": [
           {
            "colorbar": {
             "outlinewidth": 0,
             "ticks": ""
            },
            "colorscale": [
             [
              0,
              "#0d0887"
             ],
             [
              0.1111111111111111,
              "#46039f"
             ],
             [
              0.2222222222222222,
              "#7201a8"
             ],
             [
              0.3333333333333333,
              "#9c179e"
             ],
             [
              0.4444444444444444,
              "#bd3786"
             ],
             [
              0.5555555555555556,
              "#d8576b"
             ],
             [
              0.6666666666666666,
              "#ed7953"
             ],
             [
              0.7777777777777778,
              "#fb9f3a"
             ],
             [
              0.8888888888888888,
              "#fdca26"
             ],
             [
              1,
              "#f0f921"
             ]
            ],
            "type": "histogram2dcontour"
           }
          ],
          "mesh3d": [
           {
            "colorbar": {
             "outlinewidth": 0,
             "ticks": ""
            },
            "type": "mesh3d"
           }
          ],
          "parcoords": [
           {
            "line": {
             "colorbar": {
              "outlinewidth": 0,
              "ticks": ""
             }
            },
            "type": "parcoords"
           }
          ],
          "pie": [
           {
            "automargin": true,
            "type": "pie"
           }
          ],
          "scatter": [
           {
            "marker": {
             "colorbar": {
              "outlinewidth": 0,
              "ticks": ""
             }
            },
            "type": "scatter"
           }
          ],
          "scatter3d": [
           {
            "line": {
             "colorbar": {
              "outlinewidth": 0,
              "ticks": ""
             }
            },
            "marker": {
             "colorbar": {
              "outlinewidth": 0,
              "ticks": ""
             }
            },
            "type": "scatter3d"
           }
          ],
          "scattercarpet": [
           {
            "marker": {
             "colorbar": {
              "outlinewidth": 0,
              "ticks": ""
             }
            },
            "type": "scattercarpet"
           }
          ],
          "scattergeo": [
           {
            "marker": {
             "colorbar": {
              "outlinewidth": 0,
              "ticks": ""
             }
            },
            "type": "scattergeo"
           }
          ],
          "scattergl": [
           {
            "marker": {
             "colorbar": {
              "outlinewidth": 0,
              "ticks": ""
             }
            },
            "type": "scattergl"
           }
          ],
          "scattermapbox": [
           {
            "marker": {
             "colorbar": {
              "outlinewidth": 0,
              "ticks": ""
             }
            },
            "type": "scattermapbox"
           }
          ],
          "scatterpolar": [
           {
            "marker": {
             "colorbar": {
              "outlinewidth": 0,
              "ticks": ""
             }
            },
            "type": "scatterpolar"
           }
          ],
          "scatterpolargl": [
           {
            "marker": {
             "colorbar": {
              "outlinewidth": 0,
              "ticks": ""
             }
            },
            "type": "scatterpolargl"
           }
          ],
          "scatterternary": [
           {
            "marker": {
             "colorbar": {
              "outlinewidth": 0,
              "ticks": ""
             }
            },
            "type": "scatterternary"
           }
          ],
          "surface": [
           {
            "colorbar": {
             "outlinewidth": 0,
             "ticks": ""
            },
            "colorscale": [
             [
              0,
              "#0d0887"
             ],
             [
              0.1111111111111111,
              "#46039f"
             ],
             [
              0.2222222222222222,
              "#7201a8"
             ],
             [
              0.3333333333333333,
              "#9c179e"
             ],
             [
              0.4444444444444444,
              "#bd3786"
             ],
             [
              0.5555555555555556,
              "#d8576b"
             ],
             [
              0.6666666666666666,
              "#ed7953"
             ],
             [
              0.7777777777777778,
              "#fb9f3a"
             ],
             [
              0.8888888888888888,
              "#fdca26"
             ],
             [
              1,
              "#f0f921"
             ]
            ],
            "type": "surface"
           }
          ],
          "table": [
           {
            "cells": {
             "fill": {
              "color": "#EBF0F8"
             },
             "line": {
              "color": "white"
             }
            },
            "header": {
             "fill": {
              "color": "#C8D4E3"
             },
             "line": {
              "color": "white"
             }
            },
            "type": "table"
           }
          ]
         },
         "layout": {
          "annotationdefaults": {
           "arrowcolor": "#2a3f5f",
           "arrowhead": 0,
           "arrowwidth": 1
          },
          "autotypenumbers": "strict",
          "coloraxis": {
           "colorbar": {
            "outlinewidth": 0,
            "ticks": ""
           }
          },
          "colorscale": {
           "diverging": [
            [
             0,
             "#8e0152"
            ],
            [
             0.1,
             "#c51b7d"
            ],
            [
             0.2,
             "#de77ae"
            ],
            [
             0.3,
             "#f1b6da"
            ],
            [
             0.4,
             "#fde0ef"
            ],
            [
             0.5,
             "#f7f7f7"
            ],
            [
             0.6,
             "#e6f5d0"
            ],
            [
             0.7,
             "#b8e186"
            ],
            [
             0.8,
             "#7fbc41"
            ],
            [
             0.9,
             "#4d9221"
            ],
            [
             1,
             "#276419"
            ]
           ],
           "sequential": [
            [
             0,
             "#0d0887"
            ],
            [
             0.1111111111111111,
             "#46039f"
            ],
            [
             0.2222222222222222,
             "#7201a8"
            ],
            [
             0.3333333333333333,
             "#9c179e"
            ],
            [
             0.4444444444444444,
             "#bd3786"
            ],
            [
             0.5555555555555556,
             "#d8576b"
            ],
            [
             0.6666666666666666,
             "#ed7953"
            ],
            [
             0.7777777777777778,
             "#fb9f3a"
            ],
            [
             0.8888888888888888,
             "#fdca26"
            ],
            [
             1,
             "#f0f921"
            ]
           ],
           "sequentialminus": [
            [
             0,
             "#0d0887"
            ],
            [
             0.1111111111111111,
             "#46039f"
            ],
            [
             0.2222222222222222,
             "#7201a8"
            ],
            [
             0.3333333333333333,
             "#9c179e"
            ],
            [
             0.4444444444444444,
             "#bd3786"
            ],
            [
             0.5555555555555556,
             "#d8576b"
            ],
            [
             0.6666666666666666,
             "#ed7953"
            ],
            [
             0.7777777777777778,
             "#fb9f3a"
            ],
            [
             0.8888888888888888,
             "#fdca26"
            ],
            [
             1,
             "#f0f921"
            ]
           ]
          },
          "colorway": [
           "#636efa",
           "#EF553B",
           "#00cc96",
           "#ab63fa",
           "#FFA15A",
           "#19d3f3",
           "#FF6692",
           "#B6E880",
           "#FF97FF",
           "#FECB52"
          ],
          "font": {
           "color": "#2a3f5f"
          },
          "geo": {
           "bgcolor": "white",
           "lakecolor": "white",
           "landcolor": "#E5ECF6",
           "showlakes": true,
           "showland": true,
           "subunitcolor": "white"
          },
          "hoverlabel": {
           "align": "left"
          },
          "hovermode": "closest",
          "mapbox": {
           "style": "light"
          },
          "paper_bgcolor": "white",
          "plot_bgcolor": "#E5ECF6",
          "polar": {
           "angularaxis": {
            "gridcolor": "white",
            "linecolor": "white",
            "ticks": ""
           },
           "bgcolor": "#E5ECF6",
           "radialaxis": {
            "gridcolor": "white",
            "linecolor": "white",
            "ticks": ""
           }
          },
          "scene": {
           "xaxis": {
            "backgroundcolor": "#E5ECF6",
            "gridcolor": "white",
            "gridwidth": 2,
            "linecolor": "white",
            "showbackground": true,
            "ticks": "",
            "zerolinecolor": "white"
           },
           "yaxis": {
            "backgroundcolor": "#E5ECF6",
            "gridcolor": "white",
            "gridwidth": 2,
            "linecolor": "white",
            "showbackground": true,
            "ticks": "",
            "zerolinecolor": "white"
           },
           "zaxis": {
            "backgroundcolor": "#E5ECF6",
            "gridcolor": "white",
            "gridwidth": 2,
            "linecolor": "white",
            "showbackground": true,
            "ticks": "",
            "zerolinecolor": "white"
           }
          },
          "shapedefaults": {
           "line": {
            "color": "#2a3f5f"
           }
          },
          "ternary": {
           "aaxis": {
            "gridcolor": "white",
            "linecolor": "white",
            "ticks": ""
           },
           "baxis": {
            "gridcolor": "white",
            "linecolor": "white",
            "ticks": ""
           },
           "bgcolor": "#E5ECF6",
           "caxis": {
            "gridcolor": "white",
            "linecolor": "white",
            "ticks": ""
           }
          },
          "title": {
           "x": 0.05
          },
          "xaxis": {
           "automargin": true,
           "gridcolor": "white",
           "linecolor": "white",
           "ticks": "",
           "title": {
            "standoff": 15
           },
           "zerolinecolor": "white",
           "zerolinewidth": 2
          },
          "yaxis": {
           "automargin": true,
           "gridcolor": "white",
           "linecolor": "white",
           "ticks": "",
           "title": {
            "standoff": 15
           },
           "zerolinecolor": "white",
           "zerolinewidth": 2
          }
         }
        },
        "xaxis": {
         "anchor": "y",
         "domain": [
          0,
          1
         ],
         "title": {
          "text": "parental level of education"
         }
        },
        "yaxis": {
         "anchor": "x",
         "domain": [
          0,
          1
         ],
         "title": {
          "text": "count"
         }
        }
       }
      },
      "text/html": [
       "<div>                            <div id=\"e224abc1-a844-45b7-b732-9667df7cf363\" class=\"plotly-graph-div\" style=\"height:525px; width:100%;\"></div>            <script type=\"text/javascript\">                require([\"plotly\"], function(Plotly) {                    window.PLOTLYENV=window.PLOTLYENV || {};                                    if (document.getElementById(\"e224abc1-a844-45b7-b732-9667df7cf363\")) {                    Plotly.newPlot(                        \"e224abc1-a844-45b7-b732-9667df7cf363\",                        [{\"alignmentgroup\":\"True\",\"bingroup\":\"x\",\"hovertemplate\":\"test preparation course=none<br>parental level of education=%{x}<br>count=%{y}<extra></extra>\",\"legendgroup\":\"none\",\"marker\":{\"color\":\"#636efa\",\"pattern\":{\"shape\":\"\"}},\"name\":\"none\",\"offsetgroup\":\"none\",\"orientation\":\"v\",\"showlegend\":true,\"x\":[\"some high school\",\"some high school\",\"some high school\",\"high school\",\"some college\",\"some college\",\"some college\",\"some high school\",\"some high school\",\"associate's degree\",\"high school\",\"high school\",\"some college\",\"high school\",\"high school\"],\"xaxis\":\"x\",\"yaxis\":\"y\",\"type\":\"histogram\"}],                        {\"template\":{\"data\":{\"bar\":[{\"error_x\":{\"color\":\"#2a3f5f\"},\"error_y\":{\"color\":\"#2a3f5f\"},\"marker\":{\"line\":{\"color\":\"#E5ECF6\",\"width\":0.5},\"pattern\":{\"fillmode\":\"overlay\",\"size\":10,\"solidity\":0.2}},\"type\":\"bar\"}],\"barpolar\":[{\"marker\":{\"line\":{\"color\":\"#E5ECF6\",\"width\":0.5},\"pattern\":{\"fillmode\":\"overlay\",\"size\":10,\"solidity\":0.2}},\"type\":\"barpolar\"}],\"carpet\":[{\"aaxis\":{\"endlinecolor\":\"#2a3f5f\",\"gridcolor\":\"white\",\"linecolor\":\"white\",\"minorgridcolor\":\"white\",\"startlinecolor\":\"#2a3f5f\"},\"baxis\":{\"endlinecolor\":\"#2a3f5f\",\"gridcolor\":\"white\",\"linecolor\":\"white\",\"minorgridcolor\":\"white\",\"startlinecolor\":\"#2a3f5f\"},\"type\":\"carpet\"}],\"choropleth\":[{\"colorbar\":{\"outlinewidth\":0,\"ticks\":\"\"},\"type\":\"choropleth\"}],\"contour\":[{\"colorbar\":{\"outlinewidth\":0,\"ticks\":\"\"},\"colorscale\":[[0.0,\"#0d0887\"],[0.1111111111111111,\"#46039f\"],[0.2222222222222222,\"#7201a8\"],[0.3333333333333333,\"#9c179e\"],[0.4444444444444444,\"#bd3786\"],[0.5555555555555556,\"#d8576b\"],[0.6666666666666666,\"#ed7953\"],[0.7777777777777778,\"#fb9f3a\"],[0.8888888888888888,\"#fdca26\"],[1.0,\"#f0f921\"]],\"type\":\"contour\"}],\"contourcarpet\":[{\"colorbar\":{\"outlinewidth\":0,\"ticks\":\"\"},\"type\":\"contourcarpet\"}],\"heatmap\":[{\"colorbar\":{\"outlinewidth\":0,\"ticks\":\"\"},\"colorscale\":[[0.0,\"#0d0887\"],[0.1111111111111111,\"#46039f\"],[0.2222222222222222,\"#7201a8\"],[0.3333333333333333,\"#9c179e\"],[0.4444444444444444,\"#bd3786\"],[0.5555555555555556,\"#d8576b\"],[0.6666666666666666,\"#ed7953\"],[0.7777777777777778,\"#fb9f3a\"],[0.8888888888888888,\"#fdca26\"],[1.0,\"#f0f921\"]],\"type\":\"heatmap\"}],\"heatmapgl\":[{\"colorbar\":{\"outlinewidth\":0,\"ticks\":\"\"},\"colorscale\":[[0.0,\"#0d0887\"],[0.1111111111111111,\"#46039f\"],[0.2222222222222222,\"#7201a8\"],[0.3333333333333333,\"#9c179e\"],[0.4444444444444444,\"#bd3786\"],[0.5555555555555556,\"#d8576b\"],[0.6666666666666666,\"#ed7953\"],[0.7777777777777778,\"#fb9f3a\"],[0.8888888888888888,\"#fdca26\"],[1.0,\"#f0f921\"]],\"type\":\"heatmapgl\"}],\"histogram\":[{\"marker\":{\"pattern\":{\"fillmode\":\"overlay\",\"size\":10,\"solidity\":0.2}},\"type\":\"histogram\"}],\"histogram2d\":[{\"colorbar\":{\"outlinewidth\":0,\"ticks\":\"\"},\"colorscale\":[[0.0,\"#0d0887\"],[0.1111111111111111,\"#46039f\"],[0.2222222222222222,\"#7201a8\"],[0.3333333333333333,\"#9c179e\"],[0.4444444444444444,\"#bd3786\"],[0.5555555555555556,\"#d8576b\"],[0.6666666666666666,\"#ed7953\"],[0.7777777777777778,\"#fb9f3a\"],[0.8888888888888888,\"#fdca26\"],[1.0,\"#f0f921\"]],\"type\":\"histogram2d\"}],\"histogram2dcontour\":[{\"colorbar\":{\"outlinewidth\":0,\"ticks\":\"\"},\"colorscale\":[[0.0,\"#0d0887\"],[0.1111111111111111,\"#46039f\"],[0.2222222222222222,\"#7201a8\"],[0.3333333333333333,\"#9c179e\"],[0.4444444444444444,\"#bd3786\"],[0.5555555555555556,\"#d8576b\"],[0.6666666666666666,\"#ed7953\"],[0.7777777777777778,\"#fb9f3a\"],[0.8888888888888888,\"#fdca26\"],[1.0,\"#f0f921\"]],\"type\":\"histogram2dcontour\"}],\"mesh3d\":[{\"colorbar\":{\"outlinewidth\":0,\"ticks\":\"\"},\"type\":\"mesh3d\"}],\"parcoords\":[{\"line\":{\"colorbar\":{\"outlinewidth\":0,\"ticks\":\"\"}},\"type\":\"parcoords\"}],\"pie\":[{\"automargin\":true,\"type\":\"pie\"}],\"scatter\":[{\"marker\":{\"colorbar\":{\"outlinewidth\":0,\"ticks\":\"\"}},\"type\":\"scatter\"}],\"scatter3d\":[{\"line\":{\"colorbar\":{\"outlinewidth\":0,\"ticks\":\"\"}},\"marker\":{\"colorbar\":{\"outlinewidth\":0,\"ticks\":\"\"}},\"type\":\"scatter3d\"}],\"scattercarpet\":[{\"marker\":{\"colorbar\":{\"outlinewidth\":0,\"ticks\":\"\"}},\"type\":\"scattercarpet\"}],\"scattergeo\":[{\"marker\":{\"colorbar\":{\"outlinewidth\":0,\"ticks\":\"\"}},\"type\":\"scattergeo\"}],\"scattergl\":[{\"marker\":{\"colorbar\":{\"outlinewidth\":0,\"ticks\":\"\"}},\"type\":\"scattergl\"}],\"scattermapbox\":[{\"marker\":{\"colorbar\":{\"outlinewidth\":0,\"ticks\":\"\"}},\"type\":\"scattermapbox\"}],\"scatterpolar\":[{\"marker\":{\"colorbar\":{\"outlinewidth\":0,\"ticks\":\"\"}},\"type\":\"scatterpolar\"}],\"scatterpolargl\":[{\"marker\":{\"colorbar\":{\"outlinewidth\":0,\"ticks\":\"\"}},\"type\":\"scatterpolargl\"}],\"scatterternary\":[{\"marker\":{\"colorbar\":{\"outlinewidth\":0,\"ticks\":\"\"}},\"type\":\"scatterternary\"}],\"surface\":[{\"colorbar\":{\"outlinewidth\":0,\"ticks\":\"\"},\"colorscale\":[[0.0,\"#0d0887\"],[0.1111111111111111,\"#46039f\"],[0.2222222222222222,\"#7201a8\"],[0.3333333333333333,\"#9c179e\"],[0.4444444444444444,\"#bd3786\"],[0.5555555555555556,\"#d8576b\"],[0.6666666666666666,\"#ed7953\"],[0.7777777777777778,\"#fb9f3a\"],[0.8888888888888888,\"#fdca26\"],[1.0,\"#f0f921\"]],\"type\":\"surface\"}],\"table\":[{\"cells\":{\"fill\":{\"color\":\"#EBF0F8\"},\"line\":{\"color\":\"white\"}},\"header\":{\"fill\":{\"color\":\"#C8D4E3\"},\"line\":{\"color\":\"white\"}},\"type\":\"table\"}]},\"layout\":{\"annotationdefaults\":{\"arrowcolor\":\"#2a3f5f\",\"arrowhead\":0,\"arrowwidth\":1},\"autotypenumbers\":\"strict\",\"coloraxis\":{\"colorbar\":{\"outlinewidth\":0,\"ticks\":\"\"}},\"colorscale\":{\"diverging\":[[0,\"#8e0152\"],[0.1,\"#c51b7d\"],[0.2,\"#de77ae\"],[0.3,\"#f1b6da\"],[0.4,\"#fde0ef\"],[0.5,\"#f7f7f7\"],[0.6,\"#e6f5d0\"],[0.7,\"#b8e186\"],[0.8,\"#7fbc41\"],[0.9,\"#4d9221\"],[1,\"#276419\"]],\"sequential\":[[0.0,\"#0d0887\"],[0.1111111111111111,\"#46039f\"],[0.2222222222222222,\"#7201a8\"],[0.3333333333333333,\"#9c179e\"],[0.4444444444444444,\"#bd3786\"],[0.5555555555555556,\"#d8576b\"],[0.6666666666666666,\"#ed7953\"],[0.7777777777777778,\"#fb9f3a\"],[0.8888888888888888,\"#fdca26\"],[1.0,\"#f0f921\"]],\"sequentialminus\":[[0.0,\"#0d0887\"],[0.1111111111111111,\"#46039f\"],[0.2222222222222222,\"#7201a8\"],[0.3333333333333333,\"#9c179e\"],[0.4444444444444444,\"#bd3786\"],[0.5555555555555556,\"#d8576b\"],[0.6666666666666666,\"#ed7953\"],[0.7777777777777778,\"#fb9f3a\"],[0.8888888888888888,\"#fdca26\"],[1.0,\"#f0f921\"]]},\"colorway\":[\"#636efa\",\"#EF553B\",\"#00cc96\",\"#ab63fa\",\"#FFA15A\",\"#19d3f3\",\"#FF6692\",\"#B6E880\",\"#FF97FF\",\"#FECB52\"],\"font\":{\"color\":\"#2a3f5f\"},\"geo\":{\"bgcolor\":\"white\",\"lakecolor\":\"white\",\"landcolor\":\"#E5ECF6\",\"showlakes\":true,\"showland\":true,\"subunitcolor\":\"white\"},\"hoverlabel\":{\"align\":\"left\"},\"hovermode\":\"closest\",\"mapbox\":{\"style\":\"light\"},\"paper_bgcolor\":\"white\",\"plot_bgcolor\":\"#E5ECF6\",\"polar\":{\"angularaxis\":{\"gridcolor\":\"white\",\"linecolor\":\"white\",\"ticks\":\"\"},\"bgcolor\":\"#E5ECF6\",\"radialaxis\":{\"gridcolor\":\"white\",\"linecolor\":\"white\",\"ticks\":\"\"}},\"scene\":{\"xaxis\":{\"backgroundcolor\":\"#E5ECF6\",\"gridcolor\":\"white\",\"gridwidth\":2,\"linecolor\":\"white\",\"showbackground\":true,\"ticks\":\"\",\"zerolinecolor\":\"white\"},\"yaxis\":{\"backgroundcolor\":\"#E5ECF6\",\"gridcolor\":\"white\",\"gridwidth\":2,\"linecolor\":\"white\",\"showbackground\":true,\"ticks\":\"\",\"zerolinecolor\":\"white\"},\"zaxis\":{\"backgroundcolor\":\"#E5ECF6\",\"gridcolor\":\"white\",\"gridwidth\":2,\"linecolor\":\"white\",\"showbackground\":true,\"ticks\":\"\",\"zerolinecolor\":\"white\"}},\"shapedefaults\":{\"line\":{\"color\":\"#2a3f5f\"}},\"ternary\":{\"aaxis\":{\"gridcolor\":\"white\",\"linecolor\":\"white\",\"ticks\":\"\"},\"baxis\":{\"gridcolor\":\"white\",\"linecolor\":\"white\",\"ticks\":\"\"},\"bgcolor\":\"#E5ECF6\",\"caxis\":{\"gridcolor\":\"white\",\"linecolor\":\"white\",\"ticks\":\"\"}},\"title\":{\"x\":0.05},\"xaxis\":{\"automargin\":true,\"gridcolor\":\"white\",\"linecolor\":\"white\",\"ticks\":\"\",\"title\":{\"standoff\":15},\"zerolinecolor\":\"white\",\"zerolinewidth\":2},\"yaxis\":{\"automargin\":true,\"gridcolor\":\"white\",\"linecolor\":\"white\",\"ticks\":\"\",\"title\":{\"standoff\":15},\"zerolinecolor\":\"white\",\"zerolinewidth\":2}}},\"xaxis\":{\"anchor\":\"y\",\"domain\":[0.0,1.0],\"title\":{\"text\":\"parental level of education\"}},\"yaxis\":{\"anchor\":\"x\",\"domain\":[0.0,1.0],\"title\":{\"text\":\"count\"}},\"legend\":{\"title\":{\"text\":\"test preparation course\"},\"tracegroupgap\":0},\"margin\":{\"t\":60},\"barmode\":\"relative\"},                        {\"responsive\": true}                    ).then(function(){\n",
       "                            \n",
       "var gd = document.getElementById('e224abc1-a844-45b7-b732-9667df7cf363');\n",
       "var x = new MutationObserver(function (mutations, observer) {{\n",
       "        var display = window.getComputedStyle(gd).display;\n",
       "        if (!display || display === 'none') {{\n",
       "            console.log([gd, 'removed!']);\n",
       "            Plotly.purge(gd);\n",
       "            observer.disconnect();\n",
       "        }}\n",
       "}});\n",
       "\n",
       "// Listen for the removal of the full notebook cells\n",
       "var notebookContainer = gd.closest('#notebook-container');\n",
       "if (notebookContainer) {{\n",
       "    x.observe(notebookContainer, {childList: true});\n",
       "}}\n",
       "\n",
       "// Listen for the clearing of the current output cell\n",
       "var outputEl = gd.closest('.output');\n",
       "if (outputEl) {{\n",
       "    x.observe(outputEl, {childList: true});\n",
       "}}\n",
       "\n",
       "                        })                };                });            </script>        </div>"
      ]
     },
     "metadata": {},
     "output_type": "display_data"
    }
   ],
   "source": [
    "px.histogram(failed_df, x=\"parental level of education\", color=\"test preparation course\")"
   ]
  },
  {
   "cell_type": "markdown",
   "id": "be1078d2",
   "metadata": {},
   "source": [
    "Conclusion:\n",
    "\n",
    "1. All the students those failed in exam have not studied \n",
    "2. Also those students parents either have done high school,  some collage, some high school but the overall ratio in comparision to other parents with same qualification says that result of student does not depend on parents qualification \n",
    "rather completely depends on preparation of student."
   ]
  }
 ],
 "metadata": {
  "kernelspec": {
   "display_name": "Python 3 (ipykernel)",
   "language": "python",
   "name": "python3"
  },
  "language_info": {
   "codemirror_mode": {
    "name": "ipython",
    "version": 3
   },
   "file_extension": ".py",
   "mimetype": "text/x-python",
   "name": "python",
   "nbconvert_exporter": "python",
   "pygments_lexer": "ipython3",
   "version": "3.9.9"
  }
 },
 "nbformat": 4,
 "nbformat_minor": 5
}
